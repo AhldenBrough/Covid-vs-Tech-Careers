{
 "cells": [
  {
   "cell_type": "code",
   "execution_count": 1,
   "id": "6728ebd5",
   "metadata": {
    "scrolled": true,
    "tags": []
   },
   "outputs": [],
   "source": [
    "import os\n",
    "\n",
    "import google_auth_oauthlib.flow\n",
    "import googleapiclient.discovery\n",
    "import googleapiclient.errors\n",
    "from api_key_file import api_key\n",
    "from IPython.display import JSON\n",
    "import requests\n",
    "import json\n",
    "import pandas as pd\n",
    "import csv\n",
    "\n",
    "api_service_name = \"youtube\"\n",
    "api_version = \"v3\""
   ]
  },
  {
   "cell_type": "code",
   "execution_count": 2,
   "id": "8b9f559e",
   "metadata": {
    "tags": []
   },
   "outputs": [],
   "source": [
    "channel_ids = [\"UCLKZ20yD2tNMBOkSDZo4FeQ\",\n",
    "\"UCzAF54cHk1ZO82af-8E3qOQ\",\n",
    "\"UCteRPiisgIoHtMgqHegpWAQ\",\n",
    "\"UCw_LFe2pS8x3NyipGNJgeEA\",\n",
    "\"UCLLw7jmFsvfIVaUFsLs8mlQ\",\n",
    "\"UCDybamfye5An6p-j1t2YMsg\",\n",
    "\"UC7cs8q-gJRlGwj4A8OmCmXg\",\n",
    "\"UCQiNyL7ik4FIlV2UCvojq0g\",\n",
    "\"UCJQJAI7IjbLcpsjWdSzYz0Q\",\n",
    "\"UCu1xbgCV5o48h_BYCQD7KJg\",\n",
    "\"UCggXQcy57bwxUeZI1LB8DCw\",\n",
    "\"UCPcyffOFc7YGyDgqmvZJs7Q\",\n",
    "\"UCC8nkE-p-7S0ZPJXrEs2QNA\",\n",
    "\"UCcJQ96WlEhJ0Ve0SLmU310Q\",\n",
    "\"UCXqKK0ZZO5EhS6USGkGcuiw\",\n",
    "\"UCLpovxJVLBZrXJGCymB6LYw\",\n",
    "\"UC2fYCeDDpXrQVjSPdJY4lyA\",\n",
    "\"UC4MZ7zUHb5eAxU75Dc_nqdQ\",\n",
    "\"UC8butISFwT-Wl7EV0hUK0BQ\",\n",
    "\"UCsvqVGtbbyHaMoevxPAq9Fg\",\n",
    "\"UCilJYqsETFZ7NG9g1xVKfcQ\",\n",
    "\"UCsLo154Krjwhoz8W00N8ItA\",\n",
    "\"UCsd0xmaXyUGpD35IX4xrYEw\",\n",
    "\"UCv3N90AXQxUtaSnKSqOoOpA\",\n",
    "\"UCmTS2gGo4gjZLt8LxVnF3XA\",\n",
    "\"UCTHAIlSOqquwOKnd_nCJgAQ\",\n",
    "\"UCWI-ohtRu8eEeDj93hmUsUQ\",\n",
    "\"UC50JofjMZpr3KCbOx6dHi_A\",\n",
    "\"UCUOMtzQmEmhIAF8G_cha_Xw\",\n",
    "\"UCdngmbVKX1Tgre699-XLlUA\",\n",
    "\"UC5qEPWtHLFRIjhW_3xd5g2A\",\n",
    "\"UC2UXDak6o7rBm23k3Vv5dww\",\n",
    "\"UCyUBW72KU30dfAYWLVNZO8Q\",\n",
    "\"UCVe8CMJF4caRzuckVYV8CaQ\",\n",
    "\"UCvDqylEzCZJHNea6k1XMkQw\",\n",
    "\"UCEDkO7wshcDZ7UZo17rPkzQ\",\n",
    "\"UCt-Pwe2fODjH4Wuwf5VqE7A\",\n",
    "\"UClLXKYEEM8OBBx85DOa6-cg\",\n",
    "\"UCN0u98NPeC0AW3pD6MbVeNg\",\n",
    "\"UCwAnu01qlnVg1Ai2AbtTMaA\",\n",
    "\"UCthRsjtSd2ZTrfgjgnBXMPw\",\n",
    "\"UCx3ZYdyVr8BUQDIhS1QggxA\",\n",
    "\"UCo2avEF03abQmCXdU_eUGkg\",\n",
    "\"UC4xKdmAXFh4ACyhpiQ_3qBw\",\n",
    "\"UCIrOHHdl6C4IWv96N0EaHMA\",\n",
    "\"UCJNUtbsYnt-8meFSj_yF50Q\",\n",
    "\"UCEHFikgnRuLd1HYKTLrae9Q\",\n",
    "\"UC1nBZreWJArdFgiIu3BTeGw\",\n",
    "\"UC3kFmMxz3IdLdz4TxA9a4DQ\",\n",
    "\"UCpa0VHHeSUV1D17X8MoX5xA\"]"
   ]
  },
  {
   "cell_type": "code",
   "execution_count": 3,
   "id": "6e7550e7-1ae5-4302-b8d5-d55338a5c3d8",
   "metadata": {
    "tags": []
   },
   "outputs": [
    {
     "data": {
      "text/plain": [
       "50"
      ]
     },
     "execution_count": 3,
     "metadata": {},
     "output_type": "execute_result"
    }
   ],
   "source": [
    "len(channel_ids)"
   ]
  },
  {
   "cell_type": "code",
   "execution_count": 4,
   "id": "73c22ec3-7084-47e8-90c7-a7fc488f9f84",
   "metadata": {
    "tags": []
   },
   "outputs": [],
   "source": [
    "# Get credentials and create an API client\n",
    "youtube = googleapiclient.discovery.build(\n",
    "    api_service_name, api_version, developerKey=api_key)"
   ]
  },
  {
   "cell_type": "code",
   "execution_count": 5,
   "id": "cb3aacba",
   "metadata": {
    "tags": []
   },
   "outputs": [
    {
     "data": {
      "application/json": {
       "etag": "B3i6cmSig1KT6G4ItObe5E15L2Y",
       "items": [
        {
         "contentDetails": {
          "relatedPlaylists": {
           "likes": "",
           "uploads": "UUN0u98NPeC0AW3pD6MbVeNg"
          }
         },
         "etag": "__10vMcikTCyv0X_tGY6FuWwO1M",
         "id": "UCN0u98NPeC0AW3pD6MbVeNg",
         "kind": "youtube#channel",
         "snippet": {
          "country": "US",
          "customUrl": "@pushtoprod",
          "description": "Welcome to our YouTube channel, where three young IT professionals take you on a journey through the exciting world of technology! Join us as we share our daily experiences in vlog-style videos, and learn how to excel in the tech industry through our educational content.",
          "localized": {
           "description": "Welcome to our YouTube channel, where three young IT professionals take you on a journey through the exciting world of technology! Join us as we share our daily experiences in vlog-style videos, and learn how to excel in the tech industry through our educational content.",
           "title": "PushToProd"
          },
          "publishedAt": "2019-06-13T01:28:56Z",
          "thumbnails": {
           "default": {
            "height": 88,
            "url": "https://yt3.ggpht.com/ytc/APkrFKbiyIN-6wHVL-T2dM6ewg3VuKQ38UDdkUBnnj2B=s88-c-k-c0x00ffffff-no-rj",
            "width": 88
           },
           "high": {
            "height": 800,
            "url": "https://yt3.ggpht.com/ytc/APkrFKbiyIN-6wHVL-T2dM6ewg3VuKQ38UDdkUBnnj2B=s800-c-k-c0x00ffffff-no-rj",
            "width": 800
           },
           "medium": {
            "height": 240,
            "url": "https://yt3.ggpht.com/ytc/APkrFKbiyIN-6wHVL-T2dM6ewg3VuKQ38UDdkUBnnj2B=s240-c-k-c0x00ffffff-no-rj",
            "width": 240
           }
          },
          "title": "PushToProd"
         },
         "statistics": {
          "hiddenSubscriberCount": false,
          "subscriberCount": "8400",
          "videoCount": "43",
          "viewCount": "575275"
         }
        },
        {
         "contentDetails": {
          "relatedPlaylists": {
           "likes": "",
           "uploads": "UULKZ20yD2tNMBOkSDZo4FeQ"
          }
         },
         "etag": "hlG-IwqelNV3Yy1PQQMohpv9epE",
         "id": "UCLKZ20yD2tNMBOkSDZo4FeQ",
         "kind": "youtube#channel",
         "snippet": {
          "country": "US",
          "customUrl": "@shanehummus",
          "description": "I help people get in-demand, high paying jobs FAST without the need for a college degree or previous experience.\n\nFree training for career options that will teach you high demand skills and get you a job FAST:\nSeth's Free Digital Marketing Masterclass:\nhttps://shanehummus.krtra.com/t/nOr8Zk6i1UdT \n\nTroy’s Tech Sales Free Training:\nhttps://coursecareers.com/explore/sales/ref/11256/\n$50 off code: SHANE50\n \nJosh’s Free Information Technology Training:\nhttps://coursecareers.com/explore/it/ref/11256/\n$50 off code: SHANE50\n\n----------------------------------------\n\nSocials:\n\nVisit my Website: https://shanehummus.com/\nFREE 6-Step Guide To Choose Your Dream Career: https://bit.ly/3JLAEQh\nJoin My Free Discord: https://discord.gg/Z2qR8nbnbp \nEnroll to my Course: https://bit.ly/MySchool101 \nLinkedin: https://www.linkedin.com/in/shane-humason-6bb475165/\nTikTok: https://www.tiktok.com/@successgps?lang=en \nTwitter: https://twitter.com/ShaneHummus \nInstagram: https://www.instagram.com/shanehummus/ \n",
          "localized": {
           "description": "I help people get in-demand, high paying jobs FAST without the need for a college degree or previous experience.\n\nFree training for career options that will teach you high demand skills and get you a job FAST:\nSeth's Free Digital Marketing Masterclass:\nhttps://shanehummus.krtra.com/t/nOr8Zk6i1UdT \n\nTroy’s Tech Sales Free Training:\nhttps://coursecareers.com/explore/sales/ref/11256/\n$50 off code: SHANE50\n \nJosh’s Free Information Technology Training:\nhttps://coursecareers.com/explore/it/ref/11256/\n$50 off code: SHANE50\n\n----------------------------------------\n\nSocials:\n\nVisit my Website: https://shanehummus.com/\nFREE 6-Step Guide To Choose Your Dream Career: https://bit.ly/3JLAEQh\nJoin My Free Discord: https://discord.gg/Z2qR8nbnbp \nEnroll to my Course: https://bit.ly/MySchool101 \nLinkedin: https://www.linkedin.com/in/shane-humason-6bb475165/\nTikTok: https://www.tiktok.com/@successgps?lang=en \nTwitter: https://twitter.com/ShaneHummus \nInstagram: https://www.instagram.com/shanehummus/ \n",
           "title": "Shane Hummus"
          },
          "publishedAt": "2017-07-27T23:14:22Z",
          "thumbnails": {
           "default": {
            "height": 88,
            "url": "https://yt3.ggpht.com/Kynh2gbOZsqzR9cyXIdUF57Eqx9Ra2T12UG1YL7gLug0T6dc1mZ4cE8czcYHUoTp1rt7nhT3yA=s88-c-k-c0x00ffffff-no-rj",
            "width": 88
           },
           "high": {
            "height": 800,
            "url": "https://yt3.ggpht.com/Kynh2gbOZsqzR9cyXIdUF57Eqx9Ra2T12UG1YL7gLug0T6dc1mZ4cE8czcYHUoTp1rt7nhT3yA=s800-c-k-c0x00ffffff-no-rj",
            "width": 800
           },
           "medium": {
            "height": 240,
            "url": "https://yt3.ggpht.com/Kynh2gbOZsqzR9cyXIdUF57Eqx9Ra2T12UG1YL7gLug0T6dc1mZ4cE8czcYHUoTp1rt7nhT3yA=s240-c-k-c0x00ffffff-no-rj",
            "width": 240
           }
          },
          "title": "Shane Hummus"
         },
         "statistics": {
          "hiddenSubscriberCount": false,
          "subscriberCount": "556000",
          "videoCount": "777",
          "viewCount": "58017367"
         }
        },
        {
         "contentDetails": {
          "relatedPlaylists": {
           "likes": "",
           "uploads": "UUilJYqsETFZ7NG9g1xVKfcQ"
          }
         },
         "etag": "-8PFsOEffA-IIOOKeH_QWw6C3gg",
         "id": "UCilJYqsETFZ7NG9g1xVKfcQ",
         "kind": "youtube#channel",
         "snippet": {
          "country": "US",
          "customUrl": "@thedevlife",
          "description": "In this channel we create videos with the intent to have them be resources for developers, some are technical and some are just insights gathered through experience.\n\nBecoming a programmer is a journey with challenges along the way, some bigger than others. We hope you let this channel and the community surrounding join you in your journey.\n\n\n\n\n",
          "localized": {
           "description": "In this channel we create videos with the intent to have them be resources for developers, some are technical and some are just insights gathered through experience.\n\nBecoming a programmer is a journey with challenges along the way, some bigger than others. We hope you let this channel and the community surrounding join you in your journey.\n\n\n\n\n",
           "title": "thedevlife"
          },
          "publishedAt": "2018-02-28T02:48:34Z",
          "thumbnails": {
           "default": {
            "height": 88,
            "url": "https://yt3.ggpht.com/ytc/APkrFKa0v4S2De9prEvjSLBJkh7HFbsZ6WyUSNPasKwgpQ=s88-c-k-c0x00ffffff-no-rj",
            "width": 88
           },
           "high": {
            "height": 800,
            "url": "https://yt3.ggpht.com/ytc/APkrFKa0v4S2De9prEvjSLBJkh7HFbsZ6WyUSNPasKwgpQ=s800-c-k-c0x00ffffff-no-rj",
            "width": 800
           },
           "medium": {
            "height": 240,
            "url": "https://yt3.ggpht.com/ytc/APkrFKa0v4S2De9prEvjSLBJkh7HFbsZ6WyUSNPasKwgpQ=s240-c-k-c0x00ffffff-no-rj",
            "width": 240
           }
          },
          "title": "thedevlife"
         },
         "statistics": {
          "hiddenSubscriberCount": false,
          "subscriberCount": "5790",
          "videoCount": "266",
          "viewCount": "696918"
         }
        },
        {
         "contentDetails": {
          "relatedPlaylists": {
           "likes": "",
           "uploads": "UUJQJAI7IjbLcpsjWdSzYz0Q"
          }
         },
         "etag": "F8QR886Z1mO8PukIvjcFTQ-U00E",
         "id": "UCJQJAI7IjbLcpsjWdSzYz0Q",
         "kind": "youtube#channel",
         "snippet": {
          "country": "US",
          "customUrl": "@thuvu5",
          "defaultLanguage": "en",
          "description": "Hi there! Thanks for checking out my channel. Me in 3 words: Economist turned data nerd. I'm a Data science consultant by profession in the past 5 years, based in the Netherlands. My background is in Economics and Computer Science. I love learning and explaining stuff about data science. If that sounds interesting, consider subscribing! :)\n\nDisclaimers: \nAll opinions are of my own and not of my employers.\n",
          "localized": {
           "description": "Hi there! Thanks for checking out my channel. Me in 3 words: Economist turned data nerd. I'm a Data science consultant by profession in the past 5 years, based in the Netherlands. My background is in Economics and Computer Science. I love learning and explaining stuff about data science. If that sounds interesting, consider subscribing! :)\n\nDisclaimers: \nAll opinions are of my own and not of my employers.\n",
           "title": "Thu Vu data analytics"
          },
          "publishedAt": "2021-04-30T15:22:58.33437Z",
          "thumbnails": {
           "default": {
            "height": 88,
            "url": "https://yt3.ggpht.com/s3HLl-uzqEaqww2tkWKgjLFfgoe2NUsu4tRLm7g5TOScMK3aqOl1wGhar3yZRa1VH4BK3rzHyg=s88-c-k-c0x00ffffff-no-rj",
            "width": 88
           },
           "high": {
            "height": 800,
            "url": "https://yt3.ggpht.com/s3HLl-uzqEaqww2tkWKgjLFfgoe2NUsu4tRLm7g5TOScMK3aqOl1wGhar3yZRa1VH4BK3rzHyg=s800-c-k-c0x00ffffff-no-rj",
            "width": 800
           },
           "medium": {
            "height": 240,
            "url": "https://yt3.ggpht.com/s3HLl-uzqEaqww2tkWKgjLFfgoe2NUsu4tRLm7g5TOScMK3aqOl1wGhar3yZRa1VH4BK3rzHyg=s240-c-k-c0x00ffffff-no-rj",
            "width": 240
           }
          },
          "title": "Thu Vu data analytics"
         },
         "statistics": {
          "hiddenSubscriberCount": false,
          "subscriberCount": "169000",
          "videoCount": "76",
          "viewCount": "5527701"
         }
        },
        {
         "contentDetails": {
          "relatedPlaylists": {
           "likes": "",
           "uploads": "UUUOMtzQmEmhIAF8G_cha_Xw"
          }
         },
         "etag": "CYmS9Z6zjbu0ZwT7K1EYKAxE3gY",
         "id": "UCUOMtzQmEmhIAF8G_cha_Xw",
         "kind": "youtube#channel",
         "snippet": {
          "country": "US",
          "customUrl": "@doriandevelops",
          "description": "idk wtf I'm doing anymore...\n",
          "localized": {
           "description": "idk wtf I'm doing anymore...\n",
           "title": "Dorian Develops"
          },
          "publishedAt": "2020-01-12T10:56:47.732663Z",
          "thumbnails": {
           "default": {
            "height": 88,
            "url": "https://yt3.ggpht.com/j_ZCn6PJZufZpCMRI9zRxWxnGkPY_PY5erbypulqeRPyPA2jZhGaTVVgyJH5NI2KPkKQRqeEneg=s88-c-k-c0x00ffffff-no-rj",
            "width": 88
           },
           "high": {
            "height": 800,
            "url": "https://yt3.ggpht.com/j_ZCn6PJZufZpCMRI9zRxWxnGkPY_PY5erbypulqeRPyPA2jZhGaTVVgyJH5NI2KPkKQRqeEneg=s800-c-k-c0x00ffffff-no-rj",
            "width": 800
           },
           "medium": {
            "height": 240,
            "url": "https://yt3.ggpht.com/j_ZCn6PJZufZpCMRI9zRxWxnGkPY_PY5erbypulqeRPyPA2jZhGaTVVgyJH5NI2KPkKQRqeEneg=s240-c-k-c0x00ffffff-no-rj",
            "width": 240
           }
          },
          "title": "Dorian Develops"
         },
         "statistics": {
          "hiddenSubscriberCount": false,
          "subscriberCount": "234000",
          "videoCount": "380",
          "viewCount": "15654896"
         }
        },
        {
         "contentDetails": {
          "relatedPlaylists": {
           "likes": "",
           "uploads": "UU5qEPWtHLFRIjhW_3xd5g2A"
          }
         },
         "etag": "7OdbiCd2T2PaY7Si2R6eVAHACGA",
         "id": "UC5qEPWtHLFRIjhW_3xd5g2A",
         "kind": "youtube#channel",
         "snippet": {
          "country": "US",
          "customUrl": "@withsandra",
          "description": "Hey there! \n\nI'm Sandra and i'm a cyber security enthusiast, I love sharing advice on infosec, having a career in technology, as well as just overall life advice. I'm also passionate about trying new foods, traveling, and fashion so I may incorporate those into a few videos as well :)\n\nBe sure to subscribe to follow along on my journey! ✿\n\nCollabs & Partnerships: hello@withsandra.dev\n",
          "localized": {
           "description": "Hey there! \n\nI'm Sandra and i'm a cyber security enthusiast, I love sharing advice on infosec, having a career in technology, as well as just overall life advice. I'm also passionate about trying new foods, traveling, and fashion so I may incorporate those into a few videos as well :)\n\nBe sure to subscribe to follow along on my journey! ✿\n\nCollabs & Partnerships: hello@withsandra.dev\n",
           "title": "Sandra - Tech & Lifestyle"
          },
          "publishedAt": "2019-11-03T02:38:30.769582Z",
          "thumbnails": {
           "default": {
            "height": 88,
            "url": "https://yt3.ggpht.com/q4KWNa0pQyVKccBCI61XWe_uzAuyFmMPRGtGu33P61YKc3o3JAnTDq50jwP2kDdMJgJ49chd=s88-c-k-c0x00ffffff-no-rj",
            "width": 88
           },
           "high": {
            "height": 800,
            "url": "https://yt3.ggpht.com/q4KWNa0pQyVKccBCI61XWe_uzAuyFmMPRGtGu33P61YKc3o3JAnTDq50jwP2kDdMJgJ49chd=s800-c-k-c0x00ffffff-no-rj",
            "width": 800
           },
           "medium": {
            "height": 240,
            "url": "https://yt3.ggpht.com/q4KWNa0pQyVKccBCI61XWe_uzAuyFmMPRGtGu33P61YKc3o3JAnTDq50jwP2kDdMJgJ49chd=s240-c-k-c0x00ffffff-no-rj",
            "width": 240
           }
          },
          "title": "Sandra - Tech & Lifestyle"
         },
         "statistics": {
          "hiddenSubscriberCount": false,
          "subscriberCount": "71500",
          "videoCount": "337",
          "viewCount": "4551083"
         }
        },
        {
         "contentDetails": {
          "relatedPlaylists": {
           "likes": "",
           "uploads": "UUvDqylEzCZJHNea6k1XMkQw"
          }
         },
         "etag": "u6fUu_V-N-KHyVh1BOUK3VnfCaI",
         "id": "UCvDqylEzCZJHNea6k1XMkQw",
         "kind": "youtube#channel",
         "snippet": {
          "customUrl": "@umaabu",
          "description": "Everything Programming!\nI make interesting coding projects and teach programming concepts that relate to everyday life.\n",
          "localized": {
           "description": "Everything Programming!\nI make interesting coding projects and teach programming concepts that relate to everyday life.\n",
           "title": "Uma Abu"
          },
          "publishedAt": "2020-12-30T01:51:55.159436Z",
          "thumbnails": {
           "default": {
            "height": 88,
            "url": "https://yt3.ggpht.com/32PvuY2g59lFEfI5B7EW-szg2D8KxLAnBHhQ4wDdbywR_WqdyI9NnDY843j5Y96TomFrkiluIg=s88-c-k-c0x00ffffff-no-rj",
            "width": 88
           },
           "high": {
            "height": 800,
            "url": "https://yt3.ggpht.com/32PvuY2g59lFEfI5B7EW-szg2D8KxLAnBHhQ4wDdbywR_WqdyI9NnDY843j5Y96TomFrkiluIg=s800-c-k-c0x00ffffff-no-rj",
            "width": 800
           },
           "medium": {
            "height": 240,
            "url": "https://yt3.ggpht.com/32PvuY2g59lFEfI5B7EW-szg2D8KxLAnBHhQ4wDdbywR_WqdyI9NnDY843j5Y96TomFrkiluIg=s240-c-k-c0x00ffffff-no-rj",
            "width": 240
           }
          },
          "title": "Uma Abu"
         },
         "statistics": {
          "hiddenSubscriberCount": false,
          "subscriberCount": "15700",
          "videoCount": "166",
          "viewCount": "646468"
         }
        },
        {
         "contentDetails": {
          "relatedPlaylists": {
           "likes": "",
           "uploads": "UUmTS2gGo4gjZLt8LxVnF3XA"
          }
         },
         "etag": "FRr6BE8ggkA-VrdlL7zABOvS9hY",
         "id": "UCmTS2gGo4gjZLt8LxVnF3XA",
         "kind": "youtube#channel",
         "snippet": {
          "country": "US",
          "customUrl": "@boydclewis",
          "description": "Boyd Clewis is the cofounder of Baxter Clewis Training Cybersecurity, author of Corporate Security: Proven Ways to Reduce Cybersecurity Breaches, member of Forbes Technology Council, and a highly respected international expert and speaker on cybersecurity who has been featured in Forbes, NBC, ABC, FOX, and CBS.\n",
          "localized": {
           "description": "Boyd Clewis is the cofounder of Baxter Clewis Training Cybersecurity, author of Corporate Security: Proven Ways to Reduce Cybersecurity Breaches, member of Forbes Technology Council, and a highly respected international expert and speaker on cybersecurity who has been featured in Forbes, NBC, ABC, FOX, and CBS.\n",
           "title": "Boyd Clewis: The Six-Figure Tech Career Coach"
          },
          "publishedAt": "2010-12-19T03:17:01Z",
          "thumbnails": {
           "default": {
            "height": 88,
            "url": "https://yt3.ggpht.com/IxRntzhhW8SQxs1BgtKS_GRrUuUxNohrsOS1SE173jhy9pfCFKtWneL5QVtvKlJFi9GF7t34lOo=s88-c-k-c0x00ffffff-no-rj",
            "width": 88
           },
           "high": {
            "height": 800,
            "url": "https://yt3.ggpht.com/IxRntzhhW8SQxs1BgtKS_GRrUuUxNohrsOS1SE173jhy9pfCFKtWneL5QVtvKlJFi9GF7t34lOo=s800-c-k-c0x00ffffff-no-rj",
            "width": 800
           },
           "medium": {
            "height": 240,
            "url": "https://yt3.ggpht.com/IxRntzhhW8SQxs1BgtKS_GRrUuUxNohrsOS1SE173jhy9pfCFKtWneL5QVtvKlJFi9GF7t34lOo=s240-c-k-c0x00ffffff-no-rj",
            "width": 240
           }
          },
          "title": "Boyd Clewis: The Six-Figure Tech Career Coach"
         },
         "statistics": {
          "hiddenSubscriberCount": false,
          "subscriberCount": "131000",
          "videoCount": "111",
          "viewCount": "3275139"
         }
        },
        {
         "contentDetails": {
          "relatedPlaylists": {
           "likes": "",
           "uploads": "UUEDkO7wshcDZ7UZo17rPkzQ"
          }
         },
         "etag": "YdTbuha4c5uaP-LcGWzd4M-qP84",
         "id": "UCEDkO7wshcDZ7UZo17rPkzQ",
         "kind": "youtube#channel",
         "snippet": {
          "country": "US",
          "customUrl": "@hellomayuko",
          "description": "🌸a b o u t 🌸\nMayuko Inoue is a content creator and Software Engineer. After working in Silicon Valley tech companies like Intuit, Patreon, and Netflix for six years as an iOS Engineer, she became a full-time creator in 2020. Her work aims to help people find their way through the tech industry by sharing her own experiences navigating this world through technology, career advice, and lifestyle videos. She is passionate about discussions around mental health, cultural identity, and creating technology with empathy and compassion.\n\n✉️c o n t a c t ✉️\nIf you'd like to sponsor a video: sponsor@hellomayuko.com\nOther business inquiries: business@helloMayuko.com\n\nhttps://www.hellomayuko.com\n",
          "localized": {
           "description": "🌸a b o u t 🌸\nMayuko Inoue is a content creator and Software Engineer. After working in Silicon Valley tech companies like Intuit, Patreon, and Netflix for six years as an iOS Engineer, she became a full-time creator in 2020. Her work aims to help people find their way through the tech industry by sharing her own experiences navigating this world through technology, career advice, and lifestyle videos. She is passionate about discussions around mental health, cultural identity, and creating technology with empathy and compassion.\n\n✉️c o n t a c t ✉️\nIf you'd like to sponsor a video: sponsor@hellomayuko.com\nOther business inquiries: business@helloMayuko.com\n\nhttps://www.hellomayuko.com\n",
           "title": "mayuko"
          },
          "publishedAt": "2010-10-04T09:01:34Z",
          "thumbnails": {
           "default": {
            "height": 88,
            "url": "https://yt3.ggpht.com/mjNkmL_jtTy0nEdVnjPw_xN4Bknadpv6_PkmO_B79yTr1xvyB5IVYYsklcR1PK3ez_d1AOKMPQ=s88-c-k-c0x00ffffff-no-rj",
            "width": 88
           },
           "high": {
            "height": 800,
            "url": "https://yt3.ggpht.com/mjNkmL_jtTy0nEdVnjPw_xN4Bknadpv6_PkmO_B79yTr1xvyB5IVYYsklcR1PK3ez_d1AOKMPQ=s800-c-k-c0x00ffffff-no-rj",
            "width": 800
           },
           "medium": {
            "height": 240,
            "url": "https://yt3.ggpht.com/mjNkmL_jtTy0nEdVnjPw_xN4Bknadpv6_PkmO_B79yTr1xvyB5IVYYsklcR1PK3ez_d1AOKMPQ=s240-c-k-c0x00ffffff-no-rj",
            "width": 240
           }
          },
          "title": "mayuko"
         },
         "statistics": {
          "hiddenSubscriberCount": false,
          "subscriberCount": "554000",
          "videoCount": "174",
          "viewCount": "29390316"
         }
        },
        {
         "contentDetails": {
          "relatedPlaylists": {
           "likes": "",
           "uploads": "UUcJQ96WlEhJ0Ve0SLmU310Q"
          }
         },
         "etag": "pOOS2camCTPkHzv9lMGROk-gHkk",
         "id": "UCcJQ96WlEhJ0Ve0SLmU310Q",
         "kind": "youtube#channel",
         "snippet": {
          "country": "FI",
          "customUrl": "@internetmadecoder",
          "description": "I make videos about learning to code.\n\nLearning coding changed my life - I hope to help you learn it and change yours too.\n\nPremium Resources to Become a Software Engineer from Scratch:\n🚀 FREE Course to Start Your Career in Software Development - https://coursecareers.com/a/internetmadecoder?course=software-dev-fundamentals\n🚀 Become a Software Engineer with no Degree - https://academy.internetmadecoder.com/python-dev-masterclass\n\nOther Crucial Resources for Programmers:\n\n📦 The Ultimate Tool to Manage Your Work - https://boxio.ai\n🚀 Developer's Brain - https://academy.internetmadecoder.com/developers-brain\n\n🧠 Sign Up to my Newsletter  - https://academy.internetmadecoder.com/internet-made-club\n\n📸 FOLLOW ME ON INSTAGRAM - https://www.instagram.com/internetmcoder/\n\n📝 TWITTER - https://twitter.com/InternetCoder\n\nFor sponsorships: sponsorships@viralnationtalent.com\nOther: tuomas@internetmadecoder.com\n",
          "localized": {
           "description": "I make videos about learning to code.\n\nLearning coding changed my life - I hope to help you learn it and change yours too.\n\nPremium Resources to Become a Software Engineer from Scratch:\n🚀 FREE Course to Start Your Career in Software Development - https://coursecareers.com/a/internetmadecoder?course=software-dev-fundamentals\n🚀 Become a Software Engineer with no Degree - https://academy.internetmadecoder.com/python-dev-masterclass\n\nOther Crucial Resources for Programmers:\n\n📦 The Ultimate Tool to Manage Your Work - https://boxio.ai\n🚀 Developer's Brain - https://academy.internetmadecoder.com/developers-brain\n\n🧠 Sign Up to my Newsletter  - https://academy.internetmadecoder.com/internet-made-club\n\n📸 FOLLOW ME ON INSTAGRAM - https://www.instagram.com/internetmcoder/\n\n📝 TWITTER - https://twitter.com/InternetCoder\n\nFor sponsorships: sponsorships@viralnationtalent.com\nOther: tuomas@internetmadecoder.com\n",
           "title": "Internet Made Coder"
          },
          "publishedAt": "2021-12-16T19:57:05.575367Z",
          "thumbnails": {
           "default": {
            "height": 88,
            "url": "https://yt3.ggpht.com/JCxw636VkW0aNDYa3CkTblvvmhEi1VTYdpMagq7Zj8trOizp2kINd74JpHR4FHckBU_vCIR7hQ=s88-c-k-c0x00ffffff-no-rj",
            "width": 88
           },
           "high": {
            "height": 800,
            "url": "https://yt3.ggpht.com/JCxw636VkW0aNDYa3CkTblvvmhEi1VTYdpMagq7Zj8trOizp2kINd74JpHR4FHckBU_vCIR7hQ=s800-c-k-c0x00ffffff-no-rj",
            "width": 800
           },
           "medium": {
            "height": 240,
            "url": "https://yt3.ggpht.com/JCxw636VkW0aNDYa3CkTblvvmhEi1VTYdpMagq7Zj8trOizp2kINd74JpHR4FHckBU_vCIR7hQ=s240-c-k-c0x00ffffff-no-rj",
            "width": 240
           }
          },
          "title": "Internet Made Coder"
         },
         "statistics": {
          "hiddenSubscriberCount": false,
          "subscriberCount": "290000",
          "videoCount": "115",
          "viewCount": "12917310"
         }
        },
        {
         "contentDetails": {
          "relatedPlaylists": {
           "likes": "",
           "uploads": "UUWI-ohtRu8eEeDj93hmUsUQ"
          }
         },
         "etag": "21eWy1bqyZWvodngUJl6FfpAa8Y",
         "id": "UCWI-ohtRu8eEeDj93hmUsUQ",
         "kind": "youtube#channel",
         "snippet": {
          "country": "CA",
          "customUrl": "@codingwithlewis",
          "description": "My name is Lewis Menelaws. I have been professionally coding for 5 years and been hobbying for more than 8. I enjoy business and programming. My intentions with this channel are to share what I find interesting and inspire likeminded people while providing an entry-level insight on the technologies I use. Any business inquiries please direct to lewis@tmrrwinc.ca",
          "localized": {
           "description": "My name is Lewis Menelaws. I have been professionally coding for 5 years and been hobbying for more than 8. I enjoy business and programming. My intentions with this channel are to share what I find interesting and inspire likeminded people while providing an entry-level insight on the technologies I use. Any business inquiries please direct to lewis@tmrrwinc.ca",
           "title": "Coding with Lewis"
          },
          "publishedAt": "2020-01-29T00:09:04.927395Z",
          "thumbnails": {
           "default": {
            "height": 88,
            "url": "https://yt3.ggpht.com/XCrBBAMNF2JLmu2UIMGxDV6nzclwfcnOvsHfkit2mG2rbD07QlR4XClZg5RP2zoaovP4mKfMZA=s88-c-k-c0x00ffffff-no-rj",
            "width": 88
           },
           "high": {
            "height": 800,
            "url": "https://yt3.ggpht.com/XCrBBAMNF2JLmu2UIMGxDV6nzclwfcnOvsHfkit2mG2rbD07QlR4XClZg5RP2zoaovP4mKfMZA=s800-c-k-c0x00ffffff-no-rj",
            "width": 800
           },
           "medium": {
            "height": 240,
            "url": "https://yt3.ggpht.com/XCrBBAMNF2JLmu2UIMGxDV6nzclwfcnOvsHfkit2mG2rbD07QlR4XClZg5RP2zoaovP4mKfMZA=s240-c-k-c0x00ffffff-no-rj",
            "width": 240
           }
          },
          "title": "Coding with Lewis"
         },
         "statistics": {
          "hiddenSubscriberCount": false,
          "subscriberCount": "434000",
          "videoCount": "470",
          "viewCount": "110212076"
         }
        },
        {
         "contentDetails": {
          "relatedPlaylists": {
           "likes": "",
           "uploads": "UUyUBW72KU30dfAYWLVNZO8Q"
          }
         },
         "etag": "3CJvmqGc471PpKG_tP-y2rTPHrA",
         "id": "UCyUBW72KU30dfAYWLVNZO8Q",
         "kind": "youtube#channel",
         "snippet": {
          "country": "US",
          "customUrl": "@stefanmischook",
          "description": "I started building websites in 1994 and have been teaching web design and programming for over 10yrs! Now I'm actively helping teachers teach web design and programming in the classroom (K12 and Colleges) with Studioweb.",
          "localized": {
           "description": "I started building websites in 1994 and have been teaching web design and programming for over 10yrs! Now I'm actively helping teachers teach web design and programming in the classroom (K12 and Colleges) with Studioweb.",
           "title": "Stefan Mischook"
          },
          "publishedAt": "2008-11-30T01:50:40Z",
          "thumbnails": {
           "default": {
            "height": 88,
            "url": "https://yt3.ggpht.com/ytc/APkrFKZyylVDQUQ4KHxknnkbiNNyU2U7xxwf3c6dV3IASg=s88-c-k-c0x00ffffff-no-rj",
            "width": 88
           },
           "high": {
            "height": 800,
            "url": "https://yt3.ggpht.com/ytc/APkrFKZyylVDQUQ4KHxknnkbiNNyU2U7xxwf3c6dV3IASg=s800-c-k-c0x00ffffff-no-rj",
            "width": 800
           },
           "medium": {
            "height": 240,
            "url": "https://yt3.ggpht.com/ytc/APkrFKZyylVDQUQ4KHxknnkbiNNyU2U7xxwf3c6dV3IASg=s240-c-k-c0x00ffffff-no-rj",
            "width": 240
           }
          },
          "title": "Stefan Mischook"
         },
         "statistics": {
          "hiddenSubscriberCount": false,
          "subscriberCount": "248000",
          "videoCount": "2348",
          "viewCount": "29416499"
         }
        },
        {
         "contentDetails": {
          "relatedPlaylists": {
           "likes": "",
           "uploads": "UUzAF54cHk1ZO82af-8E3qOQ"
          }
         },
         "etag": "8QuCOslE1deGqqxggTcbgKaXqhI",
         "id": "UCzAF54cHk1ZO82af-8E3qOQ",
         "kind": "youtube#channel",
         "snippet": {
          "country": "DE",
          "customUrl": "@careerfoundry",
          "description": "CareerFoundry is a leading online school for career change, dedicated to educating the next generation of tech talent. We offer cutting-edge courses in UX Design, Web Development, Data Analytics, Digital Marketing and UI Design and Product Management, working with the industry's best professionals in each field to create the most thorough learning materials that promise to take you from beginner to job-ready (guaranteed) in 6-10 months.\n\nLearn about our UX Design, Web Development, Data Analytics, Digital Marketing and UI Design courses here: https://careerfoundry.com/",
          "localized": {
           "description": "CareerFoundry is a leading online school for career change, dedicated to educating the next generation of tech talent. We offer cutting-edge courses in UX Design, Web Development, Data Analytics, Digital Marketing and UI Design and Product Management, working with the industry's best professionals in each field to create the most thorough learning materials that promise to take you from beginner to job-ready (guaranteed) in 6-10 months.\n\nLearn about our UX Design, Web Development, Data Analytics, Digital Marketing and UI Design courses here: https://careerfoundry.com/",
           "title": "CareerFoundry"
          },
          "publishedAt": "2013-10-20T13:23:10Z",
          "thumbnails": {
           "default": {
            "height": 88,
            "url": "https://yt3.ggpht.com/IRgDpgFolu8eHLU9ElcWkaY1TA7mNPGQUV05TCLRKJqEVm9HYggTiVeX42Dq1cIdH2v5LNNglg=s88-c-k-c0x00ffffff-no-rj",
            "width": 88
           },
           "high": {
            "height": 800,
            "url": "https://yt3.ggpht.com/IRgDpgFolu8eHLU9ElcWkaY1TA7mNPGQUV05TCLRKJqEVm9HYggTiVeX42Dq1cIdH2v5LNNglg=s800-c-k-c0x00ffffff-no-rj",
            "width": 800
           },
           "medium": {
            "height": 240,
            "url": "https://yt3.ggpht.com/IRgDpgFolu8eHLU9ElcWkaY1TA7mNPGQUV05TCLRKJqEVm9HYggTiVeX42Dq1cIdH2v5LNNglg=s240-c-k-c0x00ffffff-no-rj",
            "width": 240
           }
          },
          "title": "CareerFoundry"
         },
         "statistics": {
          "hiddenSubscriberCount": false,
          "subscriberCount": "220000",
          "videoCount": "337",
          "viewCount": "10881335"
         }
        },
        {
         "contentDetails": {
          "relatedPlaylists": {
           "likes": "",
           "uploads": "UUJNUtbsYnt-8meFSj_yF50Q"
          }
         },
         "etag": "sVlVLSuL_B8JKorul7QGD_a_vd4",
         "id": "UCJNUtbsYnt-8meFSj_yF50Q",
         "kind": "youtube#channel",
         "snippet": {
          "country": "US",
          "customUrl": "@rahulpandeyrkp",
          "defaultLanguage": "en",
          "description": "The best software engineers: learn every new JavaScript framework, experiment with new ML techniques, and grind out 5 Leetcode problems a day. Right?\n\nWRONG\n\nThe key to career advancement has very little to do with how many technologies you know, or how much time you spend coding. It's about your behavior and mindset within a team to build something great.\n\nThese skills don't get taught in school, and I've learned them the hard way in my career. This channel is to share what I've learned. I also run a membership designed to supercharge engineering careers, check it out at joinTaro.com\n\nMy background: \n➤ Staff Engineer at Meta (Facebook)\n➤ Founding engineer at a startup that got acquired by Pinterest\n➤ BS and MS from Stanford\n",
          "localized": {
           "description": "The best software engineers: learn every new JavaScript framework, experiment with new ML techniques, and grind out 5 Leetcode problems a day. Right?\n\nWRONG\n\nThe key to career advancement has very little to do with how many technologies you know, or how much time you spend coding. It's about your behavior and mindset within a team to build something great.\n\nThese skills don't get taught in school, and I've learned them the hard way in my career. This channel is to share what I've learned. I also run a membership designed to supercharge engineering careers, check it out at joinTaro.com\n\nMy background: \n➤ Staff Engineer at Meta (Facebook)\n➤ Founding engineer at a startup that got acquired by Pinterest\n➤ BS and MS from Stanford\n",
           "title": "Rahul Pandey"
          },
          "publishedAt": "2009-12-11T11:55:12Z",
          "thumbnails": {
           "default": {
            "height": 88,
            "url": "https://yt3.ggpht.com/ytc/APkrFKaZjJF1LG6Y0Q1To7-oEGmA6v2Qg0yo-b3tQb8ppIs=s88-c-k-c0x00ffffff-no-rj",
            "width": 88
           },
           "high": {
            "height": 800,
            "url": "https://yt3.ggpht.com/ytc/APkrFKaZjJF1LG6Y0Q1To7-oEGmA6v2Qg0yo-b3tQb8ppIs=s800-c-k-c0x00ffffff-no-rj",
            "width": 800
           },
           "medium": {
            "height": 240,
            "url": "https://yt3.ggpht.com/ytc/APkrFKaZjJF1LG6Y0Q1To7-oEGmA6v2Qg0yo-b3tQb8ppIs=s240-c-k-c0x00ffffff-no-rj",
            "width": 240
           }
          },
          "title": "Rahul Pandey"
         },
         "statistics": {
          "hiddenSubscriberCount": false,
          "subscriberCount": "86100",
          "videoCount": "246",
          "viewCount": "3989617"
         }
        },
        {
         "contentDetails": {
          "relatedPlaylists": {
           "likes": "",
           "uploads": "UUdngmbVKX1Tgre699-XLlUA"
          }
         },
         "etag": "DntNVbGx5XNyjJsj-5KWPqmSn9U",
         "id": "UCdngmbVKX1Tgre699-XLlUA",
         "kind": "youtube#channel",
         "snippet": {
          "country": "AT",
          "customUrl": "@techworldwithnana",
          "description": "Helping people to learn DevOps topics easily 💙\n\nI create new videos every second week, topics include mainly DevOps tutorials. Subscribe and activate bell notification so you don't miss new videos :)\n\nI'm a Docker Captain, AWS Container Hero & CNCF Ambassador 🤓  💪\n\n►  https://www.techworld-with-nana.com/\n\nTutorials so far\n - Docker\n - Kubernetes\n - Jenkins\n - Python\n - Ansible\n - Prometheus Monitoring\n - Terraform\n - YAML\n - & more!\n\nHave fun watching my videos! 🙂",
          "localized": {
           "description": "Helping people to learn DevOps topics easily 💙\n\nI create new videos every second week, topics include mainly DevOps tutorials. Subscribe and activate bell notification so you don't miss new videos :)\n\nI'm a Docker Captain, AWS Container Hero & CNCF Ambassador 🤓  💪\n\n►  https://www.techworld-with-nana.com/\n\nTutorials so far\n - Docker\n - Kubernetes\n - Jenkins\n - Python\n - Ansible\n - Prometheus Monitoring\n - Terraform\n - YAML\n - & more!\n\nHave fun watching my videos! 🙂",
           "title": "TechWorld with Nana"
          },
          "publishedAt": "2019-10-06T08:50:17Z",
          "thumbnails": {
           "default": {
            "height": 88,
            "url": "https://yt3.ggpht.com/kXyR8Aa32KXnZWVdkAFUYK5utM752kSJPHGtYiJ4ev6BmdFHi-dl1EFbI3TogmHBjszwc7m2=s88-c-k-c0x00ffffff-no-rj",
            "width": 88
           },
           "high": {
            "height": 800,
            "url": "https://yt3.ggpht.com/kXyR8Aa32KXnZWVdkAFUYK5utM752kSJPHGtYiJ4ev6BmdFHi-dl1EFbI3TogmHBjszwc7m2=s800-c-k-c0x00ffffff-no-rj",
            "width": 800
           },
           "medium": {
            "height": 240,
            "url": "https://yt3.ggpht.com/kXyR8Aa32KXnZWVdkAFUYK5utM752kSJPHGtYiJ4ev6BmdFHi-dl1EFbI3TogmHBjszwc7m2=s240-c-k-c0x00ffffff-no-rj",
            "width": 240
           }
          },
          "title": "TechWorld with Nana"
         },
         "statistics": {
          "hiddenSubscriberCount": false,
          "subscriberCount": "933000",
          "videoCount": "112",
          "viewCount": "47555975"
         }
        },
        {
         "contentDetails": {
          "relatedPlaylists": {
           "likes": "",
           "uploads": "UUthRsjtSd2ZTrfgjgnBXMPw"
          }
         },
         "etag": "gq0SHjJlhyqzUdJV9pu_lzFCoGY",
         "id": "UCthRsjtSd2ZTrfgjgnBXMPw",
         "kind": "youtube#channel",
         "snippet": {
          "country": "AU",
          "customUrl": "@unixguy",
          "description": "Helping you get your first cyber security job FAST.           \n\n\n",
          "localized": {
           "description": "Helping you get your first cyber security job FAST.           \n\n\n",
           "title": "UnixGuy | Cyber Security Career "
          },
          "publishedAt": "2021-07-24T02:27:30.593888Z",
          "thumbnails": {
           "default": {
            "height": 88,
            "url": "https://yt3.ggpht.com/6AcY9HoPRB95zW-Ma80HrSE_ZiAg8jrYrq9NulRBmTBB895U91yy0DUlMEVs2QJICOAsFEABhg=s88-c-k-c0x00ffffff-no-rj",
            "width": 88
           },
           "high": {
            "height": 800,
            "url": "https://yt3.ggpht.com/6AcY9HoPRB95zW-Ma80HrSE_ZiAg8jrYrq9NulRBmTBB895U91yy0DUlMEVs2QJICOAsFEABhg=s800-c-k-c0x00ffffff-no-rj",
            "width": 800
           },
           "medium": {
            "height": 240,
            "url": "https://yt3.ggpht.com/6AcY9HoPRB95zW-Ma80HrSE_ZiAg8jrYrq9NulRBmTBB895U91yy0DUlMEVs2QJICOAsFEABhg=s240-c-k-c0x00ffffff-no-rj",
            "width": 240
           }
          },
          "title": "UnixGuy | Cyber Security Career "
         },
         "statistics": {
          "hiddenSubscriberCount": false,
          "subscriberCount": "88500",
          "videoCount": "104",
          "viewCount": "4449767"
         }
        },
        {
         "contentDetails": {
          "relatedPlaylists": {
           "likes": "",
           "uploads": "UUXqKK0ZZO5EhS6USGkGcuiw"
          }
         },
         "etag": "GF89wtGw3aiuhDUWWebZcL5q-sA",
         "id": "UCXqKK0ZZO5EhS6USGkGcuiw",
         "kind": "youtube#channel",
         "snippet": {
          "customUrl": "@babeengineer",
          "description": "iOS Software Engineer at FAANG/MANGA\n\nHi friends, I'm Valerie Don, and on my channel I share things about iOS, software engineering, tech, and bits of my life for anyone who wants to get into tech, are new to tech, or anyone looking to learn something new. \n\nAs a college dropout with no degree, and no engineering background, it took me a lot of hard work to become a software engineer. That’s why I want to share my experiences in tech and help you better understand difficult technical topics and stay motivated!\n\nBusiness Inquiries: contact@babeengineer.com\n",
          "localized": {
           "description": "iOS Software Engineer at FAANG/MANGA\n\nHi friends, I'm Valerie Don, and on my channel I share things about iOS, software engineering, tech, and bits of my life for anyone who wants to get into tech, are new to tech, or anyone looking to learn something new. \n\nAs a college dropout with no degree, and no engineering background, it took me a lot of hard work to become a software engineer. That’s why I want to share my experiences in tech and help you better understand difficult technical topics and stay motivated!\n\nBusiness Inquiries: contact@babeengineer.com\n",
           "title": "BABE ENGINEER"
          },
          "publishedAt": "2017-07-26T01:04:02Z",
          "thumbnails": {
           "default": {
            "height": 88,
            "url": "https://yt3.ggpht.com/2KSBR1RUSyVvh54Md9aWmpmBgfD3-0rz2JEvX4ORp3REuizIlaXYvQPx5vRryWSnnWRjlfAQ=s88-c-k-c0x00ffffff-no-rj",
            "width": 88
           },
           "high": {
            "height": 800,
            "url": "https://yt3.ggpht.com/2KSBR1RUSyVvh54Md9aWmpmBgfD3-0rz2JEvX4ORp3REuizIlaXYvQPx5vRryWSnnWRjlfAQ=s800-c-k-c0x00ffffff-no-rj",
            "width": 800
           },
           "medium": {
            "height": 240,
            "url": "https://yt3.ggpht.com/2KSBR1RUSyVvh54Md9aWmpmBgfD3-0rz2JEvX4ORp3REuizIlaXYvQPx5vRryWSnnWRjlfAQ=s240-c-k-c0x00ffffff-no-rj",
            "width": 240
           }
          },
          "title": "BABE ENGINEER"
         },
         "statistics": {
          "hiddenSubscriberCount": false,
          "subscriberCount": "52700",
          "videoCount": "75",
          "viewCount": "1992356"
         }
        },
        {
         "contentDetails": {
          "relatedPlaylists": {
           "likes": "",
           "uploads": "UU4xKdmAXFh4ACyhpiQ_3qBw"
          }
         },
         "etag": "NEDEZApsyz0enbNVnknDpHppzLc",
         "id": "UC4xKdmAXFh4ACyhpiQ_3qBw",
         "kind": "youtube#channel",
         "snippet": {
          "country": "US",
          "customUrl": "@techlead",
          "description": "Ex-Google / Meta tech lead, app entrepreneur, software engineer. ☕️ 👌\n\nJoin me in DeFi Pro and make passive income with crypto. http://defipro.dev/\n\nIf you're looking for help landing a job as a software engineer, resume critique, and mentorship, join me at:\nhttp://techinterviewpro.com/\nhttp://coderpro.com/\n\nLearn the secrets of YouTube success with me here:\nhttp://youtubebackstage.com/\n\nAdd me here:\nhttp://twitter.com/techleadhd\nhttp://instagram.com/techleadhd\n\n",
          "localized": {
           "description": "Ex-Google / Meta tech lead, app entrepreneur, software engineer. ☕️ 👌\n\nJoin me in DeFi Pro and make passive income with crypto. http://defipro.dev/\n\nIf you're looking for help landing a job as a software engineer, resume critique, and mentorship, join me at:\nhttp://techinterviewpro.com/\nhttp://coderpro.com/\n\nLearn the secrets of YouTube success with me here:\nhttp://youtubebackstage.com/\n\nAdd me here:\nhttp://twitter.com/techleadhd\nhttp://instagram.com/techleadhd\n\n",
           "title": "TechLead"
          },
          "publishedAt": "2016-09-20T15:57:20Z",
          "thumbnails": {
           "default": {
            "height": 88,
            "url": "https://yt3.ggpht.com/ytc/APkrFKZViPM10GrZVUiUhH2Dn_2yQhTpAr2zbtnGFhFK_g=s88-c-k-c0x00ffffff-no-rj",
            "width": 88
           },
           "high": {
            "height": 800,
            "url": "https://yt3.ggpht.com/ytc/APkrFKZViPM10GrZVUiUhH2Dn_2yQhTpAr2zbtnGFhFK_g=s800-c-k-c0x00ffffff-no-rj",
            "width": 800
           },
           "medium": {
            "height": 240,
            "url": "https://yt3.ggpht.com/ytc/APkrFKZViPM10GrZVUiUhH2Dn_2yQhTpAr2zbtnGFhFK_g=s240-c-k-c0x00ffffff-no-rj",
            "width": 240
           }
          },
          "title": "TechLead"
         },
         "statistics": {
          "hiddenSubscriberCount": false,
          "subscriberCount": "1430000",
          "videoCount": "409",
          "viewCount": "132004148"
         }
        },
        {
         "contentDetails": {
          "relatedPlaylists": {
           "likes": "",
           "uploads": "UU8butISFwT-Wl7EV0hUK0BQ"
          }
         },
         "etag": "19MMtIc4URaLvhqxMZaPgxFRMCg",
         "id": "UC8butISFwT-Wl7EV0hUK0BQ",
         "kind": "youtube#channel",
         "snippet": {
          "country": "US",
          "customUrl": "@freecodecamp",
          "description": "Learn to code for free.",
          "localized": {
           "description": "Learn to code for free.",
           "title": "freeCodeCamp.org"
          },
          "publishedAt": "2014-12-16T21:18:48Z",
          "thumbnails": {
           "default": {
            "height": 88,
            "url": "https://yt3.ggpht.com/ytc/APkrFKaqca-xQcJtp1Pqv-APucCa0nToHYGPVT00YBGOSw=s88-c-k-c0x00ffffff-no-rj",
            "width": 88
           },
           "high": {
            "height": 800,
            "url": "https://yt3.ggpht.com/ytc/APkrFKaqca-xQcJtp1Pqv-APucCa0nToHYGPVT00YBGOSw=s800-c-k-c0x00ffffff-no-rj",
            "width": 800
           },
           "medium": {
            "height": 240,
            "url": "https://yt3.ggpht.com/ytc/APkrFKaqca-xQcJtp1Pqv-APucCa0nToHYGPVT00YBGOSw=s240-c-k-c0x00ffffff-no-rj",
            "width": 240
           }
          },
          "title": "freeCodeCamp.org"
         },
         "statistics": {
          "hiddenSubscriberCount": false,
          "subscriberCount": "8470000",
          "videoCount": "1527",
          "viewCount": "608157145"
         }
        },
        {
         "contentDetails": {
          "relatedPlaylists": {
           "likes": "",
           "uploads": "UUDybamfye5An6p-j1t2YMsg"
          }
         },
         "etag": "QaXB4K48O3ow-g0V4GV-9jHY2cI",
         "id": "UCDybamfye5An6p-j1t2YMsg",
         "kind": "youtube#channel",
         "snippet": {
          "country": "GB",
          "customUrl": "@datawithmo",
          "description": "👋 Hey there, this is my attempt at creating the data channel I wish I had stumbled upon right at the beginning of my career. \n\nMy name is Mo Chen and I work as a Data & Analytics Analyst within the Financial Services Industry. I make videos covering data analyst skills and knowledge 📖\n\nI know all the information in the world of data can be overwhelming, so I aim at delivering complex topics in the simplest way possible 💡\n\nWhether you're trying to transition into a data analyst role, a beginner data analyst or someone looking to further enhance their skills - this is the channel for you 😃\n",
          "localized": {
           "description": "👋 Hey there, this is my attempt at creating the data channel I wish I had stumbled upon right at the beginning of my career. \n\nMy name is Mo Chen and I work as a Data & Analytics Analyst within the Financial Services Industry. I make videos covering data analyst skills and knowledge 📖\n\nI know all the information in the world of data can be overwhelming, so I aim at delivering complex topics in the simplest way possible 💡\n\nWhether you're trying to transition into a data analyst role, a beginner data analyst or someone looking to further enhance their skills - this is the channel for you 😃\n",
           "title": "Data With Mo"
          },
          "publishedAt": "2022-12-25T20:25:38.187653Z",
          "thumbnails": {
           "default": {
            "height": 88,
            "url": "https://yt3.ggpht.com/MRBoEd0ixncIQK0YY2gS3U64h8spqmyKlvy2jM2v4alHfwP0o7yBPkRY9-evYDCfa1lz1X-NLok=s88-c-k-c0x00ffffff-no-rj",
            "width": 88
           },
           "high": {
            "height": 800,
            "url": "https://yt3.ggpht.com/MRBoEd0ixncIQK0YY2gS3U64h8spqmyKlvy2jM2v4alHfwP0o7yBPkRY9-evYDCfa1lz1X-NLok=s800-c-k-c0x00ffffff-no-rj",
            "width": 800
           },
           "medium": {
            "height": 240,
            "url": "https://yt3.ggpht.com/MRBoEd0ixncIQK0YY2gS3U64h8spqmyKlvy2jM2v4alHfwP0o7yBPkRY9-evYDCfa1lz1X-NLok=s240-c-k-c0x00ffffff-no-rj",
            "width": 240
           }
          },
          "title": "Data With Mo"
         },
         "statistics": {
          "hiddenSubscriberCount": false,
          "subscriberCount": "64100",
          "videoCount": "59",
          "viewCount": "1859503"
         }
        },
        {
         "contentDetails": {
          "relatedPlaylists": {
           "likes": "",
           "uploads": "UUsd0xmaXyUGpD35IX4xrYEw"
          }
         },
         "etag": "CCeTaQ274ZuDzsOERDkRxzMzTCA",
         "id": "UCsd0xmaXyUGpD35IX4xrYEw",
         "kind": "youtube#channel",
         "snippet": {
          "country": "US",
          "customUrl": "@jeremiahpeoples",
          "description": "I’m a self-taught software engineer living a life in tech. Tap in for tech reviews, career tips, lifestyle, and more.",
          "localized": {
           "description": "I’m a self-taught software engineer living a life in tech. Tap in for tech reviews, career tips, lifestyle, and more.",
           "title": "Jeremiah Peoples"
          },
          "publishedAt": "2013-05-22T04:05:04Z",
          "thumbnails": {
           "default": {
            "height": 88,
            "url": "https://yt3.ggpht.com/ytc/APkrFKZMFNMp-nmjjZushUqnoN3cGqXI2bZ808hpYmfhAA=s88-c-k-c0x00ffffff-no-rj",
            "width": 88
           },
           "high": {
            "height": 800,
            "url": "https://yt3.ggpht.com/ytc/APkrFKZMFNMp-nmjjZushUqnoN3cGqXI2bZ808hpYmfhAA=s800-c-k-c0x00ffffff-no-rj",
            "width": 800
           },
           "medium": {
            "height": 240,
            "url": "https://yt3.ggpht.com/ytc/APkrFKZMFNMp-nmjjZushUqnoN3cGqXI2bZ808hpYmfhAA=s240-c-k-c0x00ffffff-no-rj",
            "width": 240
           }
          },
          "title": "Jeremiah Peoples"
         },
         "statistics": {
          "hiddenSubscriberCount": false,
          "subscriberCount": "87400",
          "videoCount": "67",
          "viewCount": "26338955"
         }
        },
        {
         "contentDetails": {
          "relatedPlaylists": {
           "likes": "",
           "uploads": "UUTHAIlSOqquwOKnd_nCJgAQ"
          }
         },
         "etag": "VZb1pVxx3SvLh0bMGkdMfSlHTD0",
         "id": "UCTHAIlSOqquwOKnd_nCJgAQ",
         "kind": "youtube#channel",
         "snippet": {
          "country": "PK",
          "customUrl": "@mylesson007",
          "description": "My Lesson is a platform where you can learn about the topics that are taught in College or University. We provide lessons on various topics from the best experts around the world. You can learn about Computer Science, IT security, Mathematics, Statistics, Physics, Biology and so on.\nWe create courses by collaborating with great educators who like to share their expertise. All the contents of this channel are solely dedicated to educational or research purposes in computer science. \n\n",
          "localized": {
           "description": "My Lesson is a platform where you can learn about the topics that are taught in College or University. We provide lessons on various topics from the best experts around the world. You can learn about Computer Science, IT security, Mathematics, Statistics, Physics, Biology and so on.\nWe create courses by collaborating with great educators who like to share their expertise. All the contents of this channel are solely dedicated to educational or research purposes in computer science. \n\n",
           "title": "My Lesson"
          },
          "publishedAt": "2021-06-21T22:09:29.010068Z",
          "thumbnails": {
           "default": {
            "height": 88,
            "url": "https://yt3.ggpht.com/a8gQ9ofCk_HU1_pkvBzEJl4Fu9EMOoW_ZCJ_jaBzOQCPoms-gW6-sP_OEhGwaWy_QpUXNJg11g=s88-c-k-c0x00ffffff-no-rj",
            "width": 88
           },
           "high": {
            "height": 800,
            "url": "https://yt3.ggpht.com/a8gQ9ofCk_HU1_pkvBzEJl4Fu9EMOoW_ZCJ_jaBzOQCPoms-gW6-sP_OEhGwaWy_QpUXNJg11g=s800-c-k-c0x00ffffff-no-rj",
            "width": 800
           },
           "medium": {
            "height": 240,
            "url": "https://yt3.ggpht.com/a8gQ9ofCk_HU1_pkvBzEJl4Fu9EMOoW_ZCJ_jaBzOQCPoms-gW6-sP_OEhGwaWy_QpUXNJg11g=s240-c-k-c0x00ffffff-no-rj",
            "width": 240
           }
          },
          "title": "My Lesson"
         },
         "statistics": {
          "hiddenSubscriberCount": false,
          "subscriberCount": "210000",
          "videoCount": "61",
          "viewCount": "5579113"
         }
        },
        {
         "contentDetails": {
          "relatedPlaylists": {
           "likes": "",
           "uploads": "UUQiNyL7ik4FIlV2UCvojq0g"
          }
         },
         "etag": "iamnXpaysHndvyk8eSFKYfgs7oU",
         "id": "UCQiNyL7ik4FIlV2UCvojq0g",
         "kind": "youtube#channel",
         "snippet": {
          "customUrl": "@rohanadus4648",
          "description": "I help people up-skill themselves with data.\n",
          "localized": {
           "description": "I help people up-skill themselves with data.\n",
           "title": "Rohan Adus"
          },
          "publishedAt": "2020-03-23T18:26:32.339179Z",
          "thumbnails": {
           "default": {
            "height": 88,
            "url": "https://yt3.ggpht.com/ytc/APkrFKbtqe9cUUgHKCz479TQkTZ2bmiwHlnF-WY8U-7K=s88-c-k-c0x00ffffff-no-rj",
            "width": 88
           },
           "high": {
            "height": 800,
            "url": "https://yt3.ggpht.com/ytc/APkrFKbtqe9cUUgHKCz479TQkTZ2bmiwHlnF-WY8U-7K=s800-c-k-c0x00ffffff-no-rj",
            "width": 800
           },
           "medium": {
            "height": 240,
            "url": "https://yt3.ggpht.com/ytc/APkrFKbtqe9cUUgHKCz479TQkTZ2bmiwHlnF-WY8U-7K=s240-c-k-c0x00ffffff-no-rj",
            "width": 240
           }
          },
          "title": "Rohan Adus"
         },
         "statistics": {
          "hiddenSubscriberCount": false,
          "subscriberCount": "1650",
          "videoCount": "39",
          "viewCount": "71518"
         }
        },
        {
         "contentDetails": {
          "relatedPlaylists": {
           "likes": "",
           "uploads": "UUt-Pwe2fODjH4Wuwf5VqE7A"
          }
         },
         "etag": "Uk05DQnDQE9EeRrbLPzZ-DcccHg",
         "id": "UCt-Pwe2fODjH4Wuwf5VqE7A",
         "kind": "youtube#channel",
         "snippet": {
          "country": "US",
          "customUrl": "@itcareerquestions",
          "description": "New videos roughly every complete lunar cycle, or so.\n\nWe realize that there is a vast amount of information to consume about the many different aspects of this field.  Our goal is to help you find the answers to the questions you might have about anything and everything Information Technology Career-Related and set your mind at ease.\n\nThis channel is powered by TCM Security: https://academy.tcm-sec.com \n\n",
          "localized": {
           "description": "New videos roughly every complete lunar cycle, or so.\n\nWe realize that there is a vast amount of information to consume about the many different aspects of this field.  Our goal is to help you find the answers to the questions you might have about anything and everything Information Technology Career-Related and set your mind at ease.\n\nThis channel is powered by TCM Security: https://academy.tcm-sec.com \n\n",
           "title": "IT Career Questions"
          },
          "publishedAt": "2014-09-19T22:05:35Z",
          "thumbnails": {
           "default": {
            "height": 88,
            "url": "https://yt3.ggpht.com/uwimZ6XOCftut4-Mbq7ZGR21SJVDE08o1zfuKzHZ7AW-9NwOZEZY4ZDuatu3tzofNOiueulegw=s88-c-k-c0x00ffffff-no-rj",
            "width": 88
           },
           "high": {
            "height": 800,
            "url": "https://yt3.ggpht.com/uwimZ6XOCftut4-Mbq7ZGR21SJVDE08o1zfuKzHZ7AW-9NwOZEZY4ZDuatu3tzofNOiueulegw=s800-c-k-c0x00ffffff-no-rj",
            "width": 800
           },
           "medium": {
            "height": 240,
            "url": "https://yt3.ggpht.com/uwimZ6XOCftut4-Mbq7ZGR21SJVDE08o1zfuKzHZ7AW-9NwOZEZY4ZDuatu3tzofNOiueulegw=s240-c-k-c0x00ffffff-no-rj",
            "width": 240
           }
          },
          "title": "IT Career Questions"
         },
         "statistics": {
          "hiddenSubscriberCount": false,
          "subscriberCount": "269000",
          "videoCount": "1014",
          "viewCount": "19419499"
         }
        },
        {
         "contentDetails": {
          "relatedPlaylists": {
           "likes": "",
           "uploads": "UU1nBZreWJArdFgiIu3BTeGw"
          }
         },
         "etag": "_4HHwdHIERFnRXuI-TgraMUcc4o",
         "id": "UC1nBZreWJArdFgiIu3BTeGw",
         "kind": "youtube#channel",
         "snippet": {
          "country": "US",
          "customUrl": "@recruiterpreston",
          "description": "My name is Preston and I am a professional technology recruiter who is now running his own recruiting agency in the technology industry.  I first learned the ropes working at a large US Staffing Firm and then made the crazy decision to work for myself shortly afterwards.  This channel documents my journey as a freelance solo recruiter who decided to run, operate and scale his own recruitment agency and share all the fun and challenging situations I find myself in every day!\n\n\nI also make videos about recruiting, general career and & job search advice, entrepreneurship, technology and investing. If this interests you, please subscribe to my channel! \n\n\n",
          "localized": {
           "description": "My name is Preston and I am a professional technology recruiter who is now running his own recruiting agency in the technology industry.  I first learned the ropes working at a large US Staffing Firm and then made the crazy decision to work for myself shortly afterwards.  This channel documents my journey as a freelance solo recruiter who decided to run, operate and scale his own recruitment agency and share all the fun and challenging situations I find myself in every day!\n\n\nI also make videos about recruiting, general career and & job search advice, entrepreneurship, technology and investing. If this interests you, please subscribe to my channel! \n\n\n",
           "title": "Recruiter Preston"
          },
          "publishedAt": "2016-01-22T21:46:36Z",
          "thumbnails": {
           "default": {
            "height": 88,
            "url": "https://yt3.ggpht.com/5Iuv2sM-XhSYO4WEQO4ZF8g17CVU95cf97228B_h7c5p-uTDNJ7skwv1H1df2RjlCTiFfnvQKA=s88-c-k-c0x00ffffff-no-rj",
            "width": 88
           },
           "high": {
            "height": 800,
            "url": "https://yt3.ggpht.com/5Iuv2sM-XhSYO4WEQO4ZF8g17CVU95cf97228B_h7c5p-uTDNJ7skwv1H1df2RjlCTiFfnvQKA=s800-c-k-c0x00ffffff-no-rj",
            "width": 800
           },
           "medium": {
            "height": 240,
            "url": "https://yt3.ggpht.com/5Iuv2sM-XhSYO4WEQO4ZF8g17CVU95cf97228B_h7c5p-uTDNJ7skwv1H1df2RjlCTiFfnvQKA=s240-c-k-c0x00ffffff-no-rj",
            "width": 240
           }
          },
          "title": "Recruiter Preston"
         },
         "statistics": {
          "hiddenSubscriberCount": false,
          "subscriberCount": "21000",
          "videoCount": "1039",
          "viewCount": "1761730"
         }
        },
        {
         "contentDetails": {
          "relatedPlaylists": {
           "likes": "",
           "uploads": "UULpovxJVLBZrXJGCymB6LYw"
          }
         },
         "etag": "m_KVVRDUbnjpN7HtS_DznEIY9Yw",
         "id": "UCLpovxJVLBZrXJGCymB6LYw",
         "kind": "youtube#channel",
         "snippet": {
          "country": "US",
          "customUrl": "@namanhkapur",
          "description": "making you a better software engineer\n",
          "localized": {
           "description": "making you a better software engineer\n",
           "title": "Namanh Kapur"
          },
          "publishedAt": "2012-09-14T16:11:30Z",
          "thumbnails": {
           "default": {
            "height": 88,
            "url": "https://yt3.ggpht.com/E5hh4r9_0TRfAKSKVvXuSvQRLxCfv4Ow_SO-Llm_uwh08U_-SPbknLucATWPBtUiccFUUy-dXA=s88-c-k-c0x00ffffff-no-rj",
            "width": 88
           },
           "high": {
            "height": 800,
            "url": "https://yt3.ggpht.com/E5hh4r9_0TRfAKSKVvXuSvQRLxCfv4Ow_SO-Llm_uwh08U_-SPbknLucATWPBtUiccFUUy-dXA=s800-c-k-c0x00ffffff-no-rj",
            "width": 800
           },
           "medium": {
            "height": 240,
            "url": "https://yt3.ggpht.com/E5hh4r9_0TRfAKSKVvXuSvQRLxCfv4Ow_SO-Llm_uwh08U_-SPbknLucATWPBtUiccFUUy-dXA=s240-c-k-c0x00ffffff-no-rj",
            "width": 240
           }
          },
          "title": "Namanh Kapur"
         },
         "statistics": {
          "hiddenSubscriberCount": false,
          "subscriberCount": "199000",
          "videoCount": "63",
          "viewCount": "12569613"
         }
        },
        {
         "contentDetails": {
          "relatedPlaylists": {
           "likes": "",
           "uploads": "UUwAnu01qlnVg1Ai2AbtTMaA"
          }
         },
         "etag": "ujJMl07oSp7AlXwWxrE13f0bTug",
         "id": "UCwAnu01qlnVg1Ai2AbtTMaA",
         "kind": "youtube#channel",
         "snippet": {
          "country": "US",
          "customUrl": "@jeffsu",
          "description": "🌟 This is the channel I wish I could have subscribed when I first entered the workforce\n\nI'm Jeff, a full time Product Marketer. In my spare time I like to tinker with tools and create systems that help me get things done faster - or as one of my friends puts it: \"Get better at being lazy\" 😏\n\nI make videos on practical career and productivity tips without all the \"fluff\"\n\nSo if you're a college student, working professional, or super ambitious high schooler, make sure to subscribe to my channel 💡\n",
          "localized": {
           "description": "🌟 This is the channel I wish I could have subscribed when I first entered the workforce\n\nI'm Jeff, a full time Product Marketer. In my spare time I like to tinker with tools and create systems that help me get things done faster - or as one of my friends puts it: \"Get better at being lazy\" 😏\n\nI make videos on practical career and productivity tips without all the \"fluff\"\n\nSo if you're a college student, working professional, or super ambitious high schooler, make sure to subscribe to my channel 💡\n",
           "title": "Jeff Su"
          },
          "publishedAt": "2013-01-27T23:01:24Z",
          "thumbnails": {
           "default": {
            "height": 88,
            "url": "https://yt3.ggpht.com/EjksPnTKIXouX0VdI14PvCGJh3M2xlWNeW7DBRBis4M9XES6OTD2q23lkakcHlaGRMJUBmY3=s88-c-k-c0x00ffffff-no-rj",
            "width": 88
           },
           "high": {
            "height": 800,
            "url": "https://yt3.ggpht.com/EjksPnTKIXouX0VdI14PvCGJh3M2xlWNeW7DBRBis4M9XES6OTD2q23lkakcHlaGRMJUBmY3=s800-c-k-c0x00ffffff-no-rj",
            "width": 800
           },
           "medium": {
            "height": 240,
            "url": "https://yt3.ggpht.com/EjksPnTKIXouX0VdI14PvCGJh3M2xlWNeW7DBRBis4M9XES6OTD2q23lkakcHlaGRMJUBmY3=s240-c-k-c0x00ffffff-no-rj",
            "width": 240
           }
          },
          "title": "Jeff Su"
         },
         "statistics": {
          "hiddenSubscriberCount": false,
          "subscriberCount": "591000",
          "videoCount": "153",
          "viewCount": "27816490"
         }
        },
        {
         "contentDetails": {
          "relatedPlaylists": {
           "likes": "",
           "uploads": "UUx3ZYdyVr8BUQDIhS1QggxA"
          }
         },
         "etag": "iWAqF7xK1ScKe4cTiAsjYG38TLA",
         "id": "UCx3ZYdyVr8BUQDIhS1QggxA",
         "kind": "youtube#channel",
         "snippet": {
          "country": "AU",
          "customUrl": "@techwithemilio",
          "description": "I love tech...hope you do too...\n\n⮕⮕ New Videos Every Monday 3pm GMT ⬅⬅\n\n🌍 My Website - https://www.emilioaguero.net\n👉 For any affiliate or sponsorship enquiries reach me at - contact@emilioaguero.net\n",
          "localized": {
           "description": "I love tech...hope you do too...\n\n⮕⮕ New Videos Every Monday 3pm GMT ⬅⬅\n\n🌍 My Website - https://www.emilioaguero.net\n👉 For any affiliate or sponsorship enquiries reach me at - contact@emilioaguero.net\n",
           "title": "Tech With Emilio"
          },
          "publishedAt": "2014-10-30T03:33:56Z",
          "thumbnails": {
           "default": {
            "height": 88,
            "url": "https://yt3.ggpht.com/VbJjVBUnYewM6V6oNrYfI8armZVK-3m3Un9VE6D8jNF2x0hnsxT8ZjKA62GqzBUM8_GmbMLeAg=s88-c-k-c0x00ffffff-no-rj",
            "width": 88
           },
           "high": {
            "height": 800,
            "url": "https://yt3.ggpht.com/VbJjVBUnYewM6V6oNrYfI8armZVK-3m3Un9VE6D8jNF2x0hnsxT8ZjKA62GqzBUM8_GmbMLeAg=s800-c-k-c0x00ffffff-no-rj",
            "width": 800
           },
           "medium": {
            "height": 240,
            "url": "https://yt3.ggpht.com/VbJjVBUnYewM6V6oNrYfI8armZVK-3m3Un9VE6D8jNF2x0hnsxT8ZjKA62GqzBUM8_GmbMLeAg=s240-c-k-c0x00ffffff-no-rj",
            "width": 240
           }
          },
          "title": "Tech With Emilio"
         },
         "statistics": {
          "hiddenSubscriberCount": false,
          "subscriberCount": "48900",
          "videoCount": "699",
          "viewCount": "10089347"
         }
        },
        {
         "contentDetails": {
          "relatedPlaylists": {
           "likes": "",
           "uploads": "UUPcyffOFc7YGyDgqmvZJs7Q"
          }
         },
         "etag": "vXLVdpPb8lXJy3luZVADJ5gS46g",
         "id": "UCPcyffOFc7YGyDgqmvZJs7Q",
         "kind": "youtube#channel",
         "snippet": {
          "country": "US",
          "customUrl": "@peterelbaum",
          "description": "Videos at the intersection of code and entrepreneurship ",
          "localized": {
           "description": "Videos at the intersection of code and entrepreneurship ",
           "title": "Peter Elbaum"
          },
          "publishedAt": "2012-11-20T13:56:02Z",
          "thumbnails": {
           "default": {
            "height": 88,
            "url": "https://yt3.ggpht.com/wLY9d1iEbD4Dwh7PpYIMdor9PyTjGwURuZSKHeA5O47CldMigohtuPT_b8rRYOdfFg-971sy=s88-c-k-c0x00ffffff-no-rj",
            "width": 88
           },
           "high": {
            "height": 800,
            "url": "https://yt3.ggpht.com/wLY9d1iEbD4Dwh7PpYIMdor9PyTjGwURuZSKHeA5O47CldMigohtuPT_b8rRYOdfFg-971sy=s800-c-k-c0x00ffffff-no-rj",
            "width": 800
           },
           "medium": {
            "height": 240,
            "url": "https://yt3.ggpht.com/wLY9d1iEbD4Dwh7PpYIMdor9PyTjGwURuZSKHeA5O47CldMigohtuPT_b8rRYOdfFg-971sy=s240-c-k-c0x00ffffff-no-rj",
            "width": 240
           }
          },
          "title": "Peter Elbaum"
         },
         "statistics": {
          "hiddenSubscriberCount": false,
          "subscriberCount": "12600",
          "videoCount": "175",
          "viewCount": "924870"
         }
        },
        {
         "contentDetails": {
          "relatedPlaylists": {
           "likes": "",
           "uploads": "UUsvqVGtbbyHaMoevxPAq9Fg"
          }
         },
         "etag": "5h-i9hG-njXsPyMFlvgsGjkUrAw",
         "id": "UCsvqVGtbbyHaMoevxPAq9Fg",
         "kind": "youtube#channel",
         "snippet": {
          "country": "US",
          "customUrl": "@simplilearnofficial",
          "description": "Simplilearn is the world’s #1 online Bootcamp and one of the world’s leading certification training providers. Based in San Francisco, California, and Bangalore, India, we provide training in areas where technologies and best practices are changing rapidly, and the demand for qualified candidates significantly exceeds the supply. We have trained over 3,000,000 professionals, have over 2000 qualified trainers on board, and offer over 400 courses with 40 plus global accreditations. With live instructions from leading experts, interactive labs & projects, peer-to-peer collaboration, on-demand lessons, and 24/7 learning support, we provide learners with a comprehensive curriculum at a fraction of the cost of an on-campus program. \n\nFor more information, visit https://www.simplilearn.com/\nOur FREE courses via SkillUp by Simplilearn now come with Completion Certificates! :https://www.simplilearn.com/skillup-free-online-courses\n\n",
          "localized": {
           "description": "Simplilearn is the world’s #1 online Bootcamp and one of the world’s leading certification training providers. Based in San Francisco, California, and Bangalore, India, we provide training in areas where technologies and best practices are changing rapidly, and the demand for qualified candidates significantly exceeds the supply. We have trained over 3,000,000 professionals, have over 2000 qualified trainers on board, and offer over 400 courses with 40 plus global accreditations. With live instructions from leading experts, interactive labs & projects, peer-to-peer collaboration, on-demand lessons, and 24/7 learning support, we provide learners with a comprehensive curriculum at a fraction of the cost of an on-campus program. \n\nFor more information, visit https://www.simplilearn.com/\nOur FREE courses via SkillUp by Simplilearn now come with Completion Certificates! :https://www.simplilearn.com/skillup-free-online-courses\n\n",
           "title": "Simplilearn"
          },
          "publishedAt": "2009-10-29T07:21:23Z",
          "thumbnails": {
           "default": {
            "height": 88,
            "url": "https://yt3.ggpht.com/7q9t5rjeujEZYqY1xMLn0mvT4Zc6MaZBYgtseDL2_Zh42AOhMze8ep7BUKdR5FnxytMy3csj=s88-c-k-c0x00ffffff-no-rj",
            "width": 88
           },
           "high": {
            "height": 800,
            "url": "https://yt3.ggpht.com/7q9t5rjeujEZYqY1xMLn0mvT4Zc6MaZBYgtseDL2_Zh42AOhMze8ep7BUKdR5FnxytMy3csj=s800-c-k-c0x00ffffff-no-rj",
            "width": 800
           },
           "medium": {
            "height": 240,
            "url": "https://yt3.ggpht.com/7q9t5rjeujEZYqY1xMLn0mvT4Zc6MaZBYgtseDL2_Zh42AOhMze8ep7BUKdR5FnxytMy3csj=s240-c-k-c0x00ffffff-no-rj",
            "width": 240
           }
          },
          "title": "Simplilearn"
         },
         "statistics": {
          "hiddenSubscriberCount": false,
          "subscriberCount": "3380000",
          "videoCount": "6662",
          "viewCount": "304536137"
         }
        },
        {
         "contentDetails": {
          "relatedPlaylists": {
           "likes": "",
           "uploads": "UU3kFmMxz3IdLdz4TxA9a4DQ"
          }
         },
         "etag": "y51H2nxd-Cqt1SxFbioWqTouCKc",
         "id": "UC3kFmMxz3IdLdz4TxA9a4DQ",
         "kind": "youtube#channel",
         "snippet": {
          "country": "US",
          "customUrl": "@comptia",
          "description": "We ❤️ #InformationTechnology & believe in advancing the global #tech workforce through #ITcertification + #ITtraining",
          "localized": {
           "description": "We ❤️ #InformationTechnology & believe in advancing the global #tech workforce through #ITcertification + #ITtraining",
           "title": "CompTIA"
          },
          "publishedAt": "2010-02-12T14:01:16Z",
          "thumbnails": {
           "default": {
            "height": 88,
            "url": "https://yt3.ggpht.com/ytc/APkrFKZgHXqNhJU8J_3LDId-sLY9eH9voLpyShcqDImg2A=s88-c-k-c0x00ffffff-no-rj",
            "width": 88
           },
           "high": {
            "height": 800,
            "url": "https://yt3.ggpht.com/ytc/APkrFKZgHXqNhJU8J_3LDId-sLY9eH9voLpyShcqDImg2A=s800-c-k-c0x00ffffff-no-rj",
            "width": 800
           },
           "medium": {
            "height": 240,
            "url": "https://yt3.ggpht.com/ytc/APkrFKZgHXqNhJU8J_3LDId-sLY9eH9voLpyShcqDImg2A=s240-c-k-c0x00ffffff-no-rj",
            "width": 240
           }
          },
          "title": "CompTIA"
         },
         "statistics": {
          "hiddenSubscriberCount": false,
          "subscriberCount": "44100",
          "videoCount": "316",
          "viewCount": "1608567"
         }
        },
        {
         "contentDetails": {
          "relatedPlaylists": {
           "likes": "",
           "uploads": "UU2UXDak6o7rBm23k3Vv5dww"
          }
         },
         "etag": "_1iKk2z_j2UxJTWsw6Mx_xUQEBA",
         "id": "UC2UXDak6o7rBm23k3Vv5dww",
         "kind": "youtube#channel",
         "snippet": {
          "country": "US",
          "customUrl": "@tinahuang1",
          "description": "Hi! My name is Tina and I'm a ex-Meta data scientist. Now I create content and other internet things! \n\nThis channel is about coding, tech, career, and self-study. I love learning new things and my goal is to always minimize effort and maximize outcome! \n\nI strive to do things in the most efficient way possible and with the highest reward. I basically refuse to do extra work to achieve my goals c: \n\n\n",
          "localized": {
           "description": "Hi! My name is Tina and I'm a ex-Meta data scientist. Now I create content and other internet things! \n\nThis channel is about coding, tech, career, and self-study. I love learning new things and my goal is to always minimize effort and maximize outcome! \n\nI strive to do things in the most efficient way possible and with the highest reward. I basically refuse to do extra work to achieve my goals c: \n\n\n",
           "title": "Tina Huang"
          },
          "publishedAt": "2013-08-28T18:05:17Z",
          "thumbnails": {
           "default": {
            "height": 88,
            "url": "https://yt3.ggpht.com/QMaMXCtmRUXUuIWb6sUMLi_ulWNCxPuVnu3I-3IkT1YCJs6XzcxKoOFrzx_WjVW65S46S_pTRQ=s88-c-k-c0x00ffffff-no-rj",
            "width": 88
           },
           "high": {
            "height": 800,
            "url": "https://yt3.ggpht.com/QMaMXCtmRUXUuIWb6sUMLi_ulWNCxPuVnu3I-3IkT1YCJs6XzcxKoOFrzx_WjVW65S46S_pTRQ=s800-c-k-c0x00ffffff-no-rj",
            "width": 800
           },
           "medium": {
            "height": 240,
            "url": "https://yt3.ggpht.com/QMaMXCtmRUXUuIWb6sUMLi_ulWNCxPuVnu3I-3IkT1YCJs6XzcxKoOFrzx_WjVW65S46S_pTRQ=s240-c-k-c0x00ffffff-no-rj",
            "width": 240
           }
          },
          "title": "Tina Huang"
         },
         "statistics": {
          "hiddenSubscriberCount": false,
          "subscriberCount": "575000",
          "videoCount": "141",
          "viewCount": "25799139"
         }
        },
        {
         "contentDetails": {
          "relatedPlaylists": {
           "likes": "",
           "uploads": "UUVe8CMJF4caRzuckVYV8CaQ"
          }
         },
         "etag": "-Kxx9Ic9vDSssAYAui7p5FYmKbo",
         "id": "UCVe8CMJF4caRzuckVYV8CaQ",
         "kind": "youtube#channel",
         "snippet": {
          "country": "IN",
          "customUrl": "@nishantchahar11",
          "description": "I am a Software Engineer at Microsoft, graduated from NSIT in 2021.\nI have interned at Samsung Research Institue Banglore as a software developer intern and I have also Won Smart India Hackathon. I love to try different things.\n\nI love to paint, cook, and code.\n\nFor collaboration/commercial contact at\nEmail :  businesswithnishantchahar@gmail.com\n\nMilestones\n0 subs - 6 sep\n100 Subs - 13 sep\n500 Subs - 19 oct\n1000 Subs - 14 Nov\n5000 Subs - 22 Dec\n10000 Subs - 10 Feb\n25000 Subs - 15 June \n50000 Subs - 28 Aug\n100k Subs - 21 March 2022\n150k Subs - 28th June 2022\n200k Subs - 12 Aug 2022\n250k Subs - 10 Nov 2022\n350k Subs - Jaldi karva do ❤️\nSmash the subscribe button to help me reach my goal ❤️\n\n**All the views on the channel are of my own, I do not represent any organization or company. ",
          "localized": {
           "description": "I am a Software Engineer at Microsoft, graduated from NSIT in 2021.\nI have interned at Samsung Research Institue Banglore as a software developer intern and I have also Won Smart India Hackathon. I love to try different things.\n\nI love to paint, cook, and code.\n\nFor collaboration/commercial contact at\nEmail :  businesswithnishantchahar@gmail.com\n\nMilestones\n0 subs - 6 sep\n100 Subs - 13 sep\n500 Subs - 19 oct\n1000 Subs - 14 Nov\n5000 Subs - 22 Dec\n10000 Subs - 10 Feb\n25000 Subs - 15 June \n50000 Subs - 28 Aug\n100k Subs - 21 March 2022\n150k Subs - 28th June 2022\n200k Subs - 12 Aug 2022\n250k Subs - 10 Nov 2022\n350k Subs - Jaldi karva do ❤️\nSmash the subscribe button to help me reach my goal ❤️\n\n**All the views on the channel are of my own, I do not represent any organization or company. ",
           "title": "Nishant Chahar"
          },
          "publishedAt": "2013-11-08T12:49:54Z",
          "thumbnails": {
           "default": {
            "height": 88,
            "url": "https://yt3.ggpht.com/ytc/APkrFKanYdNvJ1tP17KujO4w3GdNDCsjen9FIVdZuEEp5gE=s88-c-k-c0x00ffffff-no-rj",
            "width": 88
           },
           "high": {
            "height": 800,
            "url": "https://yt3.ggpht.com/ytc/APkrFKanYdNvJ1tP17KujO4w3GdNDCsjen9FIVdZuEEp5gE=s800-c-k-c0x00ffffff-no-rj",
            "width": 800
           },
           "medium": {
            "height": 240,
            "url": "https://yt3.ggpht.com/ytc/APkrFKanYdNvJ1tP17KujO4w3GdNDCsjen9FIVdZuEEp5gE=s240-c-k-c0x00ffffff-no-rj",
            "width": 240
           }
          },
          "title": "Nishant Chahar"
         },
         "statistics": {
          "hiddenSubscriberCount": false,
          "subscriberCount": "342000",
          "videoCount": "412",
          "viewCount": "41355158"
         }
        },
        {
         "contentDetails": {
          "relatedPlaylists": {
           "likes": "",
           "uploads": "UU7cs8q-gJRlGwj4A8OmCmXg"
          }
         },
         "etag": "lq_vXWoXhYqSMHUx1eKBg6UkHUQ",
         "id": "UC7cs8q-gJRlGwj4A8OmCmXg",
         "kind": "youtube#channel",
         "snippet": {
          "country": "US",
          "customUrl": "@alextheanalyst",
          "description": "My name is Alex Freberg and on this channel I will be going over everything you need to know to become a Data Analyst. If you are wanting to make a career change or learn the skills needed to become a Data Analyst, be sure to subscribe to stay up to date on all my latest content.\n\nYou can find me on LinkedIn at:\nhttps://www.linkedin.com/in/alex-freberg/\n\nAlexTheAnalyst.com\nhttps://www.alextheanalyst.com/\n\nDiscord Channel:\nhttps://discord.gg/rxZUjNvRzR\n\nTwitter:\n@Alex_TheAnalyst\n\nSend Me Something:\n431 Saint James Avenue Suite L #318, Goose Creek, SC, 29445\n",
          "localized": {
           "description": "My name is Alex Freberg and on this channel I will be going over everything you need to know to become a Data Analyst. If you are wanting to make a career change or learn the skills needed to become a Data Analyst, be sure to subscribe to stay up to date on all my latest content.\n\nYou can find me on LinkedIn at:\nhttps://www.linkedin.com/in/alex-freberg/\n\nAlexTheAnalyst.com\nhttps://www.alextheanalyst.com/\n\nDiscord Channel:\nhttps://discord.gg/rxZUjNvRzR\n\nTwitter:\n@Alex_TheAnalyst\n\nSend Me Something:\n431 Saint James Avenue Suite L #318, Goose Creek, SC, 29445\n",
           "title": "Alex The Analyst"
          },
          "publishedAt": "2020-01-08T05:04:24.970712Z",
          "thumbnails": {
           "default": {
            "height": 88,
            "url": "https://yt3.ggpht.com/ytc/APkrFKY94_hiNJ7vhHxbciZCaMvLfkXOvxhVhN3mFEDO=s88-c-k-c0x00ffffff-no-rj",
            "width": 88
           },
           "high": {
            "height": 800,
            "url": "https://yt3.ggpht.com/ytc/APkrFKY94_hiNJ7vhHxbciZCaMvLfkXOvxhVhN3mFEDO=s800-c-k-c0x00ffffff-no-rj",
            "width": 800
           },
           "medium": {
            "height": 240,
            "url": "https://yt3.ggpht.com/ytc/APkrFKY94_hiNJ7vhHxbciZCaMvLfkXOvxhVhN3mFEDO=s240-c-k-c0x00ffffff-no-rj",
            "width": 240
           }
          },
          "title": "Alex The Analyst"
         },
         "statistics": {
          "hiddenSubscriberCount": false,
          "subscriberCount": "604000",
          "videoCount": "255",
          "viewCount": "25193892"
         }
        },
        {
         "contentDetails": {
          "relatedPlaylists": {
           "likes": "",
           "uploads": "UUIrOHHdl6C4IWv96N0EaHMA"
          }
         },
         "etag": "Y1bhaK-JIjgccwV-cf5V_KlebYg",
         "id": "UCIrOHHdl6C4IWv96N0EaHMA",
         "kind": "youtube#channel",
         "snippet": {
          "country": "US",
          "customUrl": "@hustlewithdrae",
          "description": "Welcome to my channel, I help individuals kick-start their careers in tech the hustle way. Subscribe if you need anything from Interview Tips, Career Tips or are just curious about what life is like for the average hustler like me who broke his way into the tech industry. \n\nInstagram: HustleWithDrae\nTwitter: HustleWithDrae\nPersonal/Business Email: HustleWithDrae@gmail.com",
          "localized": {
           "description": "Welcome to my channel, I help individuals kick-start their careers in tech the hustle way. Subscribe if you need anything from Interview Tips, Career Tips or are just curious about what life is like for the average hustler like me who broke his way into the tech industry. \n\nInstagram: HustleWithDrae\nTwitter: HustleWithDrae\nPersonal/Business Email: HustleWithDrae@gmail.com",
           "title": "Hustle With Drae "
          },
          "publishedAt": "2020-05-06T13:46:47.815829Z",
          "thumbnails": {
           "default": {
            "height": 88,
            "url": "https://yt3.ggpht.com/9PNz-6ldsCoQbwbVAW4_EZTjfxXoUCzjczhTiXF9Dfu7nBwtMvRVgZrOjMAPJ82CqP0Yh4RvIw=s88-c-k-c0x00ffffff-no-rj",
            "width": 88
           },
           "high": {
            "height": 800,
            "url": "https://yt3.ggpht.com/9PNz-6ldsCoQbwbVAW4_EZTjfxXoUCzjczhTiXF9Dfu7nBwtMvRVgZrOjMAPJ82CqP0Yh4RvIw=s800-c-k-c0x00ffffff-no-rj",
            "width": 800
           },
           "medium": {
            "height": 240,
            "url": "https://yt3.ggpht.com/9PNz-6ldsCoQbwbVAW4_EZTjfxXoUCzjczhTiXF9Dfu7nBwtMvRVgZrOjMAPJ82CqP0Yh4RvIw=s240-c-k-c0x00ffffff-no-rj",
            "width": 240
           }
          },
          "title": "Hustle With Drae "
         },
         "statistics": {
          "hiddenSubscriberCount": false,
          "subscriberCount": "5630",
          "videoCount": "123",
          "viewCount": "277142"
         }
        },
        {
         "contentDetails": {
          "relatedPlaylists": {
           "likes": "",
           "uploads": "UUpa0VHHeSUV1D17X8MoX5xA"
          }
         },
         "etag": "T2h-hQYdRZeiCuX84YCYlmVSbpw",
         "id": "UCpa0VHHeSUV1D17X8MoX5xA",
         "kind": "youtube#channel",
         "snippet": {
          "customUrl": "@cutthetech",
          "description": "Welcome to \"Cut The Tech\". An inside baseball look into my  journey into the world of tech. From working 2 full time jobs, to taking a tech bootcamp to pivot into the career of tech sales. Walk with me as I go through the \"CourseCareers\" bootcamp from start to finish and beyond.\n\nLink to check out CourseCareers.\n\nhttps://account.coursecareers.com/ref/62590/\n\nUse code to get $50 off: CutThe50\n",
          "localized": {
           "description": "Welcome to \"Cut The Tech\". An inside baseball look into my  journey into the world of tech. From working 2 full time jobs, to taking a tech bootcamp to pivot into the career of tech sales. Walk with me as I go through the \"CourseCareers\" bootcamp from start to finish and beyond.\n\nLink to check out CourseCareers.\n\nhttps://account.coursecareers.com/ref/62590/\n\nUse code to get $50 off: CutThe50\n",
           "title": "Cut The Tech"
          },
          "publishedAt": "2008-01-07T20:18:55Z",
          "thumbnails": {
           "default": {
            "height": 88,
            "url": "https://yt3.ggpht.com/KcKiEP2jYRNchA27JhVGc329t3UayPnufmnZ1Wj7lF_tQYJlZC1grjQBgqFxTlB9kLrrDRAyRg=s88-c-k-c0x00ffffff-no-rj",
            "width": 88
           },
           "high": {
            "height": 800,
            "url": "https://yt3.ggpht.com/KcKiEP2jYRNchA27JhVGc329t3UayPnufmnZ1Wj7lF_tQYJlZC1grjQBgqFxTlB9kLrrDRAyRg=s800-c-k-c0x00ffffff-no-rj",
            "width": 800
           },
           "medium": {
            "height": 240,
            "url": "https://yt3.ggpht.com/KcKiEP2jYRNchA27JhVGc329t3UayPnufmnZ1Wj7lF_tQYJlZC1grjQBgqFxTlB9kLrrDRAyRg=s240-c-k-c0x00ffffff-no-rj",
            "width": 240
           }
          },
          "title": "Cut The Tech"
         },
         "statistics": {
          "hiddenSubscriberCount": false,
          "subscriberCount": "1380",
          "videoCount": "50",
          "viewCount": "57080"
         }
        },
        {
         "contentDetails": {
          "relatedPlaylists": {
           "likes": "",
           "uploads": "UUC8nkE-p-7S0ZPJXrEs2QNA"
          }
         },
         "etag": "t2-VGRElJ8Mdf7HiA2wsAUneIt8",
         "id": "UCC8nkE-p-7S0ZPJXrEs2QNA",
         "kind": "youtube#channel",
         "snippet": {
          "country": "US",
          "customUrl": "@nucamp",
          "description": "We are Nucamp! The Only Truly Affordable Online Bootcamp. \n\nOur mission is to help all aspiring career shifters currently left out of the digital economy find a job in software development.\n\nWe are dedicated to making quality education affordable with the low cost of online learning paired with the motivation and support offered by in-person bootcamps. We offer programs tailored to all levels of learning and range from 4 weeks to 22 weeks.  – Web Development Fundamentals, Front End Development, Full Stack Web and Mobile Application Development, Back-end with Python Development. \n\nNucamp helps you learn the skills you need to get the career that you want, without quitting your job or going in debt. \n\nLearn more at  :  https://www.nucamp.co",
          "localized": {
           "description": "We are Nucamp! The Only Truly Affordable Online Bootcamp. \n\nOur mission is to help all aspiring career shifters currently left out of the digital economy find a job in software development.\n\nWe are dedicated to making quality education affordable with the low cost of online learning paired with the motivation and support offered by in-person bootcamps. We offer programs tailored to all levels of learning and range from 4 weeks to 22 weeks.  – Web Development Fundamentals, Front End Development, Full Stack Web and Mobile Application Development, Back-end with Python Development. \n\nNucamp helps you learn the skills you need to get the career that you want, without quitting your job or going in debt. \n\nLearn more at  :  https://www.nucamp.co",
           "title": "Nucamp"
          },
          "publishedAt": "2018-11-28T00:18:39Z",
          "thumbnails": {
           "default": {
            "height": 88,
            "url": "https://yt3.ggpht.com/ytc/APkrFKZVv6tuIvoeK9OR0ceZMVSrsc1vgURMTknxTk0Jag=s88-c-k-c0x00ffffff-no-rj",
            "width": 88
           },
           "high": {
            "height": 800,
            "url": "https://yt3.ggpht.com/ytc/APkrFKZVv6tuIvoeK9OR0ceZMVSrsc1vgURMTknxTk0Jag=s800-c-k-c0x00ffffff-no-rj",
            "width": 800
           },
           "medium": {
            "height": 240,
            "url": "https://yt3.ggpht.com/ytc/APkrFKZVv6tuIvoeK9OR0ceZMVSrsc1vgURMTknxTk0Jag=s240-c-k-c0x00ffffff-no-rj",
            "width": 240
           }
          },
          "title": "Nucamp"
         },
         "statistics": {
          "hiddenSubscriberCount": false,
          "subscriberCount": "3690",
          "videoCount": "419",
          "viewCount": "5698611"
         }
        },
        {
         "contentDetails": {
          "relatedPlaylists": {
           "likes": "",
           "uploads": "UULLw7jmFsvfIVaUFsLs8mlQ"
          }
         },
         "etag": "ZGDarW9Vr_OTPjmDC4mjrTgIiNE",
         "id": "UCLLw7jmFsvfIVaUFsLs8mlQ",
         "kind": "youtube#channel",
         "snippet": {
          "country": "US",
          "customUrl": "@lukebarousse",
          "description": "What's up, Data Nerds! I'm Luke, a data analyst, and I make videos about tech and skills for data science.\n\nIf you have a question about becoming a data analyst, drop a comment in any video. No need to email!\n\n\n",
          "localized": {
           "description": "What's up, Data Nerds! I'm Luke, a data analyst, and I make videos about tech and skills for data science.\n\nIf you have a question about becoming a data analyst, drop a comment in any video. No need to email!\n\n\n",
           "title": "Luke Barousse"
          },
          "publishedAt": "2020-08-03T09:02:41.213077Z",
          "thumbnails": {
           "default": {
            "height": 88,
            "url": "https://yt3.ggpht.com/ytc/APkrFKbSK7p4iSxoBPjGLq569bbMU65hbUr4zb2rq6Mi=s88-c-k-c0x00ffffff-no-rj",
            "width": 88
           },
           "high": {
            "height": 800,
            "url": "https://yt3.ggpht.com/ytc/APkrFKbSK7p4iSxoBPjGLq569bbMU65hbUr4zb2rq6Mi=s800-c-k-c0x00ffffff-no-rj",
            "width": 800
           },
           "medium": {
            "height": 240,
            "url": "https://yt3.ggpht.com/ytc/APkrFKbSK7p4iSxoBPjGLq569bbMU65hbUr4zb2rq6Mi=s240-c-k-c0x00ffffff-no-rj",
            "width": 240
           }
          },
          "title": "Luke Barousse"
         },
         "statistics": {
          "hiddenSubscriberCount": false,
          "subscriberCount": "386000",
          "videoCount": "141",
          "viewCount": "18323098"
         }
        },
        {
         "contentDetails": {
          "relatedPlaylists": {
           "likes": "",
           "uploads": "UUsLo154Krjwhoz8W00N8ItA"
          }
         },
         "etag": "B2EtNQsxkgYN4a2Vs2QsJ3SumfU",
         "id": "UCsLo154Krjwhoz8W00N8ItA",
         "kind": "youtube#channel",
         "snippet": {
          "country": "US",
          "customUrl": "@keeponcoding",
          "description": "Coding in a nutshell. Programming tutorials, experiences in the tech industry, and attempting to be funny once in a while.",
          "localized": {
           "description": "Coding in a nutshell. Programming tutorials, experiences in the tech industry, and attempting to be funny once in a while.",
           "title": "Keep On Coding"
          },
          "publishedAt": "2006-09-09T07:57:58Z",
          "thumbnails": {
           "default": {
            "height": 88,
            "url": "https://yt3.ggpht.com/uITpMljPmApewwQ6sRn68DsGHPH1yR5Pv0ZtUP7jz6D-kChhYilPtso6o8mqs2Xq1Qpltd6OiA=s88-c-k-c0x00ffffff-no-rj",
            "width": 88
           },
           "high": {
            "height": 800,
            "url": "https://yt3.ggpht.com/uITpMljPmApewwQ6sRn68DsGHPH1yR5Pv0ZtUP7jz6D-kChhYilPtso6o8mqs2Xq1Qpltd6OiA=s800-c-k-c0x00ffffff-no-rj",
            "width": 800
           },
           "medium": {
            "height": 240,
            "url": "https://yt3.ggpht.com/uITpMljPmApewwQ6sRn68DsGHPH1yR5Pv0ZtUP7jz6D-kChhYilPtso6o8mqs2Xq1Qpltd6OiA=s240-c-k-c0x00ffffff-no-rj",
            "width": 240
           }
          },
          "title": "Keep On Coding"
         },
         "statistics": {
          "hiddenSubscriberCount": false,
          "subscriberCount": "303000",
          "videoCount": "168",
          "viewCount": "27712860"
         }
        },
        {
         "contentDetails": {
          "relatedPlaylists": {
           "likes": "",
           "uploads": "UU50JofjMZpr3KCbOx6dHi_A"
          }
         },
         "etag": "brXHKncqbq7wybuR14Ti_f9IEGk",
         "id": "UC50JofjMZpr3KCbOx6dHi_A",
         "kind": "youtube#channel",
         "snippet": {
          "country": "US",
          "customUrl": "@jackcalvinross",
          "description": "Name: Jack Ross\nLocation: Anywhere\n\nLearning to leverage the tools of the digital age to get more freedom in life.\n",
          "localized": {
           "description": "Name: Jack Ross\nLocation: Anywhere\n\nLearning to leverage the tools of the digital age to get more freedom in life.\n",
           "title": "Jack Ross"
          },
          "publishedAt": "2020-09-20T21:51:56.134936Z",
          "thumbnails": {
           "default": {
            "height": 88,
            "url": "https://yt3.ggpht.com/WbJ84qCH8AMusOQckbMhsUtpYiecA8eInwPpg9UwvsreSvdwik5dRNb34z-ZzY2Xz7Gcmv2X=s88-c-k-c0x00ffffff-no-rj",
            "width": 88
           },
           "high": {
            "height": 800,
            "url": "https://yt3.ggpht.com/WbJ84qCH8AMusOQckbMhsUtpYiecA8eInwPpg9UwvsreSvdwik5dRNb34z-ZzY2Xz7Gcmv2X=s800-c-k-c0x00ffffff-no-rj",
            "width": 800
           },
           "medium": {
            "height": 240,
            "url": "https://yt3.ggpht.com/WbJ84qCH8AMusOQckbMhsUtpYiecA8eInwPpg9UwvsreSvdwik5dRNb34z-ZzY2Xz7Gcmv2X=s240-c-k-c0x00ffffff-no-rj",
            "width": 240
           }
          },
          "title": "Jack Ross"
         },
         "statistics": {
          "hiddenSubscriberCount": false,
          "subscriberCount": "1310",
          "videoCount": "25",
          "viewCount": "68239"
         }
        },
        {
         "contentDetails": {
          "relatedPlaylists": {
           "likes": "",
           "uploads": "UU4MZ7zUHb5eAxU75Dc_nqdQ"
          }
         },
         "etag": "U_gSFRzIBSkrQg07eJDzx6W1eIo",
         "id": "UC4MZ7zUHb5eAxU75Dc_nqdQ",
         "kind": "youtube#channel",
         "snippet": {
          "country": "US",
          "customUrl": "@tiffintech",
          "description": "Tiffany is a software developer who started her career in the modeling & fashion industry.  Tech can be very overwhelming for many at first as she experienced first hand entering into the industry. Tiff saw a gap to help ease people into what tech has to offer, to improve their day to day lives. She brings value and trust to her audience by maintaining authenticity through sharing her life through the lens. Her real and candid approach is why she has a very strong engagement with her community. Through sharing her day to day life, she has built a loyal audience that engages with her in tech, fashion, business and many other areas of everyday lifestyle.\n//Tiff\n\nCome say hi on my other social channel: https://www.instagram.com/tiffintech",
          "localized": {
           "description": "Tiffany is a software developer who started her career in the modeling & fashion industry.  Tech can be very overwhelming for many at first as she experienced first hand entering into the industry. Tiff saw a gap to help ease people into what tech has to offer, to improve their day to day lives. She brings value and trust to her audience by maintaining authenticity through sharing her life through the lens. Her real and candid approach is why she has a very strong engagement with her community. Through sharing her day to day life, she has built a loyal audience that engages with her in tech, fashion, business and many other areas of everyday lifestyle.\n//Tiff\n\nCome say hi on my other social channel: https://www.instagram.com/tiffintech",
           "title": "Tiff In Tech"
          },
          "publishedAt": "2011-03-13T19:44:23Z",
          "thumbnails": {
           "default": {
            "height": 88,
            "url": "https://yt3.ggpht.com/MkbhHI1tJM0t0MtedzzDxa8OWhPftvHfmFPN-VwYcvrgXq4iSXYyI4ZLZMOOST6IhhIZsjHUSKk=s88-c-k-c0x00ffffff-no-rj",
            "width": 88
           },
           "high": {
            "height": 800,
            "url": "https://yt3.ggpht.com/MkbhHI1tJM0t0MtedzzDxa8OWhPftvHfmFPN-VwYcvrgXq4iSXYyI4ZLZMOOST6IhhIZsjHUSKk=s800-c-k-c0x00ffffff-no-rj",
            "width": 800
           },
           "medium": {
            "height": 240,
            "url": "https://yt3.ggpht.com/MkbhHI1tJM0t0MtedzzDxa8OWhPftvHfmFPN-VwYcvrgXq4iSXYyI4ZLZMOOST6IhhIZsjHUSKk=s240-c-k-c0x00ffffff-no-rj",
            "width": 240
           }
          },
          "title": "Tiff In Tech"
         },
         "statistics": {
          "hiddenSubscriberCount": false,
          "subscriberCount": "319000",
          "videoCount": "555",
          "viewCount": "16739671"
         }
        },
        {
         "contentDetails": {
          "relatedPlaylists": {
           "likes": "",
           "uploads": "UUo2avEF03abQmCXdU_eUGkg"
          }
         },
         "etag": "N_7MKLzqzSc0Jqb9x_HgVlsf62w",
         "id": "UCo2avEF03abQmCXdU_eUGkg",
         "kind": "youtube#channel",
         "snippet": {
          "country": "US",
          "customUrl": "@degreefree",
          "description": "Aloha and welcome to Degree Free w/Ryan and Hannah!\n\nWe share the fundamentals we've discovered and the mistakes we've made while self educating, getting work, building businesses, and making money. \n\nWe'll tell you how to make it happen, no degree needed!\n\n",
          "localized": {
           "description": "Aloha and welcome to Degree Free w/Ryan and Hannah!\n\nWe share the fundamentals we've discovered and the mistakes we've made while self educating, getting work, building businesses, and making money. \n\nWe'll tell you how to make it happen, no degree needed!\n\n",
           "title": "Degree Free"
          },
          "publishedAt": "2020-12-29T22:08:59.843549Z",
          "thumbnails": {
           "default": {
            "height": 88,
            "url": "https://yt3.ggpht.com/OFo44eOBS35jy9h_lXln_oFv0A4C8tTaXJbnfkIUS6AiiRr6BlozBqT6DZrspOFOnqa92MKSAg=s88-c-k-c0x00ffffff-no-rj",
            "width": 88
           },
           "high": {
            "height": 800,
            "url": "https://yt3.ggpht.com/OFo44eOBS35jy9h_lXln_oFv0A4C8tTaXJbnfkIUS6AiiRr6BlozBqT6DZrspOFOnqa92MKSAg=s800-c-k-c0x00ffffff-no-rj",
            "width": 800
           },
           "medium": {
            "height": 240,
            "url": "https://yt3.ggpht.com/OFo44eOBS35jy9h_lXln_oFv0A4C8tTaXJbnfkIUS6AiiRr6BlozBqT6DZrspOFOnqa92MKSAg=s240-c-k-c0x00ffffff-no-rj",
            "width": 240
           }
          },
          "title": "Degree Free"
         },
         "statistics": {
          "hiddenSubscriberCount": false,
          "subscriberCount": "6340",
          "videoCount": "1243",
          "viewCount": "1147778"
         }
        },
        {
         "contentDetails": {
          "relatedPlaylists": {
           "likes": "",
           "uploads": "UUEHFikgnRuLd1HYKTLrae9Q"
          }
         },
         "etag": "z5jhfWK8JnJVo5_fIRU99igrQKs",
         "id": "UCEHFikgnRuLd1HYKTLrae9Q",
         "kind": "youtube#channel",
         "snippet": {
          "country": "US",
          "customUrl": "@alifeengineered",
          "description": "My name is Steve Huynh, I am a YouTuber, a Principal Engineer, a productivity junkie. I believe that if we take a structured and engineering approach to our lives and careers we can achieve anything we want. My mission is to help knowledge workers develop a growth mindset so they can live the lives they want, whether that’s getting promoted as quickly as possible, starting a business/startup, or finding financial independence.\n\nI do this by creating YouTube videos, my weekly email newsletter, and connecting people with a community of like-minded individuals on my Discord, where I distill the lessons I've learned from nearly 20 years in the tech industry.\n",
          "localized": {
           "description": "My name is Steve Huynh, I am a YouTuber, a Principal Engineer, a productivity junkie. I believe that if we take a structured and engineering approach to our lives and careers we can achieve anything we want. My mission is to help knowledge workers develop a growth mindset so they can live the lives they want, whether that’s getting promoted as quickly as possible, starting a business/startup, or finding financial independence.\n\nI do this by creating YouTube videos, my weekly email newsletter, and connecting people with a community of like-minded individuals on my Discord, where I distill the lessons I've learned from nearly 20 years in the tech industry.\n",
           "title": "A Life Engineered"
          },
          "publishedAt": "2021-01-22T23:38:51.490887Z",
          "thumbnails": {
           "default": {
            "height": 88,
            "url": "https://yt3.ggpht.com/UvdWU0jg21It27_ralQRa_Jg7VRQGTcmiG_uYukoORqdGigrQZrIqiD9xZyZKDL90Lavy67olA=s88-c-k-c0x00ffffff-no-rj",
            "width": 88
           },
           "high": {
            "height": 800,
            "url": "https://yt3.ggpht.com/UvdWU0jg21It27_ralQRa_Jg7VRQGTcmiG_uYukoORqdGigrQZrIqiD9xZyZKDL90Lavy67olA=s800-c-k-c0x00ffffff-no-rj",
            "width": 800
           },
           "medium": {
            "height": 240,
            "url": "https://yt3.ggpht.com/UvdWU0jg21It27_ralQRa_Jg7VRQGTcmiG_uYukoORqdGigrQZrIqiD9xZyZKDL90Lavy67olA=s240-c-k-c0x00ffffff-no-rj",
            "width": 240
           }
          },
          "title": "A Life Engineered"
         },
         "statistics": {
          "hiddenSubscriberCount": false,
          "subscriberCount": "123000",
          "videoCount": "32",
          "viewCount": "3812462"
         }
        },
        {
         "contentDetails": {
          "relatedPlaylists": {
           "likes": "",
           "uploads": "UUggXQcy57bwxUeZI1LB8DCw"
          }
         },
         "etag": "XjRY8zW_59HtHudzZkfHIwtsatw",
         "id": "UCggXQcy57bwxUeZI1LB8DCw",
         "kind": "youtube#channel",
         "snippet": {
          "country": "US",
          "customUrl": "@techisthenewblack",
          "defaultLanguage": "en",
          "description": "Tech Is The New Black is an educational and entertainment platform where we discuss everything that's trending in and around  technology. \n\nYou get a front seat to exclusive conversations with tech recruiters, hiring managers, startup company owners, inventors, leaders and more - all showing you how to break into tech, scale to big money in this industry and show you how to launch your own billion dollar tech company!\n\nWe are here to show those who would be considered the black sheep, why tech isn't just something you should just know about, but it's an industry that either you should work in or create your business from. \n\nNew episodes drop every Monday!\n",
          "localized": {
           "description": "Tech Is The New Black is an educational and entertainment platform where we discuss everything that's trending in and around  technology. \n\nYou get a front seat to exclusive conversations with tech recruiters, hiring managers, startup company owners, inventors, leaders and more - all showing you how to break into tech, scale to big money in this industry and show you how to launch your own billion dollar tech company!\n\nWe are here to show those who would be considered the black sheep, why tech isn't just something you should just know about, but it's an industry that either you should work in or create your business from. \n\nNew episodes drop every Monday!\n",
           "title": "Tech Is The New Black"
          },
          "publishedAt": "2010-03-09T19:56:56Z",
          "thumbnails": {
           "default": {
            "height": 88,
            "url": "https://yt3.ggpht.com/GkM7HjMU2tqDn7Kx33DLTEQotydv0PhcgDxPxcZbZ4QKE5TJT0diQ276_E9R_WdUMGz2e92VMw=s88-c-k-c0x00ffffff-no-rj",
            "width": 88
           },
           "high": {
            "height": 800,
            "url": "https://yt3.ggpht.com/GkM7HjMU2tqDn7Kx33DLTEQotydv0PhcgDxPxcZbZ4QKE5TJT0diQ276_E9R_WdUMGz2e92VMw=s800-c-k-c0x00ffffff-no-rj",
            "width": 800
           },
           "medium": {
            "height": 240,
            "url": "https://yt3.ggpht.com/GkM7HjMU2tqDn7Kx33DLTEQotydv0PhcgDxPxcZbZ4QKE5TJT0diQ276_E9R_WdUMGz2e92VMw=s240-c-k-c0x00ffffff-no-rj",
            "width": 240
           }
          },
          "title": "Tech Is The New Black"
         },
         "statistics": {
          "hiddenSubscriberCount": false,
          "subscriberCount": "114000",
          "videoCount": "858",
          "viewCount": "7257314"
         }
        },
        {
         "contentDetails": {
          "relatedPlaylists": {
           "likes": "",
           "uploads": "UU2fYCeDDpXrQVjSPdJY4lyA"
          }
         },
         "etag": "kQLpd-Ut2MDqlw5BmJt0ythDcow",
         "id": "UC2fYCeDDpXrQVjSPdJY4lyA",
         "kind": "youtube#channel",
         "snippet": {
          "country": "US",
          "customUrl": "@jobskillshare",
          "description": "JSS provides an opportunity to those who want to learn new IT job skills, improve on their current tech skills, and last but not least share their valued technical skills. It's a dream come true for any job seeker eager to acquire training from individuals possessing skills mandatory for the desired job",
          "localized": {
           "description": "JSS provides an opportunity to those who want to learn new IT job skills, improve on their current tech skills, and last but not least share their valued technical skills. It's a dream come true for any job seeker eager to acquire training from individuals possessing skills mandatory for the desired job",
           "title": "Jobskillshare Community"
          },
          "publishedAt": "2010-02-27T03:41:35Z",
          "thumbnails": {
           "default": {
            "height": 88,
            "url": "https://yt3.ggpht.com/UERjnSrVS1WljP4GXFxPPfD_wkjwZ47JOMS8bCvl5XbfRZAo5aerJznKLwD9DsuYcCo1ifQ5Ng=s88-c-k-c0x00ffffff-no-rj",
            "width": 88
           },
           "high": {
            "height": 800,
            "url": "https://yt3.ggpht.com/UERjnSrVS1WljP4GXFxPPfD_wkjwZ47JOMS8bCvl5XbfRZAo5aerJznKLwD9DsuYcCo1ifQ5Ng=s800-c-k-c0x00ffffff-no-rj",
            "width": 800
           },
           "medium": {
            "height": 240,
            "url": "https://yt3.ggpht.com/UERjnSrVS1WljP4GXFxPPfD_wkjwZ47JOMS8bCvl5XbfRZAo5aerJznKLwD9DsuYcCo1ifQ5Ng=s240-c-k-c0x00ffffff-no-rj",
            "width": 240
           }
          },
          "title": "Jobskillshare Community"
         },
         "statistics": {
          "hiddenSubscriberCount": false,
          "subscriberCount": "112000",
          "videoCount": "1531",
          "viewCount": "13288265"
         }
        },
        {
         "contentDetails": {
          "relatedPlaylists": {
           "likes": "",
           "uploads": "UUw_LFe2pS8x3NyipGNJgeEA"
          }
         },
         "etag": "O1neN4Iyk8FCCKhY1zno8-juMv0",
         "id": "UCw_LFe2pS8x3NyipGNJgeEA",
         "kind": "youtube#channel",
         "snippet": {
          "country": "US",
          "customUrl": "@learnwithlukas",
          "defaultLanguage": "en",
          "description": "Hey, I'm Lukas. I share what I learn in data science/analytics.\n\nThis channel is for people looking to become data analysts and start a career in data.\n",
          "localized": {
           "description": "Hey, I'm Lukas. I share what I learn in data science/analytics.\n\nThis channel is for people looking to become data analysts and start a career in data.\n",
           "title": "Learn with Lukas"
          },
          "publishedAt": "2020-11-26T17:38:58.614177Z",
          "thumbnails": {
           "default": {
            "height": 88,
            "url": "https://yt3.ggpht.com/Q0fNF5Z_WxGTxdYtFIGAWCsfCNS-hVRXkFZkbvZH2OGFgAwGtHDyiP3Pe_zgffLOZ50EtAzI=s88-c-k-c0x00ffffff-no-rj",
            "width": 88
           },
           "high": {
            "height": 800,
            "url": "https://yt3.ggpht.com/Q0fNF5Z_WxGTxdYtFIGAWCsfCNS-hVRXkFZkbvZH2OGFgAwGtHDyiP3Pe_zgffLOZ50EtAzI=s800-c-k-c0x00ffffff-no-rj",
            "width": 800
           },
           "medium": {
            "height": 240,
            "url": "https://yt3.ggpht.com/Q0fNF5Z_WxGTxdYtFIGAWCsfCNS-hVRXkFZkbvZH2OGFgAwGtHDyiP3Pe_zgffLOZ50EtAzI=s240-c-k-c0x00ffffff-no-rj",
            "width": 240
           }
          },
          "title": "Learn with Lukas"
         },
         "statistics": {
          "hiddenSubscriberCount": false,
          "subscriberCount": "23300",
          "videoCount": "44",
          "viewCount": "1158264"
         }
        },
        {
         "contentDetails": {
          "relatedPlaylists": {
           "likes": "",
           "uploads": "UUteRPiisgIoHtMgqHegpWAQ"
          }
         },
         "etag": "KrN02zWV0NNb0OnZ3R8OHBQ-B6o",
         "id": "UCteRPiisgIoHtMgqHegpWAQ",
         "kind": "youtube#channel",
         "snippet": {
          "country": "US",
          "customUrl": "@sundaskhalid",
          "description": "Hi, I am Sundas. On this channel, I talk about data science and tech to help you succeed in the field. \n\nI am a self-taught data scientist from non-tech background, currently at a FAANG company. I have been in the industry for over 10 years across two big tech companies as a high-performer (top 1%).\n\nData Science is the hottest job family but there are many unknowns. Over the years,  I have built knowledge on how to lead a successful career and love sharing it on this channel. I share tips for people interested in entering data science with the goal to democratize knowledge and make complicated topics digestible for everyone. \n\nAll opinions on this channel are my own and do not reflect the opinions of the company I work for or have ever worked for in the past.\n",
          "localized": {
           "description": "Hi, I am Sundas. On this channel, I talk about data science and tech to help you succeed in the field. \n\nI am a self-taught data scientist from non-tech background, currently at a FAANG company. I have been in the industry for over 10 years across two big tech companies as a high-performer (top 1%).\n\nData Science is the hottest job family but there are many unknowns. Over the years,  I have built knowledge on how to lead a successful career and love sharing it on this channel. I share tips for people interested in entering data science with the goal to democratize knowledge and make complicated topics digestible for everyone. \n\nAll opinions on this channel are my own and do not reflect the opinions of the company I work for or have ever worked for in the past.\n",
           "title": "Sundas Khalid"
          },
          "publishedAt": "2014-04-19T02:27:06Z",
          "thumbnails": {
           "default": {
            "height": 88,
            "url": "https://yt3.ggpht.com/ytc/APkrFKYgnPvMG5-invdUKcaZNoGnjtrjSxFM8p_l6eWMzn8=s88-c-k-c0x00ffffff-no-rj",
            "width": 88
           },
           "high": {
            "height": 800,
            "url": "https://yt3.ggpht.com/ytc/APkrFKYgnPvMG5-invdUKcaZNoGnjtrjSxFM8p_l6eWMzn8=s800-c-k-c0x00ffffff-no-rj",
            "width": 800
           },
           "medium": {
            "height": 240,
            "url": "https://yt3.ggpht.com/ytc/APkrFKYgnPvMG5-invdUKcaZNoGnjtrjSxFM8p_l6eWMzn8=s240-c-k-c0x00ffffff-no-rj",
            "width": 240
           }
          },
          "title": "Sundas Khalid"
         },
         "statistics": {
          "hiddenSubscriberCount": false,
          "subscriberCount": "177000",
          "videoCount": "111",
          "viewCount": "8671199"
         }
        },
        {
         "contentDetails": {
          "relatedPlaylists": {
           "likes": "",
           "uploads": "UUlLXKYEEM8OBBx85DOa6-cg"
          }
         },
         "etag": "yKNTzgF1Y1VCvbVQ4Iabo_-Tvik",
         "id": "UClLXKYEEM8OBBx85DOa6-cg",
         "kind": "youtube#channel",
         "snippet": {
          "country": "US",
          "customUrl": "@devslopes",
          "description": "We teach people how to build cool sh*t",
          "localized": {
           "description": "We teach people how to build cool sh*t",
           "title": "Devslopes"
          },
          "publishedAt": "2015-08-18T06:05:22Z",
          "thumbnails": {
           "default": {
            "height": 88,
            "url": "https://yt3.ggpht.com/ytc/APkrFKb9C3tH3-oPLS0gcyRXAJZpTSvuxtVznsRtqzEUHA=s88-c-k-c0x00ffffff-no-rj",
            "width": 88
           },
           "high": {
            "height": 800,
            "url": "https://yt3.ggpht.com/ytc/APkrFKb9C3tH3-oPLS0gcyRXAJZpTSvuxtVznsRtqzEUHA=s800-c-k-c0x00ffffff-no-rj",
            "width": 800
           },
           "medium": {
            "height": 240,
            "url": "https://yt3.ggpht.com/ytc/APkrFKb9C3tH3-oPLS0gcyRXAJZpTSvuxtVznsRtqzEUHA=s240-c-k-c0x00ffffff-no-rj",
            "width": 240
           }
          },
          "title": "Devslopes"
         },
         "statistics": {
          "hiddenSubscriberCount": false,
          "subscriberCount": "214000",
          "videoCount": "220",
          "viewCount": "17854946"
         }
        },
        {
         "contentDetails": {
          "relatedPlaylists": {
           "likes": "",
           "uploads": "UUv3N90AXQxUtaSnKSqOoOpA"
          }
         },
         "etag": "sgkyh1X-P91PtavvyjsAo2q7TtY",
         "id": "UCv3N90AXQxUtaSnKSqOoOpA",
         "kind": "youtube#channel",
         "snippet": {
          "country": "US",
          "customUrl": "@black-heights",
          "description": "Welcome to the Black Heights Channel!  Our videos are educational.  We discuss careers, degrees, real estate investing, stock investing, leadership skills, provide relationship advice and so much more.  We really aim to provide you everything you need to be a better person.  \n\nWe upload 2 times a week (Mondays and Saturdays) at 11:45 am central time.\n\nI am also a career coach.  I help entry-level employees fast track their careers by developing their leadership skills. To book a session click the link below:\nhttps://app.acuityscheduling.com/schedule.php?owner=21534511\n\nIf you are interested in the joining our patreon to get exclusive access to me and the BH community of MIS/ITM professionals use the link below:\nhttps://www.patreon.com/blackheights\n\nIf for any reason you need to contact us, send us an email at: support@blkheights.com.\n\nWe hope you enjoy your stay on our channel.\n\nSubscribe to our channel & stay tuned!\n\nWWW.BLKHEIGHTS.COM",
          "localized": {
           "description": "Welcome to the Black Heights Channel!  Our videos are educational.  We discuss careers, degrees, real estate investing, stock investing, leadership skills, provide relationship advice and so much more.  We really aim to provide you everything you need to be a better person.  \n\nWe upload 2 times a week (Mondays and Saturdays) at 11:45 am central time.\n\nI am also a career coach.  I help entry-level employees fast track their careers by developing their leadership skills. To book a session click the link below:\nhttps://app.acuityscheduling.com/schedule.php?owner=21534511\n\nIf you are interested in the joining our patreon to get exclusive access to me and the BH community of MIS/ITM professionals use the link below:\nhttps://www.patreon.com/blackheights\n\nIf for any reason you need to contact us, send us an email at: support@blkheights.com.\n\nWe hope you enjoy your stay on our channel.\n\nSubscribe to our channel & stay tuned!\n\nWWW.BLKHEIGHTS.COM",
           "title": "Black Heights - Advancing Your Career"
          },
          "publishedAt": "2018-09-26T04:12:36Z",
          "thumbnails": {
           "default": {
            "height": 88,
            "url": "https://yt3.ggpht.com/pfIhqBs612Yks3ZQEDZgyo_Q1ldOQJvHv3VEZWgnBPVPXQZ15XqU3MzEdI5ayqtP8phTgVl0PA=s88-c-k-c0x00ffffff-no-rj",
            "width": 88
           },
           "high": {
            "height": 800,
            "url": "https://yt3.ggpht.com/pfIhqBs612Yks3ZQEDZgyo_Q1ldOQJvHv3VEZWgnBPVPXQZ15XqU3MzEdI5ayqtP8phTgVl0PA=s800-c-k-c0x00ffffff-no-rj",
            "width": 800
           },
           "medium": {
            "height": 240,
            "url": "https://yt3.ggpht.com/pfIhqBs612Yks3ZQEDZgyo_Q1ldOQJvHv3VEZWgnBPVPXQZ15XqU3MzEdI5ayqtP8phTgVl0PA=s240-c-k-c0x00ffffff-no-rj",
            "width": 240
           }
          },
          "title": "Black Heights - Advancing Your Career"
         },
         "statistics": {
          "hiddenSubscriberCount": false,
          "subscriberCount": "28100",
          "videoCount": "898",
          "viewCount": "1449732"
         }
        },
        {
         "contentDetails": {
          "relatedPlaylists": {
           "likes": "",
           "uploads": "UUu1xbgCV5o48h_BYCQD7KJg"
          }
         },
         "etag": "MBJIsNFYVGvF6YT0EaO7tdJj164",
         "id": "UCu1xbgCV5o48h_BYCQD7KJg",
         "kind": "youtube#channel",
         "snippet": {
          "country": "US",
          "customUrl": "@realchrissean",
          "description": "",
          "localized": {
           "description": "",
           "title": "Chris Sean"
          },
          "publishedAt": "2013-02-17T17:31:43Z",
          "thumbnails": {
           "default": {
            "height": 88,
            "url": "https://yt3.ggpht.com/UWGbeD_4uD67sbk0tpNRGyuL6H2rWx_36K2joTrKGdlq1TEtSUAXWLDRtCKsrg59uNnXbuviQw=s88-c-k-c0x00ffffff-no-rj",
            "width": 88
           },
           "high": {
            "height": 800,
            "url": "https://yt3.ggpht.com/UWGbeD_4uD67sbk0tpNRGyuL6H2rWx_36K2joTrKGdlq1TEtSUAXWLDRtCKsrg59uNnXbuviQw=s800-c-k-c0x00ffffff-no-rj",
            "width": 800
           },
           "medium": {
            "height": 240,
            "url": "https://yt3.ggpht.com/UWGbeD_4uD67sbk0tpNRGyuL6H2rWx_36K2joTrKGdlq1TEtSUAXWLDRtCKsrg59uNnXbuviQw=s240-c-k-c0x00ffffff-no-rj",
            "width": 240
           }
          },
          "title": "Chris Sean"
         },
         "statistics": {
          "hiddenSubscriberCount": false,
          "subscriberCount": "149000",
          "videoCount": "383",
          "viewCount": "10466737"
         }
        }
       ],
       "kind": "youtube#channelListResponse",
       "pageInfo": {
        "resultsPerPage": 5,
        "totalResults": 50
       }
      },
      "text/plain": [
       "<IPython.core.display.JSON object>"
      ]
     },
     "execution_count": 5,
     "metadata": {
      "application/json": {
       "expanded": false,
       "root": "root"
      }
     },
     "output_type": "execute_result"
    }
   ],
   "source": [
    "# channel request (getting all upload playlist ids from 50 selected tech career focused channels)\n",
    "\n",
    "request = youtube.channels().list(\n",
    "    part=\"snippet,contentDetails,statistics\",\n",
    "    id=','.join(channel_ids)\n",
    ")\n",
    "response = request.execute()\n",
    "JSON(response)"
   ]
  },
  {
   "cell_type": "code",
   "execution_count": 8,
   "id": "3779bd0e-991d-4c10-81a4-ed40fcd674e5",
   "metadata": {
    "tags": []
   },
   "outputs": [],
   "source": [
    "# get upload playlists\n",
    "\n",
    "upload_ids = [item[\"contentDetails\"][\"relatedPlaylists\"][\"uploads\"] for item in response[\"items\"]]"
   ]
  },
  {
   "cell_type": "code",
   "execution_count": 10,
   "id": "aadd8ec3-c0ce-4139-b6df-df7bbd60b4f1",
   "metadata": {
    "tags": []
   },
   "outputs": [],
   "source": [
    "video_ids = []\n",
    "temp = []"
   ]
  },
  {
   "cell_type": "code",
   "execution_count": 12,
   "id": "1d45f956-99b9-4d22-bf71-a41e867d934c",
   "metadata": {
    "tags": []
   },
   "outputs": [
    {
     "name": "stdout",
     "output_type": "stream",
     "text": [
      "20\n",
      "40\n",
      "20\n",
      "20\n",
      "20\n",
      "20\n",
      "40\n",
      "60\n",
      "80\n",
      "100\n",
      "120\n",
      "20\n",
      "20\n"
     ]
    }
   ],
   "source": [
    "for upload_playlist_id in upload_ids:\n",
    "    count = 0\n",
    "    #initial request\n",
    "    request = youtube.playlistItems().list(\n",
    "    part=['snippet'], \n",
    "    maxResults=50, \n",
    "    playlistId=upload_playlist_id)  #id=','.join(upload_ids))\n",
    "    response = request.execute()\n",
    "\n",
    "    #try to get all of the video id's from the response\n",
    "    try:\n",
    "        temp = [video[\"snippet\"][\"resourceId\"][\"videoId\"] for video in response[\"items\"]]\n",
    "        video_ids = video_ids + temp\n",
    "    except Exception as e:\n",
    "        print(e)\n",
    "\n",
    "    #increment page token\n",
    "    next_page_token = response.get('nextPageToken')\n",
    "    #print(next_page_token)\n",
    "    #next_page_token\n",
    "    \n",
    "    # https://stackoverflow.com/questions/30653208/retrieve-video-ids-contained-in-a-playlist-youtube-api-v3\n",
    "    # while there are still pages in the response to parse\n",
    "    while next_page_token is not None: #and len(video_ids) < 100:\n",
    "        count += 1\n",
    "        #print(next_page_token)\n",
    "        #make the same request, just get the next page of uploads (using nextPageToken which stores the token of the next page of search results\n",
    "        request = youtube.playlistItems().list(\n",
    "        part=['snippet'], \n",
    "        maxResults=50, \n",
    "        playlistId=upload_playlist_id,\n",
    "        #id=','.join(upload_ids_test),\n",
    "        pageToken = next_page_token)#id=','.join(upload_ids))\n",
    "\n",
    "        response = request.execute()\n",
    "        #make a temporary list of video ids on this page\n",
    "        try:\n",
    "            temp = [video[\"snippet\"][\"resourceId\"][\"videoId\"] for video in response[\"items\"]]\n",
    "        except Exception as e:\n",
    "            print(e)\n",
    "\n",
    "        # add to video id list\n",
    "        video_ids = video_ids + temp\n",
    "\n",
    "        #increment page token\n",
    "        next_page_token = response.get('nextPageToken')\n",
    "        if count % 20 == 0:\n",
    "            print(count)\n",
    "        #print(next_page_token)"
   ]
  },
  {
   "cell_type": "code",
   "execution_count": 13,
   "id": "cf7ed72b-2d70-423a-b109-abe2149e2326",
   "metadata": {
    "tags": []
   },
   "outputs": [
    {
     "data": {
      "text/plain": [
       "35299"
      ]
     },
     "execution_count": 13,
     "metadata": {},
     "output_type": "execute_result"
    }
   ],
   "source": [
    "len(video_ids)"
   ]
  },
  {
   "cell_type": "code",
   "execution_count": 14,
   "id": "e1ace0a2-8dd0-4f7f-95cb-a4b2a3e4ee94",
   "metadata": {
    "tags": []
   },
   "outputs": [],
   "source": [
    "def concatenate_df(response_json, output_df):    \n",
    "    response_breakdown = {\"snippet\": [\"channelTitle\", \"publishedAt\", \"channelId\", \"title\", \"categoryId\", \"description\", \"tags\"], \"contentDetails\" : [\"duration\", \"dimension\", \"definition\", \"caption\", \"licensedContent\", \"projection\"], \"statistics\": [\"viewCount\", \"likeCount\", \"favoriteCount\", \"commentCount\"]}\n",
    "    \n",
    "    for video in response_json:\n",
    "\n",
    "        row_to_add = {}\n",
    "        \n",
    "        #video id, if this isnt there we definitely need to just skip to the next, other parameters can be null\n",
    "        try:\n",
    "            row_to_add[\"id\"] = video[\"id\"]\n",
    "        except KeyError:\n",
    "            continue\n",
    "        \n",
    "        #for each category\n",
    "        for category, category_list in response_breakdown.items():\n",
    "            \n",
    "            #for each feature\n",
    "            for column_name in category_list:\n",
    "                try:\n",
    "                    row_to_add[column_name] = video[category][column_name]\n",
    "                except KeyError:\n",
    "                    row_to_add[column_name] = None\n",
    "        \n",
    "        row_to_add[\"Tag Count\"] = len(row_to_add[\"tags\"]) if row_to_add[\"tags\"] != None else None\n",
    "        row_to_add[\"Description Length (characters)\"] = len(row_to_add[\"description\"]) if row_to_add[\"description\"] != None else None\n",
    "        row_to_add[\"Description Length (words)\"] = len(video[\"snippet\"][\"description\"].split(\" \")) if row_to_add[\"description\"] != None else None\n",
    "  \n",
    "        output_df = pd.concat( [ output_df, pd.DataFrame.from_records([row_to_add]) ], ignore_index=True )\n",
    "    return output_df"
   ]
  },
  {
   "cell_type": "code",
   "execution_count": 15,
   "id": "51105c47-4fd9-4e3a-a734-ec21087248c5",
   "metadata": {
    "tags": []
   },
   "outputs": [],
   "source": [
    "final_df = pd.DataFrame()"
   ]
  },
  {
   "cell_type": "code",
   "execution_count": 16,
   "id": "4e547975-1a9e-482c-b353-1d1be0f9dd78",
   "metadata": {
    "tags": []
   },
   "outputs": [],
   "source": [
    "#https://blog.enterprisedna.co/how-to-write-a-list-to-csv-in-python/\n",
    "#save video id's to file just in case\n",
    "with open('video_ids.csv', 'w', newline='') as file:\n",
    "    # Step 4: Using csv.writer to write the list to the CSV file\n",
    "    writer = csv.writer(file)\n",
    "    writer.writerow(video_ids) # Use writerow for single list"
   ]
  },
  {
   "cell_type": "code",
   "execution_count": 17,
   "id": "ebca10b3-4ae3-40c4-a0b8-bba9567a8a5e",
   "metadata": {
    "tags": []
   },
   "outputs": [
    {
     "data": {
      "text/plain": [
       "'2ruoagytC7w'"
      ]
     },
     "execution_count": 17,
     "metadata": {},
     "output_type": "execute_result"
    }
   ],
   "source": [
    "video_ids[0]"
   ]
  },
  {
   "cell_type": "code",
   "execution_count": 18,
   "id": "8f8ec47a-f3e9-4ec9-a927-a61aff06f6b2",
   "metadata": {
    "tags": []
   },
   "outputs": [
    {
     "data": {
      "application/json": {
       "etag": "DNGkyKLQ1EA2cQTR4VDTsfPq-EM",
       "items": [
        {
         "contentDetails": {
          "caption": "false",
          "contentRating": {},
          "definition": "hd",
          "dimension": "2d",
          "duration": "PT7M22S",
          "licensedContent": true,
          "projection": "rectangular"
         },
         "etag": "d2DGxNubVEHYFDexVtLBHBSZeCY",
         "id": "2ruoagytC7w",
         "kind": "youtube#video",
         "snippet": {
          "categoryId": "28",
          "channelId": "UCN0u98NPeC0AW3pD6MbVeNg",
          "channelTitle": "PushToProd",
          "description": "Here’s the part 2 to my day in the life/ vlog! \nPart 1 https://youtu.be/gBH1LdSZyFU?si=xQtIUAIzJL2BDyLE\n\nFeel free to follow us on IG\nhttps://linktr.ee/pushtoprod",
          "liveBroadcastContent": "none",
          "localized": {
           "description": "Here’s the part 2 to my day in the life/ vlog! \nPart 1 https://youtu.be/gBH1LdSZyFU?si=xQtIUAIzJL2BDyLE\n\nFeel free to follow us on IG\nhttps://linktr.ee/pushtoprod",
           "title": "day in the life | Jr. Cybersecurity Engineer NO DEGREE | Part 2"
          },
          "publishedAt": "2023-09-14T21:00:02Z",
          "tags": [
           "devops",
           "azure",
           "aws",
           "cloud",
           "docker",
           "kubernetes",
           "engineer",
           "it",
           "information technology",
           "security",
           "scripting",
           "coding",
           "devops engineer",
           "ditl",
           "day in the life",
           "day in the life of a devops engineer",
           "day in the life of a cloud engineer",
           "cloud engineer",
           "pipelines",
           "sdlc",
           "ci/cd",
           "Computer Science",
           "software engineer",
           "day in the life of a developer",
           "software developer",
           "code",
           "vlog",
           "workday",
           "wfh",
           "day in the life of a stay at home dad",
           "FAANG",
           "sre",
           "platform engineer",
           "remote",
           "hacker",
           "python",
           "cyber security",
           "cissp",
           "tech"
          ],
          "thumbnails": {
           "default": {
            "height": 90,
            "url": "https://i.ytimg.com/vi/2ruoagytC7w/default.jpg",
            "width": 120
           },
           "high": {
            "height": 360,
            "url": "https://i.ytimg.com/vi/2ruoagytC7w/hqdefault.jpg",
            "width": 480
           },
           "maxres": {
            "height": 720,
            "url": "https://i.ytimg.com/vi/2ruoagytC7w/maxresdefault.jpg",
            "width": 1280
           },
           "medium": {
            "height": 180,
            "url": "https://i.ytimg.com/vi/2ruoagytC7w/mqdefault.jpg",
            "width": 320
           },
           "standard": {
            "height": 480,
            "url": "https://i.ytimg.com/vi/2ruoagytC7w/sddefault.jpg",
            "width": 640
           }
          },
          "title": "day in the life | Jr. Cybersecurity Engineer NO DEGREE | Part 2"
         },
         "statistics": {
          "commentCount": "22",
          "favoriteCount": "0",
          "likeCount": "61",
          "viewCount": "1032"
         }
        }
       ],
       "kind": "youtube#videoListResponse",
       "pageInfo": {
        "resultsPerPage": 1,
        "totalResults": 1
       }
      },
      "text/plain": [
       "<IPython.core.display.JSON object>"
      ]
     },
     "execution_count": 18,
     "metadata": {
      "application/json": {
       "expanded": false,
       "root": "root"
      }
     },
     "output_type": "execute_result"
    }
   ],
   "source": [
    "request = youtube.videos().list(\n",
    "    part=\"snippet,contentDetails,statistics\",\n",
    "    id='2ruoagytC7w'\n",
    "    )\n",
    "    \n",
    "response = request.execute()\n",
    "\n",
    "JSON(response)"
   ]
  },
  {
   "cell_type": "code",
   "execution_count": 21,
   "id": "d552eec4-bdd3-4d80-a3e3-d6a3892ee303",
   "metadata": {
    "tags": []
   },
   "outputs": [
    {
     "name": "stdout",
     "output_type": "stream",
     "text": [
      "0\n",
      "1000\n",
      "2000\n",
      "3000\n",
      "4000\n",
      "5000\n",
      "6000\n",
      "7000\n",
      "8000\n",
      "9000\n",
      "10000\n",
      "11000\n",
      "12000\n",
      "13000\n",
      "14000\n",
      "15000\n",
      "16000\n",
      "17000\n",
      "18000\n",
      "19000\n",
      "20000\n",
      "21000\n",
      "22000\n",
      "23000\n",
      "24000\n",
      "25000\n",
      "26000\n",
      "27000\n",
      "28000\n",
      "29000\n",
      "30000\n",
      "31000\n",
      "32000\n",
      "33000\n",
      "34000\n",
      "35000\n"
     ]
    },
    {
     "data": {
      "text/html": [
       "<div>\n",
       "<style scoped>\n",
       "    .dataframe tbody tr th:only-of-type {\n",
       "        vertical-align: middle;\n",
       "    }\n",
       "\n",
       "    .dataframe tbody tr th {\n",
       "        vertical-align: top;\n",
       "    }\n",
       "\n",
       "    .dataframe thead th {\n",
       "        text-align: right;\n",
       "    }\n",
       "</style>\n",
       "<table border=\"1\" class=\"dataframe\">\n",
       "  <thead>\n",
       "    <tr style=\"text-align: right;\">\n",
       "      <th></th>\n",
       "      <th>id</th>\n",
       "      <th>channelTitle</th>\n",
       "      <th>publishedAt</th>\n",
       "      <th>channelId</th>\n",
       "      <th>title</th>\n",
       "      <th>categoryId</th>\n",
       "      <th>description</th>\n",
       "      <th>tags</th>\n",
       "      <th>duration</th>\n",
       "      <th>dimension</th>\n",
       "      <th>...</th>\n",
       "      <th>caption</th>\n",
       "      <th>licensedContent</th>\n",
       "      <th>projection</th>\n",
       "      <th>viewCount</th>\n",
       "      <th>likeCount</th>\n",
       "      <th>favoriteCount</th>\n",
       "      <th>commentCount</th>\n",
       "      <th>Tag Count</th>\n",
       "      <th>Description Length (characters)</th>\n",
       "      <th>Description Length (words)</th>\n",
       "    </tr>\n",
       "  </thead>\n",
       "  <tbody>\n",
       "    <tr>\n",
       "      <th>0</th>\n",
       "      <td>2ruoagytC7w</td>\n",
       "      <td>PushToProd</td>\n",
       "      <td>2023-09-14T21:00:02Z</td>\n",
       "      <td>UCN0u98NPeC0AW3pD6MbVeNg</td>\n",
       "      <td>day in the life | Jr. Cybersecurity Engineer N...</td>\n",
       "      <td>28</td>\n",
       "      <td>Here’s the part 2 to my day in the life/ vlog!...</td>\n",
       "      <td>[devops, azure, aws, cloud, docker, kubernetes...</td>\n",
       "      <td>PT7M22S</td>\n",
       "      <td>2d</td>\n",
       "      <td>...</td>\n",
       "      <td>false</td>\n",
       "      <td>True</td>\n",
       "      <td>rectangular</td>\n",
       "      <td>1032</td>\n",
       "      <td>61</td>\n",
       "      <td>0</td>\n",
       "      <td>22</td>\n",
       "      <td>39</td>\n",
       "      <td>162</td>\n",
       "      <td>20</td>\n",
       "    </tr>\n",
       "    <tr>\n",
       "      <th>1</th>\n",
       "      <td>gBH1LdSZyFU</td>\n",
       "      <td>PushToProd</td>\n",
       "      <td>2023-09-04T22:27:11Z</td>\n",
       "      <td>UCN0u98NPeC0AW3pD6MbVeNg</td>\n",
       "      <td>day in the life | Jr. Cybersecurity Engineer N...</td>\n",
       "      <td>28</td>\n",
       "      <td>Hey Guys! \\n\\nHope you enjoy Part 1 of this da...</td>\n",
       "      <td>[devops, azure, aws, cloud, docker, kubernetes...</td>\n",
       "      <td>PT14M8S</td>\n",
       "      <td>2d</td>\n",
       "      <td>...</td>\n",
       "      <td>false</td>\n",
       "      <td>True</td>\n",
       "      <td>rectangular</td>\n",
       "      <td>2006</td>\n",
       "      <td>86</td>\n",
       "      <td>0</td>\n",
       "      <td>29</td>\n",
       "      <td>39</td>\n",
       "      <td>453</td>\n",
       "      <td>72</td>\n",
       "    </tr>\n",
       "    <tr>\n",
       "      <th>2</th>\n",
       "      <td>UhMJ0km4KLs</td>\n",
       "      <td>PushToProd</td>\n",
       "      <td>2023-08-15T21:30:03Z</td>\n",
       "      <td>UCN0u98NPeC0AW3pD6MbVeNg</td>\n",
       "      <td>Prodcast 6 | Is the end of tech near?</td>\n",
       "      <td>28</td>\n",
       "      <td>https://linktr.ee/pushtoprod\\n\\nHey push2prod ...</td>\n",
       "      <td>[podcast, devops, azure, aws, cloud, docker, k...</td>\n",
       "      <td>PT19M29S</td>\n",
       "      <td>2d</td>\n",
       "      <td>...</td>\n",
       "      <td>false</td>\n",
       "      <td>True</td>\n",
       "      <td>rectangular</td>\n",
       "      <td>793</td>\n",
       "      <td>55</td>\n",
       "      <td>0</td>\n",
       "      <td>23</td>\n",
       "      <td>39</td>\n",
       "      <td>456</td>\n",
       "      <td>75</td>\n",
       "    </tr>\n",
       "    <tr>\n",
       "      <th>3</th>\n",
       "      <td>qYfxI07QrKo</td>\n",
       "      <td>PushToProd</td>\n",
       "      <td>2023-06-13T20:45:01Z</td>\n",
       "      <td>UCN0u98NPeC0AW3pD6MbVeNg</td>\n",
       "      <td>Prodcast 5 | Biology Degree to Data Scientist</td>\n",
       "      <td>28</td>\n",
       "      <td>Hey push2prod squad. Welcome to back to the \"P...</td>\n",
       "      <td>[podcast, devops, azure, aws, cloud, docker, k...</td>\n",
       "      <td>PT25M9S</td>\n",
       "      <td>2d</td>\n",
       "      <td>...</td>\n",
       "      <td>false</td>\n",
       "      <td>True</td>\n",
       "      <td>rectangular</td>\n",
       "      <td>870</td>\n",
       "      <td>54</td>\n",
       "      <td>0</td>\n",
       "      <td>22</td>\n",
       "      <td>38</td>\n",
       "      <td>393</td>\n",
       "      <td>70</td>\n",
       "    </tr>\n",
       "    <tr>\n",
       "      <th>4</th>\n",
       "      <td>CKcYF3369LI</td>\n",
       "      <td>PushToProd</td>\n",
       "      <td>2023-06-07T14:00:10Z</td>\n",
       "      <td>UCN0u98NPeC0AW3pD6MbVeNg</td>\n",
       "      <td>From Suit &amp; Tie to Bonnets and Durags: Embraci...</td>\n",
       "      <td>28</td>\n",
       "      <td></td>\n",
       "      <td>[podcast, devops, azure, aws, cloud, docker, k...</td>\n",
       "      <td>PT56S</td>\n",
       "      <td>2d</td>\n",
       "      <td>...</td>\n",
       "      <td>false</td>\n",
       "      <td>True</td>\n",
       "      <td>rectangular</td>\n",
       "      <td>1679</td>\n",
       "      <td>36</td>\n",
       "      <td>0</td>\n",
       "      <td>3</td>\n",
       "      <td>38</td>\n",
       "      <td>0</td>\n",
       "      <td>1</td>\n",
       "    </tr>\n",
       "    <tr>\n",
       "      <th>...</th>\n",
       "      <td>...</td>\n",
       "      <td>...</td>\n",
       "      <td>...</td>\n",
       "      <td>...</td>\n",
       "      <td>...</td>\n",
       "      <td>...</td>\n",
       "      <td>...</td>\n",
       "      <td>...</td>\n",
       "      <td>...</td>\n",
       "      <td>...</td>\n",
       "      <td>...</td>\n",
       "      <td>...</td>\n",
       "      <td>...</td>\n",
       "      <td>...</td>\n",
       "      <td>...</td>\n",
       "      <td>...</td>\n",
       "      <td>...</td>\n",
       "      <td>...</td>\n",
       "      <td>...</td>\n",
       "      <td>...</td>\n",
       "      <td>...</td>\n",
       "    </tr>\n",
       "    <tr>\n",
       "      <th>35293</th>\n",
       "      <td>LMyFZVkJsLQ</td>\n",
       "      <td>Chris Sean</td>\n",
       "      <td>2017-01-14T05:43:23Z</td>\n",
       "      <td>UCu1xbgCV5o48h_BYCQD7KJg</td>\n",
       "      <td>All You NEED to BECOME A JUNIOR Web Developer ...</td>\n",
       "      <td>22</td>\n",
       "      <td>Learn to CODE in just a FEW months here: \\n- M...</td>\n",
       "      <td>[how to become a jr web developer, junior web ...</td>\n",
       "      <td>PT9M</td>\n",
       "      <td>2d</td>\n",
       "      <td>...</td>\n",
       "      <td>false</td>\n",
       "      <td>True</td>\n",
       "      <td>rectangular</td>\n",
       "      <td>192485</td>\n",
       "      <td>6246</td>\n",
       "      <td>0</td>\n",
       "      <td>504</td>\n",
       "      <td>18</td>\n",
       "      <td>336</td>\n",
       "      <td>36</td>\n",
       "    </tr>\n",
       "    <tr>\n",
       "      <th>35294</th>\n",
       "      <td>rG3HPCGB4hU</td>\n",
       "      <td>Chris Sean</td>\n",
       "      <td>2017-01-09T16:45:08Z</td>\n",
       "      <td>UCu1xbgCV5o48h_BYCQD7KJg</td>\n",
       "      <td>At The Office, Bad Day &amp; Knowing Your Value | ...</td>\n",
       "      <td>22</td>\n",
       "      <td>Learn to CODE in just a FEW months here: \\n- M...</td>\n",
       "      <td>[daily life of a developer, the day in the lif...</td>\n",
       "      <td>PT8M8S</td>\n",
       "      <td>2d</td>\n",
       "      <td>...</td>\n",
       "      <td>false</td>\n",
       "      <td>True</td>\n",
       "      <td>rectangular</td>\n",
       "      <td>6810</td>\n",
       "      <td>197</td>\n",
       "      <td>0</td>\n",
       "      <td>25</td>\n",
       "      <td>14</td>\n",
       "      <td>336</td>\n",
       "      <td>36</td>\n",
       "    </tr>\n",
       "    <tr>\n",
       "      <th>35295</th>\n",
       "      <td>HLgdtA-n_bo</td>\n",
       "      <td>Chris Sean</td>\n",
       "      <td>2016-12-30T00:38:56Z</td>\n",
       "      <td>UCu1xbgCV5o48h_BYCQD7KJg</td>\n",
       "      <td>What It Takes To Become A Web Developer in 2017</td>\n",
       "      <td>22</td>\n",
       "      <td>Learn to CODE in just a FEW months here: \\n- M...</td>\n",
       "      <td>[Learn code, html, php, css, jquery, javascrip...</td>\n",
       "      <td>PT7M35S</td>\n",
       "      <td>2d</td>\n",
       "      <td>...</td>\n",
       "      <td>false</td>\n",
       "      <td>True</td>\n",
       "      <td>rectangular</td>\n",
       "      <td>7054</td>\n",
       "      <td>247</td>\n",
       "      <td>0</td>\n",
       "      <td>43</td>\n",
       "      <td>20</td>\n",
       "      <td>336</td>\n",
       "      <td>36</td>\n",
       "    </tr>\n",
       "    <tr>\n",
       "      <th>35296</th>\n",
       "      <td>yAYJD4kKQ7c</td>\n",
       "      <td>Chris Sean</td>\n",
       "      <td>2016-12-22T17:12:12Z</td>\n",
       "      <td>UCu1xbgCV5o48h_BYCQD7KJg</td>\n",
       "      <td>Developers Q &amp; A  | Be Humble But Stay Competi...</td>\n",
       "      <td>22</td>\n",
       "      <td>Q &amp; A | Be Humble But Stay Competitive \\n\\nNot...</td>\n",
       "      <td>[developer q &amp; a, how to become a developer, l...</td>\n",
       "      <td>PT14M</td>\n",
       "      <td>2d</td>\n",
       "      <td>...</td>\n",
       "      <td>false</td>\n",
       "      <td>True</td>\n",
       "      <td>rectangular</td>\n",
       "      <td>3807</td>\n",
       "      <td>134</td>\n",
       "      <td>0</td>\n",
       "      <td>16</td>\n",
       "      <td>14</td>\n",
       "      <td>385</td>\n",
       "      <td>38</td>\n",
       "    </tr>\n",
       "    <tr>\n",
       "      <th>35297</th>\n",
       "      <td>6LzNLPwFwR0</td>\n",
       "      <td>Chris Sean</td>\n",
       "      <td>2016-12-12T06:13:25Z</td>\n",
       "      <td>UCu1xbgCV5o48h_BYCQD7KJg</td>\n",
       "      <td>How Can You Become A Web Developer</td>\n",
       "      <td>22</td>\n",
       "      <td>How Can You Become a Web Developer?\\n\\nTreeHou...</td>\n",
       "      <td>[How can you become a developer?, How to be a ...</td>\n",
       "      <td>PT5M42S</td>\n",
       "      <td>2d</td>\n",
       "      <td>...</td>\n",
       "      <td>false</td>\n",
       "      <td>False</td>\n",
       "      <td>rectangular</td>\n",
       "      <td>9819</td>\n",
       "      <td>337</td>\n",
       "      <td>0</td>\n",
       "      <td>35</td>\n",
       "      <td>20</td>\n",
       "      <td>744</td>\n",
       "      <td>54</td>\n",
       "    </tr>\n",
       "  </tbody>\n",
       "</table>\n",
       "<p>35298 rows × 21 columns</p>\n",
       "</div>"
      ],
      "text/plain": [
       "                id channelTitle           publishedAt  \\\n",
       "0      2ruoagytC7w   PushToProd  2023-09-14T21:00:02Z   \n",
       "1      gBH1LdSZyFU   PushToProd  2023-09-04T22:27:11Z   \n",
       "2      UhMJ0km4KLs   PushToProd  2023-08-15T21:30:03Z   \n",
       "3      qYfxI07QrKo   PushToProd  2023-06-13T20:45:01Z   \n",
       "4      CKcYF3369LI   PushToProd  2023-06-07T14:00:10Z   \n",
       "...            ...          ...                   ...   \n",
       "35293  LMyFZVkJsLQ   Chris Sean  2017-01-14T05:43:23Z   \n",
       "35294  rG3HPCGB4hU   Chris Sean  2017-01-09T16:45:08Z   \n",
       "35295  HLgdtA-n_bo   Chris Sean  2016-12-30T00:38:56Z   \n",
       "35296  yAYJD4kKQ7c   Chris Sean  2016-12-22T17:12:12Z   \n",
       "35297  6LzNLPwFwR0   Chris Sean  2016-12-12T06:13:25Z   \n",
       "\n",
       "                      channelId  \\\n",
       "0      UCN0u98NPeC0AW3pD6MbVeNg   \n",
       "1      UCN0u98NPeC0AW3pD6MbVeNg   \n",
       "2      UCN0u98NPeC0AW3pD6MbVeNg   \n",
       "3      UCN0u98NPeC0AW3pD6MbVeNg   \n",
       "4      UCN0u98NPeC0AW3pD6MbVeNg   \n",
       "...                         ...   \n",
       "35293  UCu1xbgCV5o48h_BYCQD7KJg   \n",
       "35294  UCu1xbgCV5o48h_BYCQD7KJg   \n",
       "35295  UCu1xbgCV5o48h_BYCQD7KJg   \n",
       "35296  UCu1xbgCV5o48h_BYCQD7KJg   \n",
       "35297  UCu1xbgCV5o48h_BYCQD7KJg   \n",
       "\n",
       "                                                   title categoryId  \\\n",
       "0      day in the life | Jr. Cybersecurity Engineer N...         28   \n",
       "1      day in the life | Jr. Cybersecurity Engineer N...         28   \n",
       "2                  Prodcast 6 | Is the end of tech near?         28   \n",
       "3          Prodcast 5 | Biology Degree to Data Scientist         28   \n",
       "4      From Suit & Tie to Bonnets and Durags: Embraci...         28   \n",
       "...                                                  ...        ...   \n",
       "35293  All You NEED to BECOME A JUNIOR Web Developer ...         22   \n",
       "35294  At The Office, Bad Day & Knowing Your Value | ...         22   \n",
       "35295    What It Takes To Become A Web Developer in 2017         22   \n",
       "35296  Developers Q & A  | Be Humble But Stay Competi...         22   \n",
       "35297                 How Can You Become A Web Developer         22   \n",
       "\n",
       "                                             description  \\\n",
       "0      Here’s the part 2 to my day in the life/ vlog!...   \n",
       "1      Hey Guys! \\n\\nHope you enjoy Part 1 of this da...   \n",
       "2      https://linktr.ee/pushtoprod\\n\\nHey push2prod ...   \n",
       "3      Hey push2prod squad. Welcome to back to the \"P...   \n",
       "4                                                          \n",
       "...                                                  ...   \n",
       "35293  Learn to CODE in just a FEW months here: \\n- M...   \n",
       "35294  Learn to CODE in just a FEW months here: \\n- M...   \n",
       "35295  Learn to CODE in just a FEW months here: \\n- M...   \n",
       "35296  Q & A | Be Humble But Stay Competitive \\n\\nNot...   \n",
       "35297  How Can You Become a Web Developer?\\n\\nTreeHou...   \n",
       "\n",
       "                                                    tags  duration dimension  \\\n",
       "0      [devops, azure, aws, cloud, docker, kubernetes...   PT7M22S        2d   \n",
       "1      [devops, azure, aws, cloud, docker, kubernetes...   PT14M8S        2d   \n",
       "2      [podcast, devops, azure, aws, cloud, docker, k...  PT19M29S        2d   \n",
       "3      [podcast, devops, azure, aws, cloud, docker, k...   PT25M9S        2d   \n",
       "4      [podcast, devops, azure, aws, cloud, docker, k...     PT56S        2d   \n",
       "...                                                  ...       ...       ...   \n",
       "35293  [how to become a jr web developer, junior web ...      PT9M        2d   \n",
       "35294  [daily life of a developer, the day in the lif...    PT8M8S        2d   \n",
       "35295  [Learn code, html, php, css, jquery, javascrip...   PT7M35S        2d   \n",
       "35296  [developer q & a, how to become a developer, l...     PT14M        2d   \n",
       "35297  [How can you become a developer?, How to be a ...   PT5M42S        2d   \n",
       "\n",
       "       ... caption licensedContent   projection viewCount likeCount  \\\n",
       "0      ...   false            True  rectangular      1032        61   \n",
       "1      ...   false            True  rectangular      2006        86   \n",
       "2      ...   false            True  rectangular       793        55   \n",
       "3      ...   false            True  rectangular       870        54   \n",
       "4      ...   false            True  rectangular      1679        36   \n",
       "...    ...     ...             ...          ...       ...       ...   \n",
       "35293  ...   false            True  rectangular    192485      6246   \n",
       "35294  ...   false            True  rectangular      6810       197   \n",
       "35295  ...   false            True  rectangular      7054       247   \n",
       "35296  ...   false            True  rectangular      3807       134   \n",
       "35297  ...   false           False  rectangular      9819       337   \n",
       "\n",
       "      favoriteCount commentCount Tag Count Description Length (characters)  \\\n",
       "0                 0           22        39                             162   \n",
       "1                 0           29        39                             453   \n",
       "2                 0           23        39                             456   \n",
       "3                 0           22        38                             393   \n",
       "4                 0            3        38                               0   \n",
       "...             ...          ...       ...                             ...   \n",
       "35293             0          504        18                             336   \n",
       "35294             0           25        14                             336   \n",
       "35295             0           43        20                             336   \n",
       "35296             0           16        14                             385   \n",
       "35297             0           35        20                             744   \n",
       "\n",
       "       Description Length (words)  \n",
       "0                              20  \n",
       "1                              72  \n",
       "2                              75  \n",
       "3                              70  \n",
       "4                               1  \n",
       "...                           ...  \n",
       "35293                          36  \n",
       "35294                          36  \n",
       "35295                          36  \n",
       "35296                          38  \n",
       "35297                          54  \n",
       "\n",
       "[35298 rows x 21 columns]"
      ]
     },
     "execution_count": 21,
     "metadata": {},
     "output_type": "execute_result"
    }
   ],
   "source": [
    "#video statistics request\n",
    "\n",
    "for i in range(0, len(video_ids), 50):\n",
    "    \n",
    "    # to avoid list index out of bounds error (dataset not divisible by 50)\n",
    "    increment = i+50 if (i+50 < len(video_ids)-1) else len(video_ids)-1\n",
    "    request = youtube.videos().list(\n",
    "    part=\"snippet,contentDetails,statistics\",\n",
    "    id=','.join(video_ids[i:increment])\n",
    "    )\n",
    "    \n",
    "    response = request.execute()\n",
    "\n",
    "\n",
    "    final_df = concatenate_df(response[\"items\"], final_df)\n",
    "    \n",
    "    if i % 1000 == 0:\n",
    "        print(i)\n",
    "\n",
    "final_df   "
   ]
  },
  {
   "cell_type": "code",
   "execution_count": 23,
   "id": "c438860a-09b7-40af-9489-ec1e2438cb9b",
   "metadata": {
    "tags": []
   },
   "outputs": [],
   "source": [
    "final_df.to_csv('data/video_data_2.csv')  "
   ]
  },
  {
   "cell_type": "code",
   "execution_count": null,
   "id": "71d686bf-ebd3-45a8-a0fb-7ffd42d15530",
   "metadata": {},
   "outputs": [],
   "source": []
  }
 ],
 "metadata": {
  "kernelspec": {
   "display_name": "Python 3 (ipykernel)",
   "language": "python",
   "name": "python3"
  },
  "language_info": {
   "codemirror_mode": {
    "name": "ipython",
    "version": 3
   },
   "file_extension": ".py",
   "mimetype": "text/x-python",
   "name": "python",
   "nbconvert_exporter": "python",
   "pygments_lexer": "ipython3",
   "version": "3.11.5"
  }
 },
 "nbformat": 4,
 "nbformat_minor": 5
}
