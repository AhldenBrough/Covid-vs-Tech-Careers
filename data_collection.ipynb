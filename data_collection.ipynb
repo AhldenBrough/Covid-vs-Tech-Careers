{
 "cells": [
  {
   "cell_type": "code",
   "execution_count": 1,
   "id": "6728ebd5",
   "metadata": {
    "scrolled": true,
    "tags": []
   },
   "outputs": [],
   "source": [
    "import os\n",
    "\n",
    "import google_auth_oauthlib.flow\n",
    "import googleapiclient.discovery\n",
    "import googleapiclient.errors\n",
    "from api_key_file import api_key\n",
    "from IPython.display import JSON\n",
    "import requests\n",
    "import json\n",
    "\n",
    "api_service_name = \"youtube\"\n",
    "api_version = \"v3\""
   ]
  },
  {
   "cell_type": "code",
   "execution_count": 9,
   "id": "8b9f559e",
   "metadata": {
    "tags": []
   },
   "outputs": [],
   "source": [
    "channel_ids = [\"UCzAF54cHk1ZO82af-8E3qOQ\",]\n",
    "video_ids = [\"AOtLNsokUrk\", \"PQR181-JvbM\"]"
   ]
  },
  {
   "cell_type": "code",
   "execution_count": 3,
   "id": "cb3aacba",
   "metadata": {
    "tags": []
   },
   "outputs": [
    {
     "data": {
      "application/json": {
       "etag": "C0QImxbi6Cu5liPy6AX6Jylj4rw",
       "items": [
        {
         "contentDetails": {
          "relatedPlaylists": {
           "likes": "",
           "uploads": "UUzAF54cHk1ZO82af-8E3qOQ"
          }
         },
         "etag": "X8em7tcsAXCmLUXSWhoCv_vHYVQ",
         "id": "UCzAF54cHk1ZO82af-8E3qOQ",
         "kind": "youtube#channel",
         "snippet": {
          "country": "DE",
          "customUrl": "@careerfoundry",
          "description": "CareerFoundry is a leading online school for career change, dedicated to educating the next generation of tech talent. We offer cutting-edge courses in UX Design, Web Development, Data Analytics, Digital Marketing and UI Design and Product Management, working with the industry's best professionals in each field to create the most thorough learning materials that promise to take you from beginner to job-ready (guaranteed) in 6-10 months.\n\nLearn about our UX Design, Web Development, Data Analytics, Digital Marketing and UI Design courses here: https://careerfoundry.com/",
          "localized": {
           "description": "CareerFoundry is a leading online school for career change, dedicated to educating the next generation of tech talent. We offer cutting-edge courses in UX Design, Web Development, Data Analytics, Digital Marketing and UI Design and Product Management, working with the industry's best professionals in each field to create the most thorough learning materials that promise to take you from beginner to job-ready (guaranteed) in 6-10 months.\n\nLearn about our UX Design, Web Development, Data Analytics, Digital Marketing and UI Design courses here: https://careerfoundry.com/",
           "title": "CareerFoundry"
          },
          "publishedAt": "2013-10-20T13:23:10Z",
          "thumbnails": {
           "default": {
            "height": 88,
            "url": "https://yt3.ggpht.com/IRgDpgFolu8eHLU9ElcWkaY1TA7mNPGQUV05TCLRKJqEVm9HYggTiVeX42Dq1cIdH2v5LNNglg=s88-c-k-c0x00ffffff-no-rj",
            "width": 88
           },
           "high": {
            "height": 800,
            "url": "https://yt3.ggpht.com/IRgDpgFolu8eHLU9ElcWkaY1TA7mNPGQUV05TCLRKJqEVm9HYggTiVeX42Dq1cIdH2v5LNNglg=s800-c-k-c0x00ffffff-no-rj",
            "width": 800
           },
           "medium": {
            "height": 240,
            "url": "https://yt3.ggpht.com/IRgDpgFolu8eHLU9ElcWkaY1TA7mNPGQUV05TCLRKJqEVm9HYggTiVeX42Dq1cIdH2v5LNNglg=s240-c-k-c0x00ffffff-no-rj",
            "width": 240
           }
          },
          "title": "CareerFoundry"
         },
         "statistics": {
          "hiddenSubscriberCount": false,
          "subscriberCount": "219000",
          "videoCount": "335",
          "viewCount": "10837310"
         }
        }
       ],
       "kind": "youtube#channelListResponse",
       "pageInfo": {
        "resultsPerPage": 5,
        "totalResults": 1
       }
      },
      "text/plain": [
       "<IPython.core.display.JSON object>"
      ]
     },
     "execution_count": 3,
     "metadata": {
      "application/json": {
       "expanded": false,
       "root": "root"
      }
     },
     "output_type": "execute_result"
    }
   ],
   "source": [
    "# channel request\n",
    "\n",
    "# Get credentials and create an API client\n",
    "youtube = googleapiclient.discovery.build(\n",
    "    api_service_name, api_version, developerKey=api_key)\n",
    "\n",
    "request = youtube.channels().list(\n",
    "    part=\"snippet,contentDetails,statistics\",\n",
    "    id=','.join(channel_ids)\n",
    ")\n",
    "response = request.execute()\n",
    "JSON(response)\n",
    "#json.dumps(response, indent=4)"
   ]
  },
  {
   "cell_type": "code",
   "execution_count": 88,
   "id": "aee4a371-ee43-4562-a99e-df3077eb5a72",
   "metadata": {
    "tags": []
   },
   "outputs": [
    {
     "data": {
      "text/plain": [
       "['AOtLNsokUrk',\n",
       " 'PQR181-JvbM',\n",
       " 'e6oiMP8ghlo',\n",
       " 'yUAvJN29urM',\n",
       " 'avZDz9k2OY8',\n",
       " 'AJ8t4-9y4aI',\n",
       " 'kKd-vrgOrbo',\n",
       " 'SQMFjTjvhwc',\n",
       " 'qzmjEDjyuMo',\n",
       " 'MTyzwEIyg4g',\n",
       " '39y6MOrWXRA',\n",
       " 'Qj_O_GHS7NU',\n",
       " 'zEhZ64mvoFU',\n",
       " 'myHh0eh6bzs',\n",
       " 'IILhr4h8zpU',\n",
       " 'WKdZJrJpwHI',\n",
       " 'WR1ydijTx5E',\n",
       " '8k5xdnMMHpw',\n",
       " '33Y3awh7Rd8',\n",
       " '-VDXBHLU8q4',\n",
       " 'JdIykKy0Vfo',\n",
       " '7x9AuLxbvM8',\n",
       " 'MffdAFJN-DA',\n",
       " 'bw7J2BPETak',\n",
       " 'LJ3m3NlV1kg',\n",
       " 'efqK-D-JKck',\n",
       " '5_GxxL9Rtpw',\n",
       " '5w8m5fNqrME',\n",
       " 'hjcUwFFLCgE',\n",
       " 'lrXwGOBbgeA',\n",
       " 'V7Mt6Z30eaY',\n",
       " '_MeqvmIRLiY',\n",
       " 'JmQWwYC1kQs',\n",
       " 'hkkty0meDJw',\n",
       " 'bI2fsAEJHWY',\n",
       " 'SX0rQPGLwyQ',\n",
       " 'AiVQOSqjhOk',\n",
       " '53CPLhM0fOo',\n",
       " 'HFYWwRJZOGU',\n",
       " 'ASH-YIZlG6I',\n",
       " '16ncUBjaOk4',\n",
       " 'eRvDGOhb1Jo',\n",
       " 'O2q7PTaQj18',\n",
       " 'nBFL1s8952c',\n",
       " '9hE-0-0_oks',\n",
       " '-hoI5Sd38JA',\n",
       " 'wI6P787S8Eg',\n",
       " 'Ws6zCMdp9Es',\n",
       " 'vrLnDtlTuw0',\n",
       " '10lQ6Wb_bB4',\n",
       " 'AOtLNsokUrk',\n",
       " 'PQR181-JvbM',\n",
       " 'e6oiMP8ghlo',\n",
       " 'yUAvJN29urM',\n",
       " 'avZDz9k2OY8',\n",
       " 'AJ8t4-9y4aI',\n",
       " 'kKd-vrgOrbo',\n",
       " 'SQMFjTjvhwc',\n",
       " 'qzmjEDjyuMo',\n",
       " 'MTyzwEIyg4g',\n",
       " '39y6MOrWXRA',\n",
       " 'Qj_O_GHS7NU',\n",
       " 'zEhZ64mvoFU',\n",
       " 'myHh0eh6bzs',\n",
       " 'IILhr4h8zpU',\n",
       " 'WKdZJrJpwHI',\n",
       " 'WR1ydijTx5E',\n",
       " '8k5xdnMMHpw',\n",
       " '33Y3awh7Rd8',\n",
       " '-VDXBHLU8q4',\n",
       " 'JdIykKy0Vfo',\n",
       " '7x9AuLxbvM8',\n",
       " 'MffdAFJN-DA',\n",
       " 'bw7J2BPETak',\n",
       " 'LJ3m3NlV1kg',\n",
       " 'efqK-D-JKck',\n",
       " '5_GxxL9Rtpw',\n",
       " '5w8m5fNqrME',\n",
       " 'hjcUwFFLCgE',\n",
       " 'lrXwGOBbgeA',\n",
       " 'V7Mt6Z30eaY',\n",
       " '_MeqvmIRLiY',\n",
       " 'JmQWwYC1kQs',\n",
       " 'hkkty0meDJw',\n",
       " 'bI2fsAEJHWY',\n",
       " 'SX0rQPGLwyQ',\n",
       " 'AiVQOSqjhOk',\n",
       " '53CPLhM0fOo',\n",
       " 'HFYWwRJZOGU',\n",
       " 'ASH-YIZlG6I',\n",
       " '16ncUBjaOk4',\n",
       " 'eRvDGOhb1Jo',\n",
       " 'O2q7PTaQj18',\n",
       " 'nBFL1s8952c',\n",
       " '9hE-0-0_oks',\n",
       " '-hoI5Sd38JA',\n",
       " 'wI6P787S8Eg',\n",
       " 'Ws6zCMdp9Es',\n",
       " 'vrLnDtlTuw0',\n",
       " '10lQ6Wb_bB4']"
      ]
     },
     "execution_count": 88,
     "metadata": {},
     "output_type": "execute_result"
    }
   ],
   "source": [
    "# videos by keyword request\n",
    "temp = []\n",
    "# Get credentials and create an API client\n",
    "youtube = googleapiclient.discovery.build(\n",
    "    api_service_name, api_version, developerKey=api_key)\n",
    "\n",
    "request = youtube.search().list(\n",
    "    part=\"snippet\",\n",
    "    maxResults=50,\n",
    "    q=\"tech bootcamp\"\n",
    ")\n",
    "response = request.execute()\n",
    "\n",
    "#get first 50 video id's and create list\n",
    "try:\n",
    "    video_ids = [video[\"id\"][\"videoId\"] for video in response[\"items\"]]\n",
    "except Exception as e:\n",
    "    print(e)\n",
    "\n",
    "#increment page token\n",
    "next_page_token = response.get('nextPageToken')\n",
    "\n",
    "# while there are still pages in the response to parse\n",
    "while next_page_token is not None and len(video_ids) < 100:\n",
    "    request = youtube.search().list(\n",
    "    part=\"snippet\",\n",
    "    maxResults=51,\n",
    "    q=\"tech bootcamp\",\n",
    "    pageToken = next_page_token # get results from the page after previous request\n",
    ")\n",
    "    \n",
    "    #make a temporary list of video ids on this page\n",
    "    try:\n",
    "        temp = [video[\"id\"][\"videoId\"] for video in response[\"items\"]]\n",
    "    except Exception as e:\n",
    "        print(e)\n",
    "    \n",
    "    # add to video id list\n",
    "    video_ids = video_ids + temp\n",
    "    \n",
    "    #increment page token\n",
    "    next_page_token = response.get('nextPageToken')\n",
    "\n",
    "JSON(response)\n",
    "\n",
    "video_ids"
   ]
  },
  {
   "cell_type": "code",
   "execution_count": 89,
   "id": "11aa9be3-a98d-4dce-857d-c04e9b93e28a",
   "metadata": {
    "tags": []
   },
   "outputs": [
    {
     "data": {
      "text/plain": [
       "'AOtLNsokUrk'"
      ]
     },
     "execution_count": 89,
     "metadata": {},
     "output_type": "execute_result"
    }
   ],
   "source": [
    "response[\"items\"][0][\"id\"][\"videoId\"]"
   ]
  },
  {
   "cell_type": "code",
   "execution_count": 81,
   "id": "eeb4c107-bfd9-4b48-a6f1-60c2cfa0dcf4",
   "metadata": {
    "tags": []
   },
   "outputs": [],
   "source": [
    "try:\n",
    "    video_ids = [video[\"id\"][\"videoId\"] for video in response[\"items\"]]\n",
    "except Exception as e:\n",
    "    print(e)"
   ]
  },
  {
   "cell_type": "code",
   "execution_count": 90,
   "id": "58ee1b6a-6281-49c9-a71d-f20aec86814d",
   "metadata": {
    "tags": []
   },
   "outputs": [
    {
     "data": {
      "text/plain": [
       "100"
      ]
     },
     "execution_count": 90,
     "metadata": {},
     "output_type": "execute_result"
    }
   ],
   "source": [
    "len(video_ids)"
   ]
  },
  {
   "cell_type": "code",
   "execution_count": 24,
   "id": "c77bbf93-f074-44d7-a2e6-6a9abdb57791",
   "metadata": {
    "tags": []
   },
   "outputs": [
    {
     "data": {
      "text/plain": [
       "['AOtLNsokUrk',\n",
       " 'PQR181-JvbM',\n",
       " 'yUAvJN29urM',\n",
       " 'e6oiMP8ghlo',\n",
       " 'avZDz9k2OY8',\n",
       " 'AJ8t4-9y4aI',\n",
       " 'kKd-vrgOrbo',\n",
       " 'MTyzwEIyg4g',\n",
       " 'qzmjEDjyuMo',\n",
       " '39y6MOrWXRA',\n",
       " 'WR1ydijTx5E',\n",
       " 'myHh0eh6bzs',\n",
       " 'zEhZ64mvoFU',\n",
       " 'SQMFjTjvhwc',\n",
       " 'WKdZJrJpwHI',\n",
       " 'Qj_O_GHS7NU',\n",
       " '-VDXBHLU8q4',\n",
       " '33Y3awh7Rd8',\n",
       " '8k5xdnMMHpw',\n",
       " 'bw7J2BPETak',\n",
       " '5_GxxL9Rtpw',\n",
       " 'JdIykKy0Vfo',\n",
       " 'lrXwGOBbgeA',\n",
       " '7x9AuLxbvM8',\n",
       " 'LJ3m3NlV1kg']"
      ]
     },
     "execution_count": 24,
     "metadata": {},
     "output_type": "execute_result"
    }
   ],
   "source": [
    "video_ids"
   ]
  },
  {
   "cell_type": "code",
   "execution_count": 26,
   "id": "808d5c87",
   "metadata": {},
   "outputs": [
    {
     "data": {
      "application/json": {
       "etag": "m6DaVPs5ID3MLDy_L6PBoRgkn64",
       "items": [
        {
         "contentDetails": {
          "caption": "false",
          "contentRating": {},
          "definition": "hd",
          "dimension": "2d",
          "duration": "PT1M1S",
          "licensedContent": true,
          "projection": "rectangular"
         },
         "etag": "iuzYE83pdsa4jhLr3In5xmWDOSg",
         "id": "AOtLNsokUrk",
         "kind": "youtube#video",
         "snippet": {
          "categoryId": "24",
          "channelId": "UCggXQcy57bwxUeZI1LB8DCw",
          "channelTitle": "Tech Is The New Black",
          "defaultAudioLanguage": "en",
          "defaultLanguage": "en",
          "description": "Click Here To Check Out ALL Recommended Bootcamps, Discounts & FAQs\nhttps://direct.me/imjustcyrus\n\n$200 Discount Link To General Assembly!\nhttps://ga.co/cyrus-ww\n(Courses: Data Analytics, Software Engineering, UX/UI Design, Data Science, Digital Marketing, Product Management, Javascript/Python/Front-End/React Development)\n\n$300 Discount Link To Careerist! \nhttps://crst.co/cyrus\n(Courses: Sales Engineering, Manual QA Tester & QA Automation)\n\n$50 Discount Code To CourseCareers\nCoupon: Cyrus50\n(Courses: Tech Sales / SDR, BDR, Account Executive)\n\nInstagram: @Imjustcyrus | @TechIsTheNewBlack \nYoutube | https://www.youtube.com/channel/UC46FZVPyI8FD6tkDyY3oX-g",
          "liveBroadcastContent": "none",
          "localized": {
           "description": "Click Here To Check Out ALL Recommended Bootcamps, Discounts & FAQs\nhttps://direct.me/imjustcyrus\n\n$200 Discount Link To General Assembly!\nhttps://ga.co/cyrus-ww\n(Courses: Data Analytics, Software Engineering, UX/UI Design, Data Science, Digital Marketing, Product Management, Javascript/Python/Front-End/React Development)\n\n$300 Discount Link To Careerist! \nhttps://crst.co/cyrus\n(Courses: Sales Engineering, Manual QA Tester & QA Automation)\n\n$50 Discount Code To CourseCareers\nCoupon: Cyrus50\n(Courses: Tech Sales / SDR, BDR, Account Executive)\n\nInstagram: @Imjustcyrus | @TechIsTheNewBlack \nYoutube | https://www.youtube.com/channel/UC46FZVPyI8FD6tkDyY3oX-g",
           "title": "Here’s What To Do After A Tech Bootcamp"
          },
          "publishedAt": "2022-10-05T14:00:05Z",
          "tags": [
           "afrotech",
           "blackistech",
           "renderatl",
           "techisthenewblack",
           "getmeintech",
           "techtopics",
           "pocintech",
           "lewlater",
           "marquesbrownlee",
           "mrwhostheboss",
           "linkedin",
           "linkedinrecruiter",
           "techcareers",
           "techjobs",
           "informationtechnology",
           "careerkarma",
           "saleengineering",
           "coding",
           "programming",
           "techbootcamps",
           "bootcamps",
           "jobs",
           "jobinterviews",
           "application",
           "resume",
           "coverletter",
           "workfromhome",
           "wfh",
           "womenintech",
           "blackwomenintech",
           "latinosintech",
           "latinwomenintech",
           "blackmenintech"
          ],
          "thumbnails": {
           "default": {
            "height": 90,
            "url": "https://i.ytimg.com/vi/AOtLNsokUrk/default.jpg",
            "width": 120
           },
           "high": {
            "height": 360,
            "url": "https://i.ytimg.com/vi/AOtLNsokUrk/hqdefault.jpg",
            "width": 480
           },
           "maxres": {
            "height": 720,
            "url": "https://i.ytimg.com/vi/AOtLNsokUrk/maxresdefault.jpg",
            "width": 1280
           },
           "medium": {
            "height": 180,
            "url": "https://i.ytimg.com/vi/AOtLNsokUrk/mqdefault.jpg",
            "width": 320
           },
           "standard": {
            "height": 480,
            "url": "https://i.ytimg.com/vi/AOtLNsokUrk/sddefault.jpg",
            "width": 640
           }
          },
          "title": "Here’s What To Do After A Tech Bootcamp"
         },
         "statistics": {
          "commentCount": "13",
          "favoriteCount": "0",
          "likeCount": "1239",
          "viewCount": "19348"
         }
        },
        {
         "contentDetails": {
          "caption": "false",
          "contentRating": {},
          "definition": "hd",
          "dimension": "2d",
          "duration": "PT28S",
          "licensedContent": true,
          "projection": "rectangular"
         },
         "etag": "TXb6g6_vrVzchC9_tT8lJAdLceE",
         "id": "PQR181-JvbM",
         "kind": "youtube#video",
         "snippet": {
          "categoryId": "24",
          "channelId": "UCggXQcy57bwxUeZI1LB8DCw",
          "channelTitle": "Tech Is The New Black",
          "defaultAudioLanguage": "en",
          "defaultLanguage": "en",
          "description": "Here are the 4 bootcamps I most recommend! \n\n1. CourseCareers is self paced. You can finish it in 3 weeks or 3 months. They offer tech sales roles only & are partnered with tech companies, so they’re usually able to get you a tech career quickly or a paid internship (up to $21/hr) while you wait to get hired on. \n\nThey only offer courses for people in North America. They’re just $449 with my discount code that gives you $50 off! \n\nDiscount Code: Cyrus50\nCourseCareers Website Here 👇🏾\nhttps://coursecareers.com/ref/8071/\n\n\n2. Careerist (the bootcamp I chose/USA Only) \nThese courses are 4 weeks long, virtual and are 8pm - 10:30pm Sun- Thur (Eastern). They record their classes In case you miss any. They are not partnered with tech companies, but they fix your resume & LinkedIn to industry standards and they apply to 5 companies a day for you & set you up on interviews. \n\nThey also do interview coaching & provide really good interview cheat sheets. They’re $4k, but I have a $300 discount link that you use with their sales too! The discount Is attached to the link automatically.\nCareerist Discount Link: \nhttps://crst.co/cyrus\n\n\n3. General Assembly (Global BootCamp) \n(Courses: Data Analytics, Software Engineering, UX/UI Design, Data Science, Digital Marketing, Product Management, Javascript/Python/Front-End/React Development)\n$200 DISCOUNT LINK: https://ga.co/cyrus-ww\n\n4. Pairview (Global Bootcamp) \nThey offer a large variety of roles like: cybersecurity, Data analytics, coding and others. They are $12k & they offer payment plans, sponsorship & guarantee you a job in 6-12months! $150 discount link: \nhttps://www.pairviewtraining.com/campaigns/register-interest-through-cyrusharbin-career-development-programme",
          "liveBroadcastContent": "none",
          "localized": {
           "description": "Here are the 4 bootcamps I most recommend! \n\n1. CourseCareers is self paced. You can finish it in 3 weeks or 3 months. They offer tech sales roles only & are partnered with tech companies, so they’re usually able to get you a tech career quickly or a paid internship (up to $21/hr) while you wait to get hired on. \n\nThey only offer courses for people in North America. They’re just $449 with my discount code that gives you $50 off! \n\nDiscount Code: Cyrus50\nCourseCareers Website Here 👇🏾\nhttps://coursecareers.com/ref/8071/\n\n\n2. Careerist (the bootcamp I chose/USA Only) \nThese courses are 4 weeks long, virtual and are 8pm - 10:30pm Sun- Thur (Eastern). They record their classes In case you miss any. They are not partnered with tech companies, but they fix your resume & LinkedIn to industry standards and they apply to 5 companies a day for you & set you up on interviews. \n\nThey also do interview coaching & provide really good interview cheat sheets. They’re $4k, but I have a $300 discount link that you use with their sales too! The discount Is attached to the link automatically.\nCareerist Discount Link: \nhttps://crst.co/cyrus\n\n\n3. General Assembly (Global BootCamp) \n(Courses: Data Analytics, Software Engineering, UX/UI Design, Data Science, Digital Marketing, Product Management, Javascript/Python/Front-End/React Development)\n$200 DISCOUNT LINK: https://ga.co/cyrus-ww\n\n4. Pairview (Global Bootcamp) \nThey offer a large variety of roles like: cybersecurity, Data analytics, coding and others. They are $12k & they offer payment plans, sponsorship & guarantee you a job in 6-12months! $150 discount link: \nhttps://www.pairviewtraining.com/campaigns/register-interest-through-cyrusharbin-career-development-programme",
           "title": "From Tech Bootcamp To 6 Figures (In Only 2 Months!)"
          },
          "publishedAt": "2022-08-06T12:47:03Z",
          "tags": [
           "afrotech",
           "black is tech",
           "tech is the new black",
           "get me in tech",
           "techtopics",
           "tech careers",
           "tech jobs",
           "information technology",
           "sale engineering",
           "programming",
           "bootcamps",
           "wfh",
           "women in tech",
           "black women in tech",
           "cyber security bootcamps",
           "cyber security",
           "tech sales",
           "sales engineer",
           "Cyrus Harbin",
           "imjustcyrus",
           "black men in tech",
           "tech bootcamps",
           "techisthenewblack",
           "black tech",
           "From Tech Bootcamp",
           "From Tech Bootcamp To 6 Figures (In Only 2 Months!)"
          ],
          "thumbnails": {
           "default": {
            "height": 90,
            "url": "https://i.ytimg.com/vi/PQR181-JvbM/default.jpg",
            "width": 120
           },
           "high": {
            "height": 360,
            "url": "https://i.ytimg.com/vi/PQR181-JvbM/hqdefault.jpg",
            "width": 480
           },
           "maxres": {
            "height": 720,
            "url": "https://i.ytimg.com/vi/PQR181-JvbM/maxresdefault.jpg",
            "width": 1280
           },
           "medium": {
            "height": 180,
            "url": "https://i.ytimg.com/vi/PQR181-JvbM/mqdefault.jpg",
            "width": 320
           },
           "standard": {
            "height": 480,
            "url": "https://i.ytimg.com/vi/PQR181-JvbM/sddefault.jpg",
            "width": 640
           }
          },
          "title": "From Tech Bootcamp To 6 Figures (In Only 2 Months!)"
         },
         "statistics": {
          "commentCount": "6660",
          "favoriteCount": "0",
          "likeCount": "146544",
          "viewCount": "2368312"
         }
        },
        {
         "contentDetails": {
          "caption": "false",
          "contentRating": {},
          "definition": "hd",
          "dimension": "2d",
          "duration": "PT1M",
          "licensedContent": true,
          "projection": "rectangular",
          "regionRestriction": {
           "blocked": [
            "RU"
           ]
          }
         },
         "etag": "V_4qQbVkzm32l2Y7jy1LxSBdU5g",
         "id": "yUAvJN29urM",
         "kind": "youtube#video",
         "snippet": {
          "categoryId": "28",
          "channelId": "UCRxWW_Ncs308nW4An23Yeig",
          "channelTitle": "Simple Programmer",
          "defaultAudioLanguage": "en",
          "description": "",
          "liveBroadcastContent": "none",
          "localized": {
           "description": "",
           "title": "DO NOT go to a coding boot camp before you know this…"
          },
          "publishedAt": "2021-08-09T18:08:16Z",
          "thumbnails": {
           "default": {
            "height": 90,
            "url": "https://i.ytimg.com/vi/yUAvJN29urM/default.jpg",
            "width": 120
           },
           "high": {
            "height": 360,
            "url": "https://i.ytimg.com/vi/yUAvJN29urM/hqdefault.jpg",
            "width": 480
           },
           "medium": {
            "height": 180,
            "url": "https://i.ytimg.com/vi/yUAvJN29urM/mqdefault.jpg",
            "width": 320
           },
           "standard": {
            "height": 480,
            "url": "https://i.ytimg.com/vi/yUAvJN29urM/sddefault.jpg",
            "width": 640
           }
          },
          "title": "DO NOT go to a coding boot camp before you know this…"
         },
         "statistics": {
          "commentCount": "181",
          "favoriteCount": "0",
          "likeCount": "8992",
          "viewCount": "118721"
         }
        },
        {
         "contentDetails": {
          "caption": "false",
          "contentRating": {},
          "definition": "hd",
          "dimension": "2d",
          "duration": "PT1M1S",
          "licensedContent": true,
          "projection": "rectangular"
         },
         "etag": "dOocDb2O9Qj_m7djymakA60lNu4",
         "id": "e6oiMP8ghlo",
         "kind": "youtube#video",
         "snippet": {
          "categoryId": "24",
          "channelId": "UCggXQcy57bwxUeZI1LB8DCw",
          "channelTitle": "Tech Is The New Black",
          "defaultAudioLanguage": "en",
          "defaultLanguage": "en",
          "description": "Click Here To Check Out ALL Recommended Bootcamps, Discounts & FAQs\nhttps://direct.me/imjustcyrus\n\n$200 Discount Link To General Assembly!\nhttps://ga.co/cyrus-ww\n(Courses: Data Analytics, Software Engineering, UX/UI Design, Data Science, Digital Marketing, Product Management, Javascript/Python/Front-End/React Development)\n\n$300 Discount Link To Careerist! \nhttps://crst.co/cyrus\n(Courses: Sales Engineering, Manual QA Tester & QA Automation)\n\n$50 Discount Code To CourseCareers\nCoupon: Cyrus50\n(Courses: Tech Sales / SDR, BDR, Account Executive)\n\nInstagram: @Imjustcyrus | @TechIsTheNewBlack \nYoutube | https://www.youtube.com/channel/UC46FZVPyI8FD6tkDyY3oX-g",
          "liveBroadcastContent": "none",
          "localized": {
           "description": "Click Here To Check Out ALL Recommended Bootcamps, Discounts & FAQs\nhttps://direct.me/imjustcyrus\n\n$200 Discount Link To General Assembly!\nhttps://ga.co/cyrus-ww\n(Courses: Data Analytics, Software Engineering, UX/UI Design, Data Science, Digital Marketing, Product Management, Javascript/Python/Front-End/React Development)\n\n$300 Discount Link To Careerist! \nhttps://crst.co/cyrus\n(Courses: Sales Engineering, Manual QA Tester & QA Automation)\n\n$50 Discount Code To CourseCareers\nCoupon: Cyrus50\n(Courses: Tech Sales / SDR, BDR, Account Executive)\n\nInstagram: @Imjustcyrus | @TechIsTheNewBlack \nYoutube | https://www.youtube.com/channel/UC46FZVPyI8FD6tkDyY3oX-g",
           "title": "How To Prepare For A Tech Bootcamp?"
          },
          "publishedAt": "2022-10-06T14:00:18Z",
          "tags": [
           "afrotech",
           "blackistech",
           "renderatl",
           "techisthenewblack",
           "getmeintech",
           "techtopics",
           "pocintech",
           "lewlater",
           "marquesbrownlee",
           "mrwhostheboss",
           "linkedin",
           "linkedinrecruiter",
           "techcareers",
           "techjobs",
           "informationtechnology",
           "careerkarma",
           "saleengineering",
           "coding",
           "programming",
           "techbootcamps",
           "bootcamps",
           "jobs",
           "jobinterviews",
           "application",
           "resume",
           "coverletter",
           "workfromhome",
           "wfh",
           "womenintech",
           "blackwomenintech",
           "latinosintech",
           "latinwomenintech",
           "blackmenintech"
          ],
          "thumbnails": {
           "default": {
            "height": 90,
            "url": "https://i.ytimg.com/vi/e6oiMP8ghlo/default.jpg",
            "width": 120
           },
           "high": {
            "height": 360,
            "url": "https://i.ytimg.com/vi/e6oiMP8ghlo/hqdefault.jpg",
            "width": 480
           },
           "maxres": {
            "height": 720,
            "url": "https://i.ytimg.com/vi/e6oiMP8ghlo/maxresdefault.jpg",
            "width": 1280
           },
           "medium": {
            "height": 180,
            "url": "https://i.ytimg.com/vi/e6oiMP8ghlo/mqdefault.jpg",
            "width": 320
           },
           "standard": {
            "height": 480,
            "url": "https://i.ytimg.com/vi/e6oiMP8ghlo/sddefault.jpg",
            "width": 640
           }
          },
          "title": "How To Prepare For A Tech Bootcamp?"
         },
         "statistics": {
          "commentCount": "8",
          "favoriteCount": "0",
          "likeCount": "231",
          "viewCount": "3645"
         }
        },
        {
         "contentDetails": {
          "caption": "false",
          "contentRating": {},
          "definition": "hd",
          "dimension": "2d",
          "duration": "PT12M32S",
          "licensedContent": true,
          "projection": "rectangular"
         },
         "etag": "G5v1POsSNVhQZcl6PZ8MowMR4Ao",
         "id": "avZDz9k2OY8",
         "kind": "youtube#video",
         "snippet": {
          "categoryId": "28",
          "channelId": "UCsd0xmaXyUGpD35IX4xrYEw",
          "channelTitle": "Jeremiah Peoples",
          "defaultAudioLanguage": "en",
          "description": "Are coding bootcamps really worth it? I didn't know the answer so I tried a day in a coding bootcamp.\n\nJoin 4,000 Developers in our Discord:\nhttps://discord.gg/39R2PFmd3r\n\nJoin my Newsletter:\nhttps://jeremiahpeoples.substack.com/\n\n🖥 m y  g e a r 🖥   \nhttps://www.amazon.com/shop/jeremiahpeoples\n\nFollow me\nInstagram:\nhttps://www.instagram.com/jeremiahpeoples/\n\nTikTok:\nhttps://www.tiktok.com/@jeremiahpeoples_\n\nTwitter:\nhttps://twitter.com/We_The_Peoples\n\nBusiness Inquiries:\njeremiahpeoplesbiz@gmail.com\n\nDisclaimer:\nSome or all of the links may be affiliate links, which means I may receive a small percentage of the sale price if you choose to purchase a recommended product through my link.\nChapters:\n00:00 - Intro\n02:24 - Morning Algorithms \n04:02 - Tabatas\n04:34 - APIs\n04:59 - Lunch\n06:03 - What To Expect\n07:17 - Terminal / Git\n07:52 - Lab\n08:58 - Soccer\n09:41 - Coding Dojo Review\n\n♪ Biscuit (Prod. by Lukrembo)\nhttps://youtu.be/EtZ2m2Zm3vY](https://www.youtube.com/watch?v=EtZ2m2Zm3vY&t=0s",
          "liveBroadcastContent": "none",
          "localized": {
           "description": "Are coding bootcamps really worth it? I didn't know the answer so I tried a day in a coding bootcamp.\n\nJoin 4,000 Developers in our Discord:\nhttps://discord.gg/39R2PFmd3r\n\nJoin my Newsletter:\nhttps://jeremiahpeoples.substack.com/\n\n🖥 m y  g e a r 🖥   \nhttps://www.amazon.com/shop/jeremiahpeoples\n\nFollow me\nInstagram:\nhttps://www.instagram.com/jeremiahpeoples/\n\nTikTok:\nhttps://www.tiktok.com/@jeremiahpeoples_\n\nTwitter:\nhttps://twitter.com/We_The_Peoples\n\nBusiness Inquiries:\njeremiahpeoplesbiz@gmail.com\n\nDisclaimer:\nSome or all of the links may be affiliate links, which means I may receive a small percentage of the sale price if you choose to purchase a recommended product through my link.\nChapters:\n00:00 - Intro\n02:24 - Morning Algorithms \n04:02 - Tabatas\n04:34 - APIs\n04:59 - Lunch\n06:03 - What To Expect\n07:17 - Terminal / Git\n07:52 - Lab\n08:58 - Soccer\n09:41 - Coding Dojo Review\n\n♪ Biscuit (Prod. by Lukrembo)\nhttps://youtu.be/EtZ2m2Zm3vY](https://www.youtube.com/watch?v=EtZ2m2Zm3vY&t=0s",
           "title": "A Day In The Life Of A Coding Bootcamp Student"
          },
          "publishedAt": "2021-12-10T14:00:11Z",
          "tags": [
           "Jeremiah peoples",
           "black in tech",
           "coding dojo bootcamp",
           "coding dojo review",
           "coding bootcamps",
           "coding bootcamps vs self taught",
           "how to learn to code",
           "are coding bootcamps worth it",
           "I spent a day in a coding bootcamp",
           "should i go to a coding bootcamp",
           "How to get started coding",
           "black in technology unc",
           "black in technology",
           "coding bootcamps for beginners",
           "coding bootcamps worth it",
           "how to learn to code python",
           "how to learn to code quickly and easily",
           "coding dojo review reddit 2020"
          ],
          "thumbnails": {
           "default": {
            "height": 90,
            "url": "https://i.ytimg.com/vi/avZDz9k2OY8/default.jpg",
            "width": 120
           },
           "high": {
            "height": 360,
            "url": "https://i.ytimg.com/vi/avZDz9k2OY8/hqdefault.jpg",
            "width": 480
           },
           "medium": {
            "height": 180,
            "url": "https://i.ytimg.com/vi/avZDz9k2OY8/mqdefault.jpg",
            "width": 320
           },
           "standard": {
            "height": 480,
            "url": "https://i.ytimg.com/vi/avZDz9k2OY8/sddefault.jpg",
            "width": 640
           }
          },
          "title": "A Day In The Life Of A Coding Bootcamp Student"
         },
         "statistics": {
          "commentCount": "176",
          "favoriteCount": "0",
          "likeCount": "2346",
          "viewCount": "81329"
         }
        },
        {
         "contentDetails": {
          "caption": "false",
          "contentRating": {},
          "definition": "hd",
          "dimension": "2d",
          "duration": "PT7M10S",
          "licensedContent": true,
          "projection": "rectangular"
         },
         "etag": "pb-PYsnls0tVSWPvECGIywXBzNM",
         "id": "AJ8t4-9y4aI",
         "kind": "youtube#video",
         "snippet": {
          "categoryId": "28",
          "channelId": "UCPcyffOFc7YGyDgqmvZJs7Q",
          "channelTitle": "Peter Elbaum",
          "description": "Resources: \nhttps://www.switchup.org/\nhttps://www.coursereport.com/\n--\nFollow Me Online Here:\n\n🌏 My website/blog - https://peterelbaum.com\n✉️ My newsletter (weekly on Sundays) - https://peterelbaum.com/subscribe/\n🤓 My courses: https://peterelbaum.gumroad.com/\n🗣 One-on-one mentoring - https://superpeer.com/peterelbaum\n\n🐦 Twitter: https://twitter.com/pjelbaum\n💻 GitHub: https://github.com/elbaumpj\n☎️ Office Hours: https://calendly.com/elbaumpj/saturday-office-hours\n-- \nMy gear: \n\nMain Camera: https://amzn.to/2Tv1WBe\nTripod: https://amzn.to/2t570AH\nExternal HD: https://amzn.to/2t1UphI\nMemory card: https://amzn.to/2UEQfIn\nComputer mic: https://amzn.to/2t7mUue\n--\nWho am I? \n\nI'm Peter Elbaum, a software engineer living in Raleigh, North Carolina. I make videos about code, software engineering career development, and self improvement. I also have a newsletter (https://peterelbaum.com/subscribe) and tweet my thoughts on money, work, and being a great dev. Feel free to get in touch!",
          "liveBroadcastContent": "none",
          "localized": {
           "description": "Resources: \nhttps://www.switchup.org/\nhttps://www.coursereport.com/\n--\nFollow Me Online Here:\n\n🌏 My website/blog - https://peterelbaum.com\n✉️ My newsletter (weekly on Sundays) - https://peterelbaum.com/subscribe/\n🤓 My courses: https://peterelbaum.gumroad.com/\n🗣 One-on-one mentoring - https://superpeer.com/peterelbaum\n\n🐦 Twitter: https://twitter.com/pjelbaum\n💻 GitHub: https://github.com/elbaumpj\n☎️ Office Hours: https://calendly.com/elbaumpj/saturday-office-hours\n-- \nMy gear: \n\nMain Camera: https://amzn.to/2Tv1WBe\nTripod: https://amzn.to/2t570AH\nExternal HD: https://amzn.to/2t1UphI\nMemory card: https://amzn.to/2UEQfIn\nComputer mic: https://amzn.to/2t7mUue\n--\nWho am I? \n\nI'm Peter Elbaum, a software engineer living in Raleigh, North Carolina. I make videos about code, software engineering career development, and self improvement. I also have a newsletter (https://peterelbaum.com/subscribe) and tweet my thoughts on money, work, and being a great dev. Feel free to get in touch!",
           "title": "Is Coding Bootcamp Worth It in 2023?"
          },
          "publishedAt": "2021-11-09T14:00:08Z",
          "thumbnails": {
           "default": {
            "height": 90,
            "url": "https://i.ytimg.com/vi/AJ8t4-9y4aI/default.jpg",
            "width": 120
           },
           "high": {
            "height": 360,
            "url": "https://i.ytimg.com/vi/AJ8t4-9y4aI/hqdefault.jpg",
            "width": 480
           },
           "maxres": {
            "height": 720,
            "url": "https://i.ytimg.com/vi/AJ8t4-9y4aI/maxresdefault.jpg",
            "width": 1280
           },
           "medium": {
            "height": 180,
            "url": "https://i.ytimg.com/vi/AJ8t4-9y4aI/mqdefault.jpg",
            "width": 320
           },
           "standard": {
            "height": 480,
            "url": "https://i.ytimg.com/vi/AJ8t4-9y4aI/sddefault.jpg",
            "width": 640
           }
          },
          "title": "Is Coding Bootcamp Worth It in 2023?"
         },
         "statistics": {
          "commentCount": "105",
          "favoriteCount": "0",
          "likeCount": "1329",
          "viewCount": "63257"
         }
        },
        {
         "contentDetails": {
          "caption": "false",
          "contentRating": {},
          "definition": "hd",
          "dimension": "2d",
          "duration": "PT11M21S",
          "licensedContent": true,
          "projection": "rectangular"
         },
         "etag": "_SXi7rzDeKBMIy8wdXn1y6-zC24",
         "id": "kKd-vrgOrbo",
         "kind": "youtube#video",
         "snippet": {
          "categoryId": "22",
          "channelId": "UCu1xbgCV5o48h_BYCQD7KJg",
          "channelTitle": "Chris Sean",
          "defaultAudioLanguage": "en",
          "defaultLanguage": "en",
          "description": "I'd like to take a moment to express my gratitude to Coding Dojo for sponsoring this video. I want to assure you all that while their support has been invaluable, they've given me complete freedom over the content. They have not influenced my talking points or the experiences our interviewees will share. So rest assured, what you're about to hear are genuine, unfiltered insights from students who lived in a world of coding bootcamps. \n\nBook a 1:1 w/ me! - https://topmate.io/realchrissean\n\nCheck out Coding Dojo below:\nDownload a FREE course packet on from Coding Dojo's website: https://info.codingdojo.com/dsinfluencer-chrissean/?utm_source=youtube&utm_medium=community&utm_campaign=june2023-chrissean-cpd\n\nSpeak to a Coding Dojo Advisor: https://www.codingdojo.com/admissions-qa-b?utm_source=youtube&utm_medium=community&utm_campaign=june2023-chrissean-cs\n\nSign-up for a FREE Virtual Open House: https://www.codingdojo.com/online/coding-bootcamp/oh?utm_source=youtube&utm_medium=community&utm_campaign=june2023-chrissean-oh%C2%A0\n\nEnroll in Coding Dojo's bootcamps: https://www.codingdojo.com/apply?utm_source=youtube&utm_medium=community&utm_campaign=june2023-chrissean-apply\n\nZero To Mastery Courses I That I Recommend Below:\n- Master React.js Here: https://bit.ly/LearnReactNow\n- Complete Jr to Sr Web Dev Roadmap: https://bit.ly/Jr2SrRoadMap\n- Master FAANG Coding Interviews: https://bit.ly/FAANGPREP\n\n1-on-1 Mentorship: https://calendly.com/chrissean\nChris Sean Talks Podcast: https://spoti.fi/2YuqPEY\nTikTok & Twitter: @RealChrisSean\n\nDeveloper Branded: https://developerbranded.com\nJoin my discord channel: https://discord.gg/HctAeFh\n\nThis video is sponsored by Coding Dojo.",
          "liveBroadcastContent": "none",
          "localized": {
           "description": "I'd like to take a moment to express my gratitude to Coding Dojo for sponsoring this video. I want to assure you all that while their support has been invaluable, they've given me complete freedom over the content. They have not influenced my talking points or the experiences our interviewees will share. So rest assured, what you're about to hear are genuine, unfiltered insights from students who lived in a world of coding bootcamps. \n\nBook a 1:1 w/ me! - https://topmate.io/realchrissean\n\nCheck out Coding Dojo below:\nDownload a FREE course packet on from Coding Dojo's website: https://info.codingdojo.com/dsinfluencer-chrissean/?utm_source=youtube&utm_medium=community&utm_campaign=june2023-chrissean-cpd\n\nSpeak to a Coding Dojo Advisor: https://www.codingdojo.com/admissions-qa-b?utm_source=youtube&utm_medium=community&utm_campaign=june2023-chrissean-cs\n\nSign-up for a FREE Virtual Open House: https://www.codingdojo.com/online/coding-bootcamp/oh?utm_source=youtube&utm_medium=community&utm_campaign=june2023-chrissean-oh%C2%A0\n\nEnroll in Coding Dojo's bootcamps: https://www.codingdojo.com/apply?utm_source=youtube&utm_medium=community&utm_campaign=june2023-chrissean-apply\n\nZero To Mastery Courses I That I Recommend Below:\n- Master React.js Here: https://bit.ly/LearnReactNow\n- Complete Jr to Sr Web Dev Roadmap: https://bit.ly/Jr2SrRoadMap\n- Master FAANG Coding Interviews: https://bit.ly/FAANGPREP\n\n1-on-1 Mentorship: https://calendly.com/chrissean\nChris Sean Talks Podcast: https://spoti.fi/2YuqPEY\nTikTok & Twitter: @RealChrisSean\n\nDeveloper Branded: https://developerbranded.com\nJoin my discord channel: https://discord.gg/HctAeFh\n\nThis video is sponsored by Coding Dojo.",
           "title": "Coding Bootcamps 2023: Insights from REAL Graduates"
          },
          "publishedAt": "2023-06-07T13:00:36Z",
          "tags": [
           "learn",
           "code",
           "life",
           "of",
           "web",
           "developer",
           "html",
           "css",
           "javascript",
           "query",
           "js",
           "php",
           "angular",
           "programmer",
           "software",
           "frontend",
           "backend",
           "front",
           "back",
           "programming",
           "job",
           "hired",
           "junior",
           "jr"
          ],
          "thumbnails": {
           "default": {
            "height": 90,
            "url": "https://i.ytimg.com/vi/kKd-vrgOrbo/default.jpg",
            "width": 120
           },
           "high": {
            "height": 360,
            "url": "https://i.ytimg.com/vi/kKd-vrgOrbo/hqdefault.jpg",
            "width": 480
           },
           "maxres": {
            "height": 720,
            "url": "https://i.ytimg.com/vi/kKd-vrgOrbo/maxresdefault.jpg",
            "width": 1280
           },
           "medium": {
            "height": 180,
            "url": "https://i.ytimg.com/vi/kKd-vrgOrbo/mqdefault.jpg",
            "width": 320
           },
           "standard": {
            "height": 480,
            "url": "https://i.ytimg.com/vi/kKd-vrgOrbo/sddefault.jpg",
            "width": 640
           }
          },
          "title": "Coding Bootcamps 2023: Insights from REAL Graduates"
         },
         "statistics": {
          "commentCount": "118",
          "favoriteCount": "0",
          "likeCount": "491",
          "viewCount": "21633"
         }
        },
        {
         "contentDetails": {
          "caption": "false",
          "contentRating": {},
          "definition": "hd",
          "dimension": "2d",
          "duration": "PT37S",
          "licensedContent": true,
          "projection": "rectangular"
         },
         "etag": "zDQ1H_eLY86rjRScYFkTHGnlisg",
         "id": "MTyzwEIyg4g",
         "kind": "youtube#video",
         "snippet": {
          "categoryId": "24",
          "channelId": "UCggXQcy57bwxUeZI1LB8DCw",
          "channelTitle": "Tech Is The New Black",
          "defaultAudioLanguage": "en",
          "defaultLanguage": "en",
          "description": "Let us know what questions you want us to ask our future tech guests and what kind of guests we should interview.\n\nGot any questions? Click Here To Check Out ALL Recommended Bootcamps, Discounts & FAQs\nhttps://direct.me/imjustcyrus\n\nHere are the 4 bootcamps I most recommend! \n\n1. CourseCareers is self paced. You can finish it in 3 weeks or 3 months. They offer tech sales roles only & are partnered with tech companies, so they’re usually able to get you a tech career quickly or a paid internship (up to $21/hr) while you wait to get hired on. \n\nThey only offer courses for people in North America. They’re just $449 with my discount code that gives you $50 off! \n\nDiscount Code: Cyrus50\nCourseCareers Website Here 👇🏾\nhttps://coursecareers.com/ref/8071/\n\n\n2. Careerist (the bootcamp I chose/USA Only) \nThese courses are 4 weeks long, virtual and are 8pm - 10:30pm Sun- Thur (Eastern). They record their classes In case you miss any. They are not partnered with tech companies, but they fix your resume & LinkedIn to industry standards and they apply to 5 companies a day for you & set you up on interviews. \n\nThey also do interview coaching & provide really good interview cheat sheets. They’re $4k, but I have a $300 discount link that you use with their sales too! The discount Is attached to the link automatically.\nCareerist Discount Link: \nhttps://crst.co/cyrus\n\n\n3. General Assembly (Global BootCamp) \n(Courses: Data Analytics, Software Engineering, UX/UI Design, Data Science, Digital Marketing, Product Management, Javascript/Python/Front-End/React Development)\n$200 DISCOUNT LINK: https://ga.co/cyrus-ww\n\n4. Pairview (Global Bootcamp) \nThey offer a large variety of roles like: cybersecurity, Data analytics, coding and others. They are $12k & they offer payment plans, sponsorship & guarantee you a job in 6-12months! $150 discount link: \nhttps://www.pairviewtraining.com/campaigns/register-interest-through-cyrusharbin-career-development-programme\n\nInstagram: @Imjustcyrus | @TechIsTheNewBlack \nYoutube | https://www.youtube.com/channel/UC46FZVPyI8FD6tkDyY3oX-g\n\nKeep me posted on your journey! \n\nInstagram: @Imjustcyrus | @TechIsTheNewBlack \nYoutube | https://www.youtube.com/channel/UC46FZVPyI8FD6tkDyY3oX-g\n\nInterested in being a guest or recommending a guest?! We are looking for more guests who are Startup founders, tech recruiters, senior level and tech influencers! If you fit this category, email us at info@techisthenewblack.org\n\nPodcast Host: Cyrus Harbin / @Imjustcyrus\nDirector of Photography: Eric Bates / @IamEricBates\nAudio Engineer: @IamEricBates\nExecutive Producer: @Imjustcyrus\nSenior Producer: Rhea Dawkins / @Rsvpmeplease\nAssociate Producer: Auzsha Gardner / @Auzarella ,  @IamEricBates\nVideo Editor: @iamericbates\n\n#remotework #wfh #techlife #fintechlife #techlifestyle #blackmenintech #blackengineers #techisthenewblack #explorepage #discoverpage #wfh #workfromhome #womenintech",
          "liveBroadcastContent": "none",
          "localized": {
           "description": "Let us know what questions you want us to ask our future tech guests and what kind of guests we should interview.\n\nGot any questions? Click Here To Check Out ALL Recommended Bootcamps, Discounts & FAQs\nhttps://direct.me/imjustcyrus\n\nHere are the 4 bootcamps I most recommend! \n\n1. CourseCareers is self paced. You can finish it in 3 weeks or 3 months. They offer tech sales roles only & are partnered with tech companies, so they’re usually able to get you a tech career quickly or a paid internship (up to $21/hr) while you wait to get hired on. \n\nThey only offer courses for people in North America. They’re just $449 with my discount code that gives you $50 off! \n\nDiscount Code: Cyrus50\nCourseCareers Website Here 👇🏾\nhttps://coursecareers.com/ref/8071/\n\n\n2. Careerist (the bootcamp I chose/USA Only) \nThese courses are 4 weeks long, virtual and are 8pm - 10:30pm Sun- Thur (Eastern). They record their classes In case you miss any. They are not partnered with tech companies, but they fix your resume & LinkedIn to industry standards and they apply to 5 companies a day for you & set you up on interviews. \n\nThey also do interview coaching & provide really good interview cheat sheets. They’re $4k, but I have a $300 discount link that you use with their sales too! The discount Is attached to the link automatically.\nCareerist Discount Link: \nhttps://crst.co/cyrus\n\n\n3. General Assembly (Global BootCamp) \n(Courses: Data Analytics, Software Engineering, UX/UI Design, Data Science, Digital Marketing, Product Management, Javascript/Python/Front-End/React Development)\n$200 DISCOUNT LINK: https://ga.co/cyrus-ww\n\n4. Pairview (Global Bootcamp) \nThey offer a large variety of roles like: cybersecurity, Data analytics, coding and others. They are $12k & they offer payment plans, sponsorship & guarantee you a job in 6-12months! $150 discount link: \nhttps://www.pairviewtraining.com/campaigns/register-interest-through-cyrusharbin-career-development-programme\n\nInstagram: @Imjustcyrus | @TechIsTheNewBlack \nYoutube | https://www.youtube.com/channel/UC46FZVPyI8FD6tkDyY3oX-g\n\nKeep me posted on your journey! \n\nInstagram: @Imjustcyrus | @TechIsTheNewBlack \nYoutube | https://www.youtube.com/channel/UC46FZVPyI8FD6tkDyY3oX-g\n\nInterested in being a guest or recommending a guest?! We are looking for more guests who are Startup founders, tech recruiters, senior level and tech influencers! If you fit this category, email us at info@techisthenewblack.org\n\nPodcast Host: Cyrus Harbin / @Imjustcyrus\nDirector of Photography: Eric Bates / @IamEricBates\nAudio Engineer: @IamEricBates\nExecutive Producer: @Imjustcyrus\nSenior Producer: Rhea Dawkins / @Rsvpmeplease\nAssociate Producer: Auzsha Gardner / @Auzarella ,  @IamEricBates\nVideo Editor: @iamericbates\n\n#remotework #wfh #techlife #fintechlife #techlifestyle #blackmenintech #blackengineers #techisthenewblack #explorepage #discoverpage #wfh #workfromhome #womenintech",
           "title": "The Best BootCamp for Cyber Security"
          },
          "publishedAt": "2023-03-02T19:00:12Z",
          "tags": [
           "afrotech",
           "blackistech",
           "renderatl",
           "techisthenewblack",
           "getmeintech",
           "techtopics",
           "pocintech",
           "lewlater",
           "marquesbrownlee",
           "mrwhostheboss",
           "linkedin",
           "linkedinrecruiter",
           "techcareers",
           "techjobs",
           "informationtechnology",
           "careerkarma",
           "saleengineering",
           "coding",
           "programming",
           "techbootcamps",
           "bootcamps",
           "jobs",
           "jobinterviews",
           "application",
           "resume",
           "coverletter",
           "workfromhome",
           "wfh",
           "womenintech",
           "blackwomenintech",
           "latinosintech",
           "latinwomenintech",
           "blackmenintech"
          ],
          "thumbnails": {
           "default": {
            "height": 90,
            "url": "https://i.ytimg.com/vi/MTyzwEIyg4g/default.jpg",
            "width": 120
           },
           "high": {
            "height": 360,
            "url": "https://i.ytimg.com/vi/MTyzwEIyg4g/hqdefault.jpg",
            "width": 480
           },
           "maxres": {
            "height": 720,
            "url": "https://i.ytimg.com/vi/MTyzwEIyg4g/maxresdefault.jpg",
            "width": 1280
           },
           "medium": {
            "height": 180,
            "url": "https://i.ytimg.com/vi/MTyzwEIyg4g/mqdefault.jpg",
            "width": 320
           },
           "standard": {
            "height": 480,
            "url": "https://i.ytimg.com/vi/MTyzwEIyg4g/sddefault.jpg",
            "width": 640
           }
          },
          "title": "The Best BootCamp for Cyber Security"
         },
         "statistics": {
          "commentCount": "30",
          "favoriteCount": "0",
          "likeCount": "733",
          "viewCount": "13163"
         }
        },
        {
         "contentDetails": {
          "caption": "false",
          "contentRating": {},
          "definition": "hd",
          "dimension": "2d",
          "duration": "PT3H36M24S",
          "licensedContent": true,
          "projection": "rectangular"
         },
         "etag": "ZUf20a5KPFYJpd4Y_D_1a1cVGIc",
         "id": "qzmjEDjyuMo",
         "kind": "youtube#video",
         "snippet": {
          "categoryId": "24",
          "channelId": "UCNDfiL0D1LUeKWAkRE1xO5Q",
          "channelTitle": "Pragmatic AI Labs",
          "defaultAudioLanguage": "en",
          "description": "Schedule\r\n\r\nThe timeframes are only estimates and may vary according to how the class is progressing.\r\n\r\nIntroduction to Rust (60 minutes)\r\n\r\nPresentation: Overview of Rust; setting up a Rust development environment\r\nGroup discussion: Rust versus Python\r\nHands-on exercise: Write a simple Rust program\r\nQ&A\r\nBreak\r\nRust ownership and borrowing (60 minutes)\r\n\r\nPresentation: Rust ownership, borrowing, and lifetimes with comparison to Python idioms; error handling in Rust compared to Python\r\nHands-on exercise: Implement ownership and borrowing in Rust\r\nQ&A\r\nBreak\r\nWorking with Rust libraries and tools (60 minutes)\r\n\r\nPresentation: Working with Rust libraries and tools and mixing with Python; Rust concurrency and async programming compared to Python\r\nHands-on exercises: Build a project with Rust libraries and use in Python\r\nQ&A\r\nBreak\r\nCombining Rust with Python (60 minutes)\r\n\r\nPresentation: Combining Rust with Python\r\nHands-on exercise: Create a hybrid Python-Rust project\r\nGroup discussion: Use cases and best practices\r\nWrap-up and Q&A (10 minutes)\r\n\r\nIf you enjoyed this content, your learning journey has just begun! Dive deeper into the fascinating world of technology with these hand-picked resources:\r\n\r\n📊 Data Visualization and Python:\r\n\r\nData Visualization with Python: https://www.coursera.org/learn/data-visualization-python\r\n🛠️ DevOps, MLOps, and Cloud Computing:\r\n\r\nDevOps, DataOps, MLOps: https://www.coursera.org/learn/devops-dataops-mlops-duke\r\nMLOps Platforms: AWS SageMaker and Azure ML: https://www.coursera.org/learn/mlops-aws-azure-duke\r\nBuilding Cloud Computing Solutions at Scale Specialization: https://www.coursera.org/specializations/building-cloud-computing-solutions-at-scale\r\nAWS Certified Solutions Architect - Professional (SAP-C01) Cert Prep: https://www.linkedin.com/learning/aws-certified-solutions-architect-professional-sap-c01-cert-prep-1-design-for-organizational-complexity/design-for-organizational-complexity?autoplay=true\r\n\r\n🐍 Python Essentials:\r\n\r\nPython Essentials for MLOps: https://www.coursera.org/learn/python-essentials-mlops-duke\r\nPython, Bash, and SQL Essentials for Data Engineering Specialization: https://www.coursera.org/specializations/python-bash-sql-data-engineering-duke\r\n\r\n📚 Must-Read Books:\r\n\r\nPractical MLOps: https://www.amazon.com/Practical-MLOps-Operationalizing-Machine-Learning/dp/1098103017\r\nPython for DevOps: https://www.amazon.com/gp/product/B082P97LDW/\r\nDeveloping on AWS with C#: https://www.amazon.com/Developing-AWS-Comprehensive-Solutions-Platform/dp/1492095877\r\nPragmatic AI Labs Books: https://www.amazon.com/gp/product/B0992BN7W8\r\n\r\n🎥 Follow & Subscribe:\r\n\r\nPragmatic AI Labs YouTube Channel: https://www.youtube.com/channel/UCNDfiL0D1LUeKWAkRE1xO5Q\r\n52 Weeks of AWS Podcast: https://52-weeks-of-cloud.simplecast.com\r\nnoahgift.com: https://noahgift.com/\r\nPragmatic AI Labs Website: https://paiml.com/\r\nYour adventure in tech awaits! Dive in now, and elevate your skills to new heights. 🚀",
          "liveBroadcastContent": "none",
          "localized": {
           "description": "Schedule\r\n\r\nThe timeframes are only estimates and may vary according to how the class is progressing.\r\n\r\nIntroduction to Rust (60 minutes)\r\n\r\nPresentation: Overview of Rust; setting up a Rust development environment\r\nGroup discussion: Rust versus Python\r\nHands-on exercise: Write a simple Rust program\r\nQ&A\r\nBreak\r\nRust ownership and borrowing (60 minutes)\r\n\r\nPresentation: Rust ownership, borrowing, and lifetimes with comparison to Python idioms; error handling in Rust compared to Python\r\nHands-on exercise: Implement ownership and borrowing in Rust\r\nQ&A\r\nBreak\r\nWorking with Rust libraries and tools (60 minutes)\r\n\r\nPresentation: Working with Rust libraries and tools and mixing with Python; Rust concurrency and async programming compared to Python\r\nHands-on exercises: Build a project with Rust libraries and use in Python\r\nQ&A\r\nBreak\r\nCombining Rust with Python (60 minutes)\r\n\r\nPresentation: Combining Rust with Python\r\nHands-on exercise: Create a hybrid Python-Rust project\r\nGroup discussion: Use cases and best practices\r\nWrap-up and Q&A (10 minutes)\r\n\r\nIf you enjoyed this content, your learning journey has just begun! Dive deeper into the fascinating world of technology with these hand-picked resources:\r\n\r\n📊 Data Visualization and Python:\r\n\r\nData Visualization with Python: https://www.coursera.org/learn/data-visualization-python\r\n🛠️ DevOps, MLOps, and Cloud Computing:\r\n\r\nDevOps, DataOps, MLOps: https://www.coursera.org/learn/devops-dataops-mlops-duke\r\nMLOps Platforms: AWS SageMaker and Azure ML: https://www.coursera.org/learn/mlops-aws-azure-duke\r\nBuilding Cloud Computing Solutions at Scale Specialization: https://www.coursera.org/specializations/building-cloud-computing-solutions-at-scale\r\nAWS Certified Solutions Architect - Professional (SAP-C01) Cert Prep: https://www.linkedin.com/learning/aws-certified-solutions-architect-professional-sap-c01-cert-prep-1-design-for-organizational-complexity/design-for-organizational-complexity?autoplay=true\r\n\r\n🐍 Python Essentials:\r\n\r\nPython Essentials for MLOps: https://www.coursera.org/learn/python-essentials-mlops-duke\r\nPython, Bash, and SQL Essentials for Data Engineering Specialization: https://www.coursera.org/specializations/python-bash-sql-data-engineering-duke\r\n\r\n📚 Must-Read Books:\r\n\r\nPractical MLOps: https://www.amazon.com/Practical-MLOps-Operationalizing-Machine-Learning/dp/1098103017\r\nPython for DevOps: https://www.amazon.com/gp/product/B082P97LDW/\r\nDeveloping on AWS with C#: https://www.amazon.com/Developing-AWS-Comprehensive-Solutions-Platform/dp/1492095877\r\nPragmatic AI Labs Books: https://www.amazon.com/gp/product/B0992BN7W8\r\n\r\n🎥 Follow & Subscribe:\r\n\r\nPragmatic AI Labs YouTube Channel: https://www.youtube.com/channel/UCNDfiL0D1LUeKWAkRE1xO5Q\r\n52 Weeks of AWS Podcast: https://52-weeks-of-cloud.simplecast.com\r\nnoahgift.com: https://noahgift.com/\r\nPragmatic AI Labs Website: https://paiml.com/\r\nYour adventure in tech awaits! Dive in now, and elevate your skills to new heights. 🚀",
           "title": "Free 4 Hour Live Bootcamp:  Rust for Pythonistas"
          },
          "publishedAt": "2023-10-12T18:30:22Z",
          "thumbnails": {
           "default": {
            "height": 90,
            "url": "https://i.ytimg.com/vi/qzmjEDjyuMo/default.jpg",
            "width": 120
           },
           "high": {
            "height": 360,
            "url": "https://i.ytimg.com/vi/qzmjEDjyuMo/hqdefault.jpg",
            "width": 480
           },
           "maxres": {
            "height": 720,
            "url": "https://i.ytimg.com/vi/qzmjEDjyuMo/maxresdefault.jpg",
            "width": 1280
           },
           "medium": {
            "height": 180,
            "url": "https://i.ytimg.com/vi/qzmjEDjyuMo/mqdefault.jpg",
            "width": 320
           },
           "standard": {
            "height": 480,
            "url": "https://i.ytimg.com/vi/qzmjEDjyuMo/sddefault.jpg",
            "width": 640
           }
          },
          "title": "Free 4 Hour Live Bootcamp:  Rust for Pythonistas"
         },
         "statistics": {
          "commentCount": "0",
          "favoriteCount": "0",
          "likeCount": "24",
          "viewCount": "384"
         }
        },
        {
         "contentDetails": {
          "caption": "false",
          "contentRating": {},
          "definition": "hd",
          "dimension": "2d",
          "duration": "PT21M27S",
          "licensedContent": true,
          "projection": "rectangular"
         },
         "etag": "7ftAG6G0QTXH2uh3Bq6byTnN-0g",
         "id": "39y6MOrWXRA",
         "kind": "youtube#video",
         "snippet": {
          "categoryId": "28",
          "channelId": "UCj1gXEcAyJDF7STvD2vZ13Q",
          "channelTitle": "The Minimal Jess",
          "description": "I'm sharing a gem that I'm not seeing talked about enough as a resource for learning how to code. In this video I'll talk about a 100% free coding bootcamp that is absolutely amazing and will help you become a full stack software engineer!\n\ns i g n   u p   f o r   t  h e   b o o t c a m p\nhttps://theminimaljess.com/free-coding-bootcamp-everything-you-need-to-know-to-get-started/\n\no t h e r s   w h o   d i d   t h e   b o o t c a m p\n\nDom's Tech Chat: https://www.youtube.com/watch?v=EEV8Lauy4Yg&t=296s\nJulia F Morgado: https://www.youtube.com/watch?v=MhUAKpF47GU&t=20s\n\n✨ ✨ ✨m y   s i t e   i s    l i v e !✨ ✨ ✨\n\nIn need of a new website? Want to have a 1:1 chat about your web development career? Learn more here: \nhttps://theminimaljess.com/services/\n\n\nt i m e s t a m p s\n\n00:00 - intro\n03:23 About the bootcamp and instructor\n09:05 Building community\n11:50 Get hired without applying for jobs\n13:40 What you will learn\n15:33 Homework\n17:13 Networking\n18:46 Conclusion\n\nw h y   I   q u i t   m y    j o b\nhttps://youtu.be/pjbJcN-dYyY\n\nd e s k  i t e m s\nhttps://kit.co/TheMinimalJess\n\nm y  c a m e r a\nSony a7 II - https://amzn.to/3XpQ3wz\n\nb u y  m e  a  c o f f e e\nhttps://ko-fi.com/theminimaljess\n\nl e t s  c o n n e c t\nIG: @theminimaljess\nEmail: theminimaljess@gmail.com\nhttps://theminimaljess.com/\n\n#softwareengineer  #webdevelopment  #tech #code",
          "liveBroadcastContent": "none",
          "localized": {
           "description": "I'm sharing a gem that I'm not seeing talked about enough as a resource for learning how to code. In this video I'll talk about a 100% free coding bootcamp that is absolutely amazing and will help you become a full stack software engineer!\n\ns i g n   u p   f o r   t  h e   b o o t c a m p\nhttps://theminimaljess.com/free-coding-bootcamp-everything-you-need-to-know-to-get-started/\n\no t h e r s   w h o   d i d   t h e   b o o t c a m p\n\nDom's Tech Chat: https://www.youtube.com/watch?v=EEV8Lauy4Yg&t=296s\nJulia F Morgado: https://www.youtube.com/watch?v=MhUAKpF47GU&t=20s\n\n✨ ✨ ✨m y   s i t e   i s    l i v e !✨ ✨ ✨\n\nIn need of a new website? Want to have a 1:1 chat about your web development career? Learn more here: \nhttps://theminimaljess.com/services/\n\n\nt i m e s t a m p s\n\n00:00 - intro\n03:23 About the bootcamp and instructor\n09:05 Building community\n11:50 Get hired without applying for jobs\n13:40 What you will learn\n15:33 Homework\n17:13 Networking\n18:46 Conclusion\n\nw h y   I   q u i t   m y    j o b\nhttps://youtu.be/pjbJcN-dYyY\n\nd e s k  i t e m s\nhttps://kit.co/TheMinimalJess\n\nm y  c a m e r a\nSony a7 II - https://amzn.to/3XpQ3wz\n\nb u y  m e  a  c o f f e e\nhttps://ko-fi.com/theminimaljess\n\nl e t s  c o n n e c t\nIG: @theminimaljess\nEmail: theminimaljess@gmail.com\nhttps://theminimaljess.com/\n\n#softwareengineer  #webdevelopment  #tech #code",
           "title": "Become a Full Stack Software Engineer | Free Coding Bootcamp"
          },
          "publishedAt": "2023-05-21T15:00:09Z",
          "thumbnails": {
           "default": {
            "height": 90,
            "url": "https://i.ytimg.com/vi/39y6MOrWXRA/default.jpg",
            "width": 120
           },
           "high": {
            "height": 360,
            "url": "https://i.ytimg.com/vi/39y6MOrWXRA/hqdefault.jpg",
            "width": 480
           },
           "maxres": {
            "height": 720,
            "url": "https://i.ytimg.com/vi/39y6MOrWXRA/maxresdefault.jpg",
            "width": 1280
           },
           "medium": {
            "height": 180,
            "url": "https://i.ytimg.com/vi/39y6MOrWXRA/mqdefault.jpg",
            "width": 320
           },
           "standard": {
            "height": 480,
            "url": "https://i.ytimg.com/vi/39y6MOrWXRA/sddefault.jpg",
            "width": 640
           }
          },
          "title": "Become a Full Stack Software Engineer | Free Coding Bootcamp"
         },
         "statistics": {
          "commentCount": "60",
          "favoriteCount": "0",
          "likeCount": "330",
          "viewCount": "6975"
         }
        },
        {
         "contentDetails": {
          "caption": "true",
          "contentRating": {},
          "definition": "hd",
          "dimension": "2d",
          "duration": "PT9M51S",
          "licensedContent": true,
          "projection": "rectangular"
         },
         "etag": "mcVRaeJvTF6fEJ79ZPbNwMDDrEc",
         "id": "WR1ydijTx5E",
         "kind": "youtube#video",
         "snippet": {
          "categoryId": "22",
          "channelId": "UCQTmoQ_S26PlmDoXujZpbYQ",
          "channelTitle": "Tim Kim",
          "defaultAudioLanguage": "en-US",
          "description": "I went from being a college dropout with zero technical skills to landing a software developer job in 4 months. This video is about how I became a self-taught software developer and how I learned how to code without a computer science degree or coding bootcamp. \n\nConnect With Me: \n⭐️ Main Site: https://www.timkim.me/ \n🐦 Twitter: https://twitter.com/TimKimMe \n📸 Instagram: https://www.instagram.com/timkim.me/ \n\nCourses To Help Supplement Learning: \n(COUPON CODE FOR 10% OFF ➡️ FRIENDS10) \n📚 Learning How To Learn: https://bit.ly/TK_LHTL_ZTM \n🛠️ Build JS Projects Step-by-Step: https://bit.ly/TK_JS_ZTM \n🟣 React: https://bit.ly/TK_React_ZTM \n🅱️ Node: https://bit.ly/TK_Node_ZTM \n🧐 Coding Interview Prep (DSA): https://bit.ly/TK_DSA_ZTM \n\nLearn How To Code Playlist: \nhttps://www.youtube.com/playlist?list=PLt3w0xGh6M0hpR26CyGYwGMFcsuLl8i8w\n\nMentioned Resources: \n⭐️ https://www.coursera.org/learn/learning-how-to-learn \n🏕️ https://www.freecodecamp.org/ \n🔎 https://watchandcode.com/\n\nFind Remote Jobs: \n💻 https://remoteok.com/ \n💻 https://weworkremotely.com/\n\nTools I Used For Learning How To Code: \n· Laptop Stand - https://amzn.to/3PgoMvU \n· Pomodoro Timer - https://amzn.to/3NqoxgC \n· Bose Headphones - https://amzn.to/3CseP7f \n· Vertical Mouse - https://amzn.to/3JaWtLA \n· Apple Keyboard - https://amzn.to/43SSRFX \n· Laptop Backpack - https://amzn.to/3qFCu1p \n\nBehind The Scenes: \n🎬 https://www.timkim.me/ep-3-the-coding-video/\n\nMusic For Creators:\n🎵 https://share.epidemicsound.com/2xtucq\n\nDisclaimer: Some of the links are affiliate links so I can feed mi familia while I make these videos for you guys. 🙏🙏🙏",
          "liveBroadcastContent": "none",
          "localized": {
           "description": "I went from being a college dropout with zero technical skills to landing a software developer job in 4 months. This video is about how I became a self-taught software developer and how I learned how to code without a computer science degree or coding bootcamp. \n\nConnect With Me: \n⭐️ Main Site: https://www.timkim.me/ \n🐦 Twitter: https://twitter.com/TimKimMe \n📸 Instagram: https://www.instagram.com/timkim.me/ \n\nCourses To Help Supplement Learning: \n(COUPON CODE FOR 10% OFF ➡️ FRIENDS10) \n📚 Learning How To Learn: https://bit.ly/TK_LHTL_ZTM \n🛠️ Build JS Projects Step-by-Step: https://bit.ly/TK_JS_ZTM \n🟣 React: https://bit.ly/TK_React_ZTM \n🅱️ Node: https://bit.ly/TK_Node_ZTM \n🧐 Coding Interview Prep (DSA): https://bit.ly/TK_DSA_ZTM \n\nLearn How To Code Playlist: \nhttps://www.youtube.com/playlist?list=PLt3w0xGh6M0hpR26CyGYwGMFcsuLl8i8w\n\nMentioned Resources: \n⭐️ https://www.coursera.org/learn/learning-how-to-learn \n🏕️ https://www.freecodecamp.org/ \n🔎 https://watchandcode.com/\n\nFind Remote Jobs: \n💻 https://remoteok.com/ \n💻 https://weworkremotely.com/\n\nTools I Used For Learning How To Code: \n· Laptop Stand - https://amzn.to/3PgoMvU \n· Pomodoro Timer - https://amzn.to/3NqoxgC \n· Bose Headphones - https://amzn.to/3CseP7f \n· Vertical Mouse - https://amzn.to/3JaWtLA \n· Apple Keyboard - https://amzn.to/43SSRFX \n· Laptop Backpack - https://amzn.to/3qFCu1p \n\nBehind The Scenes: \n🎬 https://www.timkim.me/ep-3-the-coding-video/\n\nMusic For Creators:\n🎵 https://share.epidemicsound.com/2xtucq\n\nDisclaimer: Some of the links are affiliate links so I can feed mi familia while I make these videos for you guys. 🙏🙏🙏",
           "title": "How I Learned to Code in 4 Months & Got a Job! (No CS Degree, No Bootcamp)"
          },
          "publishedAt": "2023-06-13T18:52:08Z",
          "tags": [
           "learn to code",
           "get a job",
           "learn programming",
           "programming",
           "coding",
           "how to code",
           "software developer",
           "software engineering",
           "software developer job",
           "How to learn",
           "How to learn how to code",
           "Get a job in tech",
           "tech jobs with no experience",
           "tech jobs",
           "software engineer",
           "code",
           "coding job",
           "javascript",
           "learn javascript",
           "how to program an app",
           "startup",
           "computer science",
           "learn how to code",
           "internship interview",
           "tech job",
           "learn to code for beginners",
           "no cs degree",
           "self taught programmer"
          ],
          "thumbnails": {
           "default": {
            "height": 90,
            "url": "https://i.ytimg.com/vi/WR1ydijTx5E/default.jpg",
            "width": 120
           },
           "high": {
            "height": 360,
            "url": "https://i.ytimg.com/vi/WR1ydijTx5E/hqdefault.jpg",
            "width": 480
           },
           "maxres": {
            "height": 720,
            "url": "https://i.ytimg.com/vi/WR1ydijTx5E/maxresdefault.jpg",
            "width": 1280
           },
           "medium": {
            "height": 180,
            "url": "https://i.ytimg.com/vi/WR1ydijTx5E/mqdefault.jpg",
            "width": 320
           },
           "standard": {
            "height": 480,
            "url": "https://i.ytimg.com/vi/WR1ydijTx5E/sddefault.jpg",
            "width": 640
           }
          },
          "title": "How I Learned to Code in 4 Months & Got a Job! (No CS Degree, No Bootcamp)"
         },
         "statistics": {
          "commentCount": "3890",
          "favoriteCount": "0",
          "likeCount": "134068",
          "viewCount": "2556084"
         }
        },
        {
         "contentDetails": {
          "caption": "false",
          "contentRating": {},
          "definition": "hd",
          "dimension": "2d",
          "duration": "PT8M16S",
          "licensedContent": true,
          "projection": "rectangular"
         },
         "etag": "yJTJAnD6n38G_-F4_TyrUFq5Hk0",
         "id": "myHh0eh6bzs",
         "kind": "youtube#video",
         "snippet": {
          "categoryId": "22",
          "channelId": "UCu1xbgCV5o48h_BYCQD7KJg",
          "channelTitle": "Chris Sean",
          "defaultAudioLanguage": "en",
          "defaultLanguage": "en",
          "description": "Get a 14-day free trial with my sponsor Aura and protect yourself from scammers and cybercriminals: http://Aura.com/chrissean\n\nTime stamp: \n0:00 - 0:50 Intro \n0:50 - 2:22 Sponsored by Auora\n2:22 - 3:32 Are coding bootcamps still worth it?\n3:32 - 5:49 Watch out for scams \n5:49 - 7:07 How much do coding bootcamps cost?\n7:07 - 8:16 College vs Coding Bootcamp?\n\nZero To Mastery Courses That I Recommend Below:\n- Master React.js Here: https://bit.ly/LearnReactNow\n- Complete Jr to Sr Web Dev Roadmap: https://bit.ly/Jr2SrRoadMap\n- Master FAANG Coding Interviews: https://bit.ly/FAANGPREP\n\n1-on-1 Mentorship: https://calendly.com/chrissean\nChris Sean Talks Podcast: https://spoti.fi/2YuqPEY\nTikTok & Twitter: @RealChrisSean\n\nDeveloper Branded: https://developerbranded.com\nJoin my discord channel: https://discord.gg/HctAeFh",
          "liveBroadcastContent": "none",
          "localized": {
           "description": "Get a 14-day free trial with my sponsor Aura and protect yourself from scammers and cybercriminals: http://Aura.com/chrissean\n\nTime stamp: \n0:00 - 0:50 Intro \n0:50 - 2:22 Sponsored by Auora\n2:22 - 3:32 Are coding bootcamps still worth it?\n3:32 - 5:49 Watch out for scams \n5:49 - 7:07 How much do coding bootcamps cost?\n7:07 - 8:16 College vs Coding Bootcamp?\n\nZero To Mastery Courses That I Recommend Below:\n- Master React.js Here: https://bit.ly/LearnReactNow\n- Complete Jr to Sr Web Dev Roadmap: https://bit.ly/Jr2SrRoadMap\n- Master FAANG Coding Interviews: https://bit.ly/FAANGPREP\n\n1-on-1 Mentorship: https://calendly.com/chrissean\nChris Sean Talks Podcast: https://spoti.fi/2YuqPEY\nTikTok & Twitter: @RealChrisSean\n\nDeveloper Branded: https://developerbranded.com\nJoin my discord channel: https://discord.gg/HctAeFh",
           "title": "Are Coding Bootcamps Still Worth It in 2023?"
          },
          "publishedAt": "2022-09-28T16:36:02Z",
          "tags": [
           "learn",
           "code",
           "life",
           "of",
           "web",
           "developer",
           "html",
           "css",
           "javascript",
           "query",
           "js",
           "php",
           "angular",
           "programmer",
           "software",
           "frontend",
           "backend",
           "front",
           "back",
           "programming",
           "job",
           "hired",
           "junior",
           "jr"
          ],
          "thumbnails": {
           "default": {
            "height": 90,
            "url": "https://i.ytimg.com/vi/myHh0eh6bzs/default.jpg",
            "width": 120
           },
           "high": {
            "height": 360,
            "url": "https://i.ytimg.com/vi/myHh0eh6bzs/hqdefault.jpg",
            "width": 480
           },
           "maxres": {
            "height": 720,
            "url": "https://i.ytimg.com/vi/myHh0eh6bzs/maxresdefault.jpg",
            "width": 1280
           },
           "medium": {
            "height": 180,
            "url": "https://i.ytimg.com/vi/myHh0eh6bzs/mqdefault.jpg",
            "width": 320
           },
           "standard": {
            "height": 480,
            "url": "https://i.ytimg.com/vi/myHh0eh6bzs/sddefault.jpg",
            "width": 640
           }
          },
          "title": "Are Coding Bootcamps Still Worth It in 2023?"
         },
         "statistics": {
          "commentCount": "162",
          "favoriteCount": "0",
          "likeCount": "979",
          "viewCount": "35591"
         }
        },
        {
         "contentDetails": {
          "caption": "false",
          "contentRating": {},
          "definition": "hd",
          "dimension": "2d",
          "duration": "PT55S",
          "licensedContent": true,
          "projection": "rectangular"
         },
         "etag": "FAzClIMXAa4yGJ0UUvQmGzWW-mQ",
         "id": "zEhZ64mvoFU",
         "kind": "youtube#video",
         "snippet": {
          "categoryId": "28",
          "channelId": "UCilJYqsETFZ7NG9g1xVKfcQ",
          "channelTitle": "thedevlife",
          "defaultAudioLanguage": "en-US",
          "description": "INSTAGRAM: https://links.thedevlife.co/instagram/thedevlifereels\nDISCORD: https://links.thedevlife.co/discord/thedevlife\nFACEBOOK: https://links.thedevlife.co/facebook/thedevlife\n\n\n#softwaredevelopment #softwareengineering #bootcamp",
          "liveBroadcastContent": "none",
          "localized": {
           "description": "INSTAGRAM: https://links.thedevlife.co/instagram/thedevlifereels\nDISCORD: https://links.thedevlife.co/discord/thedevlife\nFACEBOOK: https://links.thedevlife.co/facebook/thedevlife\n\n\n#softwaredevelopment #softwareengineering #bootcamp",
           "title": "Coding Bootcamp vs CS Degree"
          },
          "publishedAt": "2022-08-30T13:39:25Z",
          "tags": [
           "thedevlife",
           "web development",
           "learn to code",
           "computer science",
           "how to code",
           "learn how to code",
           "software development",
           "coding bootcamp",
           "self taught programmer",
           "coding bootcamp vs college",
           "how to become a software engineer",
           "code bootcamp",
           "computer science major",
           "coding bootcamp vs self taught",
           "coding bootcamp vs cs degree",
           "how to learn to code",
           "computer science basics",
           "coding bootcamp experience",
           "coding bootcamp for beginners",
           "software engineering for beginners"
          ],
          "thumbnails": {
           "default": {
            "height": 90,
            "url": "https://i.ytimg.com/vi/zEhZ64mvoFU/default.jpg",
            "width": 120
           },
           "high": {
            "height": 360,
            "url": "https://i.ytimg.com/vi/zEhZ64mvoFU/hqdefault.jpg",
            "width": 480
           },
           "maxres": {
            "height": 720,
            "url": "https://i.ytimg.com/vi/zEhZ64mvoFU/maxresdefault.jpg",
            "width": 1280
           },
           "medium": {
            "height": 180,
            "url": "https://i.ytimg.com/vi/zEhZ64mvoFU/mqdefault.jpg",
            "width": 320
           },
           "standard": {
            "height": 480,
            "url": "https://i.ytimg.com/vi/zEhZ64mvoFU/sddefault.jpg",
            "width": 640
           }
          },
          "title": "Coding Bootcamp vs CS Degree"
         },
         "statistics": {
          "commentCount": "37",
          "favoriteCount": "0",
          "likeCount": "889",
          "viewCount": "20928"
         }
        },
        {
         "contentDetails": {
          "caption": "false",
          "contentRating": {},
          "definition": "hd",
          "dimension": "2d",
          "duration": "PT35S",
          "licensedContent": true,
          "projection": "rectangular"
         },
         "etag": "2tfbLMmotWSNiQov1O1VwQNoE2I",
         "id": "SQMFjTjvhwc",
         "kind": "youtube#video",
         "snippet": {
          "categoryId": "22",
          "channelId": "UCqgQD21JkzgaowYBCfivl0A",
          "channelTitle": "TechTual Chatter",
          "defaultAudioLanguage": "en-US",
          "description": "",
          "liveBroadcastContent": "none",
          "localized": {
           "description": "",
           "title": "Don’t fall for TECH Bootcamp Scams"
          },
          "publishedAt": "2023-04-10T15:45:48Z",
          "thumbnails": {
           "default": {
            "height": 90,
            "url": "https://i.ytimg.com/vi/SQMFjTjvhwc/default.jpg",
            "width": 120
           },
           "high": {
            "height": 360,
            "url": "https://i.ytimg.com/vi/SQMFjTjvhwc/hqdefault.jpg",
            "width": 480
           },
           "maxres": {
            "height": 720,
            "url": "https://i.ytimg.com/vi/SQMFjTjvhwc/maxresdefault.jpg",
            "width": 1280
           },
           "medium": {
            "height": 180,
            "url": "https://i.ytimg.com/vi/SQMFjTjvhwc/mqdefault.jpg",
            "width": 320
           },
           "standard": {
            "height": 480,
            "url": "https://i.ytimg.com/vi/SQMFjTjvhwc/sddefault.jpg",
            "width": 640
           }
          },
          "title": "Don’t fall for TECH Bootcamp Scams"
         },
         "statistics": {
          "commentCount": "12",
          "favoriteCount": "0",
          "likeCount": "46",
          "viewCount": "729"
         }
        },
        {
         "contentDetails": {
          "caption": "false",
          "contentRating": {},
          "definition": "hd",
          "dimension": "2d",
          "duration": "PT1M1S",
          "licensedContent": true,
          "projection": "rectangular"
         },
         "etag": "Al6IH21Dci7ACef41wJ1u2G3-Gs",
         "id": "WKdZJrJpwHI",
         "kind": "youtube#video",
         "snippet": {
          "categoryId": "24",
          "channelId": "UCggXQcy57bwxUeZI1LB8DCw",
          "channelTitle": "Tech Is The New Black",
          "defaultAudioLanguage": "en",
          "defaultLanguage": "en",
          "description": "Click Here To Check Out ALL Recommended Bootcamps, Discounts & FAQs\nhttps://direct.me/imjustcyrus\n\n$200 Discount Link To General Assembly!\nhttps://ga.co/cyrus-ww\n(Courses: Data Analytics, Software Engineering, UX/UI Design, Data Science, Digital Marketing, Product Management, Javascript/Python/Front-End/React Development)\n\n$300 Discount Link To Careerist! \nhttps://crst.co/cyrus\n(Courses: Sales Engineering, Manual QA Tester & QA Automation)\n\n$50 Discount Code To CourseCareers\nCoupon: Cyrus50\n(Courses: Tech Sales / SDR, BDR, Account Executive)\n\nInstagram: @Imjustcyrus | @TechIsTheNewBlack \nYoutube | https://www.youtube.com/channel/UC46FZVPyI8FD6tkDyY3oX-g",
          "liveBroadcastContent": "none",
          "localized": {
           "description": "Click Here To Check Out ALL Recommended Bootcamps, Discounts & FAQs\nhttps://direct.me/imjustcyrus\n\n$200 Discount Link To General Assembly!\nhttps://ga.co/cyrus-ww\n(Courses: Data Analytics, Software Engineering, UX/UI Design, Data Science, Digital Marketing, Product Management, Javascript/Python/Front-End/React Development)\n\n$300 Discount Link To Careerist! \nhttps://crst.co/cyrus\n(Courses: Sales Engineering, Manual QA Tester & QA Automation)\n\n$50 Discount Code To CourseCareers\nCoupon: Cyrus50\n(Courses: Tech Sales / SDR, BDR, Account Executive)\n\nInstagram: @Imjustcyrus | @TechIsTheNewBlack \nYoutube | https://www.youtube.com/channel/UC46FZVPyI8FD6tkDyY3oX-g",
           "title": "6 Figure Tech Bootcamp Graduates Give Hiring Tips"
          },
          "publishedAt": "2022-10-06T11:00:17Z",
          "tags": [
           "afrotech",
           "blackistech",
           "renderatl",
           "techisthenewblack",
           "getmeintech",
           "techtopics",
           "pocintech",
           "lewlater",
           "marquesbrownlee",
           "mrwhostheboss",
           "linkedin",
           "linkedinrecruiter",
           "techcareers",
           "techjobs",
           "informationtechnology",
           "careerkarma",
           "saleengineering",
           "coding",
           "programming",
           "techbootcamps",
           "bootcamps",
           "jobs",
           "jobinterviews",
           "application",
           "resume",
           "coverletter",
           "workfromhome",
           "wfh",
           "womenintech",
           "blackwomenintech",
           "latinosintech",
           "latinwomenintech",
           "blackmenintech"
          ],
          "thumbnails": {
           "default": {
            "height": 90,
            "url": "https://i.ytimg.com/vi/WKdZJrJpwHI/default.jpg",
            "width": 120
           },
           "high": {
            "height": 360,
            "url": "https://i.ytimg.com/vi/WKdZJrJpwHI/hqdefault.jpg",
            "width": 480
           },
           "maxres": {
            "height": 720,
            "url": "https://i.ytimg.com/vi/WKdZJrJpwHI/maxresdefault.jpg",
            "width": 1280
           },
           "medium": {
            "height": 180,
            "url": "https://i.ytimg.com/vi/WKdZJrJpwHI/mqdefault.jpg",
            "width": 320
           },
           "standard": {
            "height": 480,
            "url": "https://i.ytimg.com/vi/WKdZJrJpwHI/sddefault.jpg",
            "width": 640
           }
          },
          "title": "6 Figure Tech Bootcamp Graduates Give Hiring Tips"
         },
         "statistics": {
          "commentCount": "1",
          "favoriteCount": "0",
          "likeCount": "307",
          "viewCount": "6766"
         }
        },
        {
         "contentDetails": {
          "caption": "false",
          "contentRating": {},
          "definition": "hd",
          "dimension": "2d",
          "duration": "PT4M19S",
          "licensedContent": true,
          "projection": "rectangular"
         },
         "etag": "kaKsEQFOl1nFBGZ_mRu2FCM3288",
         "id": "Qj_O_GHS7NU",
         "kind": "youtube#video",
         "snippet": {
          "categoryId": "24",
          "channelId": "UCggXQcy57bwxUeZI1LB8DCw",
          "channelTitle": "Tech Is The New Black",
          "defaultAudioLanguage": "en",
          "defaultLanguage": "en",
          "description": "Here are the 2 bootcamps I most recommend! \n\nCourseCareers is self paced. You can finish it in 3 weeks or 3 months. They offer tech sales roles only & are partnered with tech companies, so they’re usually able to get you a tech career quickly or a paid internship (up to $21/hr) while you wait to get hired on. \n\nThey only offer courses for people in North America. They’re just $449 with my discount code that gives you $50 off! \n\nDiscount Code: Cyrus50\n\nCourseCareers Website Here 👇🏾\nhttps://coursecareers.com/cyrusharbin\n\n\nCareerist (the bootcamp I chose) courses are 4 weeks long, virtual and are 8pm - 10:30pm Sun- Thur (Eastern). They record their classes In case you miss any. They are not partnered with tech companies, but they fix your resume & LinkedIn to industry standards and they apply to 5 companies a day for you & set you up on interviews. \n\nThey also do interview coaching & provide really good interview cheat sheets. They’re $4k, but I have a $300 discount link that you use with their sales too! The discount Is attached to the link automatically. They sometimes offer courses to non Americans.\n\nCareerist Discount Link 👇🏾\nhttps://crst.co/cyrus\n\nContact me In Instagram & keep me posted on which one you chose.",
          "liveBroadcastContent": "none",
          "localized": {
           "description": "Here are the 2 bootcamps I most recommend! \n\nCourseCareers is self paced. You can finish it in 3 weeks or 3 months. They offer tech sales roles only & are partnered with tech companies, so they’re usually able to get you a tech career quickly or a paid internship (up to $21/hr) while you wait to get hired on. \n\nThey only offer courses for people in North America. They’re just $449 with my discount code that gives you $50 off! \n\nDiscount Code: Cyrus50\n\nCourseCareers Website Here 👇🏾\nhttps://coursecareers.com/cyrusharbin\n\n\nCareerist (the bootcamp I chose) courses are 4 weeks long, virtual and are 8pm - 10:30pm Sun- Thur (Eastern). They record their classes In case you miss any. They are not partnered with tech companies, but they fix your resume & LinkedIn to industry standards and they apply to 5 companies a day for you & set you up on interviews. \n\nThey also do interview coaching & provide really good interview cheat sheets. They’re $4k, but I have a $300 discount link that you use with their sales too! The discount Is attached to the link automatically. They sometimes offer courses to non Americans.\n\nCareerist Discount Link 👇🏾\nhttps://crst.co/cyrus\n\nContact me In Instagram & keep me posted on which one you chose.",
           "title": "Do You Need A Tech Bootcamp To Get In Tech?"
          },
          "publishedAt": "2022-07-22T13:57:17Z",
          "thumbnails": {
           "default": {
            "height": 90,
            "url": "https://i.ytimg.com/vi/Qj_O_GHS7NU/default.jpg",
            "width": 120
           },
           "high": {
            "height": 360,
            "url": "https://i.ytimg.com/vi/Qj_O_GHS7NU/hqdefault.jpg",
            "width": 480
           },
           "maxres": {
            "height": 720,
            "url": "https://i.ytimg.com/vi/Qj_O_GHS7NU/maxresdefault.jpg",
            "width": 1280
           },
           "medium": {
            "height": 180,
            "url": "https://i.ytimg.com/vi/Qj_O_GHS7NU/mqdefault.jpg",
            "width": 320
           },
           "standard": {
            "height": 480,
            "url": "https://i.ytimg.com/vi/Qj_O_GHS7NU/sddefault.jpg",
            "width": 640
           }
          },
          "title": "Do You Need A Tech Bootcamp To Get In Tech?"
         },
         "statistics": {
          "commentCount": "5",
          "favoriteCount": "0",
          "likeCount": "84",
          "viewCount": "3060"
         }
        },
        {
         "contentDetails": {
          "caption": "false",
          "contentRating": {},
          "definition": "hd",
          "dimension": "2d",
          "duration": "PT9M17S",
          "licensedContent": true,
          "projection": "rectangular"
         },
         "etag": "u6vErRoTb4ipBeAAduOmLG7nzms",
         "id": "-VDXBHLU8q4",
         "kind": "youtube#video",
         "snippet": {
          "categoryId": "28",
          "channelId": "UCcJQ96WlEhJ0Ve0SLmU310Q",
          "channelTitle": "Internet Made Coder",
          "defaultAudioLanguage": "en",
          "defaultLanguage": "en",
          "description": "How I became a self-taught Software Engineer & How I learned to code from completely zero without a Computer Science degree or Bootcamp! \n\n⚡️ Apply for 1-on-1 Coaching with me - https://forms.gle/xY64uHB6CRX8mues7\n\n🚀 Become a Real Python Developer - https://academy.internetmadecoder.com/python-dev-masterclass\n\nMY FREE CLASS:\n🚀 How to Successfully Learn to Code and Become a Software Developer - A Step-by-Step Framework - https://skl.sh/3WvgSzZ\n\n📸 FOLLOW ME ON INSTAGRAM - https://www.instagram.com/internetmcoder/\n\nBEST ONLINE CODING IDE - http://replit.com/?utm_source=YouTube&utm_medium=influencer_ads&utm_campaign=YT_SEO&utm_term=&utm_content=Internet_Made_Coder\n\nRESOURCES MENTIONED\nPYTHON FOR EVERYBODY - https://imp.i384100.net/Zd5jjq\nCS50 - https://cs50.harvard.edu/x/2022/\nODIN PROJECT - https://www.theodinproject.com/\nCS50 WEB - https://cs50.harvard.edu/web/2020/\n\n🧠 Sign Up to my Newsletter to get my Free Online Computer Science Degree Template - https://academy.internetmadecoder.com/internet-made-club\n\nOTHER STUDY & CODING RESOURCES\n💰 BEST COURSES TO LEARN TO CODE FROM ZERO & GET A JOB. Use Code  FRIENDS10 for 10% off - https://academy.zerotomastery.io/a/aff_r1613hhr/external?affcode=441520_vhlt5jy9\n➕ BEST COURSE TO LEARN DATA STRUCTURES AND ALGORITHMS - https://academy.zerotomastery.io/a/aff_nqb6sg6w/external?affcode=441520_vhlt5jy9\n📗 BEST BOOK TO PASS CODING INTERVIEWS - https://amzn.to/3i8B8EK\n\nMY BLOG\n📗 JOIN MEDIUM TO ACCESS MY BLOG CONTENT - https://medium.com/@internetpreneur/membership\n\nOTHER VIDEOS\n💻 How I Learned to Code in 4 MONTHS - & Got a Software Engineer Job (no CS Degree) - https://youtu.be/-VDXBHLU8q4\n⌨️ How I'm Teaching Myself Computer Science using Notion (OSSU) - https://youtu.be/gE5DVOfXy1s\n🖱 CS50 FULL REVIEW - Best Course to Learn Computer Science in 2022? (edX, Harvard) - https://youtu.be/-Zj1kepwRuw\n\nChapters:\n\n0:00 intro\n0:21 Why I quit Economics for CS\n1:30 Step 1\n2:05 Step 2\n4:09 Step 3\n5:24 How long will it take?\n5:50 Will you ever learn to code..?\n6:38 You need to do THIS\n7:40 How I got a job\n\nJust a few months ago, I had no idea what coding even was. All I knew was that it had something to do with typing complicated stuff on a computer. I got the idea of  learning how to code after I graduated with an Economics Degree from a university in London. Economics is a highly valued degree, most people who do it in top universities like mine become investment bankers and stuff like that. I did an internship at a big bank too, but I hated it. So I started looking into what career path could give me a lot of money, and also a great work-life balance. So I discovered, software engineering.\n\nI learned that to become a software engineer, all you really need is to know how to code. So I typed on Google, how to learn to code, and I ended up starting with Python for Everybody and the Odin Project, these are both free resources, the former introduced me to one of the most popular programming languages of today, Python, and the latter familiarized me with the basics of Web Development using HTML, CSS and Javascript.\n\nAt this point my goal was just to get a vague sense of the vast world of programming, to start understanding what was out there, how the different pieces like front-end and backend development fit together and what they mean at a high level. Going through the Odin Project I got a basic sense for many interesting topics such as how the internet works and what it actually means to open a web page on your browser.\n\nI will also tell you how I got my first job in tech as a Software Engineer..\n\nDISCLAIMER: some of the links in the description may be affiliate links. If you purchase a product or service using the links that I provide I may receive a small commission. This is no extra charge to you! Thanks for supporting Internet Made Coder :)\n\nTags: how to learn programming, how to learn to code, learn to code, coding, programming, software engineer, software engineering, software development, self taught programmer, tech, career in tech, techcareer, data science, how to become a software engineer, self-taught software developer, no cs degree, frontend developer, learn computer science, online, learn faster, no college, ossu, open-source computer science degree, programmer",
          "liveBroadcastContent": "none",
          "localized": {
           "description": "How I became a self-taught Software Engineer & How I learned to code from completely zero without a Computer Science degree or Bootcamp! \n\n⚡️ Apply for 1-on-1 Coaching with me - https://forms.gle/xY64uHB6CRX8mues7\n\n🚀 Become a Real Python Developer - https://academy.internetmadecoder.com/python-dev-masterclass\n\nMY FREE CLASS:\n🚀 How to Successfully Learn to Code and Become a Software Developer - A Step-by-Step Framework - https://skl.sh/3WvgSzZ\n\n📸 FOLLOW ME ON INSTAGRAM - https://www.instagram.com/internetmcoder/\n\nBEST ONLINE CODING IDE - http://replit.com/?utm_source=YouTube&utm_medium=influencer_ads&utm_campaign=YT_SEO&utm_term=&utm_content=Internet_Made_Coder\n\nRESOURCES MENTIONED\nPYTHON FOR EVERYBODY - https://imp.i384100.net/Zd5jjq\nCS50 - https://cs50.harvard.edu/x/2022/\nODIN PROJECT - https://www.theodinproject.com/\nCS50 WEB - https://cs50.harvard.edu/web/2020/\n\n🧠 Sign Up to my Newsletter to get my Free Online Computer Science Degree Template - https://academy.internetmadecoder.com/internet-made-club\n\nOTHER STUDY & CODING RESOURCES\n💰 BEST COURSES TO LEARN TO CODE FROM ZERO & GET A JOB. Use Code  FRIENDS10 for 10% off - https://academy.zerotomastery.io/a/aff_r1613hhr/external?affcode=441520_vhlt5jy9\n➕ BEST COURSE TO LEARN DATA STRUCTURES AND ALGORITHMS - https://academy.zerotomastery.io/a/aff_nqb6sg6w/external?affcode=441520_vhlt5jy9\n📗 BEST BOOK TO PASS CODING INTERVIEWS - https://amzn.to/3i8B8EK\n\nMY BLOG\n📗 JOIN MEDIUM TO ACCESS MY BLOG CONTENT - https://medium.com/@internetpreneur/membership\n\nOTHER VIDEOS\n💻 How I Learned to Code in 4 MONTHS - & Got a Software Engineer Job (no CS Degree) - https://youtu.be/-VDXBHLU8q4\n⌨️ How I'm Teaching Myself Computer Science using Notion (OSSU) - https://youtu.be/gE5DVOfXy1s\n🖱 CS50 FULL REVIEW - Best Course to Learn Computer Science in 2022? (edX, Harvard) - https://youtu.be/-Zj1kepwRuw\n\nChapters:\n\n0:00 intro\n0:21 Why I quit Economics for CS\n1:30 Step 1\n2:05 Step 2\n4:09 Step 3\n5:24 How long will it take?\n5:50 Will you ever learn to code..?\n6:38 You need to do THIS\n7:40 How I got a job\n\nJust a few months ago, I had no idea what coding even was. All I knew was that it had something to do with typing complicated stuff on a computer. I got the idea of  learning how to code after I graduated with an Economics Degree from a university in London. Economics is a highly valued degree, most people who do it in top universities like mine become investment bankers and stuff like that. I did an internship at a big bank too, but I hated it. So I started looking into what career path could give me a lot of money, and also a great work-life balance. So I discovered, software engineering.\n\nI learned that to become a software engineer, all you really need is to know how to code. So I typed on Google, how to learn to code, and I ended up starting with Python for Everybody and the Odin Project, these are both free resources, the former introduced me to one of the most popular programming languages of today, Python, and the latter familiarized me with the basics of Web Development using HTML, CSS and Javascript.\n\nAt this point my goal was just to get a vague sense of the vast world of programming, to start understanding what was out there, how the different pieces like front-end and backend development fit together and what they mean at a high level. Going through the Odin Project I got a basic sense for many interesting topics such as how the internet works and what it actually means to open a web page on your browser.\n\nI will also tell you how I got my first job in tech as a Software Engineer..\n\nDISCLAIMER: some of the links in the description may be affiliate links. If you purchase a product or service using the links that I provide I may receive a small commission. This is no extra charge to you! Thanks for supporting Internet Made Coder :)\n\nTags: how to learn programming, how to learn to code, learn to code, coding, programming, software engineer, software engineering, software development, self taught programmer, tech, career in tech, techcareer, data science, how to become a software engineer, self-taught software developer, no cs degree, frontend developer, learn computer science, online, learn faster, no college, ossu, open-source computer science degree, programmer",
           "title": "How I Learned to Code in 4 MONTHS & Got a Job Offer (no CS Degree)"
          },
          "publishedAt": "2022-02-12T10:17:04Z",
          "tags": [
           "coding",
           "programming",
           "software engineer",
           "self taught programmer",
           "web app",
           "tech",
           "career in tech",
           "techcareer",
           "how to become a software engineer",
           "self-taught software developer",
           "no cs degree",
           "frontend developer",
           "programmer",
           "web developer",
           "how to learn to code",
           "learn to code",
           "how to learn programming",
           "software engineering",
           "software development"
          ],
          "thumbnails": {
           "default": {
            "height": 90,
            "url": "https://i.ytimg.com/vi/-VDXBHLU8q4/default.jpg",
            "width": 120
           },
           "high": {
            "height": 360,
            "url": "https://i.ytimg.com/vi/-VDXBHLU8q4/hqdefault.jpg",
            "width": 480
           },
           "maxres": {
            "height": 720,
            "url": "https://i.ytimg.com/vi/-VDXBHLU8q4/maxresdefault.jpg",
            "width": 1280
           },
           "medium": {
            "height": 180,
            "url": "https://i.ytimg.com/vi/-VDXBHLU8q4/mqdefault.jpg",
            "width": 320
           },
           "standard": {
            "height": 480,
            "url": "https://i.ytimg.com/vi/-VDXBHLU8q4/sddefault.jpg",
            "width": 640
           }
          },
          "title": "How I Learned to Code in 4 MONTHS & Got a Job Offer (no CS Degree)"
         },
         "statistics": {
          "commentCount": "2824",
          "favoriteCount": "0",
          "likeCount": "147066",
          "viewCount": "3461010"
         }
        },
        {
         "contentDetails": {
          "caption": "false",
          "contentRating": {},
          "definition": "hd",
          "dimension": "2d",
          "duration": "PT7M43S",
          "licensedContent": true,
          "projection": "rectangular"
         },
         "etag": "s3lD80kS_rP6rprK5gwGsxMcIwc",
         "id": "33Y3awh7Rd8",
         "kind": "youtube#video",
         "snippet": {
          "categoryId": "27",
          "channelId": "UCLKZ20yD2tNMBOkSDZo4FeQ",
          "channelTitle": "Shane Hummus",
          "defaultAudioLanguage": "en",
          "description": "Troy’s Tech Sales Free Training (Get $50 off using the link):\nhttps://coursecareers.com/a/shanehummus?course=sales\n\n\n \n----------\n\nThese videos are for entertainment purposes only and they are just Shane's opinion based off of his own life experience and the research that he's done. Shane is not an attorney, CPA, insurance, or financial advisor and the information presented shall not be construed as tax, legal, insurance, safety or financial advice. If stocks or companies are mentioned, Shane might have an ownership interest in them. Affiliate links may be present, the offers and numbers presented may change over time so please make sure to confirm that the offer is still valid.  Some offers mentioned may no longer be available or they have been changed.  Please don’t make buying or selling decisions based on Shane’s videos. If you need such advice, please contact the qualified legal or financial professionals, don't just trust the opinion of a stranger on the internet and always make sure to do your own research and enjoy this family friendly content.",
          "liveBroadcastContent": "none",
          "localized": {
           "description": "Troy’s Tech Sales Free Training (Get $50 off using the link):\nhttps://coursecareers.com/a/shanehummus?course=sales\n\n\n \n----------\n\nThese videos are for entertainment purposes only and they are just Shane's opinion based off of his own life experience and the research that he's done. Shane is not an attorney, CPA, insurance, or financial advisor and the information presented shall not be construed as tax, legal, insurance, safety or financial advice. If stocks or companies are mentioned, Shane might have an ownership interest in them. Affiliate links may be present, the offers and numbers presented may change over time so please make sure to confirm that the offer is still valid.  Some offers mentioned may no longer be available or they have been changed.  Please don’t make buying or selling decisions based on Shane’s videos. If you need such advice, please contact the qualified legal or financial professionals, don't just trust the opinion of a stranger on the internet and always make sure to do your own research and enjoy this family friendly content.",
           "title": "Top 5 BEST Tech Sales Bootcamps"
          },
          "publishedAt": "2022-11-21T00:00:02Z",
          "tags": [
           "Shane",
           "Hummus",
           "Shane Hummus",
           "tech sales",
           "software sales",
           "saas sales",
           "how to get into software sales",
           "tech sales bootcamp",
           "breaking into software sales",
           "how to be good at software sales",
           "tech sales entry level",
           "saas sales meaning",
           "bdr job",
           "software sales overview",
           "sdr job",
           "tech sales salary",
           "course careers",
           "software sales career",
           "tech sales companies",
           "how to get a software sales job",
           "business development manager",
           "tech sales training",
           "why work in tech sales"
          ],
          "thumbnails": {
           "default": {
            "height": 90,
            "url": "https://i.ytimg.com/vi/33Y3awh7Rd8/default.jpg",
            "width": 120
           },
           "high": {
            "height": 360,
            "url": "https://i.ytimg.com/vi/33Y3awh7Rd8/hqdefault.jpg",
            "width": 480
           },
           "maxres": {
            "height": 720,
            "url": "https://i.ytimg.com/vi/33Y3awh7Rd8/maxresdefault.jpg",
            "width": 1280
           },
           "medium": {
            "height": 180,
            "url": "https://i.ytimg.com/vi/33Y3awh7Rd8/mqdefault.jpg",
            "width": 320
           },
           "standard": {
            "height": 480,
            "url": "https://i.ytimg.com/vi/33Y3awh7Rd8/sddefault.jpg",
            "width": 640
           }
          },
          "title": "Top 5 BEST Tech Sales Bootcamps"
         },
         "statistics": {
          "commentCount": "33",
          "favoriteCount": "0",
          "likeCount": "251",
          "viewCount": "6121"
         }
        },
        {
         "contentDetails": {
          "caption": "false",
          "contentRating": {},
          "definition": "hd",
          "dimension": "2d",
          "duration": "PT58S",
          "licensedContent": true,
          "projection": "rectangular"
         },
         "etag": "blndWQfNHDqn7ByNpbz6YQ9TDrw",
         "id": "8k5xdnMMHpw",
         "kind": "youtube#video",
         "snippet": {
          "categoryId": "24",
          "channelId": "UCggXQcy57bwxUeZI1LB8DCw",
          "channelTitle": "Tech Is The New Black",
          "defaultAudioLanguage": "en",
          "defaultLanguage": "en",
          "description": "In this captivating video, I share my remarkable journey from being a Lyft driver to entering the thriving tech industry. With no college degree, I enrolled in a tech bootcamp that paved the way for an incredible career transformation. Watch as I disclose the shockingly fast growth and astounding salary leap, offering an inspiring tale of perseverance and success in the tech world.\n\nLet us know what questions you want us to ask our future tech guests and what kind of guests we should interview.\n\nGot any questions? Click Here To Check Out ALL Recommended Bootcamps, Discounts & FAQs\nhttps://direct.me/imjustcyrus\n\nHere are the 2 bootcamps we most recommend! \n\n1. Careerist (the bootcamp I chose) \nThese courses are 4 weeks long, virtual and are 8pm - 10:30pm Sun- Thur (Eastern). They record their classes In case you miss any. They are not partnered with tech companies, but they fix your resume & LinkedIn to industry standards and they assist you with finding jobs to apply to - in order to help set you up on interviews. \n\nThey also do interview coaching & provide really good interview cheat sheets. They’re about $4k, but I have a $300 discount link that you use with their sales too! The discount Is attached to the link automatically.\nCareerist Discount Link: \nhttps://crst.co/cyrus\n\n2. CourseCareers is self paced. You can finish it in 3 weeks or 3 months. They offer tech sales roles only & are partnered with tech companies, so they’re usually able to get you a tech career quickly or a paid internship (up to $21/hr) while you wait to get hired on. They only offer courses for people in North America. They’re just $449 with my discount code that gives you $50 off! \n\nDiscount Code: Cyrus50\nCourseCareers Website Here 👇🏾\nhttps://coursecareers.com/ref/8071/\n\nInstagram: @Imjustcyrus | @TechIsTheNewBlack \nYoutube | https://www.youtube.com/channel/UC46FZVPyI8FD6tkDyY3oX-g\n\nKeep me posted on your journey! \n\nInstagram: @Imjustcyrus | @TechIsTheNewBlack \nYoutube | https://www.youtube.com/channel/UC46FZVPyI8FD6tkDyY3oX-g\n\nInterested in being a guest or recommending a guest?! We are looking for more guests who are Startup founders, senior level and tech influencers! If you fit this category, fill out our guest request form here: https://www.techisthenewblack.com/\n\nPodcast Host: Cyrus Harbin / @Imjustcyrus\nDirector of Photography: Eric Bates / @IamEricBates\nAudio Engineer: @IamEricBates\nExecutive Producer: @Imjustcyrus\nSenior Producer: Rhea Dawkins / @Rsvpmeplease\nAssociate Producer: Auzsha Gardner / @Auzarella ,  @IamEricBates\nVideo Editor: @iamericbates\n\n#remotework #wfh #techlife #fintechlife #techlifestyle #blackmenintech #blackengineers #techisthenewblack #explorepage #discoverpage #wfh #workfromhome #womenintech",
          "liveBroadcastContent": "none",
          "localized": {
           "description": "In this captivating video, I share my remarkable journey from being a Lyft driver to entering the thriving tech industry. With no college degree, I enrolled in a tech bootcamp that paved the way for an incredible career transformation. Watch as I disclose the shockingly fast growth and astounding salary leap, offering an inspiring tale of perseverance and success in the tech world.\n\nLet us know what questions you want us to ask our future tech guests and what kind of guests we should interview.\n\nGot any questions? Click Here To Check Out ALL Recommended Bootcamps, Discounts & FAQs\nhttps://direct.me/imjustcyrus\n\nHere are the 2 bootcamps we most recommend! \n\n1. Careerist (the bootcamp I chose) \nThese courses are 4 weeks long, virtual and are 8pm - 10:30pm Sun- Thur (Eastern). They record their classes In case you miss any. They are not partnered with tech companies, but they fix your resume & LinkedIn to industry standards and they assist you with finding jobs to apply to - in order to help set you up on interviews. \n\nThey also do interview coaching & provide really good interview cheat sheets. They’re about $4k, but I have a $300 discount link that you use with their sales too! The discount Is attached to the link automatically.\nCareerist Discount Link: \nhttps://crst.co/cyrus\n\n2. CourseCareers is self paced. You can finish it in 3 weeks or 3 months. They offer tech sales roles only & are partnered with tech companies, so they’re usually able to get you a tech career quickly or a paid internship (up to $21/hr) while you wait to get hired on. They only offer courses for people in North America. They’re just $449 with my discount code that gives you $50 off! \n\nDiscount Code: Cyrus50\nCourseCareers Website Here 👇🏾\nhttps://coursecareers.com/ref/8071/\n\nInstagram: @Imjustcyrus | @TechIsTheNewBlack \nYoutube | https://www.youtube.com/channel/UC46FZVPyI8FD6tkDyY3oX-g\n\nKeep me posted on your journey! \n\nInstagram: @Imjustcyrus | @TechIsTheNewBlack \nYoutube | https://www.youtube.com/channel/UC46FZVPyI8FD6tkDyY3oX-g\n\nInterested in being a guest or recommending a guest?! We are looking for more guests who are Startup founders, senior level and tech influencers! If you fit this category, fill out our guest request form here: https://www.techisthenewblack.com/\n\nPodcast Host: Cyrus Harbin / @Imjustcyrus\nDirector of Photography: Eric Bates / @IamEricBates\nAudio Engineer: @IamEricBates\nExecutive Producer: @Imjustcyrus\nSenior Producer: Rhea Dawkins / @Rsvpmeplease\nAssociate Producer: Auzsha Gardner / @Auzarella ,  @IamEricBates\nVideo Editor: @iamericbates\n\n#remotework #wfh #techlife #fintechlife #techlifestyle #blackmenintech #blackengineers #techisthenewblack #explorepage #discoverpage #wfh #workfromhome #womenintech",
           "title": "Tech Bootcamp Success Story: How I Went from No Degree to 90K Salary!"
          },
          "publishedAt": "2023-06-21T15:00:09Z",
          "tags": [
           "afrotech",
           "black is tech",
           "tech is the new black",
           "get me in tech",
           "techtopics",
           "tech careers",
           "tech jobs",
           "information technology",
           "sale engineering",
           "coding",
           "programming",
           "bootcamps",
           "wfh",
           "women in tech",
           "black women in tech",
           "cyber security bootcamps",
           "cyber security",
           "tech sales",
           "sales engineer",
           "black tech",
           "Cyrus Harbin",
           "imjustcyrus",
           "black men in tech",
           "tech bootcamps",
           "rags to riches",
           "techisthenewblack",
           "Empowering Entrepreneurs",
           "Vonza's Own Merchant Services",
           "entrepreneurship"
          ],
          "thumbnails": {
           "default": {
            "height": 90,
            "url": "https://i.ytimg.com/vi/8k5xdnMMHpw/default.jpg",
            "width": 120
           },
           "high": {
            "height": 360,
            "url": "https://i.ytimg.com/vi/8k5xdnMMHpw/hqdefault.jpg",
            "width": 480
           },
           "maxres": {
            "height": 720,
            "url": "https://i.ytimg.com/vi/8k5xdnMMHpw/maxresdefault.jpg",
            "width": 1280
           },
           "medium": {
            "height": 180,
            "url": "https://i.ytimg.com/vi/8k5xdnMMHpw/mqdefault.jpg",
            "width": 320
           },
           "standard": {
            "height": 480,
            "url": "https://i.ytimg.com/vi/8k5xdnMMHpw/sddefault.jpg",
            "width": 640
           }
          },
          "title": "Tech Bootcamp Success Story: How I Went from No Degree to 90K Salary!"
         },
         "statistics": {
          "commentCount": "22",
          "favoriteCount": "0",
          "likeCount": "556",
          "viewCount": "7269"
         }
        },
        {
         "contentDetails": {
          "caption": "false",
          "contentRating": {},
          "definition": "hd",
          "dimension": "2d",
          "duration": "PT8M59S",
          "licensedContent": false,
          "projection": "rectangular"
         },
         "etag": "hTzlCLKJSlatuV8gdj8bOm-vRZI",
         "id": "bw7J2BPETak",
         "kind": "youtube#video",
         "snippet": {
          "categoryId": "24",
          "channelId": "UC50JofjMZpr3KCbOx6dHi_A",
          "channelTitle": "Jack Ross",
          "defaultAudioLanguage": "en",
          "description": "You might have heard stories of people going from unemployed to landing six-figure tech jobs in a matter of months... because of coding bootcamps. But are these stories even true? Is there actually a way to learn to code and become a software engineer, data scientist, or web developer in a quarter of the time it takes to get a traditional computer science degree? Just over a year ago, I graduated from Bloom Tech, a coding bootcamp and I'm here to answer the question... Are coding bootcamps worth it in 2022?\n\n📝 All of My Interviews After Coding Bootcamp (Article):\nhttps://jackcalvinross.medium.com/all-of-my-interviews-after-coding-bootcamp-c4d9542c01f5\n\n💻 Bloom Technical Institute: (The only coding bootcamp I can 110% recommend.)\nhttps://www.bloomtech.com\n\n✌️ WHO AM I:\nI'm Jack Ross, a remote data analyst and YouTuber living in Denver, Colorado. I'm a self-taught programmer turned data analyst/data scientist and I make videos about technology, productivity, and a few other things! Most importantly; I love learning.\n\nLET'S BE FRIENDS:\n📸  Instagram - https://instagram.com/jackcalvinross​\n🐦  Twitter - https://twitter.com/jackcalvinross\n👨🏼‍💻  Blog - https://jackcalvinross.medium.com\n🌐  Website - https://www.jackross.org\n\n00:00 Intro\n00:35 What is a coding bootcamp?\n01:26 My Coding Bootcamp: Bloom Tech\n02:23 How much does coding bootcamp cost?\n03:00 What do you learn in coding bootcamp?\n05:47 Looking for jobs after coding bootcamp\n07:16 Interviewing for jobs after coding bootcamp\n08:09 Was coding bootcamp worth it?\n\n#codingbootcamp #datascience #programming",
          "liveBroadcastContent": "none",
          "localized": {
           "description": "You might have heard stories of people going from unemployed to landing six-figure tech jobs in a matter of months... because of coding bootcamps. But are these stories even true? Is there actually a way to learn to code and become a software engineer, data scientist, or web developer in a quarter of the time it takes to get a traditional computer science degree? Just over a year ago, I graduated from Bloom Tech, a coding bootcamp and I'm here to answer the question... Are coding bootcamps worth it in 2022?\n\n📝 All of My Interviews After Coding Bootcamp (Article):\nhttps://jackcalvinross.medium.com/all-of-my-interviews-after-coding-bootcamp-c4d9542c01f5\n\n💻 Bloom Technical Institute: (The only coding bootcamp I can 110% recommend.)\nhttps://www.bloomtech.com\n\n✌️ WHO AM I:\nI'm Jack Ross, a remote data analyst and YouTuber living in Denver, Colorado. I'm a self-taught programmer turned data analyst/data scientist and I make videos about technology, productivity, and a few other things! Most importantly; I love learning.\n\nLET'S BE FRIENDS:\n📸  Instagram - https://instagram.com/jackcalvinross​\n🐦  Twitter - https://twitter.com/jackcalvinross\n👨🏼‍💻  Blog - https://jackcalvinross.medium.com\n🌐  Website - https://www.jackross.org\n\n00:00 Intro\n00:35 What is a coding bootcamp?\n01:26 My Coding Bootcamp: Bloom Tech\n02:23 How much does coding bootcamp cost?\n03:00 What do you learn in coding bootcamp?\n05:47 Looking for jobs after coding bootcamp\n07:16 Interviewing for jobs after coding bootcamp\n08:09 Was coding bootcamp worth it?\n\n#codingbootcamp #datascience #programming",
           "title": "Are Coding Bootcamps Worth It? (One Year After Bootcamp)"
          },
          "publishedAt": "2022-07-22T11:37:55Z",
          "tags": [
           "coding bootcamp",
           "coding bootcamp worth it 2022",
           "coding bootcamps",
           "coding bootcamp review",
           "learn to code",
           "lambda school",
           "bloomtech",
           "software developer",
           "software engineer",
           "coding bootcamp 2022",
           "coding bootcamps that guarantee a job",
           "best coding bootcamps 2022",
           "become a software engineer",
           "data science bootcamp 2022",
           "coding school online",
           "self taught programmer",
           "self taught software engineer",
           "web development",
           "is coding bootcamp worth it",
           "coding bootcamp worth it",
           "code bootcamp"
          ],
          "thumbnails": {
           "default": {
            "height": 90,
            "url": "https://i.ytimg.com/vi/bw7J2BPETak/default.jpg",
            "width": 120
           },
           "high": {
            "height": 360,
            "url": "https://i.ytimg.com/vi/bw7J2BPETak/hqdefault.jpg",
            "width": 480
           },
           "maxres": {
            "height": 720,
            "url": "https://i.ytimg.com/vi/bw7J2BPETak/maxresdefault.jpg",
            "width": 1280
           },
           "medium": {
            "height": 180,
            "url": "https://i.ytimg.com/vi/bw7J2BPETak/mqdefault.jpg",
            "width": 320
           },
           "standard": {
            "height": 480,
            "url": "https://i.ytimg.com/vi/bw7J2BPETak/sddefault.jpg",
            "width": 640
           }
          },
          "title": "Are Coding Bootcamps Worth It? (One Year After Bootcamp)"
         },
         "statistics": {
          "commentCount": "56",
          "favoriteCount": "0",
          "likeCount": "445",
          "viewCount": "15556"
         }
        },
        {
         "contentDetails": {
          "caption": "false",
          "contentRating": {},
          "definition": "hd",
          "dimension": "2d",
          "duration": "PT6M7S",
          "licensedContent": false,
          "projection": "rectangular"
         },
         "etag": "yELWX2NHY5lC_vvibGPhQd3sZok",
         "id": "5_GxxL9Rtpw",
         "kind": "youtube#video",
         "snippet": {
          "categoryId": "22",
          "channelId": "UCzS59OnVmzdf5wFJa0UKhew",
          "channelTitle": "Colby Jax",
          "description": "Hit that subscribe button. It's free!\nSo much has changed in the industry in the past two years. With all these changes I think a lot of us are second-guessing whether or not to attend a coding BootCamp in the first place. In this video I talk about why it might not be the best idea for everyone and what to do if you decide to go to one yourself.",
          "liveBroadcastContent": "none",
          "localized": {
           "description": "Hit that subscribe button. It's free!\nSo much has changed in the industry in the past two years. With all these changes I think a lot of us are second-guessing whether or not to attend a coding BootCamp in the first place. In this video I talk about why it might not be the best idea for everyone and what to do if you decide to go to one yourself.",
           "title": "don't go to a coding bootcamp in 2024.."
          },
          "publishedAt": "2023-04-22T18:15:06Z",
          "thumbnails": {
           "default": {
            "height": 90,
            "url": "https://i.ytimg.com/vi/5_GxxL9Rtpw/default.jpg",
            "width": 120
           },
           "high": {
            "height": 360,
            "url": "https://i.ytimg.com/vi/5_GxxL9Rtpw/hqdefault.jpg",
            "width": 480
           },
           "maxres": {
            "height": 720,
            "url": "https://i.ytimg.com/vi/5_GxxL9Rtpw/maxresdefault.jpg",
            "width": 1280
           },
           "medium": {
            "height": 180,
            "url": "https://i.ytimg.com/vi/5_GxxL9Rtpw/mqdefault.jpg",
            "width": 320
           },
           "standard": {
            "height": 480,
            "url": "https://i.ytimg.com/vi/5_GxxL9Rtpw/sddefault.jpg",
            "width": 640
           }
          },
          "title": "don't go to a coding bootcamp in 2024.."
         },
         "statistics": {
          "commentCount": "58",
          "favoriteCount": "0",
          "likeCount": "310",
          "viewCount": "14621"
         }
        },
        {
         "contentDetails": {
          "caption": "false",
          "contentRating": {},
          "definition": "hd",
          "dimension": "2d",
          "duration": "PT10M32S",
          "licensedContent": true,
          "projection": "rectangular"
         },
         "etag": "ZPOE30VOuziW6T7TJeHiVTZCl1s",
         "id": "JdIykKy0Vfo",
         "kind": "youtube#video",
         "snippet": {
          "categoryId": "22",
          "channelId": "UC4MZ7zUHb5eAxU75Dc_nqdQ",
          "channelTitle": "Tiff In Tech",
          "description": "Hi everyone! \n\nI am sharing with you my experience attending a coding bootcamp and advice I have for anyone who is thinking of attending one to decide if it is right for you! \n\nBusiness inquiries: info@thisistiffin.com\n\nCOME SAY HI :) \nhttps://www.instagram.com/tiffintech/",
          "liveBroadcastContent": "none",
          "localized": {
           "description": "Hi everyone! \n\nI am sharing with you my experience attending a coding bootcamp and advice I have for anyone who is thinking of attending one to decide if it is right for you! \n\nBusiness inquiries: info@thisistiffin.com\n\nCOME SAY HI :) \nhttps://www.instagram.com/tiffintech/",
           "title": "CODING BOOTCAMPS | My experience, cost, jobs afterwards"
          },
          "publishedAt": "2018-09-30T19:30:48Z",
          "tags": [
           "coding",
           "technology"
          ],
          "thumbnails": {
           "default": {
            "height": 90,
            "url": "https://i.ytimg.com/vi/JdIykKy0Vfo/default.jpg",
            "width": 120
           },
           "high": {
            "height": 360,
            "url": "https://i.ytimg.com/vi/JdIykKy0Vfo/hqdefault.jpg",
            "width": 480
           },
           "maxres": {
            "height": 720,
            "url": "https://i.ytimg.com/vi/JdIykKy0Vfo/maxresdefault.jpg",
            "width": 1280
           },
           "medium": {
            "height": 180,
            "url": "https://i.ytimg.com/vi/JdIykKy0Vfo/mqdefault.jpg",
            "width": 320
           },
           "standard": {
            "height": 480,
            "url": "https://i.ytimg.com/vi/JdIykKy0Vfo/sddefault.jpg",
            "width": 640
           }
          },
          "title": "CODING BOOTCAMPS | My experience, cost, jobs afterwards"
         },
         "statistics": {
          "commentCount": "605",
          "favoriteCount": "0",
          "likeCount": "7204",
          "viewCount": "359710"
         }
        },
        {
         "contentDetails": {
          "caption": "false",
          "contentRating": {},
          "definition": "hd",
          "dimension": "2d",
          "duration": "PT10M27S",
          "licensedContent": false,
          "projection": "rectangular"
         },
         "etag": "OjI28Bu2MJX3HNcdbQHFKqCqZ_c",
         "id": "lrXwGOBbgeA",
         "kind": "youtube#video",
         "snippet": {
          "categoryId": "28",
          "channelId": "UCTGPGMsqrTjcirmf16U6mlA",
          "channelTitle": "Mike or Mykull",
          "description": "There's a lot to consider if you're thinking about whether you should go to a coding bootcamp or not. I share my thoughts and five of the more important factors in this video. \n\n00:00 Intro\n01:04 Work Ethic\n01:59 Goals\n02:41 Bootcamp Quality\n05:38 Opportunity Cost\n08:45 Economy",
          "liveBroadcastContent": "none",
          "localized": {
           "description": "There's a lot to consider if you're thinking about whether you should go to a coding bootcamp or not. I share my thoughts and five of the more important factors in this video. \n\n00:00 Intro\n01:04 Work Ethic\n01:59 Goals\n02:41 Bootcamp Quality\n05:38 Opportunity Cost\n08:45 Economy",
           "title": "Is coding bootcamp worth it in 2023? (from a Fullstack Academy grad)"
          },
          "publishedAt": "2023-01-30T01:43:08Z",
          "tags": [
           "coding bootcamp",
           "bootcamp",
           "coding bootcamp worth it",
           "2023",
           "fullstack academy",
           "hack reactor",
           "codesmith"
          ],
          "thumbnails": {
           "default": {
            "height": 90,
            "url": "https://i.ytimg.com/vi/lrXwGOBbgeA/default.jpg",
            "width": 120
           },
           "high": {
            "height": 360,
            "url": "https://i.ytimg.com/vi/lrXwGOBbgeA/hqdefault.jpg",
            "width": 480
           },
           "maxres": {
            "height": 720,
            "url": "https://i.ytimg.com/vi/lrXwGOBbgeA/maxresdefault.jpg",
            "width": 1280
           },
           "medium": {
            "height": 180,
            "url": "https://i.ytimg.com/vi/lrXwGOBbgeA/mqdefault.jpg",
            "width": 320
           },
           "standard": {
            "height": 480,
            "url": "https://i.ytimg.com/vi/lrXwGOBbgeA/sddefault.jpg",
            "width": 640
           }
          },
          "title": "Is coding bootcamp worth it in 2023? (from a Fullstack Academy grad)"
         },
         "statistics": {
          "commentCount": "69",
          "favoriteCount": "0",
          "likeCount": "270",
          "viewCount": "13656"
         }
        },
        {
         "contentDetails": {
          "caption": "false",
          "contentRating": {},
          "definition": "hd",
          "dimension": "2d",
          "duration": "PT59M2S",
          "licensedContent": true,
          "projection": "rectangular"
         },
         "etag": "k0kAUwRGBxVeQH5I5c1fhZ1S_P0",
         "id": "7x9AuLxbvM8",
         "kind": "youtube#video",
         "snippet": {
          "categoryId": "24",
          "channelId": "UCggXQcy57bwxUeZI1LB8DCw",
          "channelTitle": "Tech Is The New Black",
          "defaultAudioLanguage": "en",
          "defaultLanguage": "en",
          "description": "Let us know what questions you want us to ask our future tech guests and what kind of guests we should interview.\n\nGot any questions? Click Here To Check Out ALL Recommended Bootcamps, Discounts & FAQs\nhttps://direct.me/imjustcyrus\n\nHere are the 2 bootcamps we most recommend! \n\n1. Careerist (the bootcamp I chose) \nThese courses are 4 weeks long, virtual and are 8pm - 10:30pm Sun- Thur (Eastern). They record their classes In case you miss any. They are not partnered with tech companies, but they fix your resume & LinkedIn to industry standards and they assist you with finding jobs to apply to - in order to help set you up on interviews. \n\nThey also do interview coaching & provide really good interview cheat sheets. They’re about $4k, but I have a $300 discount link that you use with their sales too! The discount Is attached to the link automatically.\nCareerist Discount Link: \nhttps://crst.co/cyrus\n\n2. CourseCareers is self paced. You can finish it in 3 weeks or 3 months. They offer tech sales roles only & are partnered with tech companies, so they’re usually able to get you a tech career quickly or a paid internship (up to $21/hr) while you wait to get hired on. They only offer courses for people in North America. They’re just $449 with my discount code that gives you $50 off! \n\nDiscount Code: Cyrus50\nCourseCareers Website Here 👇🏾\nhttps://coursecareers.com/ref/8071/\n\nInstagram: @Imjustcyrus | @TechIsTheNewBlack \nYoutube | https://www.youtube.com/channel/UC46FZVPyI8FD6tkDyY3oX-g\n\nKeep me posted on your journey! \n\nInstagram: @Imjustcyrus | @TechIsTheNewBlack \nYoutube | https://www.youtube.com/channel/UC46FZVPyI8FD6tkDyY3oX-g\n\nInterested in being a guest or recommending a guest?! We are looking for more guests who are Startup founders, senior level and tech influencers! If you fit this category, fill out our guest request form here: https://www.techisthenewblack.com/\n\nPodcast Host: Cyrus Harbin / @Imjustcyrus\nDirector of Photography: Eric Bates / @IamEricBates\nAudio Engineer: @IamEricBates\nExecutive Producer: @Imjustcyrus\nSenior Producer: Rhea Dawkins / @Rsvpmeplease\nAssociate Producer: Auzsha Gardner / @Auzarella ,  @IamEricBates\nVideo Editor: @iamericbates\n\n#remotework #wfh #techlife #fintechlife #techlifestyle #blackmenintech #blackengineers #techisthenewblack #explorepage #discoverpage #wfh #workfromhome #womenintech",
          "liveBroadcastContent": "none",
          "localized": {
           "description": "Let us know what questions you want us to ask our future tech guests and what kind of guests we should interview.\n\nGot any questions? Click Here To Check Out ALL Recommended Bootcamps, Discounts & FAQs\nhttps://direct.me/imjustcyrus\n\nHere are the 2 bootcamps we most recommend! \n\n1. Careerist (the bootcamp I chose) \nThese courses are 4 weeks long, virtual and are 8pm - 10:30pm Sun- Thur (Eastern). They record their classes In case you miss any. They are not partnered with tech companies, but they fix your resume & LinkedIn to industry standards and they assist you with finding jobs to apply to - in order to help set you up on interviews. \n\nThey also do interview coaching & provide really good interview cheat sheets. They’re about $4k, but I have a $300 discount link that you use with their sales too! The discount Is attached to the link automatically.\nCareerist Discount Link: \nhttps://crst.co/cyrus\n\n2. CourseCareers is self paced. You can finish it in 3 weeks or 3 months. They offer tech sales roles only & are partnered with tech companies, so they’re usually able to get you a tech career quickly or a paid internship (up to $21/hr) while you wait to get hired on. They only offer courses for people in North America. They’re just $449 with my discount code that gives you $50 off! \n\nDiscount Code: Cyrus50\nCourseCareers Website Here 👇🏾\nhttps://coursecareers.com/ref/8071/\n\nInstagram: @Imjustcyrus | @TechIsTheNewBlack \nYoutube | https://www.youtube.com/channel/UC46FZVPyI8FD6tkDyY3oX-g\n\nKeep me posted on your journey! \n\nInstagram: @Imjustcyrus | @TechIsTheNewBlack \nYoutube | https://www.youtube.com/channel/UC46FZVPyI8FD6tkDyY3oX-g\n\nInterested in being a guest or recommending a guest?! We are looking for more guests who are Startup founders, senior level and tech influencers! If you fit this category, fill out our guest request form here: https://www.techisthenewblack.com/\n\nPodcast Host: Cyrus Harbin / @Imjustcyrus\nDirector of Photography: Eric Bates / @IamEricBates\nAudio Engineer: @IamEricBates\nExecutive Producer: @Imjustcyrus\nSenior Producer: Rhea Dawkins / @Rsvpmeplease\nAssociate Producer: Auzsha Gardner / @Auzarella ,  @IamEricBates\nVideo Editor: @iamericbates\n\n#remotework #wfh #techlife #fintechlife #techlifestyle #blackmenintech #blackengineers #techisthenewblack #explorepage #discoverpage #wfh #workfromhome #womenintech",
           "title": "A Tech Instructor That Created A Disruptive Tech Bootcamp!"
          },
          "publishedAt": "2023-03-27T14:23:16Z",
          "tags": [
           "afrotech",
           "blackistech",
           "renderatl",
           "techisthenewblack",
           "getmeintech",
           "techtopics",
           "pocintech",
           "lewlater",
           "marquesbrownlee",
           "mrwhostheboss",
           "linkedin",
           "linkedinrecruiter",
           "techcareers",
           "techjobs",
           "informationtechnology",
           "careerkarma",
           "saleengineering",
           "coding",
           "programming",
           "techbootcamps",
           "bootcamps",
           "jobs",
           "jobinterviews",
           "application",
           "resume",
           "coverletter",
           "workfromhome",
           "wfh",
           "womenintech",
           "blackwomenintech",
           "latinosintech",
           "latinwomenintech",
           "blackmenintech"
          ],
          "thumbnails": {
           "default": {
            "height": 90,
            "url": "https://i.ytimg.com/vi/7x9AuLxbvM8/default.jpg",
            "width": 120
           },
           "high": {
            "height": 360,
            "url": "https://i.ytimg.com/vi/7x9AuLxbvM8/hqdefault.jpg",
            "width": 480
           },
           "maxres": {
            "height": 720,
            "url": "https://i.ytimg.com/vi/7x9AuLxbvM8/maxresdefault.jpg",
            "width": 1280
           },
           "medium": {
            "height": 180,
            "url": "https://i.ytimg.com/vi/7x9AuLxbvM8/mqdefault.jpg",
            "width": 320
           },
           "standard": {
            "height": 480,
            "url": "https://i.ytimg.com/vi/7x9AuLxbvM8/sddefault.jpg",
            "width": 640
           }
          },
          "title": "A Tech Instructor That Created A Disruptive Tech Bootcamp!"
         },
         "statistics": {
          "commentCount": "61",
          "favoriteCount": "0",
          "likeCount": "344",
          "viewCount": "7179"
         }
        },
        {
         "contentDetails": {
          "caption": "false",
          "contentRating": {},
          "definition": "hd",
          "dimension": "2d",
          "duration": "PT49M58S",
          "licensedContent": true,
          "projection": "rectangular"
         },
         "etag": "fN5GtioDVGIORSA45B6xGqOiobg",
         "id": "LJ3m3NlV1kg",
         "kind": "youtube#video",
         "snippet": {
          "categoryId": "24",
          "channelId": "UCggXQcy57bwxUeZI1LB8DCw",
          "channelTitle": "Tech Is The New Black",
          "defaultAudioLanguage": "en",
          "defaultLanguage": "en",
          "description": "In this episode of Tech is a New Black, we chat with Josh and Quawn, the founders of Pivot Tech, a tech bootcamp that's helping individuals break into the tech industry. We discuss the benefits of tech bootcamps, the importance of diversity in tech, and how Pivot Tech is changing the landscape of tech education. Join us for an insightful conversation with these trailblazing founders.\n\nPivot is a highly awarded virtual tech bootcamp for data analytics, software development & cybersecurity. They provide mentorship AND CAREER PLACEMENT. We recently partnered with them to offer our audience a discount up to $300 off. Use the link in our bio.\n\nDiscount code: #techisthenewblack\nKeep us posted on your journey!\n\nInstagram: \nhttps://www.instagram.com/iammrmundy/\nhttps://www.instagram.com/yourcoachq/\n\nLet us know what questions you want us to ask our future tech guests and what kind of guests we should interview.\n\nGot any questions? Click Here To Check Out ALL Recommended Bootcamps, Discounts & FAQs\nhttps://direct.me/imjustcyrus\n\nHere are the 2 bootcamps we most recommend! \n\n1. Careerist (the bootcamp I chose) \nThese courses are 4 weeks long, virtual and are 8pm - 10:30pm Sun- Thur (Eastern). They record their classes In case you miss any. They are not partnered with tech companies, but they fix your resume & LinkedIn to industry standards and they assist you with finding jobs to apply to - in order to help set you up on interviews. \n\nThey also do interview coaching & provide really good interview cheat sheets. They’re about $4k, but I have a $300 discount link that you use with their sales too! The discount Is attached to the link automatically.\nCareerist Discount Link: \nhttps://crst.co/cyrus\n\n2. CourseCareers is self paced. You can finish it in 3 weeks or 3 months. They offer tech sales roles only & are partnered with tech companies, so they’re usually able to get you a tech career quickly or a paid internship (up to $21/hr) while you wait to get hired on. They only offer courses for people in North America. They’re just $449 with my discount code that gives you $50 off! \n\nDiscount Code: Cyrus50\nCourseCareers Website Here 👇🏾\nhttps://coursecareers.com/ref/8071/\n\nInstagram: @Imjustcyrus | @TechIsTheNewBlack \nYoutube | https://www.youtube.com/channel/UC46FZVPyI8FD6tkDyY3oX-g\n\nKeep me posted on your journey! \n\nInstagram: @Imjustcyrus | @TechIsTheNewBlack \nYoutube | https://www.youtube.com/channel/UC46FZVPyI8FD6tkDyY3oX-g\n\nInterested in being a guest or recommending a guest?! We are looking for more guests who are Startup founders, senior level and tech influencers! If you fit this category, fill out our guest request form here: https://www.techisthenewblack.com/\n\nPodcast Host: Cyrus Harbin / @Imjustcyrus\nDirector of Photography: Eric Bates / @IamEricBates\nAudio Engineer: @IamEricBates\nExecutive Producer: @Imjustcyrus\nSenior Producer: Rhea Dawkins / @Rsvpmeplease\nAssociate Producer: Auzsha Gardner / @Auzarella ,  @IamEricBates\nVideo Editor: @iamericbates\n\n#remotework #wfh #techlife #fintechlife #techlifestyle #blackmenintech #blackengineers #techisthenewblack #explorepage #discoverpage #wfh #workfromhome #womenintech",
          "liveBroadcastContent": "none",
          "localized": {
           "description": "In this episode of Tech is a New Black, we chat with Josh and Quawn, the founders of Pivot Tech, a tech bootcamp that's helping individuals break into the tech industry. We discuss the benefits of tech bootcamps, the importance of diversity in tech, and how Pivot Tech is changing the landscape of tech education. Join us for an insightful conversation with these trailblazing founders.\n\nPivot is a highly awarded virtual tech bootcamp for data analytics, software development & cybersecurity. They provide mentorship AND CAREER PLACEMENT. We recently partnered with them to offer our audience a discount up to $300 off. Use the link in our bio.\n\nDiscount code: #techisthenewblack\nKeep us posted on your journey!\n\nInstagram: \nhttps://www.instagram.com/iammrmundy/\nhttps://www.instagram.com/yourcoachq/\n\nLet us know what questions you want us to ask our future tech guests and what kind of guests we should interview.\n\nGot any questions? Click Here To Check Out ALL Recommended Bootcamps, Discounts & FAQs\nhttps://direct.me/imjustcyrus\n\nHere are the 2 bootcamps we most recommend! \n\n1. Careerist (the bootcamp I chose) \nThese courses are 4 weeks long, virtual and are 8pm - 10:30pm Sun- Thur (Eastern). They record their classes In case you miss any. They are not partnered with tech companies, but they fix your resume & LinkedIn to industry standards and they assist you with finding jobs to apply to - in order to help set you up on interviews. \n\nThey also do interview coaching & provide really good interview cheat sheets. They’re about $4k, but I have a $300 discount link that you use with their sales too! The discount Is attached to the link automatically.\nCareerist Discount Link: \nhttps://crst.co/cyrus\n\n2. CourseCareers is self paced. You can finish it in 3 weeks or 3 months. They offer tech sales roles only & are partnered with tech companies, so they’re usually able to get you a tech career quickly or a paid internship (up to $21/hr) while you wait to get hired on. They only offer courses for people in North America. They’re just $449 with my discount code that gives you $50 off! \n\nDiscount Code: Cyrus50\nCourseCareers Website Here 👇🏾\nhttps://coursecareers.com/ref/8071/\n\nInstagram: @Imjustcyrus | @TechIsTheNewBlack \nYoutube | https://www.youtube.com/channel/UC46FZVPyI8FD6tkDyY3oX-g\n\nKeep me posted on your journey! \n\nInstagram: @Imjustcyrus | @TechIsTheNewBlack \nYoutube | https://www.youtube.com/channel/UC46FZVPyI8FD6tkDyY3oX-g\n\nInterested in being a guest or recommending a guest?! We are looking for more guests who are Startup founders, senior level and tech influencers! If you fit this category, fill out our guest request form here: https://www.techisthenewblack.com/\n\nPodcast Host: Cyrus Harbin / @Imjustcyrus\nDirector of Photography: Eric Bates / @IamEricBates\nAudio Engineer: @IamEricBates\nExecutive Producer: @Imjustcyrus\nSenior Producer: Rhea Dawkins / @Rsvpmeplease\nAssociate Producer: Auzsha Gardner / @Auzarella ,  @IamEricBates\nVideo Editor: @iamericbates\n\n#remotework #wfh #techlife #fintechlife #techlifestyle #blackmenintech #blackengineers #techisthenewblack #explorepage #discoverpage #wfh #workfromhome #womenintech",
           "title": "How To Go From A Bootcamp To A Tech Career!"
          },
          "publishedAt": "2023-05-15T12:57:14Z",
          "tags": [
           "afrotech",
           "blackistech",
           "renderatl",
           "techisthenewblack",
           "getmeintech",
           "techtopics",
           "pocintech",
           "lewlater",
           "marquesbrownlee",
           "mrwhostheboss",
           "linkedin",
           "linkedinrecruiter",
           "techcareers",
           "techjobs",
           "informationtechnology",
           "careerkarma",
           "saleengineering",
           "coding",
           "programming",
           "techbootcamps",
           "bootcamps",
           "jobs",
           "jobinterviews",
           "application",
           "resume",
           "coverletter",
           "workfromhome",
           "wfh",
           "womenintech",
           "blackwomenintech",
           "latinosintech",
           "latinwomenintech",
           "blackmenintech"
          ],
          "thumbnails": {
           "default": {
            "height": 90,
            "url": "https://i.ytimg.com/vi/LJ3m3NlV1kg/default.jpg",
            "width": 120
           },
           "high": {
            "height": 360,
            "url": "https://i.ytimg.com/vi/LJ3m3NlV1kg/hqdefault.jpg",
            "width": 480
           },
           "maxres": {
            "height": 720,
            "url": "https://i.ytimg.com/vi/LJ3m3NlV1kg/maxresdefault.jpg",
            "width": 1280
           },
           "medium": {
            "height": 180,
            "url": "https://i.ytimg.com/vi/LJ3m3NlV1kg/mqdefault.jpg",
            "width": 320
           },
           "standard": {
            "height": 480,
            "url": "https://i.ytimg.com/vi/LJ3m3NlV1kg/sddefault.jpg",
            "width": 640
           }
          },
          "title": "How To Go From A Bootcamp To A Tech Career!"
         },
         "statistics": {
          "commentCount": "68",
          "favoriteCount": "0",
          "likeCount": "385",
          "viewCount": "6363"
         }
        }
       ],
       "kind": "youtube#videoListResponse",
       "pageInfo": {
        "resultsPerPage": 25,
        "totalResults": 25
       }
      },
      "text/plain": [
       "<IPython.core.display.JSON object>"
      ]
     },
     "execution_count": 26,
     "metadata": {
      "application/json": {
       "expanded": false,
       "root": "root"
      }
     },
     "output_type": "execute_result"
    }
   ],
   "source": [
    "#video statistics request\n",
    "\n",
    "youtube = googleapiclient.discovery.build(\n",
    "        api_service_name, api_version, developerKey=api_key)\n",
    "\n",
    "request = youtube.videos().list(\n",
    "    part=\"snippet,contentDetails,statistics\",\n",
    "    id=','.join(video_ids)\n",
    ")\n",
    "response = request.execute()\n",
    "\n",
    "JSON(response)"
   ]
  },
  {
   "cell_type": "code",
   "execution_count": 27,
   "id": "dd93e752-b7ac-42c6-b973-ac5ddd42bff0",
   "metadata": {
    "tags": []
   },
   "outputs": [
    {
     "data": {
      "text/plain": [
       "['1239',\n",
       " '146544',\n",
       " '8992',\n",
       " '231',\n",
       " '2346',\n",
       " '1329',\n",
       " '491',\n",
       " '733',\n",
       " '24',\n",
       " '330',\n",
       " '134068',\n",
       " '979',\n",
       " '889',\n",
       " '46',\n",
       " '307',\n",
       " '84',\n",
       " '147066',\n",
       " '251',\n",
       " '556',\n",
       " '445',\n",
       " '310',\n",
       " '7204',\n",
       " '270',\n",
       " '344',\n",
       " '385']"
      ]
     },
     "execution_count": 27,
     "metadata": {},
     "output_type": "execute_result"
    }
   ],
   "source": [
    "likes = [video[\"statistics\"][\"likeCount\"] for video in response[\"items\"]]\n",
    "likes"
   ]
  },
  {
   "cell_type": "code",
   "execution_count": null,
   "id": "cc32a761-6f53-4a71-8760-03c3a697cbe9",
   "metadata": {},
   "outputs": [],
   "source": [
    "t"
   ]
  }
 ],
 "metadata": {
  "kernelspec": {
   "display_name": "Python 3 (ipykernel)",
   "language": "python",
   "name": "python3"
  },
  "language_info": {
   "codemirror_mode": {
    "name": "ipython",
    "version": 3
   },
   "file_extension": ".py",
   "mimetype": "text/x-python",
   "name": "python",
   "nbconvert_exporter": "python",
   "pygments_lexer": "ipython3",
   "version": "3.11.5"
  }
 },
 "nbformat": 4,
 "nbformat_minor": 5
}
