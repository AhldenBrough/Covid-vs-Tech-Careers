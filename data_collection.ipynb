{
 "cells": [
  {
   "cell_type": "code",
   "execution_count": 246,
   "id": "6728ebd5",
   "metadata": {
    "scrolled": true,
    "tags": []
   },
   "outputs": [],
   "source": [
    "import os\n",
    "\n",
    "import google_auth_oauthlib.flow\n",
    "import googleapiclient.discovery\n",
    "import googleapiclient.errors\n",
    "from api_key_file import api_key\n",
    "from IPython.display import JSON\n",
    "import requests\n",
    "import json\n",
    "import pandas as pd\n",
    "import csv\n",
    "\n",
    "api_service_name = \"youtube\"\n",
    "api_version = \"v3\""
   ]
  },
  {
   "cell_type": "code",
   "execution_count": 35,
   "id": "8b9f559e",
   "metadata": {
    "tags": []
   },
   "outputs": [],
   "source": [
    "channel_ids = [\"UCLKZ20yD2tNMBOkSDZo4FeQ\",\n",
    "\"UCzAF54cHk1ZO82af-8E3qOQ\",\n",
    "\"UCteRPiisgIoHtMgqHegpWAQ\",\n",
    "\"UCw_LFe2pS8x3NyipGNJgeEA\",\n",
    "\"UCLLw7jmFsvfIVaUFsLs8mlQ\",\n",
    "\"UCDybamfye5An6p-j1t2YMsg\",\n",
    "\"UC7cs8q-gJRlGwj4A8OmCmXg\",\n",
    "\"UCQiNyL7ik4FIlV2UCvojq0g\",\n",
    "\"UCJQJAI7IjbLcpsjWdSzYz0Q\",\n",
    "\"UCu1xbgCV5o48h_BYCQD7KJg\",\n",
    "\"UCggXQcy57bwxUeZI1LB8DCw\",\n",
    "\"UCPcyffOFc7YGyDgqmvZJs7Q\",\n",
    "\"UCC8nkE-p-7S0ZPJXrEs2QNA\",\n",
    "\"UCcJQ96WlEhJ0Ve0SLmU310Q\",\n",
    "\"UCXqKK0ZZO5EhS6USGkGcuiw\",\n",
    "\"UCLpovxJVLBZrXJGCymB6LYw\",\n",
    "\"UC2fYCeDDpXrQVjSPdJY4lyA\",\n",
    "\"UC4MZ7zUHb5eAxU75Dc_nqdQ\",\n",
    "\"UC8butISFwT-Wl7EV0hUK0BQ\",\n",
    "\"UCsvqVGtbbyHaMoevxPAq9Fg\",\n",
    "\"UCilJYqsETFZ7NG9g1xVKfcQ\",\n",
    "\"UCsLo154Krjwhoz8W00N8ItA\",\n",
    "\"UCsd0xmaXyUGpD35IX4xrYEw\",\n",
    "\"UCv3N90AXQxUtaSnKSqOoOpA\",\n",
    "\"UCmTS2gGo4gjZLt8LxVnF3XA\",\n",
    "\"UCTHAIlSOqquwOKnd_nCJgAQ\",\n",
    "\"UCWI-ohtRu8eEeDj93hmUsUQ\",\n",
    "\"UC50JofjMZpr3KCbOx6dHi_A\",\n",
    "\"UCUOMtzQmEmhIAF8G_cha_Xw\",\n",
    "\"UCdngmbVKX1Tgre699-XLlUA\",\n",
    "\"UC5qEPWtHLFRIjhW_3xd5g2A\",\n",
    "\"UC2UXDak6o7rBm23k3Vv5dww\",\n",
    "\"UCyUBW72KU30dfAYWLVNZO8Q\",\n",
    "\"UCVe8CMJF4caRzuckVYV8CaQ\",\n",
    "\"UCvDqylEzCZJHNea6k1XMkQw\",\n",
    "\"UCEDkO7wshcDZ7UZo17rPkzQ\",\n",
    "\"UCt-Pwe2fODjH4Wuwf5VqE7A\",\n",
    "\"UClLXKYEEM8OBBx85DOa6-cg\",\n",
    "\"UCN0u98NPeC0AW3pD6MbVeNg\",\n",
    "\"UCwAnu01qlnVg1Ai2AbtTMaA\",\n",
    "\"UCthRsjtSd2ZTrfgjgnBXMPw\",\n",
    "\"UCx3ZYdyVr8BUQDIhS1QggxA\",\n",
    "\"UCo2avEF03abQmCXdU_eUGkg\",\n",
    "\"UC4xKdmAXFh4ACyhpiQ_3qBw\",\n",
    "\"UCIrOHHdl6C4IWv96N0EaHMA\",\n",
    "\"UCJNUtbsYnt-8meFSj_yF50Q\",\n",
    "\"UCEHFikgnRuLd1HYKTLrae9Q\",\n",
    "\"UC1nBZreWJArdFgiIu3BTeGw\",\n",
    "\"UC3kFmMxz3IdLdz4TxA9a4DQ\",\n",
    "\"UCpa0VHHeSUV1D17X8MoX5xA\"]"
   ]
  },
  {
   "cell_type": "code",
   "execution_count": 36,
   "id": "6e7550e7-1ae5-4302-b8d5-d55338a5c3d8",
   "metadata": {
    "tags": []
   },
   "outputs": [
    {
     "data": {
      "text/plain": [
       "50"
      ]
     },
     "execution_count": 36,
     "metadata": {},
     "output_type": "execute_result"
    }
   ],
   "source": [
    "len(channel_ids)"
   ]
  },
  {
   "cell_type": "code",
   "execution_count": 37,
   "id": "73c22ec3-7084-47e8-90c7-a7fc488f9f84",
   "metadata": {
    "tags": []
   },
   "outputs": [],
   "source": [
    "# Get credentials and create an API client\n",
    "youtube = googleapiclient.discovery.build(\n",
    "    api_service_name, api_version, developerKey=api_key)"
   ]
  },
  {
   "cell_type": "code",
   "execution_count": 38,
   "id": "cb3aacba",
   "metadata": {
    "tags": []
   },
   "outputs": [
    {
     "data": {
      "application/json": {
       "etag": "_8hlxgm8PbxTKWTRTodGhzFfXG8",
       "items": [
        {
         "contentDetails": {
          "relatedPlaylists": {
           "likes": "",
           "uploads": "UU3kFmMxz3IdLdz4TxA9a4DQ"
          }
         },
         "etag": "QYlAj9wLDc7VkYuikeEnkp7si8o",
         "id": "UC3kFmMxz3IdLdz4TxA9a4DQ",
         "kind": "youtube#channel",
         "snippet": {
          "country": "US",
          "customUrl": "@comptia",
          "description": "We ❤️ #InformationTechnology & believe in advancing the global #tech workforce through #ITcertification + #ITtraining",
          "localized": {
           "description": "We ❤️ #InformationTechnology & believe in advancing the global #tech workforce through #ITcertification + #ITtraining",
           "title": "CompTIA"
          },
          "publishedAt": "2010-02-12T14:01:16Z",
          "thumbnails": {
           "default": {
            "height": 88,
            "url": "https://yt3.ggpht.com/ytc/APkrFKZgHXqNhJU8J_3LDId-sLY9eH9voLpyShcqDImg2A=s88-c-k-c0x00ffffff-no-rj",
            "width": 88
           },
           "high": {
            "height": 800,
            "url": "https://yt3.ggpht.com/ytc/APkrFKZgHXqNhJU8J_3LDId-sLY9eH9voLpyShcqDImg2A=s800-c-k-c0x00ffffff-no-rj",
            "width": 800
           },
           "medium": {
            "height": 240,
            "url": "https://yt3.ggpht.com/ytc/APkrFKZgHXqNhJU8J_3LDId-sLY9eH9voLpyShcqDImg2A=s240-c-k-c0x00ffffff-no-rj",
            "width": 240
           }
          },
          "title": "CompTIA"
         },
         "statistics": {
          "hiddenSubscriberCount": false,
          "subscriberCount": "44100",
          "videoCount": "316",
          "viewCount": "1607149"
         }
        },
        {
         "contentDetails": {
          "relatedPlaylists": {
           "likes": "",
           "uploads": "UUpa0VHHeSUV1D17X8MoX5xA"
          }
         },
         "etag": "mEY6FtEW6p20ilGUTsMJE8LTxOo",
         "id": "UCpa0VHHeSUV1D17X8MoX5xA",
         "kind": "youtube#channel",
         "snippet": {
          "customUrl": "@cutthetech",
          "description": "Welcome to \"Cut The Tech\". An inside baseball look into my  journey into the world of tech. From working 2 full time jobs, to taking a tech bootcamp to pivot into the career of tech sales. Walk with me as I go through the \"CourseCareers\" bootcamp from start to finish and beyond.\n\nLink to check out CourseCareers.\n\nhttps://account.coursecareers.com/ref/62590/\n\nUse code to get $50 off: CutThe50\n",
          "localized": {
           "description": "Welcome to \"Cut The Tech\". An inside baseball look into my  journey into the world of tech. From working 2 full time jobs, to taking a tech bootcamp to pivot into the career of tech sales. Walk with me as I go through the \"CourseCareers\" bootcamp from start to finish and beyond.\n\nLink to check out CourseCareers.\n\nhttps://account.coursecareers.com/ref/62590/\n\nUse code to get $50 off: CutThe50\n",
           "title": "Cut The Tech"
          },
          "publishedAt": "2008-01-07T20:18:55Z",
          "thumbnails": {
           "default": {
            "height": 88,
            "url": "https://yt3.ggpht.com/KcKiEP2jYRNchA27JhVGc329t3UayPnufmnZ1Wj7lF_tQYJlZC1grjQBgqFxTlB9kLrrDRAyRg=s88-c-k-c0x00ffffff-no-rj",
            "width": 88
           },
           "high": {
            "height": 800,
            "url": "https://yt3.ggpht.com/KcKiEP2jYRNchA27JhVGc329t3UayPnufmnZ1Wj7lF_tQYJlZC1grjQBgqFxTlB9kLrrDRAyRg=s800-c-k-c0x00ffffff-no-rj",
            "width": 800
           },
           "medium": {
            "height": 240,
            "url": "https://yt3.ggpht.com/KcKiEP2jYRNchA27JhVGc329t3UayPnufmnZ1Wj7lF_tQYJlZC1grjQBgqFxTlB9kLrrDRAyRg=s240-c-k-c0x00ffffff-no-rj",
            "width": 240
           }
          },
          "title": "Cut The Tech"
         },
         "statistics": {
          "hiddenSubscriberCount": false,
          "subscriberCount": "1370",
          "videoCount": "50",
          "viewCount": "56988"
         }
        },
        {
         "contentDetails": {
          "relatedPlaylists": {
           "likes": "",
           "uploads": "UUJNUtbsYnt-8meFSj_yF50Q"
          }
         },
         "etag": "e2ksgG1GUCLACe4LQhCMu-eMg-g",
         "id": "UCJNUtbsYnt-8meFSj_yF50Q",
         "kind": "youtube#channel",
         "snippet": {
          "country": "US",
          "customUrl": "@rahulpandeyrkp",
          "defaultLanguage": "en",
          "description": "The best software engineers: learn every new JavaScript framework, experiment with new ML techniques, and grind out 5 Leetcode problems a day. Right?\n\nWRONG\n\nThe key to career advancement has very little to do with how many technologies you know, or how much time you spend coding. It's about your behavior and mindset within a team to build something great.\n\nThese skills don't get taught in school, and I've learned them the hard way in my career. This channel is to share what I've learned. I also run a membership designed to supercharge engineering careers, check it out at joinTaro.com\n\nMy background: \n➤ Staff Engineer at Meta (Facebook)\n➤ Founding engineer at a startup that got acquired by Pinterest\n➤ BS and MS from Stanford\n",
          "localized": {
           "description": "The best software engineers: learn every new JavaScript framework, experiment with new ML techniques, and grind out 5 Leetcode problems a day. Right?\n\nWRONG\n\nThe key to career advancement has very little to do with how many technologies you know, or how much time you spend coding. It's about your behavior and mindset within a team to build something great.\n\nThese skills don't get taught in school, and I've learned them the hard way in my career. This channel is to share what I've learned. I also run a membership designed to supercharge engineering careers, check it out at joinTaro.com\n\nMy background: \n➤ Staff Engineer at Meta (Facebook)\n➤ Founding engineer at a startup that got acquired by Pinterest\n➤ BS and MS from Stanford\n",
           "title": "Rahul Pandey"
          },
          "publishedAt": "2009-12-11T11:55:12Z",
          "thumbnails": {
           "default": {
            "height": 88,
            "url": "https://yt3.ggpht.com/ytc/APkrFKaZjJF1LG6Y0Q1To7-oEGmA6v2Qg0yo-b3tQb8ppIs=s88-c-k-c0x00ffffff-no-rj",
            "width": 88
           },
           "high": {
            "height": 800,
            "url": "https://yt3.ggpht.com/ytc/APkrFKaZjJF1LG6Y0Q1To7-oEGmA6v2Qg0yo-b3tQb8ppIs=s800-c-k-c0x00ffffff-no-rj",
            "width": 800
           },
           "medium": {
            "height": 240,
            "url": "https://yt3.ggpht.com/ytc/APkrFKaZjJF1LG6Y0Q1To7-oEGmA6v2Qg0yo-b3tQb8ppIs=s240-c-k-c0x00ffffff-no-rj",
            "width": 240
           }
          },
          "title": "Rahul Pandey"
         },
         "statistics": {
          "hiddenSubscriberCount": false,
          "subscriberCount": "86000",
          "videoCount": "246",
          "viewCount": "3982799"
         }
        },
        {
         "contentDetails": {
          "relatedPlaylists": {
           "likes": "",
           "uploads": "UULLw7jmFsvfIVaUFsLs8mlQ"
          }
         },
         "etag": "g3f6MIGDnuMN0e4F8f6WE4RxRmY",
         "id": "UCLLw7jmFsvfIVaUFsLs8mlQ",
         "kind": "youtube#channel",
         "snippet": {
          "country": "US",
          "customUrl": "@lukebarousse",
          "description": "What's up, Data Nerds! I'm Luke, a data analyst, and I make videos about tech and skills for data science.\n\nIf you have a question about becoming a data analyst, drop a comment in any video. No need to email!\n\n\n",
          "localized": {
           "description": "What's up, Data Nerds! I'm Luke, a data analyst, and I make videos about tech and skills for data science.\n\nIf you have a question about becoming a data analyst, drop a comment in any video. No need to email!\n\n\n",
           "title": "Luke Barousse"
          },
          "publishedAt": "2020-08-03T09:02:41.213077Z",
          "thumbnails": {
           "default": {
            "height": 88,
            "url": "https://yt3.ggpht.com/ytc/APkrFKbSK7p4iSxoBPjGLq569bbMU65hbUr4zb2rq6Mi=s88-c-k-c0x00ffffff-no-rj",
            "width": 88
           },
           "high": {
            "height": 800,
            "url": "https://yt3.ggpht.com/ytc/APkrFKbSK7p4iSxoBPjGLq569bbMU65hbUr4zb2rq6Mi=s800-c-k-c0x00ffffff-no-rj",
            "width": 800
           },
           "medium": {
            "height": 240,
            "url": "https://yt3.ggpht.com/ytc/APkrFKbSK7p4iSxoBPjGLq569bbMU65hbUr4zb2rq6Mi=s240-c-k-c0x00ffffff-no-rj",
            "width": 240
           }
          },
          "title": "Luke Barousse"
         },
         "statistics": {
          "hiddenSubscriberCount": false,
          "subscriberCount": "386000",
          "videoCount": "141",
          "viewCount": "18287079"
         }
        },
        {
         "contentDetails": {
          "relatedPlaylists": {
           "likes": "",
           "uploads": "UUTHAIlSOqquwOKnd_nCJgAQ"
          }
         },
         "etag": "q7rf4AcsT0q_zuTod7XK-_MeDS8",
         "id": "UCTHAIlSOqquwOKnd_nCJgAQ",
         "kind": "youtube#channel",
         "snippet": {
          "country": "PK",
          "customUrl": "@mylesson007",
          "description": "My Lesson is a platform where you can learn about the topics that are taught in College or University. We provide lessons on various topics from the best experts around the world. You can learn about Computer Science, IT security, Mathematics, Statistics, Physics, Biology and so on.\nWe create courses by collaborating with great educators who like to share their expertise. All the contents of this channel are solely dedicated to educational or research purposes in computer science. \n\n",
          "localized": {
           "description": "My Lesson is a platform where you can learn about the topics that are taught in College or University. We provide lessons on various topics from the best experts around the world. You can learn about Computer Science, IT security, Mathematics, Statistics, Physics, Biology and so on.\nWe create courses by collaborating with great educators who like to share their expertise. All the contents of this channel are solely dedicated to educational or research purposes in computer science. \n\n",
           "title": "My Lesson"
          },
          "publishedAt": "2021-06-21T22:09:29.010068Z",
          "thumbnails": {
           "default": {
            "height": 88,
            "url": "https://yt3.ggpht.com/a8gQ9ofCk_HU1_pkvBzEJl4Fu9EMOoW_ZCJ_jaBzOQCPoms-gW6-sP_OEhGwaWy_QpUXNJg11g=s88-c-k-c0x00ffffff-no-rj",
            "width": 88
           },
           "high": {
            "height": 800,
            "url": "https://yt3.ggpht.com/a8gQ9ofCk_HU1_pkvBzEJl4Fu9EMOoW_ZCJ_jaBzOQCPoms-gW6-sP_OEhGwaWy_QpUXNJg11g=s800-c-k-c0x00ffffff-no-rj",
            "width": 800
           },
           "medium": {
            "height": 240,
            "url": "https://yt3.ggpht.com/a8gQ9ofCk_HU1_pkvBzEJl4Fu9EMOoW_ZCJ_jaBzOQCPoms-gW6-sP_OEhGwaWy_QpUXNJg11g=s240-c-k-c0x00ffffff-no-rj",
            "width": 240
           }
          },
          "title": "My Lesson"
         },
         "statistics": {
          "hiddenSubscriberCount": false,
          "subscriberCount": "209000",
          "videoCount": "61",
          "viewCount": "5557131"
         }
        },
        {
         "contentDetails": {
          "relatedPlaylists": {
           "likes": "",
           "uploads": "UUo2avEF03abQmCXdU_eUGkg"
          }
         },
         "etag": "YDSRJE0CwJ19h-egsHEQCXCN1u0",
         "id": "UCo2avEF03abQmCXdU_eUGkg",
         "kind": "youtube#channel",
         "snippet": {
          "country": "US",
          "customUrl": "@degreefree",
          "description": "Aloha and welcome to Degree Free w/Ryan and Hannah!\n\nWe share the fundamentals we've discovered and the mistakes we've made while self educating, getting work, building businesses, and making money. \n\nWe'll tell you how to make it happen, no degree needed!\n\n",
          "localized": {
           "description": "Aloha and welcome to Degree Free w/Ryan and Hannah!\n\nWe share the fundamentals we've discovered and the mistakes we've made while self educating, getting work, building businesses, and making money. \n\nWe'll tell you how to make it happen, no degree needed!\n\n",
           "title": "Degree Free"
          },
          "publishedAt": "2020-12-29T22:08:59.843549Z",
          "thumbnails": {
           "default": {
            "height": 88,
            "url": "https://yt3.ggpht.com/OFo44eOBS35jy9h_lXln_oFv0A4C8tTaXJbnfkIUS6AiiRr6BlozBqT6DZrspOFOnqa92MKSAg=s88-c-k-c0x00ffffff-no-rj",
            "width": 88
           },
           "high": {
            "height": 800,
            "url": "https://yt3.ggpht.com/OFo44eOBS35jy9h_lXln_oFv0A4C8tTaXJbnfkIUS6AiiRr6BlozBqT6DZrspOFOnqa92MKSAg=s800-c-k-c0x00ffffff-no-rj",
            "width": 800
           },
           "medium": {
            "height": 240,
            "url": "https://yt3.ggpht.com/OFo44eOBS35jy9h_lXln_oFv0A4C8tTaXJbnfkIUS6AiiRr6BlozBqT6DZrspOFOnqa92MKSAg=s240-c-k-c0x00ffffff-no-rj",
            "width": 240
           }
          },
          "title": "Degree Free"
         },
         "statistics": {
          "hiddenSubscriberCount": false,
          "subscriberCount": "6290",
          "videoCount": "1238",
          "viewCount": "1143098"
         }
        },
        {
         "contentDetails": {
          "relatedPlaylists": {
           "likes": "",
           "uploads": "UUvDqylEzCZJHNea6k1XMkQw"
          }
         },
         "etag": "3Qrd_nwegVzaGZyFf9CXMqbSDLU",
         "id": "UCvDqylEzCZJHNea6k1XMkQw",
         "kind": "youtube#channel",
         "snippet": {
          "customUrl": "@umaabu",
          "description": "Everything Programming!\nI make interesting coding projects and teach programming concepts that relate to everyday life.\n",
          "localized": {
           "description": "Everything Programming!\nI make interesting coding projects and teach programming concepts that relate to everyday life.\n",
           "title": "Uma Abu"
          },
          "publishedAt": "2020-12-30T01:51:55.159436Z",
          "thumbnails": {
           "default": {
            "height": 88,
            "url": "https://yt3.ggpht.com/32PvuY2g59lFEfI5B7EW-szg2D8KxLAnBHhQ4wDdbywR_WqdyI9NnDY843j5Y96TomFrkiluIg=s88-c-k-c0x00ffffff-no-rj",
            "width": 88
           },
           "high": {
            "height": 800,
            "url": "https://yt3.ggpht.com/32PvuY2g59lFEfI5B7EW-szg2D8KxLAnBHhQ4wDdbywR_WqdyI9NnDY843j5Y96TomFrkiluIg=s800-c-k-c0x00ffffff-no-rj",
            "width": 800
           },
           "medium": {
            "height": 240,
            "url": "https://yt3.ggpht.com/32PvuY2g59lFEfI5B7EW-szg2D8KxLAnBHhQ4wDdbywR_WqdyI9NnDY843j5Y96TomFrkiluIg=s240-c-k-c0x00ffffff-no-rj",
            "width": 240
           }
          },
          "title": "Uma Abu"
         },
         "statistics": {
          "hiddenSubscriberCount": false,
          "subscriberCount": "15700",
          "videoCount": "165",
          "viewCount": "645337"
         }
        },
        {
         "contentDetails": {
          "relatedPlaylists": {
           "likes": "",
           "uploads": "UUXqKK0ZZO5EhS6USGkGcuiw"
          }
         },
         "etag": "qaVxNh4f8s4nECC3GySmrm1RRS4",
         "id": "UCXqKK0ZZO5EhS6USGkGcuiw",
         "kind": "youtube#channel",
         "snippet": {
          "customUrl": "@babeengineer",
          "description": "iOS Software Engineer at FAANG/MANGA\n\nHi friends, I'm Valerie Don, and on my channel I share things about iOS, software engineering, tech, and bits of my life for anyone who wants to get into tech, are new to tech, or anyone looking to learn something new. \n\nAs a college dropout with no degree, and no engineering background, it took me a lot of hard work to become a software engineer. That’s why I want to share my experiences in tech and help you better understand difficult technical topics and stay motivated!\n\nBusiness Inquiries: contact@babeengineer.com\n",
          "localized": {
           "description": "iOS Software Engineer at FAANG/MANGA\n\nHi friends, I'm Valerie Don, and on my channel I share things about iOS, software engineering, tech, and bits of my life for anyone who wants to get into tech, are new to tech, or anyone looking to learn something new. \n\nAs a college dropout with no degree, and no engineering background, it took me a lot of hard work to become a software engineer. That’s why I want to share my experiences in tech and help you better understand difficult technical topics and stay motivated!\n\nBusiness Inquiries: contact@babeengineer.com\n",
           "title": "BABE ENGINEER"
          },
          "publishedAt": "2017-07-26T01:04:02Z",
          "thumbnails": {
           "default": {
            "height": 88,
            "url": "https://yt3.ggpht.com/2KSBR1RUSyVvh54Md9aWmpmBgfD3-0rz2JEvX4ORp3REuizIlaXYvQPx5vRryWSnnWRjlfAQ=s88-c-k-c0x00ffffff-no-rj",
            "width": 88
           },
           "high": {
            "height": 800,
            "url": "https://yt3.ggpht.com/2KSBR1RUSyVvh54Md9aWmpmBgfD3-0rz2JEvX4ORp3REuizIlaXYvQPx5vRryWSnnWRjlfAQ=s800-c-k-c0x00ffffff-no-rj",
            "width": 800
           },
           "medium": {
            "height": 240,
            "url": "https://yt3.ggpht.com/2KSBR1RUSyVvh54Md9aWmpmBgfD3-0rz2JEvX4ORp3REuizIlaXYvQPx5vRryWSnnWRjlfAQ=s240-c-k-c0x00ffffff-no-rj",
            "width": 240
           }
          },
          "title": "BABE ENGINEER"
         },
         "statistics": {
          "hiddenSubscriberCount": false,
          "subscriberCount": "52700",
          "videoCount": "75",
          "viewCount": "1986937"
         }
        },
        {
         "contentDetails": {
          "relatedPlaylists": {
           "likes": "",
           "uploads": "UU4xKdmAXFh4ACyhpiQ_3qBw"
          }
         },
         "etag": "E4RZZUL3uiqjov-CxWnbV_kmlJ4",
         "id": "UC4xKdmAXFh4ACyhpiQ_3qBw",
         "kind": "youtube#channel",
         "snippet": {
          "country": "US",
          "customUrl": "@techlead",
          "description": "Ex-Google / Meta tech lead, app entrepreneur, software engineer. ☕️ 👌\n\nJoin me in DeFi Pro and make passive income with crypto. http://defipro.dev/\n\nIf you're looking for help landing a job as a software engineer, resume critique, and mentorship, join me at:\nhttp://techinterviewpro.com/\nhttp://coderpro.com/\n\nLearn the secrets of YouTube success with me here:\nhttp://youtubebackstage.com/\n\nAdd me here:\nhttp://twitter.com/techleadhd\nhttp://instagram.com/techleadhd\n\n",
          "localized": {
           "description": "Ex-Google / Meta tech lead, app entrepreneur, software engineer. ☕️ 👌\n\nJoin me in DeFi Pro and make passive income with crypto. http://defipro.dev/\n\nIf you're looking for help landing a job as a software engineer, resume critique, and mentorship, join me at:\nhttp://techinterviewpro.com/\nhttp://coderpro.com/\n\nLearn the secrets of YouTube success with me here:\nhttp://youtubebackstage.com/\n\nAdd me here:\nhttp://twitter.com/techleadhd\nhttp://instagram.com/techleadhd\n\n",
           "title": "TechLead"
          },
          "publishedAt": "2016-09-20T15:57:20Z",
          "thumbnails": {
           "default": {
            "height": 88,
            "url": "https://yt3.ggpht.com/ytc/APkrFKZViPM10GrZVUiUhH2Dn_2yQhTpAr2zbtnGFhFK_g=s88-c-k-c0x00ffffff-no-rj",
            "width": 88
           },
           "high": {
            "height": 800,
            "url": "https://yt3.ggpht.com/ytc/APkrFKZViPM10GrZVUiUhH2Dn_2yQhTpAr2zbtnGFhFK_g=s800-c-k-c0x00ffffff-no-rj",
            "width": 800
           },
           "medium": {
            "height": 240,
            "url": "https://yt3.ggpht.com/ytc/APkrFKZViPM10GrZVUiUhH2Dn_2yQhTpAr2zbtnGFhFK_g=s240-c-k-c0x00ffffff-no-rj",
            "width": 240
           }
          },
          "title": "TechLead"
         },
         "statistics": {
          "hiddenSubscriberCount": false,
          "subscriberCount": "1430000",
          "videoCount": "409",
          "viewCount": "131974455"
         }
        },
        {
         "contentDetails": {
          "relatedPlaylists": {
           "likes": "",
           "uploads": "UU4MZ7zUHb5eAxU75Dc_nqdQ"
          }
         },
         "etag": "jvyAHZT_mvgALU6PJFh95wdxIm4",
         "id": "UC4MZ7zUHb5eAxU75Dc_nqdQ",
         "kind": "youtube#channel",
         "snippet": {
          "country": "US",
          "customUrl": "@tiffintech",
          "description": "Tiffany is a software developer who started her career in the modeling & fashion industry.  Tech can be very overwhelming for many at first as she experienced first hand entering into the industry. Tiff saw a gap to help ease people into what tech has to offer, to improve their day to day lives. She brings value and trust to her audience by maintaining authenticity through sharing her life through the lens. Her real and candid approach is why she has a very strong engagement with her community. Through sharing her day to day life, she has built a loyal audience that engages with her in tech, fashion, business and many other areas of everyday lifestyle.\n//Tiff\n\nCome say hi on my other social channel: https://www.instagram.com/tiffintech",
          "localized": {
           "description": "Tiffany is a software developer who started her career in the modeling & fashion industry.  Tech can be very overwhelming for many at first as she experienced first hand entering into the industry. Tiff saw a gap to help ease people into what tech has to offer, to improve their day to day lives. She brings value and trust to her audience by maintaining authenticity through sharing her life through the lens. Her real and candid approach is why she has a very strong engagement with her community. Through sharing her day to day life, she has built a loyal audience that engages with her in tech, fashion, business and many other areas of everyday lifestyle.\n//Tiff\n\nCome say hi on my other social channel: https://www.instagram.com/tiffintech",
           "title": "Tiff In Tech"
          },
          "publishedAt": "2011-03-13T19:44:23Z",
          "thumbnails": {
           "default": {
            "height": 88,
            "url": "https://yt3.ggpht.com/MkbhHI1tJM0t0MtedzzDxa8OWhPftvHfmFPN-VwYcvrgXq4iSXYyI4ZLZMOOST6IhhIZsjHUSKk=s88-c-k-c0x00ffffff-no-rj",
            "width": 88
           },
           "high": {
            "height": 800,
            "url": "https://yt3.ggpht.com/MkbhHI1tJM0t0MtedzzDxa8OWhPftvHfmFPN-VwYcvrgXq4iSXYyI4ZLZMOOST6IhhIZsjHUSKk=s800-c-k-c0x00ffffff-no-rj",
            "width": 800
           },
           "medium": {
            "height": 240,
            "url": "https://yt3.ggpht.com/MkbhHI1tJM0t0MtedzzDxa8OWhPftvHfmFPN-VwYcvrgXq4iSXYyI4ZLZMOOST6IhhIZsjHUSKk=s240-c-k-c0x00ffffff-no-rj",
            "width": 240
           }
          },
          "title": "Tiff In Tech"
         },
         "statistics": {
          "hiddenSubscriberCount": false,
          "subscriberCount": "318000",
          "videoCount": "553",
          "viewCount": "16716113"
         }
        },
        {
         "contentDetails": {
          "relatedPlaylists": {
           "likes": "",
           "uploads": "UUVe8CMJF4caRzuckVYV8CaQ"
          }
         },
         "etag": "WDO4rey7TSaG5f0ANsDlUD3YL2Y",
         "id": "UCVe8CMJF4caRzuckVYV8CaQ",
         "kind": "youtube#channel",
         "snippet": {
          "country": "IN",
          "customUrl": "@nishantchahar11",
          "description": "I am a Software Engineer at Microsoft, graduated from NSIT in 2021.\nI have interned at Samsung Research Institue Banglore as a software developer intern and I have also Won Smart India Hackathon. I love to try different things.\n\nI love to paint, cook, and code.\n\nFor collaboration/commercial contact at\nEmail :  businesswithnishantchahar@gmail.com\n\nMilestones\n0 subs - 6 sep\n100 Subs - 13 sep\n500 Subs - 19 oct\n1000 Subs - 14 Nov\n5000 Subs - 22 Dec\n10000 Subs - 10 Feb\n25000 Subs - 15 June \n50000 Subs - 28 Aug\n100k Subs - 21 March 2022\n150k Subs - 28th June 2022\n200k Subs - 12 Aug 2022\n250k Subs - 10 Nov 2022\n350k Subs - Jaldi karva do ❤️\nSmash the subscribe button to help me reach my goal ❤️\n\n**All the views on the channel are of my own, I do not represent any organization or company. ",
          "localized": {
           "description": "I am a Software Engineer at Microsoft, graduated from NSIT in 2021.\nI have interned at Samsung Research Institue Banglore as a software developer intern and I have also Won Smart India Hackathon. I love to try different things.\n\nI love to paint, cook, and code.\n\nFor collaboration/commercial contact at\nEmail :  businesswithnishantchahar@gmail.com\n\nMilestones\n0 subs - 6 sep\n100 Subs - 13 sep\n500 Subs - 19 oct\n1000 Subs - 14 Nov\n5000 Subs - 22 Dec\n10000 Subs - 10 Feb\n25000 Subs - 15 June \n50000 Subs - 28 Aug\n100k Subs - 21 March 2022\n150k Subs - 28th June 2022\n200k Subs - 12 Aug 2022\n250k Subs - 10 Nov 2022\n350k Subs - Jaldi karva do ❤️\nSmash the subscribe button to help me reach my goal ❤️\n\n**All the views on the channel are of my own, I do not represent any organization or company. ",
           "title": "Nishant Chahar"
          },
          "publishedAt": "2013-11-08T12:49:54Z",
          "thumbnails": {
           "default": {
            "height": 88,
            "url": "https://yt3.ggpht.com/ytc/APkrFKanYdNvJ1tP17KujO4w3GdNDCsjen9FIVdZuEEp5gE=s88-c-k-c0x00ffffff-no-rj",
            "width": 88
           },
           "high": {
            "height": 800,
            "url": "https://yt3.ggpht.com/ytc/APkrFKanYdNvJ1tP17KujO4w3GdNDCsjen9FIVdZuEEp5gE=s800-c-k-c0x00ffffff-no-rj",
            "width": 800
           },
           "medium": {
            "height": 240,
            "url": "https://yt3.ggpht.com/ytc/APkrFKanYdNvJ1tP17KujO4w3GdNDCsjen9FIVdZuEEp5gE=s240-c-k-c0x00ffffff-no-rj",
            "width": 240
           }
          },
          "title": "Nishant Chahar"
         },
         "statistics": {
          "hiddenSubscriberCount": false,
          "subscriberCount": "342000",
          "videoCount": "411",
          "viewCount": "41277732"
         }
        },
        {
         "contentDetails": {
          "relatedPlaylists": {
           "likes": "",
           "uploads": "UUx3ZYdyVr8BUQDIhS1QggxA"
          }
         },
         "etag": "CGQqbXCnONtB9euILo4CTXjxbck",
         "id": "UCx3ZYdyVr8BUQDIhS1QggxA",
         "kind": "youtube#channel",
         "snippet": {
          "country": "AU",
          "customUrl": "@techwithemilio",
          "description": "I love tech...hope you do too...\n\n⮕⮕ New Videos Every Monday 3pm GMT ⬅⬅\n\n🌍 My Website - https://www.emilioaguero.net\n👉 For any affiliate or sponsorship enquiries reach me at - contact@emilioaguero.net\n",
          "localized": {
           "description": "I love tech...hope you do too...\n\n⮕⮕ New Videos Every Monday 3pm GMT ⬅⬅\n\n🌍 My Website - https://www.emilioaguero.net\n👉 For any affiliate or sponsorship enquiries reach me at - contact@emilioaguero.net\n",
           "title": "Tech With Emilio"
          },
          "publishedAt": "2014-10-30T03:33:56Z",
          "thumbnails": {
           "default": {
            "height": 88,
            "url": "https://yt3.ggpht.com/VbJjVBUnYewM6V6oNrYfI8armZVK-3m3Un9VE6D8jNF2x0hnsxT8ZjKA62GqzBUM8_GmbMLeAg=s88-c-k-c0x00ffffff-no-rj",
            "width": 88
           },
           "high": {
            "height": 800,
            "url": "https://yt3.ggpht.com/VbJjVBUnYewM6V6oNrYfI8armZVK-3m3Un9VE6D8jNF2x0hnsxT8ZjKA62GqzBUM8_GmbMLeAg=s800-c-k-c0x00ffffff-no-rj",
            "width": 800
           },
           "medium": {
            "height": 240,
            "url": "https://yt3.ggpht.com/VbJjVBUnYewM6V6oNrYfI8armZVK-3m3Un9VE6D8jNF2x0hnsxT8ZjKA62GqzBUM8_GmbMLeAg=s240-c-k-c0x00ffffff-no-rj",
            "width": 240
           }
          },
          "title": "Tech With Emilio"
         },
         "statistics": {
          "hiddenSubscriberCount": false,
          "subscriberCount": "48800",
          "videoCount": "699",
          "viewCount": "10078721"
         }
        },
        {
         "contentDetails": {
          "relatedPlaylists": {
           "likes": "",
           "uploads": "UULKZ20yD2tNMBOkSDZo4FeQ"
          }
         },
         "etag": "w8NuM9-WxzgSRrjzsYHLQUAGesY",
         "id": "UCLKZ20yD2tNMBOkSDZo4FeQ",
         "kind": "youtube#channel",
         "snippet": {
          "country": "US",
          "customUrl": "@shanehummus",
          "description": "I help people get in-demand, high paying jobs FAST without the need for a college degree or previous experience.\n\nFree training for career options that will teach you high demand skills and get you a job FAST:\nSeth's Free Digital Marketing Masterclass:\nhttps://shanehummus.krtra.com/t/nOr8Zk6i1UdT \n\nTroy’s Tech Sales Free Training:\nhttps://coursecareers.com/explore/sales/ref/11256/\n$50 off code: SHANE50\n \nJosh’s Free Information Technology Training:\nhttps://coursecareers.com/explore/it/ref/11256/\n$50 off code: SHANE50\n\n----------------------------------------\n\nSocials:\n\nVisit my Website: https://shanehummus.com/\nFREE 6-Step Guide To Choose Your Dream Career: https://bit.ly/3JLAEQh\nJoin My Free Discord: https://discord.gg/Z2qR8nbnbp \nEnroll to my Course: https://bit.ly/MySchool101 \nLinkedin: https://www.linkedin.com/in/shane-humason-6bb475165/\nTikTok: https://www.tiktok.com/@successgps?lang=en \nTwitter: https://twitter.com/ShaneHummus \nInstagram: https://www.instagram.com/shanehummus/ \n",
          "localized": {
           "description": "I help people get in-demand, high paying jobs FAST without the need for a college degree or previous experience.\n\nFree training for career options that will teach you high demand skills and get you a job FAST:\nSeth's Free Digital Marketing Masterclass:\nhttps://shanehummus.krtra.com/t/nOr8Zk6i1UdT \n\nTroy’s Tech Sales Free Training:\nhttps://coursecareers.com/explore/sales/ref/11256/\n$50 off code: SHANE50\n \nJosh’s Free Information Technology Training:\nhttps://coursecareers.com/explore/it/ref/11256/\n$50 off code: SHANE50\n\n----------------------------------------\n\nSocials:\n\nVisit my Website: https://shanehummus.com/\nFREE 6-Step Guide To Choose Your Dream Career: https://bit.ly/3JLAEQh\nJoin My Free Discord: https://discord.gg/Z2qR8nbnbp \nEnroll to my Course: https://bit.ly/MySchool101 \nLinkedin: https://www.linkedin.com/in/shane-humason-6bb475165/\nTikTok: https://www.tiktok.com/@successgps?lang=en \nTwitter: https://twitter.com/ShaneHummus \nInstagram: https://www.instagram.com/shanehummus/ \n",
           "title": "Shane Hummus"
          },
          "publishedAt": "2017-07-27T23:14:22Z",
          "thumbnails": {
           "default": {
            "height": 88,
            "url": "https://yt3.ggpht.com/Kynh2gbOZsqzR9cyXIdUF57Eqx9Ra2T12UG1YL7gLug0T6dc1mZ4cE8czcYHUoTp1rt7nhT3yA=s88-c-k-c0x00ffffff-no-rj",
            "width": 88
           },
           "high": {
            "height": 800,
            "url": "https://yt3.ggpht.com/Kynh2gbOZsqzR9cyXIdUF57Eqx9Ra2T12UG1YL7gLug0T6dc1mZ4cE8czcYHUoTp1rt7nhT3yA=s800-c-k-c0x00ffffff-no-rj",
            "width": 800
           },
           "medium": {
            "height": 240,
            "url": "https://yt3.ggpht.com/Kynh2gbOZsqzR9cyXIdUF57Eqx9Ra2T12UG1YL7gLug0T6dc1mZ4cE8czcYHUoTp1rt7nhT3yA=s240-c-k-c0x00ffffff-no-rj",
            "width": 240
           }
          },
          "title": "Shane Hummus"
         },
         "statistics": {
          "hiddenSubscriberCount": false,
          "subscriberCount": "554000",
          "videoCount": "776",
          "viewCount": "57863207"
         }
        },
        {
         "contentDetails": {
          "relatedPlaylists": {
           "likes": "",
           "uploads": "UULpovxJVLBZrXJGCymB6LYw"
          }
         },
         "etag": "75ZcPt8J9bQsCD_9wfJg7IzAkG4",
         "id": "UCLpovxJVLBZrXJGCymB6LYw",
         "kind": "youtube#channel",
         "snippet": {
          "country": "US",
          "customUrl": "@namanhkapur",
          "description": "making you a better software engineer\n",
          "localized": {
           "description": "making you a better software engineer\n",
           "title": "Namanh Kapur"
          },
          "publishedAt": "2012-09-14T16:11:30Z",
          "thumbnails": {
           "default": {
            "height": 88,
            "url": "https://yt3.ggpht.com/E5hh4r9_0TRfAKSKVvXuSvQRLxCfv4Ow_SO-Llm_uwh08U_-SPbknLucATWPBtUiccFUUy-dXA=s88-c-k-c0x00ffffff-no-rj",
            "width": 88
           },
           "high": {
            "height": 800,
            "url": "https://yt3.ggpht.com/E5hh4r9_0TRfAKSKVvXuSvQRLxCfv4Ow_SO-Llm_uwh08U_-SPbknLucATWPBtUiccFUUy-dXA=s800-c-k-c0x00ffffff-no-rj",
            "width": 800
           },
           "medium": {
            "height": 240,
            "url": "https://yt3.ggpht.com/E5hh4r9_0TRfAKSKVvXuSvQRLxCfv4Ow_SO-Llm_uwh08U_-SPbknLucATWPBtUiccFUUy-dXA=s240-c-k-c0x00ffffff-no-rj",
            "width": 240
           }
          },
          "title": "Namanh Kapur"
         },
         "statistics": {
          "hiddenSubscriberCount": false,
          "subscriberCount": "198000",
          "videoCount": "62",
          "viewCount": "12539634"
         }
        },
        {
         "contentDetails": {
          "relatedPlaylists": {
           "likes": "",
           "uploads": "UUteRPiisgIoHtMgqHegpWAQ"
          }
         },
         "etag": "_GpA_m2djuWUO1TZp9RDisqlX0o",
         "id": "UCteRPiisgIoHtMgqHegpWAQ",
         "kind": "youtube#channel",
         "snippet": {
          "country": "US",
          "customUrl": "@sundaskhalid",
          "description": "Hi, I am Sundas. On this channel, I talk about data science and tech to help you succeed in the field. \n\nI am a self-taught data scientist from non-tech background, currently at a FAANG company. I have been in the industry for over 10 years across two big tech companies as a high-performer (top 1%).\n\nData Science is the hottest job family but there are many unknowns. Over the years,  I have built knowledge on how to lead a successful career and love sharing it on this channel. I share tips for people interested in entering data science with the goal to democratize knowledge and make complicated topics digestible for everyone. \n\nAll opinions on this channel are my own and do not reflect the opinions of the company I work for or have ever worked for in the past.\n",
          "localized": {
           "description": "Hi, I am Sundas. On this channel, I talk about data science and tech to help you succeed in the field. \n\nI am a self-taught data scientist from non-tech background, currently at a FAANG company. I have been in the industry for over 10 years across two big tech companies as a high-performer (top 1%).\n\nData Science is the hottest job family but there are many unknowns. Over the years,  I have built knowledge on how to lead a successful career and love sharing it on this channel. I share tips for people interested in entering data science with the goal to democratize knowledge and make complicated topics digestible for everyone. \n\nAll opinions on this channel are my own and do not reflect the opinions of the company I work for or have ever worked for in the past.\n",
           "title": "Sundas Khalid"
          },
          "publishedAt": "2014-04-19T02:27:06Z",
          "thumbnails": {
           "default": {
            "height": 88,
            "url": "https://yt3.ggpht.com/ytc/APkrFKYgnPvMG5-invdUKcaZNoGnjtrjSxFM8p_l6eWMzn8=s88-c-k-c0x00ffffff-no-rj",
            "width": 88
           },
           "high": {
            "height": 800,
            "url": "https://yt3.ggpht.com/ytc/APkrFKYgnPvMG5-invdUKcaZNoGnjtrjSxFM8p_l6eWMzn8=s800-c-k-c0x00ffffff-no-rj",
            "width": 800
           },
           "medium": {
            "height": 240,
            "url": "https://yt3.ggpht.com/ytc/APkrFKYgnPvMG5-invdUKcaZNoGnjtrjSxFM8p_l6eWMzn8=s240-c-k-c0x00ffffff-no-rj",
            "width": 240
           }
          },
          "title": "Sundas Khalid"
         },
         "statistics": {
          "hiddenSubscriberCount": false,
          "subscriberCount": "176000",
          "videoCount": "111",
          "viewCount": "8650475"
         }
        },
        {
         "contentDetails": {
          "relatedPlaylists": {
           "likes": "",
           "uploads": "UUggXQcy57bwxUeZI1LB8DCw"
          }
         },
         "etag": "FgPsMFxrbjCscNC-TOkuAAb9C1g",
         "id": "UCggXQcy57bwxUeZI1LB8DCw",
         "kind": "youtube#channel",
         "snippet": {
          "country": "US",
          "customUrl": "@techisthenewblack",
          "defaultLanguage": "en",
          "description": "Tech Is The New Black is an educational and entertainment platform where we discuss everything that's trending in and around  technology. \n\nYou get a front seat to exclusive conversations with tech recruiters, hiring managers, startup company owners, inventors, leaders and more - all showing you how to break into tech, scale to big money in this industry and show you how to launch your own billion dollar tech company!\n\nWe are here to show those who would be considered the black sheep, why tech isn't just something you should just know about, but it's an industry that either you should work in or create your business from. \n\nNew episodes drop every Monday!\n",
          "localized": {
           "description": "Tech Is The New Black is an educational and entertainment platform where we discuss everything that's trending in and around  technology. \n\nYou get a front seat to exclusive conversations with tech recruiters, hiring managers, startup company owners, inventors, leaders and more - all showing you how to break into tech, scale to big money in this industry and show you how to launch your own billion dollar tech company!\n\nWe are here to show those who would be considered the black sheep, why tech isn't just something you should just know about, but it's an industry that either you should work in or create your business from. \n\nNew episodes drop every Monday!\n",
           "title": "Tech Is The New Black"
          },
          "publishedAt": "2010-03-09T19:56:56Z",
          "thumbnails": {
           "default": {
            "height": 88,
            "url": "https://yt3.ggpht.com/GkM7HjMU2tqDn7Kx33DLTEQotydv0PhcgDxPxcZbZ4QKE5TJT0diQ276_E9R_WdUMGz2e92VMw=s88-c-k-c0x00ffffff-no-rj",
            "width": 88
           },
           "high": {
            "height": 800,
            "url": "https://yt3.ggpht.com/GkM7HjMU2tqDn7Kx33DLTEQotydv0PhcgDxPxcZbZ4QKE5TJT0diQ276_E9R_WdUMGz2e92VMw=s800-c-k-c0x00ffffff-no-rj",
            "width": 800
           },
           "medium": {
            "height": 240,
            "url": "https://yt3.ggpht.com/GkM7HjMU2tqDn7Kx33DLTEQotydv0PhcgDxPxcZbZ4QKE5TJT0diQ276_E9R_WdUMGz2e92VMw=s240-c-k-c0x00ffffff-no-rj",
            "width": 240
           }
          },
          "title": "Tech Is The New Black"
         },
         "statistics": {
          "hiddenSubscriberCount": false,
          "subscriberCount": "114000",
          "videoCount": "855",
          "viewCount": "7237480"
         }
        },
        {
         "contentDetails": {
          "relatedPlaylists": {
           "likes": "",
           "uploads": "UUmTS2gGo4gjZLt8LxVnF3XA"
          }
         },
         "etag": "TpI1Ldv0cOXXWG2l-MNGixqooxc",
         "id": "UCmTS2gGo4gjZLt8LxVnF3XA",
         "kind": "youtube#channel",
         "snippet": {
          "country": "US",
          "customUrl": "@boydclewis",
          "description": "Boyd Clewis is the cofounder of Baxter Clewis Training Cybersecurity, author of Corporate Security: Proven Ways to Reduce Cybersecurity Breaches, member of Forbes Technology Council, and a highly respected international expert and speaker on cybersecurity who has been featured in Forbes, NBC, ABC, FOX, and CBS.\n",
          "localized": {
           "description": "Boyd Clewis is the cofounder of Baxter Clewis Training Cybersecurity, author of Corporate Security: Proven Ways to Reduce Cybersecurity Breaches, member of Forbes Technology Council, and a highly respected international expert and speaker on cybersecurity who has been featured in Forbes, NBC, ABC, FOX, and CBS.\n",
           "title": "Boyd Clewis: The Six-Figure Tech Career Coach"
          },
          "publishedAt": "2010-12-19T03:17:01Z",
          "thumbnails": {
           "default": {
            "height": 88,
            "url": "https://yt3.ggpht.com/IxRntzhhW8SQxs1BgtKS_GRrUuUxNohrsOS1SE173jhy9pfCFKtWneL5QVtvKlJFi9GF7t34lOo=s88-c-k-c0x00ffffff-no-rj",
            "width": 88
           },
           "high": {
            "height": 800,
            "url": "https://yt3.ggpht.com/IxRntzhhW8SQxs1BgtKS_GRrUuUxNohrsOS1SE173jhy9pfCFKtWneL5QVtvKlJFi9GF7t34lOo=s800-c-k-c0x00ffffff-no-rj",
            "width": 800
           },
           "medium": {
            "height": 240,
            "url": "https://yt3.ggpht.com/IxRntzhhW8SQxs1BgtKS_GRrUuUxNohrsOS1SE173jhy9pfCFKtWneL5QVtvKlJFi9GF7t34lOo=s240-c-k-c0x00ffffff-no-rj",
            "width": 240
           }
          },
          "title": "Boyd Clewis: The Six-Figure Tech Career Coach"
         },
         "statistics": {
          "hiddenSubscriberCount": false,
          "subscriberCount": "131000",
          "videoCount": "111",
          "viewCount": "3265067"
         }
        },
        {
         "contentDetails": {
          "relatedPlaylists": {
           "likes": "",
           "uploads": "UU5qEPWtHLFRIjhW_3xd5g2A"
          }
         },
         "etag": "gg7BxWzZw_97eKZLGoyRL51Bacc",
         "id": "UC5qEPWtHLFRIjhW_3xd5g2A",
         "kind": "youtube#channel",
         "snippet": {
          "country": "US",
          "customUrl": "@withsandra",
          "description": "Hey there! \n\nI'm Sandra and i'm a cyber security enthusiast, I love sharing advice on infosec, having a career in technology, as well as just overall life advice. I'm also passionate about trying new foods, traveling, and fashion so I may incorporate those into a few videos as well :)\n\nBe sure to subscribe to follow along on my journey! ✿\n\nCollabs & Partnerships: hello@withsandra.dev\n",
          "localized": {
           "description": "Hey there! \n\nI'm Sandra and i'm a cyber security enthusiast, I love sharing advice on infosec, having a career in technology, as well as just overall life advice. I'm also passionate about trying new foods, traveling, and fashion so I may incorporate those into a few videos as well :)\n\nBe sure to subscribe to follow along on my journey! ✿\n\nCollabs & Partnerships: hello@withsandra.dev\n",
           "title": "Sandra - Tech & Lifestyle"
          },
          "publishedAt": "2019-11-03T02:38:30.769582Z",
          "thumbnails": {
           "default": {
            "height": 88,
            "url": "https://yt3.ggpht.com/q4KWNa0pQyVKccBCI61XWe_uzAuyFmMPRGtGu33P61YKc3o3JAnTDq50jwP2kDdMJgJ49chd=s88-c-k-c0x00ffffff-no-rj",
            "width": 88
           },
           "high": {
            "height": 800,
            "url": "https://yt3.ggpht.com/q4KWNa0pQyVKccBCI61XWe_uzAuyFmMPRGtGu33P61YKc3o3JAnTDq50jwP2kDdMJgJ49chd=s800-c-k-c0x00ffffff-no-rj",
            "width": 800
           },
           "medium": {
            "height": 240,
            "url": "https://yt3.ggpht.com/q4KWNa0pQyVKccBCI61XWe_uzAuyFmMPRGtGu33P61YKc3o3JAnTDq50jwP2kDdMJgJ49chd=s240-c-k-c0x00ffffff-no-rj",
            "width": 240
           }
          },
          "title": "Sandra - Tech & Lifestyle"
         },
         "statistics": {
          "hiddenSubscriberCount": false,
          "subscriberCount": "71300",
          "videoCount": "336",
          "viewCount": "4530264"
         }
        },
        {
         "contentDetails": {
          "relatedPlaylists": {
           "likes": "",
           "uploads": "UU2fYCeDDpXrQVjSPdJY4lyA"
          }
         },
         "etag": "nhNgWvXNzOywmj7e_AeELCxf-uM",
         "id": "UC2fYCeDDpXrQVjSPdJY4lyA",
         "kind": "youtube#channel",
         "snippet": {
          "country": "US",
          "customUrl": "@jobskillshare",
          "description": "JSS provides an opportunity to those who want to learn new IT job skills, improve on their current tech skills, and last but not least share their valued technical skills. It's a dream come true for any job seeker eager to acquire training from individuals possessing skills mandatory for the desired job",
          "localized": {
           "description": "JSS provides an opportunity to those who want to learn new IT job skills, improve on their current tech skills, and last but not least share their valued technical skills. It's a dream come true for any job seeker eager to acquire training from individuals possessing skills mandatory for the desired job",
           "title": "Jobskillshare Community"
          },
          "publishedAt": "2010-02-27T03:41:35Z",
          "thumbnails": {
           "default": {
            "height": 88,
            "url": "https://yt3.ggpht.com/UERjnSrVS1WljP4GXFxPPfD_wkjwZ47JOMS8bCvl5XbfRZAo5aerJznKLwD9DsuYcCo1ifQ5Ng=s88-c-k-c0x00ffffff-no-rj",
            "width": 88
           },
           "high": {
            "height": 800,
            "url": "https://yt3.ggpht.com/UERjnSrVS1WljP4GXFxPPfD_wkjwZ47JOMS8bCvl5XbfRZAo5aerJznKLwD9DsuYcCo1ifQ5Ng=s800-c-k-c0x00ffffff-no-rj",
            "width": 800
           },
           "medium": {
            "height": 240,
            "url": "https://yt3.ggpht.com/UERjnSrVS1WljP4GXFxPPfD_wkjwZ47JOMS8bCvl5XbfRZAo5aerJznKLwD9DsuYcCo1ifQ5Ng=s240-c-k-c0x00ffffff-no-rj",
            "width": 240
           }
          },
          "title": "Jobskillshare Community"
         },
         "statistics": {
          "hiddenSubscriberCount": false,
          "subscriberCount": "112000",
          "videoCount": "1527",
          "viewCount": "13272945"
         }
        },
        {
         "contentDetails": {
          "relatedPlaylists": {
           "likes": "",
           "uploads": "UUlLXKYEEM8OBBx85DOa6-cg"
          }
         },
         "etag": "hxVyZ-bvQtl_5D4vwWKkXRrcrPU",
         "id": "UClLXKYEEM8OBBx85DOa6-cg",
         "kind": "youtube#channel",
         "snippet": {
          "country": "US",
          "customUrl": "@devslopes",
          "description": "We teach people how to build cool sh*t",
          "localized": {
           "description": "We teach people how to build cool sh*t",
           "title": "Devslopes"
          },
          "publishedAt": "2015-08-18T06:05:22Z",
          "thumbnails": {
           "default": {
            "height": 88,
            "url": "https://yt3.ggpht.com/ytc/APkrFKb9C3tH3-oPLS0gcyRXAJZpTSvuxtVznsRtqzEUHA=s88-c-k-c0x00ffffff-no-rj",
            "width": 88
           },
           "high": {
            "height": 800,
            "url": "https://yt3.ggpht.com/ytc/APkrFKb9C3tH3-oPLS0gcyRXAJZpTSvuxtVznsRtqzEUHA=s800-c-k-c0x00ffffff-no-rj",
            "width": 800
           },
           "medium": {
            "height": 240,
            "url": "https://yt3.ggpht.com/ytc/APkrFKb9C3tH3-oPLS0gcyRXAJZpTSvuxtVznsRtqzEUHA=s240-c-k-c0x00ffffff-no-rj",
            "width": 240
           }
          },
          "title": "Devslopes"
         },
         "statistics": {
          "hiddenSubscriberCount": false,
          "subscriberCount": "214000",
          "videoCount": "220",
          "viewCount": "17629219"
         }
        },
        {
         "contentDetails": {
          "relatedPlaylists": {
           "likes": "",
           "uploads": "UUIrOHHdl6C4IWv96N0EaHMA"
          }
         },
         "etag": "b4FPaK0jBZLpKEi91kYWXtwWEwk",
         "id": "UCIrOHHdl6C4IWv96N0EaHMA",
         "kind": "youtube#channel",
         "snippet": {
          "country": "US",
          "customUrl": "@hustlewithdrae",
          "description": "Welcome to my channel, I help individuals kick-start their careers in tech the hustle way. Subscribe if you need anything from Interview Tips, Career Tips or are just curious about what life is like for the average hustler like me who broke his way into the tech industry. \n\nInstagram: HustleWithDrae\nTwitter: HustleWithDrae\nPersonal/Business Email: HustleWithDrae@gmail.com",
          "localized": {
           "description": "Welcome to my channel, I help individuals kick-start their careers in tech the hustle way. Subscribe if you need anything from Interview Tips, Career Tips or are just curious about what life is like for the average hustler like me who broke his way into the tech industry. \n\nInstagram: HustleWithDrae\nTwitter: HustleWithDrae\nPersonal/Business Email: HustleWithDrae@gmail.com",
           "title": "Hustle With Drae "
          },
          "publishedAt": "2020-05-06T13:46:47.815829Z",
          "thumbnails": {
           "default": {
            "height": 88,
            "url": "https://yt3.ggpht.com/9PNz-6ldsCoQbwbVAW4_EZTjfxXoUCzjczhTiXF9Dfu7nBwtMvRVgZrOjMAPJ82CqP0Yh4RvIw=s88-c-k-c0x00ffffff-no-rj",
            "width": 88
           },
           "high": {
            "height": 800,
            "url": "https://yt3.ggpht.com/9PNz-6ldsCoQbwbVAW4_EZTjfxXoUCzjczhTiXF9Dfu7nBwtMvRVgZrOjMAPJ82CqP0Yh4RvIw=s800-c-k-c0x00ffffff-no-rj",
            "width": 800
           },
           "medium": {
            "height": 240,
            "url": "https://yt3.ggpht.com/9PNz-6ldsCoQbwbVAW4_EZTjfxXoUCzjczhTiXF9Dfu7nBwtMvRVgZrOjMAPJ82CqP0Yh4RvIw=s240-c-k-c0x00ffffff-no-rj",
            "width": 240
           }
          },
          "title": "Hustle With Drae "
         },
         "statistics": {
          "hiddenSubscriberCount": false,
          "subscriberCount": "5630",
          "videoCount": "123",
          "viewCount": "276611"
         }
        },
        {
         "contentDetails": {
          "relatedPlaylists": {
           "likes": "",
           "uploads": "UUUOMtzQmEmhIAF8G_cha_Xw"
          }
         },
         "etag": "AUHQV6kipcaejQBpQQ3R8RxJfEg",
         "id": "UCUOMtzQmEmhIAF8G_cha_Xw",
         "kind": "youtube#channel",
         "snippet": {
          "country": "US",
          "customUrl": "@doriandevelops",
          "description": "idk wtf I'm doing anymore...\n",
          "localized": {
           "description": "idk wtf I'm doing anymore...\n",
           "title": "Dorian Develops"
          },
          "publishedAt": "2020-01-12T10:56:47.732663Z",
          "thumbnails": {
           "default": {
            "height": 88,
            "url": "https://yt3.ggpht.com/j_ZCn6PJZufZpCMRI9zRxWxnGkPY_PY5erbypulqeRPyPA2jZhGaTVVgyJH5NI2KPkKQRqeEneg=s88-c-k-c0x00ffffff-no-rj",
            "width": 88
           },
           "high": {
            "height": 800,
            "url": "https://yt3.ggpht.com/j_ZCn6PJZufZpCMRI9zRxWxnGkPY_PY5erbypulqeRPyPA2jZhGaTVVgyJH5NI2KPkKQRqeEneg=s800-c-k-c0x00ffffff-no-rj",
            "width": 800
           },
           "medium": {
            "height": 240,
            "url": "https://yt3.ggpht.com/j_ZCn6PJZufZpCMRI9zRxWxnGkPY_PY5erbypulqeRPyPA2jZhGaTVVgyJH5NI2KPkKQRqeEneg=s240-c-k-c0x00ffffff-no-rj",
            "width": 240
           }
          },
          "title": "Dorian Develops"
         },
         "statistics": {
          "hiddenSubscriberCount": false,
          "subscriberCount": "234000",
          "videoCount": "379",
          "viewCount": "15581499"
         }
        },
        {
         "contentDetails": {
          "relatedPlaylists": {
           "likes": "",
           "uploads": "UUEHFikgnRuLd1HYKTLrae9Q"
          }
         },
         "etag": "ZHf9JZe5BRpJbhZFeLreOq2yATM",
         "id": "UCEHFikgnRuLd1HYKTLrae9Q",
         "kind": "youtube#channel",
         "snippet": {
          "country": "US",
          "customUrl": "@alifeengineered",
          "description": "My name is Steve Huynh, I am a YouTuber, a Principal Engineer, a productivity junkie. I believe that if we take a structured and engineering approach to our lives and careers we can achieve anything we want. My mission is to help knowledge workers develop a growth mindset so they can live the lives they want, whether that’s getting promoted as quickly as possible, starting a business/startup, or finding financial independence.\n\nI do this by creating YouTube videos, my weekly email newsletter, and connecting people with a community of like-minded individuals on my Discord, where I distill the lessons I've learned from nearly 20 years in the tech industry.\n",
          "localized": {
           "description": "My name is Steve Huynh, I am a YouTuber, a Principal Engineer, a productivity junkie. I believe that if we take a structured and engineering approach to our lives and careers we can achieve anything we want. My mission is to help knowledge workers develop a growth mindset so they can live the lives they want, whether that’s getting promoted as quickly as possible, starting a business/startup, or finding financial independence.\n\nI do this by creating YouTube videos, my weekly email newsletter, and connecting people with a community of like-minded individuals on my Discord, where I distill the lessons I've learned from nearly 20 years in the tech industry.\n",
           "title": "A Life Engineered"
          },
          "publishedAt": "2021-01-22T23:38:51.490887Z",
          "thumbnails": {
           "default": {
            "height": 88,
            "url": "https://yt3.ggpht.com/UvdWU0jg21It27_ralQRa_Jg7VRQGTcmiG_uYukoORqdGigrQZrIqiD9xZyZKDL90Lavy67olA=s88-c-k-c0x00ffffff-no-rj",
            "width": 88
           },
           "high": {
            "height": 800,
            "url": "https://yt3.ggpht.com/UvdWU0jg21It27_ralQRa_Jg7VRQGTcmiG_uYukoORqdGigrQZrIqiD9xZyZKDL90Lavy67olA=s800-c-k-c0x00ffffff-no-rj",
            "width": 800
           },
           "medium": {
            "height": 240,
            "url": "https://yt3.ggpht.com/UvdWU0jg21It27_ralQRa_Jg7VRQGTcmiG_uYukoORqdGigrQZrIqiD9xZyZKDL90Lavy67olA=s240-c-k-c0x00ffffff-no-rj",
            "width": 240
           }
          },
          "title": "A Life Engineered"
         },
         "statistics": {
          "hiddenSubscriberCount": false,
          "subscriberCount": "122000",
          "videoCount": "32",
          "viewCount": "3803574"
         }
        },
        {
         "contentDetails": {
          "relatedPlaylists": {
           "likes": "",
           "uploads": "UUQiNyL7ik4FIlV2UCvojq0g"
          }
         },
         "etag": "mx7xT-ILNKdH5cHR14KHtEShdug",
         "id": "UCQiNyL7ik4FIlV2UCvojq0g",
         "kind": "youtube#channel",
         "snippet": {
          "customUrl": "@rohanadus4648",
          "description": "I help people up-skill themselves with data.\n",
          "localized": {
           "description": "I help people up-skill themselves with data.\n",
           "title": "Rohan Adus"
          },
          "publishedAt": "2020-03-23T18:26:32.339179Z",
          "thumbnails": {
           "default": {
            "height": 88,
            "url": "https://yt3.ggpht.com/ytc/APkrFKbtqe9cUUgHKCz479TQkTZ2bmiwHlnF-WY8U-7K=s88-c-k-c0x00ffffff-no-rj",
            "width": 88
           },
           "high": {
            "height": 800,
            "url": "https://yt3.ggpht.com/ytc/APkrFKbtqe9cUUgHKCz479TQkTZ2bmiwHlnF-WY8U-7K=s800-c-k-c0x00ffffff-no-rj",
            "width": 800
           },
           "medium": {
            "height": 240,
            "url": "https://yt3.ggpht.com/ytc/APkrFKbtqe9cUUgHKCz479TQkTZ2bmiwHlnF-WY8U-7K=s240-c-k-c0x00ffffff-no-rj",
            "width": 240
           }
          },
          "title": "Rohan Adus"
         },
         "statistics": {
          "hiddenSubscriberCount": false,
          "subscriberCount": "1630",
          "videoCount": "39",
          "viewCount": "69687"
         }
        },
        {
         "contentDetails": {
          "relatedPlaylists": {
           "likes": "",
           "uploads": "UUEDkO7wshcDZ7UZo17rPkzQ"
          }
         },
         "etag": "Yjt5WerSXxXK9qZInVQNKk4Vdlo",
         "id": "UCEDkO7wshcDZ7UZo17rPkzQ",
         "kind": "youtube#channel",
         "snippet": {
          "country": "US",
          "customUrl": "@hellomayuko",
          "description": "🌸a b o u t 🌸\nMayuko Inoue is a content creator and Software Engineer. After working in Silicon Valley tech companies like Intuit, Patreon, and Netflix for six years as an iOS Engineer, she became a full-time creator in 2020. Her work aims to help people find their way through the tech industry by sharing her own experiences navigating this world through technology, career advice, and lifestyle videos. She is passionate about discussions around mental health, cultural identity, and creating technology with empathy and compassion.\n\n✉️c o n t a c t ✉️\nIf you'd like to sponsor a video: sponsor@hellomayuko.com\nOther business inquiries: business@helloMayuko.com\n\nhttps://www.hellomayuko.com\n",
          "localized": {
           "description": "🌸a b o u t 🌸\nMayuko Inoue is a content creator and Software Engineer. After working in Silicon Valley tech companies like Intuit, Patreon, and Netflix for six years as an iOS Engineer, she became a full-time creator in 2020. Her work aims to help people find their way through the tech industry by sharing her own experiences navigating this world through technology, career advice, and lifestyle videos. She is passionate about discussions around mental health, cultural identity, and creating technology with empathy and compassion.\n\n✉️c o n t a c t ✉️\nIf you'd like to sponsor a video: sponsor@hellomayuko.com\nOther business inquiries: business@helloMayuko.com\n\nhttps://www.hellomayuko.com\n",
           "title": "mayuko"
          },
          "publishedAt": "2010-10-04T09:01:34Z",
          "thumbnails": {
           "default": {
            "height": 88,
            "url": "https://yt3.ggpht.com/mjNkmL_jtTy0nEdVnjPw_xN4Bknadpv6_PkmO_B79yTr1xvyB5IVYYsklcR1PK3ez_d1AOKMPQ=s88-c-k-c0x00ffffff-no-rj",
            "width": 88
           },
           "high": {
            "height": 800,
            "url": "https://yt3.ggpht.com/mjNkmL_jtTy0nEdVnjPw_xN4Bknadpv6_PkmO_B79yTr1xvyB5IVYYsklcR1PK3ez_d1AOKMPQ=s800-c-k-c0x00ffffff-no-rj",
            "width": 800
           },
           "medium": {
            "height": 240,
            "url": "https://yt3.ggpht.com/mjNkmL_jtTy0nEdVnjPw_xN4Bknadpv6_PkmO_B79yTr1xvyB5IVYYsklcR1PK3ez_d1AOKMPQ=s240-c-k-c0x00ffffff-no-rj",
            "width": 240
           }
          },
          "title": "mayuko"
         },
         "statistics": {
          "hiddenSubscriberCount": false,
          "subscriberCount": "554000",
          "videoCount": "174",
          "viewCount": "29385027"
         }
        },
        {
         "contentDetails": {
          "relatedPlaylists": {
           "likes": "",
           "uploads": "UUu1xbgCV5o48h_BYCQD7KJg"
          }
         },
         "etag": "I_fIzJPLlv4MjToOq5lv6wXAUlA",
         "id": "UCu1xbgCV5o48h_BYCQD7KJg",
         "kind": "youtube#channel",
         "snippet": {
          "country": "US",
          "customUrl": "@realchrissean",
          "description": "",
          "localized": {
           "description": "",
           "title": "Chris Sean"
          },
          "publishedAt": "2013-02-17T17:31:43Z",
          "thumbnails": {
           "default": {
            "height": 88,
            "url": "https://yt3.ggpht.com/UWGbeD_4uD67sbk0tpNRGyuL6H2rWx_36K2joTrKGdlq1TEtSUAXWLDRtCKsrg59uNnXbuviQw=s88-c-k-c0x00ffffff-no-rj",
            "width": 88
           },
           "high": {
            "height": 800,
            "url": "https://yt3.ggpht.com/UWGbeD_4uD67sbk0tpNRGyuL6H2rWx_36K2joTrKGdlq1TEtSUAXWLDRtCKsrg59uNnXbuviQw=s800-c-k-c0x00ffffff-no-rj",
            "width": 800
           },
           "medium": {
            "height": 240,
            "url": "https://yt3.ggpht.com/UWGbeD_4uD67sbk0tpNRGyuL6H2rWx_36K2joTrKGdlq1TEtSUAXWLDRtCKsrg59uNnXbuviQw=s240-c-k-c0x00ffffff-no-rj",
            "width": 240
           }
          },
          "title": "Chris Sean"
         },
         "statistics": {
          "hiddenSubscriberCount": false,
          "subscriberCount": "149000",
          "videoCount": "383",
          "viewCount": "10445250"
         }
        },
        {
         "contentDetails": {
          "relatedPlaylists": {
           "likes": "",
           "uploads": "UUv3N90AXQxUtaSnKSqOoOpA"
          }
         },
         "etag": "69bUIV4uqXF6ZxGYV_OHcsLHbmU",
         "id": "UCv3N90AXQxUtaSnKSqOoOpA",
         "kind": "youtube#channel",
         "snippet": {
          "country": "US",
          "customUrl": "@black-heights",
          "description": "Welcome to the Black Heights Channel!  Our videos are educational.  We discuss careers, degrees, real estate investing, stock investing, leadership skills, provide relationship advice and so much more.  We really aim to provide you everything you need to be a better person.  \n\nWe upload 2 times a week (Mondays and Saturdays) at 11:45 am central time.\n\nI am also a career coach.  I help entry-level employees fast track their careers by developing their leadership skills. To book a session click the link below:\nhttps://app.acuityscheduling.com/schedule.php?owner=21534511\n\nIf you are interested in the joining our patreon to get exclusive access to me and the BH community of MIS/ITM professionals use the link below:\nhttps://www.patreon.com/blackheights\n\nIf for any reason you need to contact us, send us an email at: support@blkheights.com.\n\nWe hope you enjoy your stay on our channel.\n\nSubscribe to our channel & stay tuned!\n\nWWW.BLKHEIGHTS.COM",
          "localized": {
           "description": "Welcome to the Black Heights Channel!  Our videos are educational.  We discuss careers, degrees, real estate investing, stock investing, leadership skills, provide relationship advice and so much more.  We really aim to provide you everything you need to be a better person.  \n\nWe upload 2 times a week (Mondays and Saturdays) at 11:45 am central time.\n\nI am also a career coach.  I help entry-level employees fast track their careers by developing their leadership skills. To book a session click the link below:\nhttps://app.acuityscheduling.com/schedule.php?owner=21534511\n\nIf you are interested in the joining our patreon to get exclusive access to me and the BH community of MIS/ITM professionals use the link below:\nhttps://www.patreon.com/blackheights\n\nIf for any reason you need to contact us, send us an email at: support@blkheights.com.\n\nWe hope you enjoy your stay on our channel.\n\nSubscribe to our channel & stay tuned!\n\nWWW.BLKHEIGHTS.COM",
           "title": "Black Heights - Advancing Your Career"
          },
          "publishedAt": "2018-09-26T04:12:36Z",
          "thumbnails": {
           "default": {
            "height": 88,
            "url": "https://yt3.ggpht.com/pfIhqBs612Yks3ZQEDZgyo_Q1ldOQJvHv3VEZWgnBPVPXQZ15XqU3MzEdI5ayqtP8phTgVl0PA=s88-c-k-c0x00ffffff-no-rj",
            "width": 88
           },
           "high": {
            "height": 800,
            "url": "https://yt3.ggpht.com/pfIhqBs612Yks3ZQEDZgyo_Q1ldOQJvHv3VEZWgnBPVPXQZ15XqU3MzEdI5ayqtP8phTgVl0PA=s800-c-k-c0x00ffffff-no-rj",
            "width": 800
           },
           "medium": {
            "height": 240,
            "url": "https://yt3.ggpht.com/pfIhqBs612Yks3ZQEDZgyo_Q1ldOQJvHv3VEZWgnBPVPXQZ15XqU3MzEdI5ayqtP8phTgVl0PA=s240-c-k-c0x00ffffff-no-rj",
            "width": 240
           }
          },
          "title": "Black Heights - Advancing Your Career"
         },
         "statistics": {
          "hiddenSubscriberCount": false,
          "subscriberCount": "28100",
          "videoCount": "897",
          "viewCount": "1445760"
         }
        },
        {
         "contentDetails": {
          "relatedPlaylists": {
           "likes": "",
           "uploads": "UUWI-ohtRu8eEeDj93hmUsUQ"
          }
         },
         "etag": "48cP1xeWMa7vbRPApkl1w4tDErg",
         "id": "UCWI-ohtRu8eEeDj93hmUsUQ",
         "kind": "youtube#channel",
         "snippet": {
          "country": "CA",
          "customUrl": "@codingwithlewis",
          "description": "My name is Lewis Menelaws. I have been professionally coding for 5 years and been hobbying for more than 8. I enjoy business and programming. My intentions with this channel are to share what I find interesting and inspire likeminded people while providing an entry-level insight on the technologies I use. Any business inquiries please direct to lewis@tmrrwinc.ca",
          "localized": {
           "description": "My name is Lewis Menelaws. I have been professionally coding for 5 years and been hobbying for more than 8. I enjoy business and programming. My intentions with this channel are to share what I find interesting and inspire likeminded people while providing an entry-level insight on the technologies I use. Any business inquiries please direct to lewis@tmrrwinc.ca",
           "title": "Coding with Lewis"
          },
          "publishedAt": "2020-01-29T00:09:04.927395Z",
          "thumbnails": {
           "default": {
            "height": 88,
            "url": "https://yt3.ggpht.com/XCrBBAMNF2JLmu2UIMGxDV6nzclwfcnOvsHfkit2mG2rbD07QlR4XClZg5RP2zoaovP4mKfMZA=s88-c-k-c0x00ffffff-no-rj",
            "width": 88
           },
           "high": {
            "height": 800,
            "url": "https://yt3.ggpht.com/XCrBBAMNF2JLmu2UIMGxDV6nzclwfcnOvsHfkit2mG2rbD07QlR4XClZg5RP2zoaovP4mKfMZA=s800-c-k-c0x00ffffff-no-rj",
            "width": 800
           },
           "medium": {
            "height": 240,
            "url": "https://yt3.ggpht.com/XCrBBAMNF2JLmu2UIMGxDV6nzclwfcnOvsHfkit2mG2rbD07QlR4XClZg5RP2zoaovP4mKfMZA=s240-c-k-c0x00ffffff-no-rj",
            "width": 240
           }
          },
          "title": "Coding with Lewis"
         },
         "statistics": {
          "hiddenSubscriberCount": false,
          "subscriberCount": "433000",
          "videoCount": "469",
          "viewCount": "109820598"
         }
        },
        {
         "contentDetails": {
          "relatedPlaylists": {
           "likes": "",
           "uploads": "UUw_LFe2pS8x3NyipGNJgeEA"
          }
         },
         "etag": "fxGZEFTv6Velnmjx2RrGwtq2C8w",
         "id": "UCw_LFe2pS8x3NyipGNJgeEA",
         "kind": "youtube#channel",
         "snippet": {
          "country": "US",
          "customUrl": "@learnwithlukas",
          "defaultLanguage": "en",
          "description": "Hey, I'm Lukas. I share what I learn in data science/analytics.\n\nThis channel is for people looking to become data analysts and start a career in data.\n\nI don't use any other social channels.\n",
          "localized": {
           "description": "Hey, I'm Lukas. I share what I learn in data science/analytics.\n\nThis channel is for people looking to become data analysts and start a career in data.\n\nI don't use any other social channels.\n",
           "title": "Learn with Lukas"
          },
          "publishedAt": "2020-11-26T17:38:58.614177Z",
          "thumbnails": {
           "default": {
            "height": 88,
            "url": "https://yt3.ggpht.com/Q0fNF5Z_WxGTxdYtFIGAWCsfCNS-hVRXkFZkbvZH2OGFgAwGtHDyiP3Pe_zgffLOZ50EtAzI=s88-c-k-c0x00ffffff-no-rj",
            "width": 88
           },
           "high": {
            "height": 800,
            "url": "https://yt3.ggpht.com/Q0fNF5Z_WxGTxdYtFIGAWCsfCNS-hVRXkFZkbvZH2OGFgAwGtHDyiP3Pe_zgffLOZ50EtAzI=s800-c-k-c0x00ffffff-no-rj",
            "width": 800
           },
           "medium": {
            "height": 240,
            "url": "https://yt3.ggpht.com/Q0fNF5Z_WxGTxdYtFIGAWCsfCNS-hVRXkFZkbvZH2OGFgAwGtHDyiP3Pe_zgffLOZ50EtAzI=s240-c-k-c0x00ffffff-no-rj",
            "width": 240
           }
          },
          "title": "Learn with Lukas"
         },
         "statistics": {
          "hiddenSubscriberCount": false,
          "subscriberCount": "23100",
          "videoCount": "44",
          "viewCount": "1151024"
         }
        },
        {
         "contentDetails": {
          "relatedPlaylists": {
           "likes": "",
           "uploads": "UU7cs8q-gJRlGwj4A8OmCmXg"
          }
         },
         "etag": "4enLWCdiYMF9ccdggpWP6iqAI7M",
         "id": "UC7cs8q-gJRlGwj4A8OmCmXg",
         "kind": "youtube#channel",
         "snippet": {
          "country": "US",
          "customUrl": "@alextheanalyst",
          "description": "My name is Alex Freberg and on this channel I will be going over everything you need to know to become a Data Analyst. If you are wanting to make a career change or learn the skills needed to become a Data Analyst, be sure to subscribe to stay up to date on all my latest content.\n\nYou can find me on LinkedIn at:\nhttps://www.linkedin.com/in/alex-freberg/\n\nAlexTheAnalyst.com\nhttps://www.alextheanalyst.com/\n\nDiscord Channel:\nhttps://discord.gg/rxZUjNvRzR\n\nTwitter:\n@Alex_TheAnalyst\n\nSend Me Something:\n431 Saint James Avenue Suite L #318, Goose Creek, SC, 29445\n",
          "localized": {
           "description": "My name is Alex Freberg and on this channel I will be going over everything you need to know to become a Data Analyst. If you are wanting to make a career change or learn the skills needed to become a Data Analyst, be sure to subscribe to stay up to date on all my latest content.\n\nYou can find me on LinkedIn at:\nhttps://www.linkedin.com/in/alex-freberg/\n\nAlexTheAnalyst.com\nhttps://www.alextheanalyst.com/\n\nDiscord Channel:\nhttps://discord.gg/rxZUjNvRzR\n\nTwitter:\n@Alex_TheAnalyst\n\nSend Me Something:\n431 Saint James Avenue Suite L #318, Goose Creek, SC, 29445\n",
           "title": "Alex The Analyst"
          },
          "publishedAt": "2020-01-08T05:04:24.970712Z",
          "thumbnails": {
           "default": {
            "height": 88,
            "url": "https://yt3.ggpht.com/ytc/APkrFKY94_hiNJ7vhHxbciZCaMvLfkXOvxhVhN3mFEDO=s88-c-k-c0x00ffffff-no-rj",
            "width": 88
           },
           "high": {
            "height": 800,
            "url": "https://yt3.ggpht.com/ytc/APkrFKY94_hiNJ7vhHxbciZCaMvLfkXOvxhVhN3mFEDO=s800-c-k-c0x00ffffff-no-rj",
            "width": 800
           },
           "medium": {
            "height": 240,
            "url": "https://yt3.ggpht.com/ytc/APkrFKY94_hiNJ7vhHxbciZCaMvLfkXOvxhVhN3mFEDO=s240-c-k-c0x00ffffff-no-rj",
            "width": 240
           }
          },
          "title": "Alex The Analyst"
         },
         "statistics": {
          "hiddenSubscriberCount": false,
          "subscriberCount": "603000",
          "videoCount": "254",
          "viewCount": "25100510"
         }
        },
        {
         "contentDetails": {
          "relatedPlaylists": {
           "likes": "",
           "uploads": "UUt-Pwe2fODjH4Wuwf5VqE7A"
          }
         },
         "etag": "CSGQ0bKSffqqiA5kYz126u1rfrA",
         "id": "UCt-Pwe2fODjH4Wuwf5VqE7A",
         "kind": "youtube#channel",
         "snippet": {
          "country": "US",
          "customUrl": "@itcareerquestions",
          "description": "New videos roughly every complete lunar cycle, or so.\n\nWe realize that there is a vast amount of information to consume about the many different aspects of this field.  Our goal is to help you find the answers to the questions you might have about anything and everything Information Technology Career-Related and set your mind at ease.\n\nThis channel is powered by TCM Security: https://academy.tcm-sec.com \n\n",
          "localized": {
           "description": "New videos roughly every complete lunar cycle, or so.\n\nWe realize that there is a vast amount of information to consume about the many different aspects of this field.  Our goal is to help you find the answers to the questions you might have about anything and everything Information Technology Career-Related and set your mind at ease.\n\nThis channel is powered by TCM Security: https://academy.tcm-sec.com \n\n",
           "title": "IT Career Questions"
          },
          "publishedAt": "2014-09-19T22:05:35Z",
          "thumbnails": {
           "default": {
            "height": 88,
            "url": "https://yt3.ggpht.com/uwimZ6XOCftut4-Mbq7ZGR21SJVDE08o1zfuKzHZ7AW-9NwOZEZY4ZDuatu3tzofNOiueulegw=s88-c-k-c0x00ffffff-no-rj",
            "width": 88
           },
           "high": {
            "height": 800,
            "url": "https://yt3.ggpht.com/uwimZ6XOCftut4-Mbq7ZGR21SJVDE08o1zfuKzHZ7AW-9NwOZEZY4ZDuatu3tzofNOiueulegw=s800-c-k-c0x00ffffff-no-rj",
            "width": 800
           },
           "medium": {
            "height": 240,
            "url": "https://yt3.ggpht.com/uwimZ6XOCftut4-Mbq7ZGR21SJVDE08o1zfuKzHZ7AW-9NwOZEZY4ZDuatu3tzofNOiueulegw=s240-c-k-c0x00ffffff-no-rj",
            "width": 240
           }
          },
          "title": "IT Career Questions"
         },
         "statistics": {
          "hiddenSubscriberCount": false,
          "subscriberCount": "269000",
          "videoCount": "1014",
          "viewCount": "19409455"
         }
        },
        {
         "contentDetails": {
          "relatedPlaylists": {
           "likes": "",
           "uploads": "UU50JofjMZpr3KCbOx6dHi_A"
          }
         },
         "etag": "wnR_AEDZyd0xCz-7h2o_cLm78Lw",
         "id": "UC50JofjMZpr3KCbOx6dHi_A",
         "kind": "youtube#channel",
         "snippet": {
          "country": "US",
          "customUrl": "@jackcalvinross",
          "description": "Name: Jack Ross\nLocation: Anywhere\n\nLearning to leverage the tools of the digital age to get more freedom in life.\n",
          "localized": {
           "description": "Name: Jack Ross\nLocation: Anywhere\n\nLearning to leverage the tools of the digital age to get more freedom in life.\n",
           "title": "Jack Ross"
          },
          "publishedAt": "2020-09-20T21:51:56.134936Z",
          "thumbnails": {
           "default": {
            "height": 88,
            "url": "https://yt3.ggpht.com/WbJ84qCH8AMusOQckbMhsUtpYiecA8eInwPpg9UwvsreSvdwik5dRNb34z-ZzY2Xz7Gcmv2X=s88-c-k-c0x00ffffff-no-rj",
            "width": 88
           },
           "high": {
            "height": 800,
            "url": "https://yt3.ggpht.com/WbJ84qCH8AMusOQckbMhsUtpYiecA8eInwPpg9UwvsreSvdwik5dRNb34z-ZzY2Xz7Gcmv2X=s800-c-k-c0x00ffffff-no-rj",
            "width": 800
           },
           "medium": {
            "height": 240,
            "url": "https://yt3.ggpht.com/WbJ84qCH8AMusOQckbMhsUtpYiecA8eInwPpg9UwvsreSvdwik5dRNb34z-ZzY2Xz7Gcmv2X=s240-c-k-c0x00ffffff-no-rj",
            "width": 240
           }
          },
          "title": "Jack Ross"
         },
         "statistics": {
          "hiddenSubscriberCount": false,
          "subscriberCount": "1300",
          "videoCount": "25",
          "viewCount": "67840"
         }
        },
        {
         "contentDetails": {
          "relatedPlaylists": {
           "likes": "",
           "uploads": "UUJQJAI7IjbLcpsjWdSzYz0Q"
          }
         },
         "etag": "FudfVU6LAL3g8wNXn5jHd8fIJeY",
         "id": "UCJQJAI7IjbLcpsjWdSzYz0Q",
         "kind": "youtube#channel",
         "snippet": {
          "country": "US",
          "customUrl": "@thuvu5",
          "defaultLanguage": "en",
          "description": "Hi there! Thanks for checking out my channel. Me in 3 words: Economist turned data nerd. I'm a Data science consultant by profession in the past 5 years, based in the Netherlands. My background is in Economics and Computer Science. I love learning and explaining stuff about data science. If that sounds interesting, consider subscribing! :)\n\nDisclaimers: \nAll opinions are of my own and not of my employers.\n",
          "localized": {
           "description": "Hi there! Thanks for checking out my channel. Me in 3 words: Economist turned data nerd. I'm a Data science consultant by profession in the past 5 years, based in the Netherlands. My background is in Economics and Computer Science. I love learning and explaining stuff about data science. If that sounds interesting, consider subscribing! :)\n\nDisclaimers: \nAll opinions are of my own and not of my employers.\n",
           "title": "Thu Vu data analytics"
          },
          "publishedAt": "2021-04-30T15:22:58.33437Z",
          "thumbnails": {
           "default": {
            "height": 88,
            "url": "https://yt3.ggpht.com/s3HLl-uzqEaqww2tkWKgjLFfgoe2NUsu4tRLm7g5TOScMK3aqOl1wGhar3yZRa1VH4BK3rzHyg=s88-c-k-c0x00ffffff-no-rj",
            "width": 88
           },
           "high": {
            "height": 800,
            "url": "https://yt3.ggpht.com/s3HLl-uzqEaqww2tkWKgjLFfgoe2NUsu4tRLm7g5TOScMK3aqOl1wGhar3yZRa1VH4BK3rzHyg=s800-c-k-c0x00ffffff-no-rj",
            "width": 800
           },
           "medium": {
            "height": 240,
            "url": "https://yt3.ggpht.com/s3HLl-uzqEaqww2tkWKgjLFfgoe2NUsu4tRLm7g5TOScMK3aqOl1wGhar3yZRa1VH4BK3rzHyg=s240-c-k-c0x00ffffff-no-rj",
            "width": 240
           }
          },
          "title": "Thu Vu data analytics"
         },
         "statistics": {
          "hiddenSubscriberCount": false,
          "subscriberCount": "169000",
          "videoCount": "76",
          "viewCount": "5514835"
         }
        },
        {
         "contentDetails": {
          "relatedPlaylists": {
           "likes": "",
           "uploads": "UUdngmbVKX1Tgre699-XLlUA"
          }
         },
         "etag": "IEWemihQK58bBknF4-9dpfQo9yU",
         "id": "UCdngmbVKX1Tgre699-XLlUA",
         "kind": "youtube#channel",
         "snippet": {
          "country": "AT",
          "customUrl": "@techworldwithnana",
          "description": "Helping people to learn DevOps topics easily 💙\n\nI create new videos every second week, topics include mainly DevOps tutorials. Subscribe and activate bell notification so you don't miss new videos :)\n\nI'm a Docker Captain, AWS Container Hero & CNCF Ambassador 🤓  💪\n\n►  https://www.techworld-with-nana.com/\n\nTutorials so far\n - Docker\n - Kubernetes\n - Jenkins\n - Python\n - Ansible\n - Prometheus Monitoring\n - Terraform\n - YAML\n - & more!\n\nHave fun watching my videos! 🙂",
          "localized": {
           "description": "Helping people to learn DevOps topics easily 💙\n\nI create new videos every second week, topics include mainly DevOps tutorials. Subscribe and activate bell notification so you don't miss new videos :)\n\nI'm a Docker Captain, AWS Container Hero & CNCF Ambassador 🤓  💪\n\n►  https://www.techworld-with-nana.com/\n\nTutorials so far\n - Docker\n - Kubernetes\n - Jenkins\n - Python\n - Ansible\n - Prometheus Monitoring\n - Terraform\n - YAML\n - & more!\n\nHave fun watching my videos! 🙂",
           "title": "TechWorld with Nana"
          },
          "publishedAt": "2019-10-06T08:50:17Z",
          "thumbnails": {
           "default": {
            "height": 88,
            "url": "https://yt3.ggpht.com/kXyR8Aa32KXnZWVdkAFUYK5utM752kSJPHGtYiJ4ev6BmdFHi-dl1EFbI3TogmHBjszwc7m2=s88-c-k-c0x00ffffff-no-rj",
            "width": 88
           },
           "high": {
            "height": 800,
            "url": "https://yt3.ggpht.com/kXyR8Aa32KXnZWVdkAFUYK5utM752kSJPHGtYiJ4ev6BmdFHi-dl1EFbI3TogmHBjszwc7m2=s800-c-k-c0x00ffffff-no-rj",
            "width": 800
           },
           "medium": {
            "height": 240,
            "url": "https://yt3.ggpht.com/kXyR8Aa32KXnZWVdkAFUYK5utM752kSJPHGtYiJ4ev6BmdFHi-dl1EFbI3TogmHBjszwc7m2=s240-c-k-c0x00ffffff-no-rj",
            "width": 240
           }
          },
          "title": "TechWorld with Nana"
         },
         "statistics": {
          "hiddenSubscriberCount": false,
          "subscriberCount": "931000",
          "videoCount": "112",
          "viewCount": "47469265"
         }
        },
        {
         "contentDetails": {
          "relatedPlaylists": {
           "likes": "",
           "uploads": "UUC8nkE-p-7S0ZPJXrEs2QNA"
          }
         },
         "etag": "Ha-gfp88mXtYtidOVLT2dS12vWA",
         "id": "UCC8nkE-p-7S0ZPJXrEs2QNA",
         "kind": "youtube#channel",
         "snippet": {
          "country": "US",
          "customUrl": "@nucamp",
          "description": "We are Nucamp! The Only Truly Affordable Online Bootcamp. \n\nOur mission is to help all aspiring career shifters currently left out of the digital economy find a job in software development.\n\nWe are dedicated to making quality education affordable with the low cost of online learning paired with the motivation and support offered by in-person bootcamps. We offer programs tailored to all levels of learning and range from 4 weeks to 22 weeks.  – Web Development Fundamentals, Front End Development, Full Stack Web and Mobile Application Development, Back-end with Python Development. \n\nNucamp helps you learn the skills you need to get the career that you want, without quitting your job or going in debt. \n\nLearn more at  :  https://www.nucamp.co",
          "localized": {
           "description": "We are Nucamp! The Only Truly Affordable Online Bootcamp. \n\nOur mission is to help all aspiring career shifters currently left out of the digital economy find a job in software development.\n\nWe are dedicated to making quality education affordable with the low cost of online learning paired with the motivation and support offered by in-person bootcamps. We offer programs tailored to all levels of learning and range from 4 weeks to 22 weeks.  – Web Development Fundamentals, Front End Development, Full Stack Web and Mobile Application Development, Back-end with Python Development. \n\nNucamp helps you learn the skills you need to get the career that you want, without quitting your job or going in debt. \n\nLearn more at  :  https://www.nucamp.co",
           "title": "Nucamp"
          },
          "publishedAt": "2018-11-28T00:18:39Z",
          "thumbnails": {
           "default": {
            "height": 88,
            "url": "https://yt3.ggpht.com/ytc/APkrFKZVv6tuIvoeK9OR0ceZMVSrsc1vgURMTknxTk0Jag=s88-c-k-c0x00ffffff-no-rj",
            "width": 88
           },
           "high": {
            "height": 800,
            "url": "https://yt3.ggpht.com/ytc/APkrFKZVv6tuIvoeK9OR0ceZMVSrsc1vgURMTknxTk0Jag=s800-c-k-c0x00ffffff-no-rj",
            "width": 800
           },
           "medium": {
            "height": 240,
            "url": "https://yt3.ggpht.com/ytc/APkrFKZVv6tuIvoeK9OR0ceZMVSrsc1vgURMTknxTk0Jag=s240-c-k-c0x00ffffff-no-rj",
            "width": 240
           }
          },
          "title": "Nucamp"
         },
         "statistics": {
          "hiddenSubscriberCount": false,
          "subscriberCount": "3690",
          "videoCount": "416",
          "viewCount": "5695373"
         }
        },
        {
         "contentDetails": {
          "relatedPlaylists": {
           "likes": "",
           "uploads": "UUcJQ96WlEhJ0Ve0SLmU310Q"
          }
         },
         "etag": "oG5D8Pi4npWLgzWRn9u5N65k7vQ",
         "id": "UCcJQ96WlEhJ0Ve0SLmU310Q",
         "kind": "youtube#channel",
         "snippet": {
          "country": "FI",
          "customUrl": "@internetmadecoder",
          "description": "I make videos about learning to code.\n\nLearning coding changed my life - I hope to help you learn it and change yours too.\n\nPremium Resources to Become a Software Engineer from Scratch:\n🚀 FREE Course to Start Your Career in Software Development - https://coursecareers.com/a/internetmadecoder?course=software-dev-fundamentals\n🚀 Become a Software Engineer with no Degree - https://academy.internetmadecoder.com/python-dev-masterclass\n\nOther Crucial Resources for Programmers:\n\n📦 The Ultimate Tool to Manage Your Work - https://boxio.ai\n🚀 Developer's Brain - https://academy.internetmadecoder.com/developers-brain\n\n🧠 Sign Up to my Newsletter  - https://academy.internetmadecoder.com/internet-made-club\n\n📸 FOLLOW ME ON INSTAGRAM - https://www.instagram.com/internetmcoder/\n\n📝 TWITTER - https://twitter.com/InternetCoder\n\nFor sponsorships: sponsorships@viralnationtalent.com\nOther: tuomas@internetmadecoder.com\n",
          "localized": {
           "description": "I make videos about learning to code.\n\nLearning coding changed my life - I hope to help you learn it and change yours too.\n\nPremium Resources to Become a Software Engineer from Scratch:\n🚀 FREE Course to Start Your Career in Software Development - https://coursecareers.com/a/internetmadecoder?course=software-dev-fundamentals\n🚀 Become a Software Engineer with no Degree - https://academy.internetmadecoder.com/python-dev-masterclass\n\nOther Crucial Resources for Programmers:\n\n📦 The Ultimate Tool to Manage Your Work - https://boxio.ai\n🚀 Developer's Brain - https://academy.internetmadecoder.com/developers-brain\n\n🧠 Sign Up to my Newsletter  - https://academy.internetmadecoder.com/internet-made-club\n\n📸 FOLLOW ME ON INSTAGRAM - https://www.instagram.com/internetmcoder/\n\n📝 TWITTER - https://twitter.com/InternetCoder\n\nFor sponsorships: sponsorships@viralnationtalent.com\nOther: tuomas@internetmadecoder.com\n",
           "title": "Internet Made Coder"
          },
          "publishedAt": "2021-12-16T19:57:05.575367Z",
          "thumbnails": {
           "default": {
            "height": 88,
            "url": "https://yt3.ggpht.com/JCxw636VkW0aNDYa3CkTblvvmhEi1VTYdpMagq7Zj8trOizp2kINd74JpHR4FHckBU_vCIR7hQ=s88-c-k-c0x00ffffff-no-rj",
            "width": 88
           },
           "high": {
            "height": 800,
            "url": "https://yt3.ggpht.com/JCxw636VkW0aNDYa3CkTblvvmhEi1VTYdpMagq7Zj8trOizp2kINd74JpHR4FHckBU_vCIR7hQ=s800-c-k-c0x00ffffff-no-rj",
            "width": 800
           },
           "medium": {
            "height": 240,
            "url": "https://yt3.ggpht.com/JCxw636VkW0aNDYa3CkTblvvmhEi1VTYdpMagq7Zj8trOizp2kINd74JpHR4FHckBU_vCIR7hQ=s240-c-k-c0x00ffffff-no-rj",
            "width": 240
           }
          },
          "title": "Internet Made Coder"
         },
         "statistics": {
          "hiddenSubscriberCount": false,
          "subscriberCount": "290000",
          "videoCount": "114",
          "viewCount": "12889086"
         }
        },
        {
         "contentDetails": {
          "relatedPlaylists": {
           "likes": "",
           "uploads": "UUwAnu01qlnVg1Ai2AbtTMaA"
          }
         },
         "etag": "st1Tb5Qnsc3ifL2FpEFAIT6aZJI",
         "id": "UCwAnu01qlnVg1Ai2AbtTMaA",
         "kind": "youtube#channel",
         "snippet": {
          "country": "US",
          "customUrl": "@jeffsu",
          "description": "🌟 This is the channel I wish I could have subscribed when I first entered the workforce\n\nI'm Jeff, a full time Product Marketer. In my spare time I like to tinker with tools and create systems that help me get things done faster - or as one of my friends puts it: \"Get better at being lazy\" 😏\n\nI make videos on practical career and productivity tips without all the \"fluff\"\n\nSo if you're a college student, working professional, or super ambitious high schooler, make sure to subscribe to my channel 💡\n",
          "localized": {
           "description": "🌟 This is the channel I wish I could have subscribed when I first entered the workforce\n\nI'm Jeff, a full time Product Marketer. In my spare time I like to tinker with tools and create systems that help me get things done faster - or as one of my friends puts it: \"Get better at being lazy\" 😏\n\nI make videos on practical career and productivity tips without all the \"fluff\"\n\nSo if you're a college student, working professional, or super ambitious high schooler, make sure to subscribe to my channel 💡\n",
           "title": "Jeff Su"
          },
          "publishedAt": "2013-01-27T23:01:24Z",
          "thumbnails": {
           "default": {
            "height": 88,
            "url": "https://yt3.ggpht.com/EjksPnTKIXouX0VdI14PvCGJh3M2xlWNeW7DBRBis4M9XES6OTD2q23lkakcHlaGRMJUBmY3=s88-c-k-c0x00ffffff-no-rj",
            "width": 88
           },
           "high": {
            "height": 800,
            "url": "https://yt3.ggpht.com/EjksPnTKIXouX0VdI14PvCGJh3M2xlWNeW7DBRBis4M9XES6OTD2q23lkakcHlaGRMJUBmY3=s800-c-k-c0x00ffffff-no-rj",
            "width": 800
           },
           "medium": {
            "height": 240,
            "url": "https://yt3.ggpht.com/EjksPnTKIXouX0VdI14PvCGJh3M2xlWNeW7DBRBis4M9XES6OTD2q23lkakcHlaGRMJUBmY3=s240-c-k-c0x00ffffff-no-rj",
            "width": 240
           }
          },
          "title": "Jeff Su"
         },
         "statistics": {
          "hiddenSubscriberCount": false,
          "subscriberCount": "590000",
          "videoCount": "152",
          "viewCount": "27710988"
         }
        },
        {
         "contentDetails": {
          "relatedPlaylists": {
           "likes": "",
           "uploads": "UUyUBW72KU30dfAYWLVNZO8Q"
          }
         },
         "etag": "qajIDuqFc6kk8xSlO3NuHsJ_xmI",
         "id": "UCyUBW72KU30dfAYWLVNZO8Q",
         "kind": "youtube#channel",
         "snippet": {
          "country": "US",
          "customUrl": "@stefanmischook",
          "description": "I started building websites in 1994 and have been teaching web design and programming for over 10yrs! Now I'm actively helping teachers teach web design and programming in the classroom (K12 and Colleges) with Studioweb.",
          "localized": {
           "description": "I started building websites in 1994 and have been teaching web design and programming for over 10yrs! Now I'm actively helping teachers teach web design and programming in the classroom (K12 and Colleges) with Studioweb.",
           "title": "Stefan Mischook"
          },
          "publishedAt": "2008-11-30T01:50:40Z",
          "thumbnails": {
           "default": {
            "height": 88,
            "url": "https://yt3.ggpht.com/ytc/APkrFKZyylVDQUQ4KHxknnkbiNNyU2U7xxwf3c6dV3IASg=s88-c-k-c0x00ffffff-no-rj",
            "width": 88
           },
           "high": {
            "height": 800,
            "url": "https://yt3.ggpht.com/ytc/APkrFKZyylVDQUQ4KHxknnkbiNNyU2U7xxwf3c6dV3IASg=s800-c-k-c0x00ffffff-no-rj",
            "width": 800
           },
           "medium": {
            "height": 240,
            "url": "https://yt3.ggpht.com/ytc/APkrFKZyylVDQUQ4KHxknnkbiNNyU2U7xxwf3c6dV3IASg=s240-c-k-c0x00ffffff-no-rj",
            "width": 240
           }
          },
          "title": "Stefan Mischook"
         },
         "statistics": {
          "hiddenSubscriberCount": false,
          "subscriberCount": "248000",
          "videoCount": "2346",
          "viewCount": "29399862"
         }
        },
        {
         "contentDetails": {
          "relatedPlaylists": {
           "likes": "",
           "uploads": "UUthRsjtSd2ZTrfgjgnBXMPw"
          }
         },
         "etag": "571AV8tIEmWnDyJv4ZMrJGWkhG4",
         "id": "UCthRsjtSd2ZTrfgjgnBXMPw",
         "kind": "youtube#channel",
         "snippet": {
          "country": "AU",
          "customUrl": "@unixguy",
          "description": "Helping you get your first cyber security job FAST.           \n\n\n",
          "localized": {
           "description": "Helping you get your first cyber security job FAST.           \n\n\n",
           "title": "UnixGuy | Cyber Security Career "
          },
          "publishedAt": "2021-07-24T02:27:30.593888Z",
          "thumbnails": {
           "default": {
            "height": 88,
            "url": "https://yt3.ggpht.com/6AcY9HoPRB95zW-Ma80HrSE_ZiAg8jrYrq9NulRBmTBB895U91yy0DUlMEVs2QJICOAsFEABhg=s88-c-k-c0x00ffffff-no-rj",
            "width": 88
           },
           "high": {
            "height": 800,
            "url": "https://yt3.ggpht.com/6AcY9HoPRB95zW-Ma80HrSE_ZiAg8jrYrq9NulRBmTBB895U91yy0DUlMEVs2QJICOAsFEABhg=s800-c-k-c0x00ffffff-no-rj",
            "width": 800
           },
           "medium": {
            "height": 240,
            "url": "https://yt3.ggpht.com/6AcY9HoPRB95zW-Ma80HrSE_ZiAg8jrYrq9NulRBmTBB895U91yy0DUlMEVs2QJICOAsFEABhg=s240-c-k-c0x00ffffff-no-rj",
            "width": 240
           }
          },
          "title": "UnixGuy | Cyber Security Career "
         },
         "statistics": {
          "hiddenSubscriberCount": false,
          "subscriberCount": "87800",
          "videoCount": "104",
          "viewCount": "4410006"
         }
        },
        {
         "contentDetails": {
          "relatedPlaylists": {
           "likes": "",
           "uploads": "UUzAF54cHk1ZO82af-8E3qOQ"
          }
         },
         "etag": "AmXXYwCwU-q-TMnJSa7xWQxB5A8",
         "id": "UCzAF54cHk1ZO82af-8E3qOQ",
         "kind": "youtube#channel",
         "snippet": {
          "country": "DE",
          "customUrl": "@careerfoundry",
          "description": "CareerFoundry is a leading online school for career change, dedicated to educating the next generation of tech talent. We offer cutting-edge courses in UX Design, Web Development, Data Analytics, Digital Marketing and UI Design and Product Management, working with the industry's best professionals in each field to create the most thorough learning materials that promise to take you from beginner to job-ready (guaranteed) in 6-10 months.\n\nLearn about our UX Design, Web Development, Data Analytics, Digital Marketing and UI Design courses here: https://careerfoundry.com/",
          "localized": {
           "description": "CareerFoundry is a leading online school for career change, dedicated to educating the next generation of tech talent. We offer cutting-edge courses in UX Design, Web Development, Data Analytics, Digital Marketing and UI Design and Product Management, working with the industry's best professionals in each field to create the most thorough learning materials that promise to take you from beginner to job-ready (guaranteed) in 6-10 months.\n\nLearn about our UX Design, Web Development, Data Analytics, Digital Marketing and UI Design courses here: https://careerfoundry.com/",
           "title": "CareerFoundry"
          },
          "publishedAt": "2013-10-20T13:23:10Z",
          "thumbnails": {
           "default": {
            "height": 88,
            "url": "https://yt3.ggpht.com/IRgDpgFolu8eHLU9ElcWkaY1TA7mNPGQUV05TCLRKJqEVm9HYggTiVeX42Dq1cIdH2v5LNNglg=s88-c-k-c0x00ffffff-no-rj",
            "width": 88
           },
           "high": {
            "height": 800,
            "url": "https://yt3.ggpht.com/IRgDpgFolu8eHLU9ElcWkaY1TA7mNPGQUV05TCLRKJqEVm9HYggTiVeX42Dq1cIdH2v5LNNglg=s800-c-k-c0x00ffffff-no-rj",
            "width": 800
           },
           "medium": {
            "height": 240,
            "url": "https://yt3.ggpht.com/IRgDpgFolu8eHLU9ElcWkaY1TA7mNPGQUV05TCLRKJqEVm9HYggTiVeX42Dq1cIdH2v5LNNglg=s240-c-k-c0x00ffffff-no-rj",
            "width": 240
           }
          },
          "title": "CareerFoundry"
         },
         "statistics": {
          "hiddenSubscriberCount": false,
          "subscriberCount": "219000",
          "videoCount": "335",
          "viewCount": "10855333"
         }
        },
        {
         "contentDetails": {
          "relatedPlaylists": {
           "likes": "",
           "uploads": "UU1nBZreWJArdFgiIu3BTeGw"
          }
         },
         "etag": "6vYmeN8frGAHyTx0psDp0uAWtCs",
         "id": "UC1nBZreWJArdFgiIu3BTeGw",
         "kind": "youtube#channel",
         "snippet": {
          "country": "US",
          "customUrl": "@recruiterpreston",
          "description": "My name is Preston and I am a professional technology recruiter who is now running his own recruiting agency in the technology industry.  I first learned the ropes working at a large US Staffing Firm and then made the crazy decision to work for myself shortly afterwards.  This channel documents my journey as a freelance solo recruiter who decided to run, operate and scale his own recruitment agency and share all the fun and challenging situations I find myself in every day!\n\n\nI also make videos about recruiting, general career and & job search advice, entrepreneurship, technology and investing. If this interests you, please subscribe to my channel! \n\n\n",
          "localized": {
           "description": "My name is Preston and I am a professional technology recruiter who is now running his own recruiting agency in the technology industry.  I first learned the ropes working at a large US Staffing Firm and then made the crazy decision to work for myself shortly afterwards.  This channel documents my journey as a freelance solo recruiter who decided to run, operate and scale his own recruitment agency and share all the fun and challenging situations I find myself in every day!\n\n\nI also make videos about recruiting, general career and & job search advice, entrepreneurship, technology and investing. If this interests you, please subscribe to my channel! \n\n\n",
           "title": "Recruiter Preston"
          },
          "publishedAt": "2016-01-22T21:46:36Z",
          "thumbnails": {
           "default": {
            "height": 88,
            "url": "https://yt3.ggpht.com/5Iuv2sM-XhSYO4WEQO4ZF8g17CVU95cf97228B_h7c5p-uTDNJ7skwv1H1df2RjlCTiFfnvQKA=s88-c-k-c0x00ffffff-no-rj",
            "width": 88
           },
           "high": {
            "height": 800,
            "url": "https://yt3.ggpht.com/5Iuv2sM-XhSYO4WEQO4ZF8g17CVU95cf97228B_h7c5p-uTDNJ7skwv1H1df2RjlCTiFfnvQKA=s800-c-k-c0x00ffffff-no-rj",
            "width": 800
           },
           "medium": {
            "height": 240,
            "url": "https://yt3.ggpht.com/5Iuv2sM-XhSYO4WEQO4ZF8g17CVU95cf97228B_h7c5p-uTDNJ7skwv1H1df2RjlCTiFfnvQKA=s240-c-k-c0x00ffffff-no-rj",
            "width": 240
           }
          },
          "title": "Recruiter Preston"
         },
         "statistics": {
          "hiddenSubscriberCount": false,
          "subscriberCount": "20900",
          "videoCount": "1037",
          "viewCount": "1757151"
         }
        },
        {
         "contentDetails": {
          "relatedPlaylists": {
           "likes": "",
           "uploads": "UUPcyffOFc7YGyDgqmvZJs7Q"
          }
         },
         "etag": "jwHJltVMMEJnNwMQNOGdMTz1GGA",
         "id": "UCPcyffOFc7YGyDgqmvZJs7Q",
         "kind": "youtube#channel",
         "snippet": {
          "country": "US",
          "customUrl": "@peterelbaum",
          "description": "Videos at the intersection of code and entrepreneurship ",
          "localized": {
           "description": "Videos at the intersection of code and entrepreneurship ",
           "title": "Peter Elbaum"
          },
          "publishedAt": "2012-11-20T13:56:02Z",
          "thumbnails": {
           "default": {
            "height": 88,
            "url": "https://yt3.ggpht.com/wLY9d1iEbD4Dwh7PpYIMdor9PyTjGwURuZSKHeA5O47CldMigohtuPT_b8rRYOdfFg-971sy=s88-c-k-c0x00ffffff-no-rj",
            "width": 88
           },
           "high": {
            "height": 800,
            "url": "https://yt3.ggpht.com/wLY9d1iEbD4Dwh7PpYIMdor9PyTjGwURuZSKHeA5O47CldMigohtuPT_b8rRYOdfFg-971sy=s800-c-k-c0x00ffffff-no-rj",
            "width": 800
           },
           "medium": {
            "height": 240,
            "url": "https://yt3.ggpht.com/wLY9d1iEbD4Dwh7PpYIMdor9PyTjGwURuZSKHeA5O47CldMigohtuPT_b8rRYOdfFg-971sy=s240-c-k-c0x00ffffff-no-rj",
            "width": 240
           }
          },
          "title": "Peter Elbaum"
         },
         "statistics": {
          "hiddenSubscriberCount": false,
          "subscriberCount": "12500",
          "videoCount": "175",
          "viewCount": "920953"
         }
        },
        {
         "contentDetails": {
          "relatedPlaylists": {
           "likes": "",
           "uploads": "UU2UXDak6o7rBm23k3Vv5dww"
          }
         },
         "etag": "q_C56M6uJdURpKyWYxjcgV8k8LQ",
         "id": "UC2UXDak6o7rBm23k3Vv5dww",
         "kind": "youtube#channel",
         "snippet": {
          "country": "US",
          "customUrl": "@tinahuang1",
          "description": "Hi! My name is Tina and I'm a ex-Meta data scientist. Now I create content and other internet things! \n\nThis channel is about coding, tech, career, and self-study. I love learning new things and my goal is to always minimize effort and maximize outcome! \n\nI strive to do things in the most efficient way possible and with the highest reward. I basically refuse to do extra work to achieve my goals c: \n\n\n",
          "localized": {
           "description": "Hi! My name is Tina and I'm a ex-Meta data scientist. Now I create content and other internet things! \n\nThis channel is about coding, tech, career, and self-study. I love learning new things and my goal is to always minimize effort and maximize outcome! \n\nI strive to do things in the most efficient way possible and with the highest reward. I basically refuse to do extra work to achieve my goals c: \n\n\n",
           "title": "Tina Huang"
          },
          "publishedAt": "2013-08-28T18:05:17Z",
          "thumbnails": {
           "default": {
            "height": 88,
            "url": "https://yt3.ggpht.com/QMaMXCtmRUXUuIWb6sUMLi_ulWNCxPuVnu3I-3IkT1YCJs6XzcxKoOFrzx_WjVW65S46S_pTRQ=s88-c-k-c0x00ffffff-no-rj",
            "width": 88
           },
           "high": {
            "height": 800,
            "url": "https://yt3.ggpht.com/QMaMXCtmRUXUuIWb6sUMLi_ulWNCxPuVnu3I-3IkT1YCJs6XzcxKoOFrzx_WjVW65S46S_pTRQ=s800-c-k-c0x00ffffff-no-rj",
            "width": 800
           },
           "medium": {
            "height": 240,
            "url": "https://yt3.ggpht.com/QMaMXCtmRUXUuIWb6sUMLi_ulWNCxPuVnu3I-3IkT1YCJs6XzcxKoOFrzx_WjVW65S46S_pTRQ=s240-c-k-c0x00ffffff-no-rj",
            "width": 240
           }
          },
          "title": "Tina Huang"
         },
         "statistics": {
          "hiddenSubscriberCount": false,
          "subscriberCount": "574000",
          "videoCount": "141",
          "viewCount": "25747128"
         }
        },
        {
         "contentDetails": {
          "relatedPlaylists": {
           "likes": "",
           "uploads": "UUDybamfye5An6p-j1t2YMsg"
          }
         },
         "etag": "J3L0W6UF9gZ7-t7MwFfvJQbXWmM",
         "id": "UCDybamfye5An6p-j1t2YMsg",
         "kind": "youtube#channel",
         "snippet": {
          "country": "GB",
          "customUrl": "@datawithmo",
          "description": "👋 Hey there, this is my attempt at creating the data channel I wish I had stumbled upon right at the beginning of my career. \n\nMy name is Mo Chen and I work as a Data & Analytics Analyst within the Financial Services Industry. I make videos covering data analyst skills and knowledge 📖\n\nI know all the information in the world of data can be overwhelming, so I aim at delivering complex topics in the simplest way possible 💡\n\nWhether you're trying to transition into a data analyst role, a beginner data analyst or someone looking to further enhance their skills - this is the channel for you 😃\n",
          "localized": {
           "description": "👋 Hey there, this is my attempt at creating the data channel I wish I had stumbled upon right at the beginning of my career. \n\nMy name is Mo Chen and I work as a Data & Analytics Analyst within the Financial Services Industry. I make videos covering data analyst skills and knowledge 📖\n\nI know all the information in the world of data can be overwhelming, so I aim at delivering complex topics in the simplest way possible 💡\n\nWhether you're trying to transition into a data analyst role, a beginner data analyst or someone looking to further enhance their skills - this is the channel for you 😃\n",
           "title": "Data With Mo"
          },
          "publishedAt": "2022-12-25T20:25:38.187653Z",
          "thumbnails": {
           "default": {
            "height": 88,
            "url": "https://yt3.ggpht.com/MRBoEd0ixncIQK0YY2gS3U64h8spqmyKlvy2jM2v4alHfwP0o7yBPkRY9-evYDCfa1lz1X-NLok=s88-c-k-c0x00ffffff-no-rj",
            "width": 88
           },
           "high": {
            "height": 800,
            "url": "https://yt3.ggpht.com/MRBoEd0ixncIQK0YY2gS3U64h8spqmyKlvy2jM2v4alHfwP0o7yBPkRY9-evYDCfa1lz1X-NLok=s800-c-k-c0x00ffffff-no-rj",
            "width": 800
           },
           "medium": {
            "height": 240,
            "url": "https://yt3.ggpht.com/MRBoEd0ixncIQK0YY2gS3U64h8spqmyKlvy2jM2v4alHfwP0o7yBPkRY9-evYDCfa1lz1X-NLok=s240-c-k-c0x00ffffff-no-rj",
            "width": 240
           }
          },
          "title": "Data With Mo"
         },
         "statistics": {
          "hiddenSubscriberCount": false,
          "subscriberCount": "63700",
          "videoCount": "59",
          "viewCount": "1842757"
         }
        },
        {
         "contentDetails": {
          "relatedPlaylists": {
           "likes": "",
           "uploads": "UUsd0xmaXyUGpD35IX4xrYEw"
          }
         },
         "etag": "Y4Z3n9fMIQ-te46pzE_yeAG7u8Y",
         "id": "UCsd0xmaXyUGpD35IX4xrYEw",
         "kind": "youtube#channel",
         "snippet": {
          "country": "US",
          "customUrl": "@jeremiahpeoples",
          "description": "I’m a self-taught software engineer living a life in tech. Tap in for tech reviews, career tips, lifestyle, and more.",
          "localized": {
           "description": "I’m a self-taught software engineer living a life in tech. Tap in for tech reviews, career tips, lifestyle, and more.",
           "title": "Jeremiah Peoples"
          },
          "publishedAt": "2013-05-22T04:05:04Z",
          "thumbnails": {
           "default": {
            "height": 88,
            "url": "https://yt3.ggpht.com/ytc/APkrFKZMFNMp-nmjjZushUqnoN3cGqXI2bZ808hpYmfhAA=s88-c-k-c0x00ffffff-no-rj",
            "width": 88
           },
           "high": {
            "height": 800,
            "url": "https://yt3.ggpht.com/ytc/APkrFKZMFNMp-nmjjZushUqnoN3cGqXI2bZ808hpYmfhAA=s800-c-k-c0x00ffffff-no-rj",
            "width": 800
           },
           "medium": {
            "height": 240,
            "url": "https://yt3.ggpht.com/ytc/APkrFKZMFNMp-nmjjZushUqnoN3cGqXI2bZ808hpYmfhAA=s240-c-k-c0x00ffffff-no-rj",
            "width": 240
           }
          },
          "title": "Jeremiah Peoples"
         },
         "statistics": {
          "hiddenSubscriberCount": false,
          "subscriberCount": "87300",
          "videoCount": "67",
          "viewCount": "26323416"
         }
        },
        {
         "contentDetails": {
          "relatedPlaylists": {
           "likes": "",
           "uploads": "UUsLo154Krjwhoz8W00N8ItA"
          }
         },
         "etag": "fBPaPCfsn6mJuNYvRwoOaSxtIFg",
         "id": "UCsLo154Krjwhoz8W00N8ItA",
         "kind": "youtube#channel",
         "snippet": {
          "country": "US",
          "customUrl": "@keeponcoding",
          "description": "Coding in a nutshell. Programming tutorials, experiences in the tech industry, and attempting to be funny once in a while.",
          "localized": {
           "description": "Coding in a nutshell. Programming tutorials, experiences in the tech industry, and attempting to be funny once in a while.",
           "title": "Keep On Coding"
          },
          "publishedAt": "2006-09-09T07:57:58Z",
          "thumbnails": {
           "default": {
            "height": 88,
            "url": "https://yt3.ggpht.com/uITpMljPmApewwQ6sRn68DsGHPH1yR5Pv0ZtUP7jz6D-kChhYilPtso6o8mqs2Xq1Qpltd6OiA=s88-c-k-c0x00ffffff-no-rj",
            "width": 88
           },
           "high": {
            "height": 800,
            "url": "https://yt3.ggpht.com/uITpMljPmApewwQ6sRn68DsGHPH1yR5Pv0ZtUP7jz6D-kChhYilPtso6o8mqs2Xq1Qpltd6OiA=s800-c-k-c0x00ffffff-no-rj",
            "width": 800
           },
           "medium": {
            "height": 240,
            "url": "https://yt3.ggpht.com/uITpMljPmApewwQ6sRn68DsGHPH1yR5Pv0ZtUP7jz6D-kChhYilPtso6o8mqs2Xq1Qpltd6OiA=s240-c-k-c0x00ffffff-no-rj",
            "width": 240
           }
          },
          "title": "Keep On Coding"
         },
         "statistics": {
          "hiddenSubscriberCount": false,
          "subscriberCount": "303000",
          "videoCount": "168",
          "viewCount": "27686214"
         }
        },
        {
         "contentDetails": {
          "relatedPlaylists": {
           "likes": "",
           "uploads": "UU8butISFwT-Wl7EV0hUK0BQ"
          }
         },
         "etag": "RbDNYJTG-vjKvQSkC38hd8eQN00",
         "id": "UC8butISFwT-Wl7EV0hUK0BQ",
         "kind": "youtube#channel",
         "snippet": {
          "country": "US",
          "customUrl": "@freecodecamp",
          "description": "Learn to code for free.",
          "localized": {
           "description": "Learn to code for free.",
           "title": "freeCodeCamp.org"
          },
          "publishedAt": "2014-12-16T21:18:48Z",
          "thumbnails": {
           "default": {
            "height": 88,
            "url": "https://yt3.ggpht.com/ytc/APkrFKaqca-xQcJtp1Pqv-APucCa0nToHYGPVT00YBGOSw=s88-c-k-c0x00ffffff-no-rj",
            "width": 88
           },
           "high": {
            "height": 800,
            "url": "https://yt3.ggpht.com/ytc/APkrFKaqca-xQcJtp1Pqv-APucCa0nToHYGPVT00YBGOSw=s800-c-k-c0x00ffffff-no-rj",
            "width": 800
           },
           "medium": {
            "height": 240,
            "url": "https://yt3.ggpht.com/ytc/APkrFKaqca-xQcJtp1Pqv-APucCa0nToHYGPVT00YBGOSw=s240-c-k-c0x00ffffff-no-rj",
            "width": 240
           }
          },
          "title": "freeCodeCamp.org"
         },
         "statistics": {
          "hiddenSubscriberCount": false,
          "subscriberCount": "8460000",
          "videoCount": "1526",
          "viewCount": "607231350"
         }
        },
        {
         "contentDetails": {
          "relatedPlaylists": {
           "likes": "",
           "uploads": "UUilJYqsETFZ7NG9g1xVKfcQ"
          }
         },
         "etag": "Rx6XR0-sXnwLizwOMirnfbZPzj8",
         "id": "UCilJYqsETFZ7NG9g1xVKfcQ",
         "kind": "youtube#channel",
         "snippet": {
          "country": "US",
          "customUrl": "@thedevlife",
          "description": "In this channel we create videos with the intent to have them be resources for developers, some are technical and some are just insights gathered through experience.\n\nBecoming a programmer is a journey with challenges along the way, some bigger than others. We hope you let this channel and the community surrounding join you in your journey.\n\n\n\n\n",
          "localized": {
           "description": "In this channel we create videos with the intent to have them be resources for developers, some are technical and some are just insights gathered through experience.\n\nBecoming a programmer is a journey with challenges along the way, some bigger than others. We hope you let this channel and the community surrounding join you in your journey.\n\n\n\n\n",
           "title": "thedevlife"
          },
          "publishedAt": "2018-02-28T02:48:34Z",
          "thumbnails": {
           "default": {
            "height": 88,
            "url": "https://yt3.ggpht.com/ytc/APkrFKa0v4S2De9prEvjSLBJkh7HFbsZ6WyUSNPasKwgpQ=s88-c-k-c0x00ffffff-no-rj",
            "width": 88
           },
           "high": {
            "height": 800,
            "url": "https://yt3.ggpht.com/ytc/APkrFKa0v4S2De9prEvjSLBJkh7HFbsZ6WyUSNPasKwgpQ=s800-c-k-c0x00ffffff-no-rj",
            "width": 800
           },
           "medium": {
            "height": 240,
            "url": "https://yt3.ggpht.com/ytc/APkrFKa0v4S2De9prEvjSLBJkh7HFbsZ6WyUSNPasKwgpQ=s240-c-k-c0x00ffffff-no-rj",
            "width": 240
           }
          },
          "title": "thedevlife"
         },
         "statistics": {
          "hiddenSubscriberCount": false,
          "subscriberCount": "5770",
          "videoCount": "266",
          "viewCount": "694200"
         }
        },
        {
         "contentDetails": {
          "relatedPlaylists": {
           "likes": "",
           "uploads": "UUsvqVGtbbyHaMoevxPAq9Fg"
          }
         },
         "etag": "XmKcqaoknHfjVGUxyt46X0kXIM0",
         "id": "UCsvqVGtbbyHaMoevxPAq9Fg",
         "kind": "youtube#channel",
         "snippet": {
          "country": "US",
          "customUrl": "@simplilearnofficial",
          "description": "Simplilearn is the world’s #1 online Bootcamp and one of the world’s leading certification training providers. Based in San Francisco, California, and Bangalore, India, we provide training in areas where technologies and best practices are changing rapidly, and the demand for qualified candidates significantly exceeds the supply. We have trained over 3,000,000 professionals, have over 2000 qualified trainers on board, and offer over 400 courses with 40 plus global accreditations. With live instructions from leading experts, interactive labs & projects, peer-to-peer collaboration, on-demand lessons, and 24/7 learning support, we provide learners with a comprehensive curriculum at a fraction of the cost of an on-campus program. \n\nFor more information, visit https://www.simplilearn.com/\nOur FREE courses via SkillUp by Simplilearn now come with Completion Certificates! :https://www.simplilearn.com/skillup-free-online-courses\n\n",
          "localized": {
           "description": "Simplilearn is the world’s #1 online Bootcamp and one of the world’s leading certification training providers. Based in San Francisco, California, and Bangalore, India, we provide training in areas where technologies and best practices are changing rapidly, and the demand for qualified candidates significantly exceeds the supply. We have trained over 3,000,000 professionals, have over 2000 qualified trainers on board, and offer over 400 courses with 40 plus global accreditations. With live instructions from leading experts, interactive labs & projects, peer-to-peer collaboration, on-demand lessons, and 24/7 learning support, we provide learners with a comprehensive curriculum at a fraction of the cost of an on-campus program. \n\nFor more information, visit https://www.simplilearn.com/\nOur FREE courses via SkillUp by Simplilearn now come with Completion Certificates! :https://www.simplilearn.com/skillup-free-online-courses\n\n",
           "title": "Simplilearn"
          },
          "publishedAt": "2009-10-29T07:21:23Z",
          "thumbnails": {
           "default": {
            "height": 88,
            "url": "https://yt3.ggpht.com/7q9t5rjeujEZYqY1xMLn0mvT4Zc6MaZBYgtseDL2_Zh42AOhMze8ep7BUKdR5FnxytMy3csj=s88-c-k-c0x00ffffff-no-rj",
            "width": 88
           },
           "high": {
            "height": 800,
            "url": "https://yt3.ggpht.com/7q9t5rjeujEZYqY1xMLn0mvT4Zc6MaZBYgtseDL2_Zh42AOhMze8ep7BUKdR5FnxytMy3csj=s800-c-k-c0x00ffffff-no-rj",
            "width": 800
           },
           "medium": {
            "height": 240,
            "url": "https://yt3.ggpht.com/7q9t5rjeujEZYqY1xMLn0mvT4Zc6MaZBYgtseDL2_Zh42AOhMze8ep7BUKdR5FnxytMy3csj=s240-c-k-c0x00ffffff-no-rj",
            "width": 240
           }
          },
          "title": "Simplilearn"
         },
         "statistics": {
          "hiddenSubscriberCount": false,
          "subscriberCount": "3370000",
          "videoCount": "6660",
          "viewCount": "303931473"
         }
        },
        {
         "contentDetails": {
          "relatedPlaylists": {
           "likes": "",
           "uploads": "UUN0u98NPeC0AW3pD6MbVeNg"
          }
         },
         "etag": "et61VXGT4oY4rYuMS-PcVot_qRQ",
         "id": "UCN0u98NPeC0AW3pD6MbVeNg",
         "kind": "youtube#channel",
         "snippet": {
          "country": "US",
          "customUrl": "@pushtoprod",
          "description": "Welcome to our YouTube channel, where three young IT professionals take you on a journey through the exciting world of technology! Join us as we share our daily experiences in vlog-style videos, and learn how to excel in the tech industry through our educational content.",
          "localized": {
           "description": "Welcome to our YouTube channel, where three young IT professionals take you on a journey through the exciting world of technology! Join us as we share our daily experiences in vlog-style videos, and learn how to excel in the tech industry through our educational content.",
           "title": "PushToProd"
          },
          "publishedAt": "2019-06-13T01:28:56Z",
          "thumbnails": {
           "default": {
            "height": 88,
            "url": "https://yt3.ggpht.com/ytc/APkrFKbiyIN-6wHVL-T2dM6ewg3VuKQ38UDdkUBnnj2B=s88-c-k-c0x00ffffff-no-rj",
            "width": 88
           },
           "high": {
            "height": 800,
            "url": "https://yt3.ggpht.com/ytc/APkrFKbiyIN-6wHVL-T2dM6ewg3VuKQ38UDdkUBnnj2B=s800-c-k-c0x00ffffff-no-rj",
            "width": 800
           },
           "medium": {
            "height": 240,
            "url": "https://yt3.ggpht.com/ytc/APkrFKbiyIN-6wHVL-T2dM6ewg3VuKQ38UDdkUBnnj2B=s240-c-k-c0x00ffffff-no-rj",
            "width": 240
           }
          },
          "title": "PushToProd"
         },
         "statistics": {
          "hiddenSubscriberCount": false,
          "subscriberCount": "8380",
          "videoCount": "43",
          "viewCount": "573569"
         }
        }
       ],
       "kind": "youtube#channelListResponse",
       "pageInfo": {
        "resultsPerPage": 5,
        "totalResults": 50
       }
      },
      "text/plain": [
       "<IPython.core.display.JSON object>"
      ]
     },
     "execution_count": 38,
     "metadata": {
      "application/json": {
       "expanded": false,
       "root": "root"
      }
     },
     "output_type": "execute_result"
    }
   ],
   "source": [
    "# channel request (getting all upload playlist ids from 50 selected tech career focused channels)\n",
    "\n",
    "request = youtube.channels().list(\n",
    "    part=\"snippet,contentDetails,statistics\",\n",
    "    id=','.join(channel_ids)\n",
    ")\n",
    "response = request.execute()\n",
    "JSON(response)"
   ]
  },
  {
   "cell_type": "code",
   "execution_count": 47,
   "id": "3779bd0e-991d-4c10-81a4-ed40fcd674e5",
   "metadata": {
    "tags": []
   },
   "outputs": [],
   "source": [
    "# get upload playlists\n",
    "\n",
    "upload_ids = [item[\"contentDetails\"][\"relatedPlaylists\"][\"uploads\"] for item in response[\"items\"]]"
   ]
  },
  {
   "cell_type": "code",
   "execution_count": 99,
   "id": "5184ef74-9485-4121-9c3a-18f7136d7a56",
   "metadata": {
    "tags": []
   },
   "outputs": [],
   "source": [
    "upload_ids_test = [\"UU3kFmMxz3IdLdz4TxA9a4DQ\", \"UUilJYqsETFZ7NG9g1xVKfcQ\", \"UUN0u98NPeC0AW3pD6MbVeNg\"]"
   ]
  },
  {
   "cell_type": "code",
   "execution_count": 100,
   "id": "aadd8ec3-c0ce-4139-b6df-df7bbd60b4f1",
   "metadata": {
    "tags": []
   },
   "outputs": [],
   "source": [
    "video_ids = []\n",
    "temp = []"
   ]
  },
  {
   "cell_type": "code",
   "execution_count": 244,
   "id": "1d45f956-99b9-4d22-bf71-a41e867d934c",
   "metadata": {
    "tags": []
   },
   "outputs": [],
   "source": [
    "for upload_playlist_id in upload_ids:\n",
    "    \n",
    "    #initial request\n",
    "    request = youtube.playlistItems().list(\n",
    "    part=['snippet'], \n",
    "    maxResults=50, \n",
    "    playlistId=upload_playlist_id)  #id=','.join(upload_ids))\n",
    "    response = request.execute()\n",
    "\n",
    "    #try to get all of the video id's from the response\n",
    "    try:\n",
    "        temp = [video[\"snippet\"][\"resourceId\"][\"videoId\"] for video in response[\"items\"]]\n",
    "        video_ids = video_ids + temp\n",
    "    except Exception as e:\n",
    "        print(e)\n",
    "\n",
    "    #increment page token\n",
    "    next_page_token = response.get('nextPageToken')\n",
    "    #print(next_page_token)\n",
    "    #next_page_token\n",
    "    \n",
    "    # https://stackoverflow.com/questions/30653208/retrieve-video-ids-contained-in-a-playlist-youtube-api-v3\n",
    "    # while there are still pages in the response to parse\n",
    "    while next_page_token is not None: #and len(video_ids) < 100:\n",
    "        #print(next_page_token)\n",
    "        #make the same request, just get the next page of uploads (using nextPageToken which stores the token of the next page of search results\n",
    "        request = youtube.playlistItems().list(\n",
    "        part=['snippet'], \n",
    "        maxResults=50, \n",
    "        playlistId=upload_playlist_id,\n",
    "        #id=','.join(upload_ids_test),\n",
    "        pageToken = next_page_token)#id=','.join(upload_ids))\n",
    "\n",
    "        response = request.execute()\n",
    "        #make a temporary list of video ids on this page\n",
    "        try:\n",
    "            temp = [video[\"snippet\"][\"resourceId\"][\"videoId\"] for video in response[\"items\"]]\n",
    "        except Exception as e:\n",
    "            print(e)\n",
    "\n",
    "        # add to video id list\n",
    "        video_ids = video_ids + temp\n",
    "\n",
    "        #increment page token\n",
    "        next_page_token = response.get('nextPageToken')\n",
    "        #print(next_page_token)"
   ]
  },
  {
   "cell_type": "code",
   "execution_count": 245,
   "id": "cf7ed72b-2d70-423a-b109-abe2149e2326",
   "metadata": {
    "tags": []
   },
   "outputs": [
    {
     "data": {
      "text/plain": [
       "27499"
      ]
     },
     "execution_count": 245,
     "metadata": {},
     "output_type": "execute_result"
    }
   ],
   "source": [
    "len(video_ids)"
   ]
  },
  {
   "cell_type": "code",
   "execution_count": null,
   "id": "e1ace0a2-8dd0-4f7f-95cb-a4b2a3e4ee94",
   "metadata": {},
   "outputs": [],
   "source": [
    "def concatenate_df(response_json, output_df):\n",
    "    for video in response_json:\n",
    "\n",
    "\n",
    "        row_to_add = {\"Video ID\":video[\"id\"], \"Channel Title\": video[\"snippet\"][\"channelTitle\"], \"Tags\": video[\"snippet\"][\"tags\"],\\\n",
    "                      \"Tag Count\": len(video[\"snippet\"][\"tags\"]), \"Published At\": video[\"snippet\"][\"publishedAt\"], \"Channel ID\": video[\"snippet\"][\"channelId\"], \\\n",
    "                      \"Title\": video[\"snippet\"][\"title\"],\"Category ID\": video[\"snippet\"][\"categoryId\"], \"Description Length (words)\": len(video[\"snippet\"][\"description\"].split(\" \")), \\\n",
    "                      \"Description Length (characters)\": len(video[\"snippet\"][\"description\"]), \"Duration\": video[\"contentDetails\"][\"duration\"], \"Dimension\": video[\"contentDetails\"][\"dimension\"], \\\n",
    "                     \"Definition\": video[\"contentDetails\"][\"definition\"], \"Caption\": video[\"contentDetails\"][\"caption\"], \"Licensed Content (T/F)\": video[\"contentDetails\"][\"licensedContent\"], \\\n",
    "                     \"Projection\": video[\"contentDetails\"][\"projection\"], \"View Count\": video[\"statistics\"][\"viewCount\"], \"Like Count\": video[\"statistics\"][\"likeCount\"], \\\n",
    "                     \"Favorite Count\": video[\"statistics\"][\"favoriteCount\"], \"Comment Count\": video[\"statistics\"][\"commentCount\"]}\n",
    "\n",
    "        output_df = pd.concat( [ output_df, pd.DataFrame.from_records([row_to_add]) ], ignore_index=True )\n",
    "    return output_df"
   ]
  },
  {
   "cell_type": "code",
   "execution_count": 247,
   "id": "4e547975-1a9e-482c-b353-1d1be0f9dd78",
   "metadata": {
    "tags": []
   },
   "outputs": [],
   "source": [
    "#https://blog.enterprisedna.co/how-to-write-a-list-to-csv-in-python/\n",
    "#save video id's to file just in case\n",
    "with open('video_ids.csv', 'w', newline='') as file:\n",
    "    # Step 4: Using csv.writer to write the list to the CSV file\n",
    "    writer = csv.writer(file)\n",
    "    writer.writerow(video_ids) # Use writerow for single list"
   ]
  },
  {
   "cell_type": "code",
   "execution_count": 237,
   "id": "d552eec4-bdd3-4d80-a3e3-d6a3892ee303",
   "metadata": {
    "tags": []
   },
   "outputs": [
    {
     "data": {
      "application/json": {
       "etag": "AAg2rB9tTDGmTbBTC0_NkGNwM6o",
       "items": [
        {
         "contentDetails": {
          "caption": "false",
          "contentRating": {},
          "definition": "hd",
          "dimension": "2d",
          "duration": "PT7M22S",
          "licensedContent": true,
          "projection": "rectangular"
         },
         "etag": "SCUtbGhGrnzYVv6VRWByHOoAa7U",
         "id": "2ruoagytC7w",
         "kind": "youtube#video",
         "snippet": {
          "categoryId": "28",
          "channelId": "UCN0u98NPeC0AW3pD6MbVeNg",
          "channelTitle": "PushToProd",
          "description": "Here’s the part 2 to my day in the life/ vlog! \nPart 1 https://youtu.be/gBH1LdSZyFU?si=xQtIUAIzJL2BDyLE\n\nFeel free to follow us on IG\nhttps://linktr.ee/pushtoprod",
          "liveBroadcastContent": "none",
          "localized": {
           "description": "Here’s the part 2 to my day in the life/ vlog! \nPart 1 https://youtu.be/gBH1LdSZyFU?si=xQtIUAIzJL2BDyLE\n\nFeel free to follow us on IG\nhttps://linktr.ee/pushtoprod",
           "title": "day in the life | Jr. Cybersecurity Engineer NO DEGREE | Part 2"
          },
          "publishedAt": "2023-09-14T21:00:02Z",
          "tags": [
           "devops",
           "azure",
           "aws",
           "cloud",
           "docker",
           "kubernetes",
           "engineer",
           "it",
           "information technology",
           "security",
           "scripting",
           "coding",
           "devops engineer",
           "ditl",
           "day in the life",
           "day in the life of a devops engineer",
           "day in the life of a cloud engineer",
           "cloud engineer",
           "pipelines",
           "sdlc",
           "ci/cd",
           "Computer Science",
           "software engineer",
           "day in the life of a developer",
           "software developer",
           "code",
           "vlog",
           "workday",
           "wfh",
           "day in the life of a stay at home dad",
           "FAANG",
           "sre",
           "platform engineer",
           "remote",
           "hacker",
           "python",
           "cyber security",
           "cissp",
           "tech"
          ],
          "thumbnails": {
           "default": {
            "height": 90,
            "url": "https://i.ytimg.com/vi/2ruoagytC7w/default.jpg",
            "width": 120
           },
           "high": {
            "height": 360,
            "url": "https://i.ytimg.com/vi/2ruoagytC7w/hqdefault.jpg",
            "width": 480
           },
           "maxres": {
            "height": 720,
            "url": "https://i.ytimg.com/vi/2ruoagytC7w/maxresdefault.jpg",
            "width": 1280
           },
           "medium": {
            "height": 180,
            "url": "https://i.ytimg.com/vi/2ruoagytC7w/mqdefault.jpg",
            "width": 320
           },
           "standard": {
            "height": 480,
            "url": "https://i.ytimg.com/vi/2ruoagytC7w/sddefault.jpg",
            "width": 640
           }
          },
          "title": "day in the life | Jr. Cybersecurity Engineer NO DEGREE | Part 2"
         },
         "statistics": {
          "commentCount": "21",
          "favoriteCount": "0",
          "likeCount": "58",
          "viewCount": "998"
         }
        },
        {
         "contentDetails": {
          "caption": "false",
          "contentRating": {},
          "definition": "hd",
          "dimension": "2d",
          "duration": "PT14M8S",
          "licensedContent": true,
          "projection": "rectangular"
         },
         "etag": "eAAvlZKJkbsj1YiOR-oXtoL4kZw",
         "id": "gBH1LdSZyFU",
         "kind": "youtube#video",
         "snippet": {
          "categoryId": "28",
          "channelId": "UCN0u98NPeC0AW3pD6MbVeNg",
          "channelTitle": "PushToProd",
          "description": "Hey Guys! \n\nHope you enjoy Part 1 of this day in the life/vlog. I go in depth about my tech journey, school, and how I got to where I am today. Please like, comment, and subscribe!￼ PART 2 is on the way!!\n\nFeel free to follow us on IG\nhttps://linktr.ee/pushtoprod\n\n\nTime stamps\n00:00 Start \n00:05 Intro \n00:45 Agenda\n2:04 Starting the day (tea)\n3:05 Start Work\n3:32 Rant: Standups\n5:20 Review Task\n6:15 2k Break\n7:15 Back to work\n7:50 Rant: Dropping Out",
          "liveBroadcastContent": "none",
          "localized": {
           "description": "Hey Guys! \n\nHope you enjoy Part 1 of this day in the life/vlog. I go in depth about my tech journey, school, and how I got to where I am today. Please like, comment, and subscribe!￼ PART 2 is on the way!!\n\nFeel free to follow us on IG\nhttps://linktr.ee/pushtoprod\n\n\nTime stamps\n00:00 Start \n00:05 Intro \n00:45 Agenda\n2:04 Starting the day (tea)\n3:05 Start Work\n3:32 Rant: Standups\n5:20 Review Task\n6:15 2k Break\n7:15 Back to work\n7:50 Rant: Dropping Out",
           "title": "day in the life | Jr. Cybersecurity Engineer NO DEGREE | Dropping Out, my journey, etc. Part 1"
          },
          "publishedAt": "2023-09-04T22:27:11Z",
          "tags": [
           "devops",
           "azure",
           "aws",
           "cloud",
           "docker",
           "kubernetes",
           "engineer",
           "it",
           "information technology",
           "security",
           "scripting",
           "coding",
           "devops engineer",
           "ditl",
           "day in the life",
           "day in the life of a devops engineer",
           "day in the life of a cloud engineer",
           "cloud engineer",
           "pipelines",
           "sdlc",
           "ci/cd",
           "Computer Science",
           "software engineer",
           "day in the life of a developer",
           "software developer",
           "code",
           "vlog",
           "workday",
           "wfh",
           "day in the life of a stay at home dad",
           "FAANG",
           "sre",
           "platform engineer",
           "remote",
           "hacker",
           "python",
           "cyber security",
           "cissp",
           "tech"
          ],
          "thumbnails": {
           "default": {
            "height": 90,
            "url": "https://i.ytimg.com/vi/gBH1LdSZyFU/default.jpg",
            "width": 120
           },
           "high": {
            "height": 360,
            "url": "https://i.ytimg.com/vi/gBH1LdSZyFU/hqdefault.jpg",
            "width": 480
           },
           "medium": {
            "height": 180,
            "url": "https://i.ytimg.com/vi/gBH1LdSZyFU/mqdefault.jpg",
            "width": 320
           },
           "standard": {
            "height": 480,
            "url": "https://i.ytimg.com/vi/gBH1LdSZyFU/sddefault.jpg",
            "width": 640
           }
          },
          "title": "day in the life | Jr. Cybersecurity Engineer NO DEGREE | Dropping Out, my journey, etc. Part 1"
         },
         "statistics": {
          "commentCount": "29",
          "favoriteCount": "0",
          "likeCount": "86",
          "viewCount": "1959"
         }
        },
        {
         "contentDetails": {
          "caption": "false",
          "contentRating": {},
          "definition": "hd",
          "dimension": "2d",
          "duration": "PT19M29S",
          "licensedContent": true,
          "projection": "rectangular"
         },
         "etag": "cmalU9i8zeTabTLZJKTZPGRagxE",
         "id": "UhMJ0km4KLs",
         "kind": "youtube#video",
         "snippet": {
          "categoryId": "28",
          "channelId": "UCN0u98NPeC0AW3pD6MbVeNg",
          "channelTitle": "PushToProd",
          "defaultAudioLanguage": "en-US",
          "description": "https://linktr.ee/pushtoprod\n\nHey push2prod squad. Welcome to back to the \"Prodcast\". In this episode M debates with Mars and Charles on weather Tech as gold standard career path is dead. Disclaimer we cannot tell the future and topics mentioned in  this video are just our thoughts and opinions. \n\nIf you have any questions, thoughts, or opinions feel free to leave them in the comment section. \n\nDon't forget to like and subscribe if you enjoy the video.",
          "liveBroadcastContent": "none",
          "localized": {
           "description": "https://linktr.ee/pushtoprod\n\nHey push2prod squad. Welcome to back to the \"Prodcast\". In this episode M debates with Mars and Charles on weather Tech as gold standard career path is dead. Disclaimer we cannot tell the future and topics mentioned in  this video are just our thoughts and opinions. \n\nIf you have any questions, thoughts, or opinions feel free to leave them in the comment section. \n\nDon't forget to like and subscribe if you enjoy the video.",
           "title": "Prodcast 6 | Is the end of tech near?"
          },
          "publishedAt": "2023-08-15T21:30:03Z",
          "tags": [
           "podcast",
           "devops",
           "azure",
           "aws",
           "cloud",
           "docker",
           "kubernetes",
           "engineer",
           "it",
           "information systems",
           "information technology",
           "coding",
           "devops engineer",
           "ditl",
           "day in the life",
           "day in the life of a devops engineer",
           "day in the life of a cloud engineer",
           "cloud engineer",
           "Computer Science",
           "software engineer",
           "day in the life of a developer",
           "software developer",
           "code",
           "dad",
           "workday",
           "wfh",
           "FAANG",
           "sre",
           "remote",
           "day in the life of an sre",
           "cluster engineer",
           "salary",
           "paid",
           "career",
           "job",
           "cyber security",
           "entry level",
           "advise",
           "tech"
          ],
          "thumbnails": {
           "default": {
            "height": 90,
            "url": "https://i.ytimg.com/vi/UhMJ0km4KLs/default.jpg",
            "width": 120
           },
           "high": {
            "height": 360,
            "url": "https://i.ytimg.com/vi/UhMJ0km4KLs/hqdefault.jpg",
            "width": 480
           },
           "maxres": {
            "height": 720,
            "url": "https://i.ytimg.com/vi/UhMJ0km4KLs/maxresdefault.jpg",
            "width": 1280
           },
           "medium": {
            "height": 180,
            "url": "https://i.ytimg.com/vi/UhMJ0km4KLs/mqdefault.jpg",
            "width": 320
           },
           "standard": {
            "height": 480,
            "url": "https://i.ytimg.com/vi/UhMJ0km4KLs/sddefault.jpg",
            "width": 640
           }
          },
          "title": "Prodcast 6 | Is the end of tech near?"
         },
         "statistics": {
          "commentCount": "23",
          "favoriteCount": "0",
          "likeCount": "55",
          "viewCount": "789"
         }
        },
        {
         "contentDetails": {
          "caption": "false",
          "contentRating": {},
          "definition": "hd",
          "dimension": "2d",
          "duration": "PT25M9S",
          "licensedContent": true,
          "projection": "rectangular"
         },
         "etag": "r4P8Su7L8v4TnXnX9mrNXgVt1A4",
         "id": "qYfxI07QrKo",
         "kind": "youtube#video",
         "snippet": {
          "categoryId": "28",
          "channelId": "UCN0u98NPeC0AW3pD6MbVeNg",
          "channelTitle": "PushToProd",
          "description": "Hey push2prod squad. Welcome to back to the \"Prodcast\". In this episode we welcome our second guest, Bridget. She has been in tech for over 1 year and today she talks about the steps she took to get to where she is today. \n\nIf you have any questions, feel free to leave them in the comment section. \nDon't forget to like and subscribe if you enjoy the video. \n\nIG: https://linktr.ee/pushtoprod",
          "liveBroadcastContent": "none",
          "localized": {
           "description": "Hey push2prod squad. Welcome to back to the \"Prodcast\". In this episode we welcome our second guest, Bridget. She has been in tech for over 1 year and today she talks about the steps she took to get to where she is today. \n\nIf you have any questions, feel free to leave them in the comment section. \nDon't forget to like and subscribe if you enjoy the video. \n\nIG: https://linktr.ee/pushtoprod",
           "title": "Prodcast 5 | Biology Degree to Data Scientist"
          },
          "publishedAt": "2023-06-13T20:45:01Z",
          "tags": [
           "podcast",
           "devops",
           "azure",
           "aws",
           "cloud",
           "docker",
           "kubernetes",
           "engineer",
           "it",
           "information systems",
           "information technology",
           "coding",
           "devops engineer",
           "ditl",
           "day in the life",
           "day in the life of a devops engineer",
           "day in the life of a cloud engineer",
           "cloud engineer",
           "Computer Science",
           "software engineer",
           "day in the life of a developer",
           "software developer",
           "code",
           "dad",
           "dadlife",
           "workday",
           "wfh",
           "FAANG",
           "sre",
           "platform engineer",
           "remote",
           "day in the life of an sre",
           "devops journey",
           "cluster engineer",
           "salary",
           "paid",
           "career",
           "job"
          ],
          "thumbnails": {
           "default": {
            "height": 90,
            "url": "https://i.ytimg.com/vi/qYfxI07QrKo/default.jpg",
            "width": 120
           },
           "high": {
            "height": 360,
            "url": "https://i.ytimg.com/vi/qYfxI07QrKo/hqdefault.jpg",
            "width": 480
           },
           "maxres": {
            "height": 720,
            "url": "https://i.ytimg.com/vi/qYfxI07QrKo/maxresdefault.jpg",
            "width": 1280
           },
           "medium": {
            "height": 180,
            "url": "https://i.ytimg.com/vi/qYfxI07QrKo/mqdefault.jpg",
            "width": 320
           },
           "standard": {
            "height": 480,
            "url": "https://i.ytimg.com/vi/qYfxI07QrKo/sddefault.jpg",
            "width": 640
           }
          },
          "title": "Prodcast 5 | Biology Degree to Data Scientist"
         },
         "statistics": {
          "commentCount": "22",
          "favoriteCount": "0",
          "likeCount": "54",
          "viewCount": "869"
         }
        },
        {
         "contentDetails": {
          "caption": "false",
          "contentRating": {},
          "definition": "hd",
          "dimension": "2d",
          "duration": "PT56S",
          "licensedContent": true,
          "projection": "rectangular"
         },
         "etag": "3Bso8jnlvJhLOGVf4H6kP80JMaE",
         "id": "CKcYF3369LI",
         "kind": "youtube#video",
         "snippet": {
          "categoryId": "28",
          "channelId": "UCN0u98NPeC0AW3pD6MbVeNg",
          "channelTitle": "PushToProd",
          "description": "",
          "liveBroadcastContent": "none",
          "localized": {
           "description": "",
           "title": "From Suit & Tie to Bonnets and Durags: Embracing Diversity in the Modern Workplace #podcast"
          },
          "publishedAt": "2023-06-07T14:00:10Z",
          "tags": [
           "podcast",
           "devops",
           "azure",
           "aws",
           "cloud",
           "docker",
           "kubernetes",
           "engineer",
           "it",
           "information systems",
           "information technology",
           "coding",
           "devops engineer",
           "ditl",
           "day in the life",
           "day in the life of a devops engineer",
           "day in the life of a cloud engineer",
           "cloud engineer",
           "Computer Science",
           "software engineer",
           "day in the life of a developer",
           "software developer",
           "code",
           "dad",
           "dadlife",
           "workday",
           "wfh",
           "FAANG",
           "sre",
           "platform engineer",
           "remote",
           "day in the life of an sre",
           "devops journey",
           "cluster engineer",
           "salary",
           "paid",
           "career",
           "job"
          ],
          "thumbnails": {
           "default": {
            "height": 90,
            "url": "https://i.ytimg.com/vi/CKcYF3369LI/default.jpg",
            "width": 120
           },
           "high": {
            "height": 360,
            "url": "https://i.ytimg.com/vi/CKcYF3369LI/hqdefault.jpg",
            "width": 480
           },
           "maxres": {
            "height": 720,
            "url": "https://i.ytimg.com/vi/CKcYF3369LI/maxresdefault.jpg",
            "width": 1280
           },
           "medium": {
            "height": 180,
            "url": "https://i.ytimg.com/vi/CKcYF3369LI/mqdefault.jpg",
            "width": 320
           },
           "standard": {
            "height": 480,
            "url": "https://i.ytimg.com/vi/CKcYF3369LI/sddefault.jpg",
            "width": 640
           }
          },
          "title": "From Suit & Tie to Bonnets and Durags: Embracing Diversity in the Modern Workplace #podcast"
         },
         "statistics": {
          "commentCount": "3",
          "favoriteCount": "0",
          "likeCount": "36",
          "viewCount": "1676"
         }
        },
        {
         "contentDetails": {
          "caption": "false",
          "contentRating": {},
          "definition": "hd",
          "dimension": "2d",
          "duration": "PT29M10S",
          "licensedContent": true,
          "projection": "rectangular"
         },
         "etag": "zb9Sgkt5bLzwTdKTfSU3hpVVHFQ",
         "id": "mNUiab3gGM0",
         "kind": "youtube#video",
         "snippet": {
          "categoryId": "28",
          "channelId": "UCN0u98NPeC0AW3pD6MbVeNg",
          "channelTitle": "PushToProd",
          "description": "Hey push2prod squad. Welcome to back to the \"Prodcast\". In this episode we welcome our very first special guest. Devin has been in tech for over 5 years and today he tells his story. Sadly, we didn't get to finish the story because the battery died but we can definitely do a part two if this video gets enough support.\n\n\nIG: https://linktr.ee/pushtoprod",
          "liveBroadcastContent": "none",
          "localized": {
           "description": "Hey push2prod squad. Welcome to back to the \"Prodcast\". In this episode we welcome our very first special guest. Devin has been in tech for over 5 years and today he tells his story. Sadly, we didn't get to finish the story because the battery died but we can definitely do a part two if this video gets enough support.\n\n\nIG: https://linktr.ee/pushtoprod",
           "title": "Prodcast 4 | From Intern to Engineer"
          },
          "publishedAt": "2023-06-06T20:45:10Z",
          "tags": [
           "podcast",
           "devops",
           "azure",
           "aws",
           "cloud",
           "docker",
           "kubernetes",
           "engineer",
           "it",
           "information systems",
           "information technology",
           "coding",
           "devops engineer",
           "ditl",
           "day in the life",
           "day in the life of a devops engineer",
           "day in the life of a cloud engineer",
           "cloud engineer",
           "Computer Science",
           "software engineer",
           "day in the life of a developer",
           "software developer",
           "code",
           "dad",
           "dadlife",
           "workday",
           "wfh",
           "FAANG",
           "sre",
           "platform engineer",
           "remote",
           "day in the life of an sre",
           "devops journey",
           "cluster engineer",
           "salary",
           "paid",
           "career",
           "job"
          ],
          "thumbnails": {
           "default": {
            "height": 90,
            "url": "https://i.ytimg.com/vi/mNUiab3gGM0/default.jpg",
            "width": 120
           },
           "high": {
            "height": 360,
            "url": "https://i.ytimg.com/vi/mNUiab3gGM0/hqdefault.jpg",
            "width": 480
           },
           "maxres": {
            "height": 720,
            "url": "https://i.ytimg.com/vi/mNUiab3gGM0/maxresdefault.jpg",
            "width": 1280
           },
           "medium": {
            "height": 180,
            "url": "https://i.ytimg.com/vi/mNUiab3gGM0/mqdefault.jpg",
            "width": 320
           },
           "standard": {
            "height": 480,
            "url": "https://i.ytimg.com/vi/mNUiab3gGM0/sddefault.jpg",
            "width": 640
           }
          },
          "title": "Prodcast 4 | From Intern to Engineer"
         },
         "statistics": {
          "commentCount": "11",
          "favoriteCount": "0",
          "likeCount": "70",
          "viewCount": "1029"
         }
        },
        {
         "contentDetails": {
          "caption": "false",
          "contentRating": {},
          "definition": "hd",
          "dimension": "2d",
          "duration": "PT20M18S",
          "licensedContent": true,
          "projection": "rectangular"
         },
         "etag": "QbZCFkTQ_VC-hqlaLWZ8mHw62rs",
         "id": "cWsvmoMS7-I",
         "kind": "youtube#video",
         "snippet": {
          "categoryId": "28",
          "channelId": "UCN0u98NPeC0AW3pD6MbVeNg",
          "channelTitle": "PushToProd",
          "description": "Hey push2prod squad. Welcome to back to the \"Prodcast\". In this episode we dive into a self driving cars, consumer robots, and more. Sit back and get ready to deploy. \n\nIG: https://linktr.ee/pushtoprod\n\nTime stamps\n00:00 Intro\n00:29 Self Driving Cars\n00:58 Dumb Infrastructure \n03:23 Would ride in one\n06:12 Current Roads\n07:19 Robotics (Humanoids)\n10:54 Working for Robot Startups",
          "liveBroadcastContent": "none",
          "localized": {
           "description": "Hey push2prod squad. Welcome to back to the \"Prodcast\". In this episode we dive into a self driving cars, consumer robots, and more. Sit back and get ready to deploy. \n\nIG: https://linktr.ee/pushtoprod\n\nTime stamps\n00:00 Intro\n00:29 Self Driving Cars\n00:58 Dumb Infrastructure \n03:23 Would ride in one\n06:12 Current Roads\n07:19 Robotics (Humanoids)\n10:54 Working for Robot Startups",
           "title": "Prodcast 3 | Where are Self Driving Cars?"
          },
          "publishedAt": "2023-05-23T21:30:11Z",
          "tags": [
           "podcast",
           "devops",
           "azure",
           "aws",
           "cloud",
           "docker",
           "kubernetes",
           "engineer",
           "it",
           "information systems",
           "information technology",
           "scripting",
           "coding",
           "devops engineer",
           "ditl",
           "day in the life",
           "day in the life of a devops engineer",
           "day in the life of a cloud engineer",
           "cloud engineer",
           "ci/cd",
           "Computer Science",
           "software engineer",
           "day in the life of a developer",
           "software developer",
           "code",
           "dad",
           "dadlife",
           "vlog",
           "workday",
           "wfh",
           "FAANG",
           "sre",
           "platform engineer",
           "remote",
           "day in the life of an sre",
           "devops journey",
           "cluster engineer"
          ],
          "thumbnails": {
           "default": {
            "height": 90,
            "url": "https://i.ytimg.com/vi/cWsvmoMS7-I/default.jpg",
            "width": 120
           },
           "high": {
            "height": 360,
            "url": "https://i.ytimg.com/vi/cWsvmoMS7-I/hqdefault.jpg",
            "width": 480
           },
           "maxres": {
            "height": 720,
            "url": "https://i.ytimg.com/vi/cWsvmoMS7-I/maxresdefault.jpg",
            "width": 1280
           },
           "medium": {
            "height": 180,
            "url": "https://i.ytimg.com/vi/cWsvmoMS7-I/mqdefault.jpg",
            "width": 320
           },
           "standard": {
            "height": 480,
            "url": "https://i.ytimg.com/vi/cWsvmoMS7-I/sddefault.jpg",
            "width": 640
           }
          },
          "title": "Prodcast 3 | Where are Self Driving Cars?"
         },
         "statistics": {
          "commentCount": "5",
          "favoriteCount": "0",
          "likeCount": "12",
          "viewCount": "202"
         }
        },
        {
         "contentDetails": {
          "caption": "false",
          "contentRating": {},
          "definition": "hd",
          "dimension": "2d",
          "duration": "PT39S",
          "licensedContent": true,
          "projection": "rectangular"
         },
         "etag": "ZEQBgttU-YJ90cKBZz1GHjju4aA",
         "id": "7zdjQsQCgIg",
         "kind": "youtube#video",
         "snippet": {
          "categoryId": "28",
          "channelId": "UCN0u98NPeC0AW3pD6MbVeNg",
          "channelTitle": "PushToProd",
          "description": "",
          "liveBroadcastContent": "none",
          "localized": {
           "description": "",
           "title": "Prompt Engineering ⌨️: A new career path? #podcast #chatgpt #ai #machinelearning"
          },
          "publishedAt": "2023-05-17T00:46:08Z",
          "thumbnails": {
           "default": {
            "height": 90,
            "url": "https://i.ytimg.com/vi/7zdjQsQCgIg/default.jpg",
            "width": 120
           },
           "high": {
            "height": 360,
            "url": "https://i.ytimg.com/vi/7zdjQsQCgIg/hqdefault.jpg",
            "width": 480
           },
           "maxres": {
            "height": 720,
            "url": "https://i.ytimg.com/vi/7zdjQsQCgIg/maxresdefault.jpg",
            "width": 1280
           },
           "medium": {
            "height": 180,
            "url": "https://i.ytimg.com/vi/7zdjQsQCgIg/mqdefault.jpg",
            "width": 320
           },
           "standard": {
            "height": 480,
            "url": "https://i.ytimg.com/vi/7zdjQsQCgIg/sddefault.jpg",
            "width": 640
           }
          },
          "title": "Prompt Engineering ⌨️: A new career path? #podcast #chatgpt #ai #machinelearning"
         },
         "statistics": {
          "commentCount": "1",
          "favoriteCount": "0",
          "likeCount": "32",
          "viewCount": "839"
         }
        },
        {
         "contentDetails": {
          "caption": "false",
          "contentRating": {},
          "definition": "hd",
          "dimension": "2d",
          "duration": "PT53S",
          "licensedContent": true,
          "projection": "rectangular"
         },
         "etag": "lXY0_w7NNdnzcXh37L_G6tWf_9E",
         "id": "WeHPwgughg0",
         "kind": "youtube#video",
         "snippet": {
          "categoryId": "28",
          "channelId": "UCN0u98NPeC0AW3pD6MbVeNg",
          "channelTitle": "PushToProd",
          "description": "",
          "liveBroadcastContent": "none",
          "localized": {
           "description": "",
           "title": "Job loss to AI #podcast #chatgpt #ai #machinelearning"
          },
          "publishedAt": "2023-05-15T23:32:53Z",
          "thumbnails": {
           "default": {
            "height": 90,
            "url": "https://i.ytimg.com/vi/WeHPwgughg0/default.jpg",
            "width": 120
           },
           "high": {
            "height": 360,
            "url": "https://i.ytimg.com/vi/WeHPwgughg0/hqdefault.jpg",
            "width": 480
           },
           "maxres": {
            "height": 720,
            "url": "https://i.ytimg.com/vi/WeHPwgughg0/maxresdefault.jpg",
            "width": 1280
           },
           "medium": {
            "height": 180,
            "url": "https://i.ytimg.com/vi/WeHPwgughg0/mqdefault.jpg",
            "width": 320
           },
           "standard": {
            "height": 480,
            "url": "https://i.ytimg.com/vi/WeHPwgughg0/sddefault.jpg",
            "width": 640
           }
          },
          "title": "Job loss to AI #podcast #chatgpt #ai #machinelearning"
         },
         "statistics": {
          "commentCount": "3",
          "favoriteCount": "0",
          "likeCount": "36",
          "viewCount": "1326"
         }
        },
        {
         "contentDetails": {
          "caption": "false",
          "contentRating": {},
          "definition": "hd",
          "dimension": "2d",
          "duration": "PT35M34S",
          "licensedContent": true,
          "projection": "rectangular"
         },
         "etag": "d_YIQm0iVW5okNZWEV4G3kXrJ9M",
         "id": "ExTvBwknV9k",
         "kind": "youtube#video",
         "snippet": {
          "categoryId": "28",
          "channelId": "UCN0u98NPeC0AW3pD6MbVeNg",
          "channelTitle": "PushToProd",
          "description": "Hey push2prod squad. Welcome to back to the \"Prodcast\" In this episode we talk about what we would do if we had not gone into tech, the current tech layoffs, our view on the direction of Ai and much more. \n\nIG: https://linktr.ee/pushtoprod\n\n\nTime stamps\n00:00 Start\n00:24 Intro \n2:10 Fun AI Discussion\n3:26 Scammers Using AI\n5:41 Benefits of AI in our Day to day\n6:37 Prompt Engineering\n11:18 AI Shamming people\n15:01 If We Were Not In Tech\n20:48 AI Denial\n20:32 Start Talking About Layoffs\n24:04 The Affects of Tech Layoff\n28:00 Change in Demand for Software Engineers\n29:33 What happened to web3 Hype\n31:30 What Would You Do If Laid off?\n34:50 Camera Dies, Conclusion Starts",
          "liveBroadcastContent": "none",
          "localized": {
           "description": "Hey push2prod squad. Welcome to back to the \"Prodcast\" In this episode we talk about what we would do if we had not gone into tech, the current tech layoffs, our view on the direction of Ai and much more. \n\nIG: https://linktr.ee/pushtoprod\n\n\nTime stamps\n00:00 Start\n00:24 Intro \n2:10 Fun AI Discussion\n3:26 Scammers Using AI\n5:41 Benefits of AI in our Day to day\n6:37 Prompt Engineering\n11:18 AI Shamming people\n15:01 If We Were Not In Tech\n20:48 AI Denial\n20:32 Start Talking About Layoffs\n24:04 The Affects of Tech Layoff\n28:00 Change in Demand for Software Engineers\n29:33 What happened to web3 Hype\n31:30 What Would You Do If Laid off?\n34:50 Camera Dies, Conclusion Starts",
           "title": "Prodcast Episode 2 | if we were not in tech X layoffs X ai"
          },
          "publishedAt": "2023-05-15T20:45:01Z",
          "tags": [
           "podcast",
           "devops",
           "azure",
           "aws",
           "cloud",
           "docker",
           "kubernetes",
           "engineer",
           "it",
           "information systems",
           "information technology",
           "scripting",
           "coding",
           "devops engineer",
           "ditl",
           "day in the life",
           "day in the life of a devops engineer",
           "day in the life of a cloud engineer",
           "cloud engineer",
           "ci/cd",
           "Computer Science",
           "software engineer",
           "day in the life of a developer",
           "software developer",
           "code",
           "dad",
           "dadlife",
           "vlog",
           "workday",
           "wfh",
           "FAANG",
           "sre",
           "platform engineer",
           "remote",
           "day in the life of an sre",
           "devops journey",
           "cluster engineer"
          ],
          "thumbnails": {
           "default": {
            "height": 90,
            "url": "https://i.ytimg.com/vi/ExTvBwknV9k/default.jpg",
            "width": 120
           },
           "high": {
            "height": 360,
            "url": "https://i.ytimg.com/vi/ExTvBwknV9k/hqdefault.jpg",
            "width": 480
           },
           "maxres": {
            "height": 720,
            "url": "https://i.ytimg.com/vi/ExTvBwknV9k/maxresdefault.jpg",
            "width": 1280
           },
           "medium": {
            "height": 180,
            "url": "https://i.ytimg.com/vi/ExTvBwknV9k/mqdefault.jpg",
            "width": 320
           },
           "standard": {
            "height": 480,
            "url": "https://i.ytimg.com/vi/ExTvBwknV9k/sddefault.jpg",
            "width": 640
           }
          },
          "title": "Prodcast Episode 2 | if we were not in tech X layoffs X ai"
         },
         "statistics": {
          "commentCount": "5",
          "favoriteCount": "0",
          "likeCount": "31",
          "viewCount": "450"
         }
        },
        {
         "contentDetails": {
          "caption": "false",
          "contentRating": {},
          "definition": "hd",
          "dimension": "2d",
          "duration": "PT11M12S",
          "licensedContent": true,
          "projection": "rectangular"
         },
         "etag": "ffBPg0HDdv8sTTCWO1YO1uK9N9M",
         "id": "MuEWYeYi63M",
         "kind": "youtube#video",
         "snippet": {
          "categoryId": "28",
          "channelId": "UCN0u98NPeC0AW3pD6MbVeNg",
          "channelTitle": "PushToProd",
          "description": "Hey Guys! \nHope you enjoy this day in the life/vlog as a Cybersecurity Engineer video. I'll give you a little glimpse into my world, within this role. Thanks for watching!\n\nFeel free to follow us on IG\nhttps://linktr.ee/pushtoprod",
          "liveBroadcastContent": "none",
          "localized": {
           "description": "Hey Guys! \nHope you enjoy this day in the life/vlog as a Cybersecurity Engineer video. I'll give you a little glimpse into my world, within this role. Thanks for watching!\n\nFeel free to follow us on IG\nhttps://linktr.ee/pushtoprod",
           "title": "day in the life | Jr. Cybersecurity Engineer"
          },
          "publishedAt": "2023-04-26T21:16:34Z",
          "tags": [
           "devops",
           "azure",
           "aws",
           "cloud",
           "docker",
           "kubernetes",
           "engineer",
           "it",
           "information technology",
           "security",
           "scripting",
           "coding",
           "devops engineer",
           "ditl",
           "day in the life",
           "day in the life of a devops engineer",
           "day in the life of a cloud engineer",
           "cloud engineer",
           "pipelines",
           "sdlc",
           "ci/cd",
           "Computer Science",
           "software engineer",
           "day in the life of a developer",
           "software developer",
           "code",
           "vlog",
           "workday",
           "wfh",
           "day in the life of a stay at home dad",
           "FAANG",
           "sre",
           "platform engineer",
           "remote",
           "hacker",
           "python",
           "cyber security",
           "cissp",
           "tech"
          ],
          "thumbnails": {
           "default": {
            "height": 90,
            "url": "https://i.ytimg.com/vi/MuEWYeYi63M/default.jpg",
            "width": 120
           },
           "high": {
            "height": 360,
            "url": "https://i.ytimg.com/vi/MuEWYeYi63M/hqdefault.jpg",
            "width": 480
           },
           "maxres": {
            "height": 720,
            "url": "https://i.ytimg.com/vi/MuEWYeYi63M/maxresdefault.jpg",
            "width": 1280
           },
           "medium": {
            "height": 180,
            "url": "https://i.ytimg.com/vi/MuEWYeYi63M/mqdefault.jpg",
            "width": 320
           },
           "standard": {
            "height": 480,
            "url": "https://i.ytimg.com/vi/MuEWYeYi63M/sddefault.jpg",
            "width": 640
           }
          },
          "title": "day in the life | Jr. Cybersecurity Engineer"
         },
         "statistics": {
          "commentCount": "162",
          "favoriteCount": "0",
          "likeCount": "1890",
          "viewCount": "93265"
         }
        },
        {
         "contentDetails": {
          "caption": "false",
          "contentRating": {},
          "definition": "hd",
          "dimension": "2d",
          "duration": "PT38M3S",
          "licensedContent": true,
          "projection": "rectangular"
         },
         "etag": "KAnVDYgAgfUSzO0TOyQyThD_G4U",
         "id": "u2Qb9kNjiTs",
         "kind": "youtube#video",
         "snippet": {
          "categoryId": "28",
          "channelId": "UCN0u98NPeC0AW3pD6MbVeNg",
          "channelTitle": "PushToProd",
          "description": "Hey push2prod squad we introducing our new podcast project \"Prodcast.\" This is our first ever podcast on YouTube so feel free to let us know what you think.\n\n\nProdcast is a dynamic and thought provoking podcast from people actually working in tech, that dives into the world of tech and its impacts from a fresh perspective. Join us as we explore everything from emerging trends, innovations, and challenges to navigating the modern tech workspace.",
          "liveBroadcastContent": "none",
          "localized": {
           "description": "Hey push2prod squad we introducing our new podcast project \"Prodcast.\" This is our first ever podcast on YouTube so feel free to let us know what you think.\n\n\nProdcast is a dynamic and thought provoking podcast from people actually working in tech, that dives into the world of tech and its impacts from a fresh perspective. Join us as we explore everything from emerging trends, innovations, and challenges to navigating the modern tech workspace.",
           "title": "Prodcast Episode 1 | Retiring early in tech X Burnout X Diversity"
          },
          "publishedAt": "2023-04-20T22:04:03Z",
          "tags": [
           "podcast",
           "devops",
           "azure",
           "aws",
           "cloud",
           "docker",
           "kubernetes",
           "engineer",
           "it",
           "information systems",
           "information technology",
           "scripting",
           "coding",
           "devops engineer",
           "ditl",
           "day in the life",
           "day in the life of a devops engineer",
           "day in the life of a cloud engineer",
           "cloud engineer",
           "ci/cd",
           "Computer Science",
           "software engineer",
           "day in the life of a developer",
           "software developer",
           "code",
           "dad",
           "dadlife",
           "vlog",
           "workday",
           "wfh",
           "FAANG",
           "sre",
           "platform engineer",
           "remote",
           "day in the life of an sre",
           "devops journey",
           "cluster engineer"
          ],
          "thumbnails": {
           "default": {
            "height": 90,
            "url": "https://i.ytimg.com/vi/u2Qb9kNjiTs/default.jpg",
            "width": 120
           },
           "high": {
            "height": 360,
            "url": "https://i.ytimg.com/vi/u2Qb9kNjiTs/hqdefault.jpg",
            "width": 480
           },
           "maxres": {
            "height": 720,
            "url": "https://i.ytimg.com/vi/u2Qb9kNjiTs/maxresdefault.jpg",
            "width": 1280
           },
           "medium": {
            "height": 180,
            "url": "https://i.ytimg.com/vi/u2Qb9kNjiTs/mqdefault.jpg",
            "width": 320
           },
           "standard": {
            "height": 480,
            "url": "https://i.ytimg.com/vi/u2Qb9kNjiTs/sddefault.jpg",
            "width": 640
           }
          },
          "title": "Prodcast Episode 1 | Retiring early in tech X Burnout X Diversity"
         },
         "statistics": {
          "commentCount": "13",
          "favoriteCount": "0",
          "likeCount": "53",
          "viewCount": "1377"
         }
        },
        {
         "contentDetails": {
          "caption": "false",
          "contentRating": {},
          "definition": "hd",
          "dimension": "2d",
          "duration": "PT39S",
          "licensedContent": true,
          "projection": "rectangular"
         },
         "etag": "c5lCWG4n9zONiRqpniYkSfkritU",
         "id": "yz-wXa7nI14",
         "kind": "youtube#video",
         "snippet": {
          "categoryId": "28",
          "channelId": "UCN0u98NPeC0AW3pD6MbVeNg",
          "channelTitle": "PushToProd",
          "description": "",
          "liveBroadcastContent": "none",
          "localized": {
           "description": "",
           "title": "Upgrading my 2023 Office Setup | PART TWO"
          },
          "publishedAt": "2023-04-11T22:00:11Z",
          "tags": [
           "homeofficesetup",
           "desksetups",
           "deskspace",
           "workspaces",
           "homestudio",
           "office upgrade",
           "2023 desk setup",
           "defi",
           "sound panels",
           "sound absorbers",
           "output",
           "studio",
           "2023 studio",
           "studio setup",
           "producer",
           "producer equipment",
           "Absorbers - 4 Column Room Kit",
           "ECO ACOUSTIC PANELS",
           "acoustic panels",
           "wall panels",
           "nanoleaf",
           "nanoleaf lines",
           "RGB",
           "desk lighting",
           "LED lights",
           "govee",
           "philips hue"
          ],
          "thumbnails": {
           "default": {
            "height": 90,
            "url": "https://i.ytimg.com/vi/yz-wXa7nI14/default.jpg",
            "width": 120
           },
           "high": {
            "height": 360,
            "url": "https://i.ytimg.com/vi/yz-wXa7nI14/hqdefault.jpg",
            "width": 480
           },
           "maxres": {
            "height": 720,
            "url": "https://i.ytimg.com/vi/yz-wXa7nI14/maxresdefault.jpg",
            "width": 1280
           },
           "medium": {
            "height": 180,
            "url": "https://i.ytimg.com/vi/yz-wXa7nI14/mqdefault.jpg",
            "width": 320
           },
           "standard": {
            "height": 480,
            "url": "https://i.ytimg.com/vi/yz-wXa7nI14/sddefault.jpg",
            "width": 640
           }
          },
          "title": "Upgrading my 2023 Office Setup | PART TWO"
         },
         "statistics": {
          "commentCount": "1",
          "favoriteCount": "0",
          "likeCount": "31",
          "viewCount": "425"
         }
        },
        {
         "contentDetails": {
          "caption": "false",
          "contentRating": {},
          "definition": "hd",
          "dimension": "2d",
          "duration": "PT9M33S",
          "licensedContent": true,
          "projection": "rectangular"
         },
         "etag": "qWfN4ieRwdbwJN_rKru6M9QyTt0",
         "id": "F6Kl-yCRn1w",
         "kind": "youtube#video",
         "snippet": {
          "categoryId": "28",
          "channelId": "UCN0u98NPeC0AW3pD6MbVeNg",
          "channelTitle": "PushToProd",
          "description": "This video takes you through my normal day as an AppSec Engineer. \n\nFeel free to ask any questions you may have in the comment section.\n\nIf you enjoy the video please hit like and leave a comment. Subscribe for more content.\n\nhttps://linktr.ee/pushtoprod\n\nTime stamps\n00:00 Start \n00:16 Intro \n00:55 ChatGPT Disclaimer\n1:50 Workout\n1:46 Start Work\n4:28 Coffee Break\n4:50 Back to work\\meeting\n5:26 Lunch break\n6:02 What is Application Security\n8:29 Finish up work\n8:56 Conclusion",
          "liveBroadcastContent": "none",
          "localized": {
           "description": "This video takes you through my normal day as an AppSec Engineer. \n\nFeel free to ask any questions you may have in the comment section.\n\nIf you enjoy the video please hit like and leave a comment. Subscribe for more content.\n\nhttps://linktr.ee/pushtoprod\n\nTime stamps\n00:00 Start \n00:16 Intro \n00:55 ChatGPT Disclaimer\n1:50 Workout\n1:46 Start Work\n4:28 Coffee Break\n4:50 Back to work\\meeting\n5:26 Lunch break\n6:02 What is Application Security\n8:29 Finish up work\n8:56 Conclusion",
           "title": "day in the life | Cyber Security Engineer"
          },
          "publishedAt": "2023-04-06T20:21:39Z",
          "tags": [
           "devops",
           "azure",
           "aws",
           "cloud",
           "docker",
           "kubernetes",
           "engineer",
           "it",
           "information technology",
           "security",
           "scripting",
           "coding",
           "devops engineer",
           "ditl",
           "day in the life",
           "day in the life of a devops engineer",
           "day in the life of a cloud engineer",
           "cloud engineer",
           "pipelines",
           "sdlc",
           "ci/cd",
           "Computer Science",
           "software engineer",
           "day in the life of a developer",
           "software developer",
           "code",
           "vlog",
           "workday",
           "wfh",
           "day in the life of a stay at home dad",
           "FAANG",
           "sre",
           "platform engineer",
           "remote",
           "hacker",
           "python",
           "cyber security",
           "cissp",
           "tech"
          ],
          "thumbnails": {
           "default": {
            "height": 90,
            "url": "https://i.ytimg.com/vi/F6Kl-yCRn1w/default.jpg",
            "width": 120
           },
           "high": {
            "height": 360,
            "url": "https://i.ytimg.com/vi/F6Kl-yCRn1w/hqdefault.jpg",
            "width": 480
           },
           "maxres": {
            "height": 720,
            "url": "https://i.ytimg.com/vi/F6Kl-yCRn1w/maxresdefault.jpg",
            "width": 1280
           },
           "medium": {
            "height": 180,
            "url": "https://i.ytimg.com/vi/F6Kl-yCRn1w/mqdefault.jpg",
            "width": 320
           },
           "standard": {
            "height": 480,
            "url": "https://i.ytimg.com/vi/F6Kl-yCRn1w/sddefault.jpg",
            "width": 640
           }
          },
          "title": "day in the life | Cyber Security Engineer"
         },
         "statistics": {
          "commentCount": "25",
          "favoriteCount": "0",
          "likeCount": "139",
          "viewCount": "5345"
         }
        },
        {
         "contentDetails": {
          "caption": "false",
          "contentRating": {},
          "definition": "hd",
          "dimension": "2d",
          "duration": "PT45S",
          "licensedContent": true,
          "projection": "rectangular"
         },
         "etag": "GMLUghoS44VA1LlwsL0JejK-vIg",
         "id": "wHVbm1lR9pY",
         "kind": "youtube#video",
         "snippet": {
          "categoryId": "28",
          "channelId": "UCN0u98NPeC0AW3pD6MbVeNg",
          "channelTitle": "PushToProd",
          "description": "",
          "liveBroadcastContent": "none",
          "localized": {
           "description": "",
           "title": "Upgrading my 2023 Office Setup | PART ONE"
          },
          "publishedAt": "2023-04-03T23:39:10Z",
          "tags": [
           "homeofficesetup",
           "desksetups",
           "deskspace",
           "workspaces",
           "homestudio",
           "office upgrade",
           "2023 desk setup",
           "defi",
           "sound panels",
           "sound absorbers",
           "output",
           "studio",
           "2023 studio",
           "studio setup",
           "producer",
           "producer equipment",
           "Absorbers - 4 Column Room Kit",
           "ECO ACOUSTIC PANELS",
           "acoustic panels",
           "wall panels"
          ],
          "thumbnails": {
           "default": {
            "height": 90,
            "url": "https://i.ytimg.com/vi/wHVbm1lR9pY/default.jpg",
            "width": 120
           },
           "high": {
            "height": 360,
            "url": "https://i.ytimg.com/vi/wHVbm1lR9pY/hqdefault.jpg",
            "width": 480
           },
           "maxres": {
            "height": 720,
            "url": "https://i.ytimg.com/vi/wHVbm1lR9pY/maxresdefault.jpg",
            "width": 1280
           },
           "medium": {
            "height": 180,
            "url": "https://i.ytimg.com/vi/wHVbm1lR9pY/mqdefault.jpg",
            "width": 320
           },
           "standard": {
            "height": 480,
            "url": "https://i.ytimg.com/vi/wHVbm1lR9pY/sddefault.jpg",
            "width": 640
           }
          },
          "title": "Upgrading my 2023 Office Setup | PART ONE"
         },
         "statistics": {
          "commentCount": "1",
          "favoriteCount": "0",
          "likeCount": "15",
          "viewCount": "300"
         }
        },
        {
         "contentDetails": {
          "caption": "false",
          "contentRating": {},
          "definition": "hd",
          "dimension": "2d",
          "duration": "PT11M9S",
          "licensedContent": true,
          "projection": "rectangular"
         },
         "etag": "9gay6EwI52nf6iqkN3hAmqS7oSY",
         "id": "MzdTqjFVw7k",
         "kind": "youtube#video",
         "snippet": {
          "categoryId": "28",
          "channelId": "UCN0u98NPeC0AW3pD6MbVeNg",
          "channelTitle": "PushToProd",
          "defaultAudioLanguage": "en-US",
          "description": "Another day in the life of a DevOps engineer wfh. In this video I go into detail on my journey from college student to a Senior DevOps Engineer for a large company.\n\n0:00 Intro\n1:18 Starting my workday\n4:56 My DevOps journey\n9:23 Finishing the day\n\nFeel free to ask any questions you may have in the comment section\n\nIf you enjoy the video please hit like and leave a comment. Subscribe for more content.\n\nhttps://linktr.ee/pushtoprod",
          "liveBroadcastContent": "none",
          "localized": {
           "description": "Another day in the life of a DevOps engineer wfh. In this video I go into detail on my journey from college student to a Senior DevOps Engineer for a large company.\n\n0:00 Intro\n1:18 Starting my workday\n4:56 My DevOps journey\n9:23 Finishing the day\n\nFeel free to ask any questions you may have in the comment section\n\nIf you enjoy the video please hit like and leave a comment. Subscribe for more content.\n\nhttps://linktr.ee/pushtoprod",
           "title": "workday vlog | how I became a DevOps Engineer"
          },
          "publishedAt": "2023-03-28T20:31:01Z",
          "tags": [
           "devops",
           "azure",
           "aws",
           "cloud",
           "docker",
           "kubernetes",
           "engineer",
           "it",
           "information systems",
           "information technology",
           "scripting",
           "coding",
           "devops engineer",
           "ditl",
           "day in the life",
           "day in the life of a devops engineer",
           "day in the life of a cloud engineer",
           "cloud engineer",
           "ci/cd",
           "Computer Science",
           "software engineer",
           "day in the life of a developer",
           "software developer",
           "code",
           "dad",
           "dadlife",
           "vlog",
           "workday",
           "wfh",
           "FAANG",
           "sre",
           "platform engineer",
           "remote",
           "day in the life of an sre",
           "devops journey",
           "cluster engineer"
          ],
          "thumbnails": {
           "default": {
            "height": 90,
            "url": "https://i.ytimg.com/vi/MzdTqjFVw7k/default.jpg",
            "width": 120
           },
           "high": {
            "height": 360,
            "url": "https://i.ytimg.com/vi/MzdTqjFVw7k/hqdefault.jpg",
            "width": 480
           },
           "maxres": {
            "height": 720,
            "url": "https://i.ytimg.com/vi/MzdTqjFVw7k/maxresdefault.jpg",
            "width": 1280
           },
           "medium": {
            "height": 180,
            "url": "https://i.ytimg.com/vi/MzdTqjFVw7k/mqdefault.jpg",
            "width": 320
           },
           "standard": {
            "height": 480,
            "url": "https://i.ytimg.com/vi/MzdTqjFVw7k/sddefault.jpg",
            "width": 640
           }
          },
          "title": "workday vlog | how I became a DevOps Engineer"
         },
         "statistics": {
          "commentCount": "17",
          "favoriteCount": "0",
          "likeCount": "159",
          "viewCount": "3688"
         }
        },
        {
         "contentDetails": {
          "caption": "false",
          "contentRating": {},
          "definition": "hd",
          "dimension": "2d",
          "duration": "PT4M6S",
          "licensedContent": true,
          "projection": "rectangular"
         },
         "etag": "YqiyJfpm-h7aPashsx5iKissMbA",
         "id": "2ILsC0B1stc",
         "kind": "youtube#video",
         "snippet": {
          "categoryId": "28",
          "channelId": "UCN0u98NPeC0AW3pD6MbVeNg",
          "channelTitle": "PushToProd",
          "description": "Hi Push2Prod Squad! Finally got to chance the upgrade my desk setup. It's still in its early stages so feel free to make any recommendations.\n\n\nI hope you enjoy the video. If you have any recommendations leave them in the comments below.",
          "liveBroadcastContent": "none",
          "localized": {
           "description": "Hi Push2Prod Squad! Finally got to chance the upgrade my desk setup. It's still in its early stages so feel free to make any recommendations.\n\n\nI hope you enjoy the video. If you have any recommendations leave them in the comments below.",
           "title": "Brand New 2023 Desk Setup"
          },
          "publishedAt": "2023-03-25T17:42:19Z",
          "tags": [
           "devops",
           "azure",
           "aws",
           "cloud",
           "docker",
           "kubernetes",
           "engineer",
           "it",
           "information systems",
           "information technology",
           "security",
           "scripting",
           "coding",
           "devops engineer",
           "ditl",
           "day in the life",
           "day in the life of a devops engineer",
           "day in the life of a cloud engineer",
           "cloud engineer",
           "pipelines",
           "sdlc",
           "ci/cd",
           "Computer Science",
           "software engineer",
           "day in the life of a developer",
           "software developer",
           "code",
           "dad",
           "father",
           "dadlife",
           "vlog",
           "workday",
           "wfh",
           "day in the life of a stay at home dad",
           "FAANG",
           "sre",
           "platform engineer",
           "remote"
          ],
          "thumbnails": {
           "default": {
            "height": 90,
            "url": "https://i.ytimg.com/vi/2ILsC0B1stc/default.jpg",
            "width": 120
           },
           "high": {
            "height": 360,
            "url": "https://i.ytimg.com/vi/2ILsC0B1stc/hqdefault.jpg",
            "width": 480
           },
           "maxres": {
            "height": 720,
            "url": "https://i.ytimg.com/vi/2ILsC0B1stc/maxresdefault.jpg",
            "width": 1280
           },
           "medium": {
            "height": 180,
            "url": "https://i.ytimg.com/vi/2ILsC0B1stc/mqdefault.jpg",
            "width": 320
           },
           "standard": {
            "height": 480,
            "url": "https://i.ytimg.com/vi/2ILsC0B1stc/sddefault.jpg",
            "width": 640
           }
          },
          "title": "Brand New 2023 Desk Setup"
         },
         "statistics": {
          "commentCount": "10",
          "favoriteCount": "0",
          "likeCount": "30",
          "viewCount": "689"
         }
        },
        {
         "contentDetails": {
          "caption": "false",
          "contentRating": {},
          "definition": "hd",
          "dimension": "2d",
          "duration": "PT1M",
          "licensedContent": true,
          "projection": "rectangular"
         },
         "etag": "xiVlegMYu8pMpyeLrPRhmUiHRcU",
         "id": "xJfI3xOoRS0",
         "kind": "youtube#video",
         "snippet": {
          "categoryId": "28",
          "channelId": "UCN0u98NPeC0AW3pD6MbVeNg",
          "channelTitle": "PushToProd",
          "description": "",
          "liveBroadcastContent": "none",
          "localized": {
           "description": "",
           "title": "🚀Fast Track to Azure Solution Architect Certification! Bulb #cloud  #azure #devops #ditl"
          },
          "publishedAt": "2023-03-22T17:01:20Z",
          "thumbnails": {
           "default": {
            "height": 90,
            "url": "https://i.ytimg.com/vi/xJfI3xOoRS0/default.jpg",
            "width": 120
           },
           "high": {
            "height": 360,
            "url": "https://i.ytimg.com/vi/xJfI3xOoRS0/hqdefault.jpg",
            "width": 480
           },
           "maxres": {
            "height": 720,
            "url": "https://i.ytimg.com/vi/xJfI3xOoRS0/maxresdefault.jpg",
            "width": 1280
           },
           "medium": {
            "height": 180,
            "url": "https://i.ytimg.com/vi/xJfI3xOoRS0/mqdefault.jpg",
            "width": 320
           },
           "standard": {
            "height": 480,
            "url": "https://i.ytimg.com/vi/xJfI3xOoRS0/sddefault.jpg",
            "width": 640
           }
          },
          "title": "🚀Fast Track to Azure Solution Architect Certification! Bulb #cloud  #azure #devops #ditl"
         },
         "statistics": {
          "commentCount": "1",
          "favoriteCount": "0",
          "likeCount": "34",
          "viewCount": "539"
         }
        },
        {
         "contentDetails": {
          "caption": "false",
          "contentRating": {},
          "definition": "hd",
          "dimension": "2d",
          "duration": "PT30S",
          "licensedContent": true,
          "projection": "rectangular"
         },
         "etag": "h8ckeIxGr1bHw59T9La_guONyUM",
         "id": "LG5r7lJ1n7I",
         "kind": "youtube#video",
         "snippet": {
          "categoryId": "28",
          "channelId": "UCN0u98NPeC0AW3pD6MbVeNg",
          "channelTitle": "PushToProd",
          "description": "",
          "liveBroadcastContent": "none",
          "localized": {
           "description": "",
           "title": "AI Revolution: Invading Photography"
          },
          "publishedAt": "2023-03-21T17:56:14Z",
          "thumbnails": {
           "default": {
            "height": 90,
            "url": "https://i.ytimg.com/vi/LG5r7lJ1n7I/default.jpg",
            "width": 120
           },
           "high": {
            "height": 360,
            "url": "https://i.ytimg.com/vi/LG5r7lJ1n7I/hqdefault.jpg",
            "width": 480
           },
           "maxres": {
            "height": 720,
            "url": "https://i.ytimg.com/vi/LG5r7lJ1n7I/maxresdefault.jpg",
            "width": 1280
           },
           "medium": {
            "height": 180,
            "url": "https://i.ytimg.com/vi/LG5r7lJ1n7I/mqdefault.jpg",
            "width": 320
           },
           "standard": {
            "height": 480,
            "url": "https://i.ytimg.com/vi/LG5r7lJ1n7I/sddefault.jpg",
            "width": 640
           }
          },
          "title": "AI Revolution: Invading Photography"
         },
         "statistics": {
          "commentCount": "0",
          "favoriteCount": "0",
          "likeCount": "8",
          "viewCount": "207"
         }
        },
        {
         "contentDetails": {
          "caption": "false",
          "contentRating": {},
          "definition": "hd",
          "dimension": "2d",
          "duration": "PT39S",
          "licensedContent": true,
          "projection": "rectangular"
         },
         "etag": "q_BvNpw8dlm6T0DE7aeSANWjFm8",
         "id": "rHAKCbg61ZA",
         "kind": "youtube#video",
         "snippet": {
          "categoryId": "28",
          "channelId": "UCN0u98NPeC0AW3pD6MbVeNg",
          "channelTitle": "PushToProd",
          "description": "",
          "liveBroadcastContent": "none",
          "localized": {
           "description": "",
           "title": "AI vs Lawyers"
          },
          "publishedAt": "2023-03-18T20:16:06Z",
          "thumbnails": {
           "default": {
            "height": 90,
            "url": "https://i.ytimg.com/vi/rHAKCbg61ZA/default.jpg",
            "width": 120
           },
           "high": {
            "height": 360,
            "url": "https://i.ytimg.com/vi/rHAKCbg61ZA/hqdefault.jpg",
            "width": 480
           },
           "maxres": {
            "height": 720,
            "url": "https://i.ytimg.com/vi/rHAKCbg61ZA/maxresdefault.jpg",
            "width": 1280
           },
           "medium": {
            "height": 180,
            "url": "https://i.ytimg.com/vi/rHAKCbg61ZA/mqdefault.jpg",
            "width": 320
           },
           "standard": {
            "height": 480,
            "url": "https://i.ytimg.com/vi/rHAKCbg61ZA/sddefault.jpg",
            "width": 640
           }
          },
          "title": "AI vs Lawyers"
         },
         "statistics": {
          "commentCount": "1",
          "favoriteCount": "0",
          "likeCount": "6",
          "viewCount": "148"
         }
        },
        {
         "contentDetails": {
          "caption": "false",
          "contentRating": {},
          "definition": "hd",
          "dimension": "2d",
          "duration": "PT7M47S",
          "licensedContent": true,
          "projection": "rectangular"
         },
         "etag": "Bh5PkfqfElZ7dGKrNritVLbFwgc",
         "id": "mXbwFL-vU3I",
         "kind": "youtube#video",
         "snippet": {
          "categoryId": "28",
          "channelId": "UCN0u98NPeC0AW3pD6MbVeNg",
          "channelTitle": "PushToProd",
          "description": "I am by no means an expert in A.I, just a fan of the tech.\n\nOpen discussion in the comments!!!\n\nHey everyone! In this video, I'll be sharing my thoughts on the advancements in AI and how they're affecting various careers. Join me as I dive into my imagination for some exciting speculations. I'd love to hear your opinions and ideas on how our future society will evolve so leave comments below.\n\nAs always, if you find this video engaging, don't forget to hit the like button and consider subscribing if you haven't yet.\n\nThanks, and enjoy the discussion!\n\nhttps://linktr.ee/pushtoprod",
          "liveBroadcastContent": "none",
          "localized": {
           "description": "I am by no means an expert in A.I, just a fan of the tech.\n\nOpen discussion in the comments!!!\n\nHey everyone! In this video, I'll be sharing my thoughts on the advancements in AI and how they're affecting various careers. Join me as I dive into my imagination for some exciting speculations. I'd love to hear your opinions and ideas on how our future society will evolve so leave comments below.\n\nAs always, if you find this video engaging, don't forget to hit the like button and consider subscribing if you haven't yet.\n\nThanks, and enjoy the discussion!\n\nhttps://linktr.ee/pushtoprod",
           "title": "AI (Artificial Intelligence) on the Job Market | Should you be concerned?"
          },
          "publishedAt": "2023-03-17T19:16:11Z",
          "tags": [
           "ArtificialIntelligence",
           "AIimpact",
           "FutureOfWork",
           "AIandCareers",
           "TechnologyTrends",
           "JobMarket",
           "Automation",
           "Robotics",
           "MachineLearning",
           "FutureSociety",
           "AIDiscussion",
           "TechnologicalAdvancements",
           "WorkforceAdaptation",
           "CareerInsights",
           "AIEthics",
           "Software engineer",
           "Coding",
           "Cyber security",
           "Cloud engineer",
           "Day in the life",
           "Engineering",
           "Ditl",
           "Data science",
           "Machine learning",
           "Salary",
           "Jobs",
           "Career",
           "Desk setup",
           "Chat bot",
           "Python",
           "API",
           "Network",
           "Software",
           "AI",
           "Robots",
           "Neural",
           "Computer vision",
           "Data",
           "Database",
           "Computers",
           "Server",
           "IT"
          ],
          "thumbnails": {
           "default": {
            "height": 90,
            "url": "https://i.ytimg.com/vi/mXbwFL-vU3I/default.jpg",
            "width": 120
           },
           "high": {
            "height": 360,
            "url": "https://i.ytimg.com/vi/mXbwFL-vU3I/hqdefault.jpg",
            "width": 480
           },
           "maxres": {
            "height": 720,
            "url": "https://i.ytimg.com/vi/mXbwFL-vU3I/maxresdefault.jpg",
            "width": 1280
           },
           "medium": {
            "height": 180,
            "url": "https://i.ytimg.com/vi/mXbwFL-vU3I/mqdefault.jpg",
            "width": 320
           },
           "standard": {
            "height": 480,
            "url": "https://i.ytimg.com/vi/mXbwFL-vU3I/sddefault.jpg",
            "width": 640
           }
          },
          "title": "AI (Artificial Intelligence) on the Job Market | Should you be concerned?"
         },
         "statistics": {
          "commentCount": "3",
          "favoriteCount": "0",
          "likeCount": "20",
          "viewCount": "436"
         }
        },
        {
         "contentDetails": {
          "caption": "false",
          "contentRating": {},
          "definition": "hd",
          "dimension": "2d",
          "duration": "PT9M13S",
          "licensedContent": true,
          "projection": "rectangular"
         },
         "etag": "zMw4D3Ks4Tn9ZNxwRZ45uU6v9E8",
         "id": "TFH3THol7-c",
         "kind": "youtube#video",
         "snippet": {
          "categoryId": "28",
          "channelId": "UCN0u98NPeC0AW3pD6MbVeNg",
          "channelTitle": "PushToProd",
          "defaultAudioLanguage": "en-US",
          "description": "Just a day in the life of a DevOps engineer wfh with my new addition to the family. In this video I balance spending time with my son and day to day DevOps work including coding, reviewing GitHub pull requests.\n\nFeel free to ask any questions you may have in the comment section\n\nIf you enjoy the video please hit like and leave a comment. Subscribe for more content.\n\nhttps://linktr.ee/pushtoprod",
          "liveBroadcastContent": "none",
          "localized": {
           "description": "Just a day in the life of a DevOps engineer wfh with my new addition to the family. In this video I balance spending time with my son and day to day DevOps work including coding, reviewing GitHub pull requests.\n\nFeel free to ask any questions you may have in the comment section\n\nIf you enjoy the video please hit like and leave a comment. Subscribe for more content.\n\nhttps://linktr.ee/pushtoprod",
           "title": "workday vlog | day in the life of a devops engineer"
          },
          "publishedAt": "2023-03-07T17:05:32Z",
          "tags": [
           "devops",
           "azure",
           "aws",
           "cloud",
           "docker",
           "kubernetes",
           "engineer",
           "it",
           "information systems",
           "information technology",
           "security",
           "scripting",
           "coding",
           "devops engineer",
           "ditl",
           "day in the life",
           "day in the life of a devops engineer",
           "day in the life of a cloud engineer",
           "cloud engineer",
           "pipelines",
           "sdlc",
           "ci/cd",
           "Computer Science",
           "software engineer",
           "day in the life of a developer",
           "software developer",
           "code",
           "dad",
           "father",
           "dadlife",
           "vlog",
           "workday",
           "wfh",
           "day in the life of a stay at home dad",
           "FAANG",
           "sre",
           "platform engineer",
           "remote"
          ],
          "thumbnails": {
           "default": {
            "height": 90,
            "url": "https://i.ytimg.com/vi/TFH3THol7-c/default.jpg",
            "width": 120
           },
           "high": {
            "height": 360,
            "url": "https://i.ytimg.com/vi/TFH3THol7-c/hqdefault.jpg",
            "width": 480
           },
           "maxres": {
            "height": 720,
            "url": "https://i.ytimg.com/vi/TFH3THol7-c/maxresdefault.jpg",
            "width": 1280
           },
           "medium": {
            "height": 180,
            "url": "https://i.ytimg.com/vi/TFH3THol7-c/mqdefault.jpg",
            "width": 320
           },
           "standard": {
            "height": 480,
            "url": "https://i.ytimg.com/vi/TFH3THol7-c/sddefault.jpg",
            "width": 640
           }
          },
          "title": "workday vlog | day in the life of a devops engineer"
         },
         "statistics": {
          "commentCount": "28",
          "favoriteCount": "0",
          "likeCount": "286",
          "viewCount": "15551"
         }
        },
        {
         "contentDetails": {
          "caption": "false",
          "contentRating": {},
          "definition": "hd",
          "dimension": "2d",
          "duration": "PT22S",
          "licensedContent": true,
          "projection": "rectangular"
         },
         "etag": "S5A3BfZCqAMHgl03SaBVGUj-NU8",
         "id": "mgAdwHgDcoc",
         "kind": "youtube#video",
         "snippet": {
          "categoryId": "28",
          "channelId": "UCN0u98NPeC0AW3pD6MbVeNg",
          "channelTitle": "PushToProd",
          "description": "",
          "liveBroadcastContent": "none",
          "localized": {
           "description": "",
           "title": "Late night desk setup #shorts"
          },
          "publishedAt": "2023-03-06T23:22:55Z",
          "tags": [
           "homeofficesetup",
           "desksetups",
           "deskspace",
           "workspaces",
           "homestudio"
          ],
          "thumbnails": {
           "default": {
            "height": 90,
            "url": "https://i.ytimg.com/vi/mgAdwHgDcoc/default.jpg",
            "width": 120
           },
           "high": {
            "height": 360,
            "url": "https://i.ytimg.com/vi/mgAdwHgDcoc/hqdefault.jpg",
            "width": 480
           },
           "maxres": {
            "height": 720,
            "url": "https://i.ytimg.com/vi/mgAdwHgDcoc/maxresdefault.jpg",
            "width": 1280
           },
           "medium": {
            "height": 180,
            "url": "https://i.ytimg.com/vi/mgAdwHgDcoc/mqdefault.jpg",
            "width": 320
           },
           "standard": {
            "height": 480,
            "url": "https://i.ytimg.com/vi/mgAdwHgDcoc/sddefault.jpg",
            "width": 640
           }
          },
          "title": "Late night desk setup #shorts"
         },
         "statistics": {
          "commentCount": "0",
          "favoriteCount": "0",
          "likeCount": "22",
          "viewCount": "539"
         }
        },
        {
         "contentDetails": {
          "caption": "false",
          "contentRating": {},
          "definition": "hd",
          "dimension": "2d",
          "duration": "PT1M1S",
          "licensedContent": true,
          "projection": "rectangular"
         },
         "etag": "_154TOoOqlCHFGfxoCfcajkNgrU",
         "id": "DQ4y85PUBWM",
         "kind": "youtube#video",
         "snippet": {
          "categoryId": "27",
          "channelId": "UCN0u98NPeC0AW3pD6MbVeNg",
          "channelTitle": "PushToProd",
          "description": "",
          "liveBroadcastContent": "none",
          "localized": {
           "description": "",
           "title": "MX Master 3S Mouse (Unboxing & Quick review)"
          },
          "publishedAt": "2023-03-03T20:58:14Z",
          "thumbnails": {
           "default": {
            "height": 90,
            "url": "https://i.ytimg.com/vi/DQ4y85PUBWM/default.jpg",
            "width": 120
           },
           "high": {
            "height": 360,
            "url": "https://i.ytimg.com/vi/DQ4y85PUBWM/hqdefault.jpg",
            "width": 480
           },
           "maxres": {
            "height": 720,
            "url": "https://i.ytimg.com/vi/DQ4y85PUBWM/maxresdefault.jpg",
            "width": 1280
           },
           "medium": {
            "height": 180,
            "url": "https://i.ytimg.com/vi/DQ4y85PUBWM/mqdefault.jpg",
            "width": 320
           },
           "standard": {
            "height": 480,
            "url": "https://i.ytimg.com/vi/DQ4y85PUBWM/sddefault.jpg",
            "width": 640
           }
          },
          "title": "MX Master 3S Mouse (Unboxing & Quick review)"
         },
         "statistics": {
          "commentCount": "1",
          "favoriteCount": "0",
          "likeCount": "10",
          "viewCount": "404"
         }
        },
        {
         "contentDetails": {
          "caption": "false",
          "contentRating": {},
          "definition": "hd",
          "dimension": "2d",
          "duration": "PT10S",
          "licensedContent": true,
          "projection": "rectangular"
         },
         "etag": "Js213P3hdc1bDulOa7ec5RIoUvE",
         "id": "rFsd4n7tBuY",
         "kind": "youtube#video",
         "snippet": {
          "categoryId": "28",
          "channelId": "UCN0u98NPeC0AW3pD6MbVeNg",
          "channelTitle": "PushToProd",
          "description": "",
          "liveBroadcastContent": "none",
          "localized": {
           "description": "",
           "title": "My 2023 Desk Setup"
          },
          "publishedAt": "2023-02-23T21:46:45Z",
          "tags": [
           "homeofficesetup",
           "desksetups",
           "deskspace",
           "workspaces",
           "homestudio"
          ],
          "thumbnails": {
           "default": {
            "height": 90,
            "url": "https://i.ytimg.com/vi/rFsd4n7tBuY/default.jpg",
            "width": 120
           },
           "high": {
            "height": 360,
            "url": "https://i.ytimg.com/vi/rFsd4n7tBuY/hqdefault.jpg",
            "width": 480
           },
           "maxres": {
            "height": 720,
            "url": "https://i.ytimg.com/vi/rFsd4n7tBuY/maxresdefault.jpg",
            "width": 1280
           },
           "medium": {
            "height": 180,
            "url": "https://i.ytimg.com/vi/rFsd4n7tBuY/mqdefault.jpg",
            "width": 320
           },
           "standard": {
            "height": 480,
            "url": "https://i.ytimg.com/vi/rFsd4n7tBuY/sddefault.jpg",
            "width": 640
           }
          },
          "title": "My 2023 Desk Setup"
         },
         "statistics": {
          "commentCount": "5",
          "favoriteCount": "0",
          "likeCount": "53",
          "viewCount": "1494"
         }
        },
        {
         "contentDetails": {
          "caption": "false",
          "contentRating": {},
          "definition": "hd",
          "dimension": "2d",
          "duration": "PT32S",
          "licensedContent": true,
          "projection": "rectangular"
         },
         "etag": "PJjb1_ZHk8qc7wUCkzU2akmLz0Y",
         "id": "zl93v1LOsH4",
         "kind": "youtube#video",
         "snippet": {
          "categoryId": "27",
          "channelId": "UCN0u98NPeC0AW3pD6MbVeNg",
          "channelTitle": "PushToProd",
          "description": "Unboxing the LG DualUp Monitor released in 2022. I will be using this as a secondary monitor in my desk setup. My primary use for this monitor is to split screen from my personal and work laptop.",
          "liveBroadcastContent": "none",
          "localized": {
           "description": "Unboxing the LG DualUp Monitor released in 2022. I will be using this as a secondary monitor in my desk setup. My primary use for this monitor is to split screen from my personal and work laptop.",
           "title": "LG DualUp Monitor Unboxing (asmr)"
          },
          "publishedAt": "2023-02-22T23:22:05Z",
          "thumbnails": {
           "default": {
            "height": 90,
            "url": "https://i.ytimg.com/vi/zl93v1LOsH4/default.jpg",
            "width": 120
           },
           "high": {
            "height": 360,
            "url": "https://i.ytimg.com/vi/zl93v1LOsH4/hqdefault.jpg",
            "width": 480
           },
           "maxres": {
            "height": 720,
            "url": "https://i.ytimg.com/vi/zl93v1LOsH4/maxresdefault.jpg",
            "width": 1280
           },
           "medium": {
            "height": 180,
            "url": "https://i.ytimg.com/vi/zl93v1LOsH4/mqdefault.jpg",
            "width": 320
           },
           "standard": {
            "height": 480,
            "url": "https://i.ytimg.com/vi/zl93v1LOsH4/sddefault.jpg",
            "width": 640
           }
          },
          "title": "LG DualUp Monitor Unboxing (asmr)"
         },
         "statistics": {
          "commentCount": "0",
          "favoriteCount": "0",
          "likeCount": "62",
          "viewCount": "2281"
         }
        },
        {
         "contentDetails": {
          "caption": "false",
          "contentRating": {},
          "definition": "hd",
          "dimension": "2d",
          "duration": "PT46S",
          "licensedContent": true,
          "projection": "rectangular"
         },
         "etag": "XzP9zv7oKixiPVZhDzSRFM80JfQ",
         "id": "JQ-2pRQuIDY",
         "kind": "youtube#video",
         "snippet": {
          "categoryId": "27",
          "channelId": "UCN0u98NPeC0AW3pD6MbVeNg",
          "channelTitle": "PushToProd",
          "description": "",
          "liveBroadcastContent": "none",
          "localized": {
           "description": "",
           "title": "Would you try a kneeling chair?"
          },
          "publishedAt": "2023-02-16T23:31:02Z",
          "tags": [
           "HomeOffice",
           "Gamingsetup",
           "Tech",
           "Devlife",
           "Developer",
           "Software",
           "Productivity",
           "day in life",
           "Engineer",
           "Chair",
           "Cyber security",
           "Networking",
           "Desk setup",
           "Uplift desk",
           "Kneeling chair",
           "IT",
           "Coding",
           "Setup",
           "Computer",
           "Career"
          ],
          "thumbnails": {
           "default": {
            "height": 90,
            "url": "https://i.ytimg.com/vi/JQ-2pRQuIDY/default.jpg",
            "width": 120
           },
           "high": {
            "height": 360,
            "url": "https://i.ytimg.com/vi/JQ-2pRQuIDY/hqdefault.jpg",
            "width": 480
           },
           "maxres": {
            "height": 720,
            "url": "https://i.ytimg.com/vi/JQ-2pRQuIDY/maxresdefault.jpg",
            "width": 1280
           },
           "medium": {
            "height": 180,
            "url": "https://i.ytimg.com/vi/JQ-2pRQuIDY/mqdefault.jpg",
            "width": 320
           },
           "standard": {
            "height": 480,
            "url": "https://i.ytimg.com/vi/JQ-2pRQuIDY/sddefault.jpg",
            "width": 640
           }
          },
          "title": "Would you try a kneeling chair?"
         },
         "statistics": {
          "commentCount": "0",
          "favoriteCount": "0",
          "likeCount": "30",
          "viewCount": "987"
         }
        },
        {
         "contentDetails": {
          "caption": "false",
          "contentRating": {},
          "definition": "hd",
          "dimension": "2d",
          "duration": "PT12M47S",
          "licensedContent": true,
          "projection": "rectangular"
         },
         "etag": "uY3W_X6Ztj_KiBzfKxYbFW-bL00",
         "id": "D0Wu6BKlVkI",
         "kind": "youtube#video",
         "snippet": {
          "categoryId": "27",
          "channelId": "UCN0u98NPeC0AW3pD6MbVeNg",
          "channelTitle": "PushToProd",
          "description": "How I passed my Microsoft Certified Solutions Architect Exam.\n\nIf you enjoy the video, don’t forget to like, subscribe and comment below.",
          "liveBroadcastContent": "none",
          "localized": {
           "description": "How I passed my Microsoft Certified Solutions Architect Exam.\n\nIf you enjoy the video, don’t forget to like, subscribe and comment below.",
           "title": "Get CLOUD certified in 1 MONTH"
          },
          "publishedAt": "2021-11-10T21:55:44Z",
          "tags": [
           "Software",
           "Networking",
           "NOC",
           "network analyst",
           "development",
           "Software engineer",
           "Network engineer",
           "IT",
           "Information Technology",
           "software engineer",
           "College student",
           "working in IT",
           "Technology",
           "Day in life",
           "day in the life",
           "Work from home",
           "Network specialist",
           "IT support",
           "IT engineer",
           "engineer",
           "computer science",
           "computer engineer",
           "cyber security",
           "security",
           "network +",
           "Solutions engineer",
           "bootcamp",
           "Code",
           "cloud",
           "azure",
           "solutions architect",
           "microsoft certified",
           "aws",
           "gcp",
           "cloud certified"
          ],
          "thumbnails": {
           "default": {
            "height": 90,
            "url": "https://i.ytimg.com/vi/D0Wu6BKlVkI/default.jpg",
            "width": 120
           },
           "high": {
            "height": 360,
            "url": "https://i.ytimg.com/vi/D0Wu6BKlVkI/hqdefault.jpg",
            "width": 480
           },
           "maxres": {
            "height": 720,
            "url": "https://i.ytimg.com/vi/D0Wu6BKlVkI/maxresdefault.jpg",
            "width": 1280
           },
           "medium": {
            "height": 180,
            "url": "https://i.ytimg.com/vi/D0Wu6BKlVkI/mqdefault.jpg",
            "width": 320
           },
           "standard": {
            "height": 480,
            "url": "https://i.ytimg.com/vi/D0Wu6BKlVkI/sddefault.jpg",
            "width": 640
           }
          },
          "title": "Get CLOUD certified in 1 MONTH"
         },
         "statistics": {
          "commentCount": "8",
          "favoriteCount": "0",
          "likeCount": "137",
          "viewCount": "2948"
         }
        },
        {
         "contentDetails": {
          "caption": "false",
          "contentRating": {},
          "definition": "hd",
          "dimension": "2d",
          "duration": "PT11M8S",
          "licensedContent": true,
          "projection": "rectangular"
         },
         "etag": "9lwHRYwq_gcaj5NmFZuehyC1POI",
         "id": "IfRWIadNwzg",
         "kind": "youtube#video",
         "snippet": {
          "categoryId": "27",
          "channelId": "UCN0u98NPeC0AW3pD6MbVeNg",
          "channelTitle": "PushToProd",
          "description": "Hey Push to Prod Squad. Today I am interviewing my friend Kora who is currently a Solutions Engineer as well as a new home owner. \n\nlike always I hope you find this video entertaining and informative.\n\nIf you enjoy the video, don’t forget to like, subscribe and comment below.",
          "liveBroadcastContent": "none",
          "localized": {
           "description": "Hey Push to Prod Squad. Today I am interviewing my friend Kora who is currently a Solutions Engineer as well as a new home owner. \n\nlike always I hope you find this video entertaining and informative.\n\nIf you enjoy the video, don’t forget to like, subscribe and comment below.",
           "title": "Getting into Tech | New Grad | Solutions Engineer"
          },
          "publishedAt": "2021-11-03T21:00:13Z",
          "tags": [
           "Software",
           "Networking",
           "NOC",
           "network analyst",
           "Cisco",
           "development",
           "Software engineer",
           "Network engineer",
           "IT",
           "Information Technology",
           "Day in the live of a network analyst",
           "software engineer",
           "College student",
           "working in IT",
           "Technology",
           "Day in life",
           "day in the life",
           "Work from home",
           "Palo Alto",
           "Network specialist",
           "IT support",
           "IT engineer",
           "engineer",
           "computer science",
           "computer engineer",
           "cyber security",
           "security",
           "network +",
           "Solutions engineer",
           "bootcamp",
           "woman in technology",
           "GSU",
           "ATL",
           "Code",
           "cloud"
          ],
          "thumbnails": {
           "default": {
            "height": 90,
            "url": "https://i.ytimg.com/vi/IfRWIadNwzg/default.jpg",
            "width": 120
           },
           "high": {
            "height": 360,
            "url": "https://i.ytimg.com/vi/IfRWIadNwzg/hqdefault.jpg",
            "width": 480
           },
           "maxres": {
            "height": 720,
            "url": "https://i.ytimg.com/vi/IfRWIadNwzg/maxresdefault.jpg",
            "width": 1280
           },
           "medium": {
            "height": 180,
            "url": "https://i.ytimg.com/vi/IfRWIadNwzg/mqdefault.jpg",
            "width": 320
           },
           "standard": {
            "height": 480,
            "url": "https://i.ytimg.com/vi/IfRWIadNwzg/sddefault.jpg",
            "width": 640
           }
          },
          "title": "Getting into Tech | New Grad | Solutions Engineer"
         },
         "statistics": {
          "commentCount": "24",
          "favoriteCount": "0",
          "likeCount": "197",
          "viewCount": "3672"
         }
        },
        {
         "contentDetails": {
          "caption": "false",
          "contentRating": {},
          "definition": "hd",
          "dimension": "2d",
          "duration": "PT7M19S",
          "licensedContent": true,
          "projection": "rectangular"
         },
         "etag": "dV81vbTl9g58ngstR8gQBkMHSrs",
         "id": "QOAngIfqNCA",
         "kind": "youtube#video",
         "snippet": {
          "categoryId": "22",
          "channelId": "UCN0u98NPeC0AW3pD6MbVeNg",
          "channelTitle": "PushToProd",
          "description": "Hey Everyone! Sorry it's been so long since we've last uploaded. So much has happened and we have a lot to update you all on.\n\nWhile the good stuff is cooking, I hope you enjoy this updated day in life video. \n\nPlease ask any question that comes to mind in the comment section below. I would love to do a Q&A VERY soon!\n\n\nEnjoy!!",
          "liveBroadcastContent": "none",
          "localized": {
           "description": "Hey Everyone! Sorry it's been so long since we've last uploaded. So much has happened and we have a lot to update you all on.\n\nWhile the good stuff is cooking, I hope you enjoy this updated day in life video. \n\nPlease ask any question that comes to mind in the comment section below. I would love to do a Q&A VERY soon!\n\n\nEnjoy!!",
           "title": "Day In The Life of a Network Analyst (Remote)"
          },
          "publishedAt": "2021-10-28T00:45:21Z",
          "tags": [
           "Software",
           "Networking",
           "NOC",
           "network analyst",
           "Cisco",
           "Meraki",
           "development",
           "Software engineer",
           "Network engineer",
           "IT",
           "Information Technology",
           "Day in the live of a network analyst",
           "software engineer",
           "College student",
           "working in IT",
           "Salary",
           "Technology",
           "SOC",
           "Day in life",
           "day in the life",
           "Work from home",
           "Palo Alto",
           "Network specialist",
           "IT support",
           "IT engineer",
           "engineer",
           "computer science",
           "computer engineer",
           "cyber security",
           "security",
           "network +",
           "Remote",
           "Workfromhome",
           "work from home"
          ],
          "thumbnails": {
           "default": {
            "height": 90,
            "url": "https://i.ytimg.com/vi/QOAngIfqNCA/default.jpg",
            "width": 120
           },
           "high": {
            "height": 360,
            "url": "https://i.ytimg.com/vi/QOAngIfqNCA/hqdefault.jpg",
            "width": 480
           },
           "maxres": {
            "height": 720,
            "url": "https://i.ytimg.com/vi/QOAngIfqNCA/maxresdefault.jpg",
            "width": 1280
           },
           "medium": {
            "height": 180,
            "url": "https://i.ytimg.com/vi/QOAngIfqNCA/mqdefault.jpg",
            "width": 320
           },
           "standard": {
            "height": 480,
            "url": "https://i.ytimg.com/vi/QOAngIfqNCA/sddefault.jpg",
            "width": 640
           }
          },
          "title": "Day In The Life of a Network Analyst (Remote)"
         },
         "statistics": {
          "commentCount": "55",
          "favoriteCount": "0",
          "likeCount": "345",
          "viewCount": "14233"
         }
        },
        {
         "contentDetails": {
          "caption": "false",
          "contentRating": {},
          "definition": "hd",
          "dimension": "2d",
          "duration": "PT12M19S",
          "licensedContent": true,
          "projection": "rectangular"
         },
         "etag": "0_2OYRvMm1huEVGVCirql9s_ql0",
         "id": "LKXXlmciido",
         "kind": "youtube#video",
         "snippet": {
          "categoryId": "26",
          "channelId": "UCN0u98NPeC0AW3pD6MbVeNg",
          "channelTitle": "PushToProd",
          "description": "Hey guys! Just moved into my mew place I’m still getting settled but wanted to make a video showing my new office setup in its early stages. \n\n\nI hope you enjoy the video. If you have any recommendations leave them in the comments below. \n\n\nLinks to items in the video:\n\nChair \nhttps://www.amazon.com/gp/product/B088GY9WNL/ref=ppx_yo_dt_b_asin_title_o04_s00?ie=UTF8&psc=1\n\n\nDesk Mat\nhttps://www.amazon.com/gp/product/B082F5ZLS5/ref=ppx_yo_dt_b_asin_title_o04_s00?ie=UTF8&psc=1\n\n    \nDesk/Table\nhttps://www.amazon.com/gp/product/B085GGCCLL/ref=ppx_yo_dt_b_asin_title_o06_s02?ie=UTF8&psc=1\n\nMonitor Arms\nhttps://www.amazon.com/gp/product/B07Z7ZM8CJ/ref=ppx_yo_dt_b_asin_title_o02_s01?ie=UTF8&psc=1\n\n    \nComputer speaker\nhttps://www.amazon.com/gp/product/B07VRNGYML/ref=ppx_yo_dt_b_asin_title_o06_s00?ie=UTF8&psc=1\n\nBack Stretcher\nhttps://www.amazon.com/gp/product/B06ZZWZL2F/ref=ppx_yo_dt_b_asin_title_o04_s01?ie=UTF8&psc=1\n\nTrackball Mouse\nHttps://www.amazon.com/Logitech-M570-Wireless-Trackball-Mouse/dp/B0043T7FXE/ref=sr_1_3?crid=2DQMA0PSJ9PKF&dchild=1&keywords=trackball+mouse&qid=1604969644&sprefix=Track%2Caps%2C180&sr=8-3\n          \nMonitor \nhttps://www.amazon.com/gp/product/B072M34RQC/ref=ppx_yo_dt_b_asin_title_o07_s02?ie=UTF8&psc=1\n\n\n\nLike and share this video if you enjoy.",
          "liveBroadcastContent": "none",
          "localized": {
           "description": "Hey guys! Just moved into my mew place I’m still getting settled but wanted to make a video showing my new office setup in its early stages. \n\n\nI hope you enjoy the video. If you have any recommendations leave them in the comments below. \n\n\nLinks to items in the video:\n\nChair \nhttps://www.amazon.com/gp/product/B088GY9WNL/ref=ppx_yo_dt_b_asin_title_o04_s00?ie=UTF8&psc=1\n\n\nDesk Mat\nhttps://www.amazon.com/gp/product/B082F5ZLS5/ref=ppx_yo_dt_b_asin_title_o04_s00?ie=UTF8&psc=1\n\n    \nDesk/Table\nhttps://www.amazon.com/gp/product/B085GGCCLL/ref=ppx_yo_dt_b_asin_title_o06_s02?ie=UTF8&psc=1\n\nMonitor Arms\nhttps://www.amazon.com/gp/product/B07Z7ZM8CJ/ref=ppx_yo_dt_b_asin_title_o02_s01?ie=UTF8&psc=1\n\n    \nComputer speaker\nhttps://www.amazon.com/gp/product/B07VRNGYML/ref=ppx_yo_dt_b_asin_title_o06_s00?ie=UTF8&psc=1\n\nBack Stretcher\nhttps://www.amazon.com/gp/product/B06ZZWZL2F/ref=ppx_yo_dt_b_asin_title_o04_s01?ie=UTF8&psc=1\n\nTrackball Mouse\nHttps://www.amazon.com/Logitech-M570-Wireless-Trackball-Mouse/dp/B0043T7FXE/ref=sr_1_3?crid=2DQMA0PSJ9PKF&dchild=1&keywords=trackball+mouse&qid=1604969644&sprefix=Track%2Caps%2C180&sr=8-3\n          \nMonitor \nhttps://www.amazon.com/gp/product/B072M34RQC/ref=ppx_yo_dt_b_asin_title_o07_s02?ie=UTF8&psc=1\n\n\n\nLike and share this video if you enjoy.",
           "title": "Minimal Modern Standing Desk Setup | New Home Office Tour | Budget"
          },
          "publishedAt": "2020-11-10T00:35:44Z",
          "tags": [
           "developer",
           "ux",
           "programming",
           "setup",
           "userinterface",
           "coding",
           "programmer",
           "ui",
           "javascript",
           "desksetup",
           "remotedeveloper",
           "webdesign",
           "userexperience",
           "TheDreamSetup",
           "software",
           "reactjs",
           "uidesign",
           "webdeveloper",
           "uxdesign",
           "interface",
           "computerscience",
           "html",
           "webdesigner",
           "css",
           "webdevelopment",
           "prototyping",
           "webdev",
           "softwareengineering",
           "deskupdate",
           "designerlife",
           "graphicdesigner",
           "photographer",
           "contentcreator",
           "wfh",
           "homeoffice",
           "productivity",
           "eskgoals inspiringspaces Cyber Security",
           "Information Technology",
           "coding",
           "day in life"
          ],
          "thumbnails": {
           "default": {
            "height": 90,
            "url": "https://i.ytimg.com/vi/LKXXlmciido/default.jpg",
            "width": 120
           },
           "high": {
            "height": 360,
            "url": "https://i.ytimg.com/vi/LKXXlmciido/hqdefault.jpg",
            "width": 480
           },
           "medium": {
            "height": 180,
            "url": "https://i.ytimg.com/vi/LKXXlmciido/mqdefault.jpg",
            "width": 320
           },
           "standard": {
            "height": 480,
            "url": "https://i.ytimg.com/vi/LKXXlmciido/sddefault.jpg",
            "width": 640
           }
          },
          "title": "Minimal Modern Standing Desk Setup | New Home Office Tour | Budget"
         },
         "statistics": {
          "commentCount": "36",
          "favoriteCount": "0",
          "likeCount": "135",
          "viewCount": "3294"
         }
        },
        {
         "contentDetails": {
          "caption": "false",
          "contentRating": {},
          "definition": "hd",
          "dimension": "2d",
          "duration": "PT9M28S",
          "licensedContent": true,
          "projection": "rectangular"
         },
         "etag": "5jWnWznIyu0u4pG3H0WUIVTJKl0",
         "id": "8FNO7riTpAo",
         "kind": "youtube#video",
         "snippet": {
          "categoryId": "28",
          "channelId": "UCN0u98NPeC0AW3pD6MbVeNg",
          "channelTitle": "PushToProd",
          "description": "Hey Guys! Just posting a video on what I think are good things to know to get into my position, as a Network Analyst. \n\nIf you have any questions about the video, feel free to drop it below in the comment section. Don't forget to Like, subscribe and share! \n\nThanks!",
          "liveBroadcastContent": "none",
          "localized": {
           "description": "Hey Guys! Just posting a video on what I think are good things to know to get into my position, as a Network Analyst. \n\nIf you have any questions about the video, feel free to drop it below in the comment section. Don't forget to Like, subscribe and share! \n\nThanks!",
           "title": "Things you MUST know to become a Network Analyst! | The minimum"
          },
          "publishedAt": "2020-09-22T14:40:42Z",
          "tags": [
           "Software",
           "Networking",
           "NOC",
           "network analyst",
           "Cisco",
           "Meraki",
           "development",
           "Software engineer",
           "Network engineer",
           "IT",
           "Information Technology",
           "Day in the live of a network analyst",
           "software engineer",
           "College student",
           "working in IT",
           "Salary",
           "Technology",
           "SOC",
           "Day in life",
           "day in the life",
           "Work from home",
           "Palo Alto",
           "Network specialist",
           "IT support",
           "IT engineer",
           "engineer",
           "computer science",
           "computer engineer",
           "cyber security",
           "security",
           "network +"
          ],
          "thumbnails": {
           "default": {
            "height": 90,
            "url": "https://i.ytimg.com/vi/8FNO7riTpAo/default.jpg",
            "width": 120
           },
           "high": {
            "height": 360,
            "url": "https://i.ytimg.com/vi/8FNO7riTpAo/hqdefault.jpg",
            "width": 480
           },
           "maxres": {
            "height": 720,
            "url": "https://i.ytimg.com/vi/8FNO7riTpAo/maxresdefault.jpg",
            "width": 1280
           },
           "medium": {
            "height": 180,
            "url": "https://i.ytimg.com/vi/8FNO7riTpAo/mqdefault.jpg",
            "width": 320
           },
           "standard": {
            "height": 480,
            "url": "https://i.ytimg.com/vi/8FNO7riTpAo/sddefault.jpg",
            "width": 640
           }
          },
          "title": "Things you MUST know to become a Network Analyst! | The minimum"
         },
         "statistics": {
          "commentCount": "76",
          "favoriteCount": "0",
          "likeCount": "807",
          "viewCount": "15777"
         }
        },
        {
         "contentDetails": {
          "caption": "false",
          "contentRating": {},
          "definition": "hd",
          "dimension": "2d",
          "duration": "PT11M25S",
          "licensedContent": true,
          "projection": "rectangular"
         },
         "etag": "0OAaaFycb0OrBs1pF0ptRVx92Ao",
         "id": "4uVZHdiIP-8",
         "kind": "youtube#video",
         "snippet": {
          "categoryId": "28",
          "channelId": "UCN0u98NPeC0AW3pD6MbVeNg",
          "channelTitle": "PushToProd",
          "description": "This is a list of jobs that currently believe are some of the best in tech right now. \n\nThere are a lot of other great positions that I left out but this list was specifically made to outline the ones I really recommend based on what I would do personally. \n\nWe will be dropping a video soon going over the specifics of DevOps so make sure to subscribe and turn on notifications. \n\nLike always, if you have any questions feel free to leave them in the comment section. We will try our best to get to them. \n\nIf you enjoy the video, don't forget to like, subscribe and share.\n\nThanks for watching!!\n\n\nAzure:\nhttps://azure.microsoft.com/en-us/updates/\n\nAWS:\nhttps://aws.amazon.com/new/?whats-new-content-all.sort-by=item.additionalFields.postDateTime&whats-new-content-all.sort-order=desc\n\nGoogle:\nhttps://cloud.google.com/training\n\nSecurity Pro Shortage:\nhttps://www.csoonline.com/article/3331983/the-cybersecurity-skills-shortage-is-getting-worse.html\n\nDevOps:\nhttps://www.tivix.com/blog/what-does-a-devops-engineer-do\n\nTechnical Sales:\nhttps://careertrend.com/facts-6155176-technical-sales-rep-.html",
          "liveBroadcastContent": "none",
          "localized": {
           "description": "This is a list of jobs that currently believe are some of the best in tech right now. \n\nThere are a lot of other great positions that I left out but this list was specifically made to outline the ones I really recommend based on what I would do personally. \n\nWe will be dropping a video soon going over the specifics of DevOps so make sure to subscribe and turn on notifications. \n\nLike always, if you have any questions feel free to leave them in the comment section. We will try our best to get to them. \n\nIf you enjoy the video, don't forget to like, subscribe and share.\n\nThanks for watching!!\n\n\nAzure:\nhttps://azure.microsoft.com/en-us/updates/\n\nAWS:\nhttps://aws.amazon.com/new/?whats-new-content-all.sort-by=item.additionalFields.postDateTime&whats-new-content-all.sort-order=desc\n\nGoogle:\nhttps://cloud.google.com/training\n\nSecurity Pro Shortage:\nhttps://www.csoonline.com/article/3331983/the-cybersecurity-skills-shortage-is-getting-worse.html\n\nDevOps:\nhttps://www.tivix.com/blog/what-does-a-devops-engineer-do\n\nTechnical Sales:\nhttps://careertrend.com/facts-6155176-technical-sales-rep-.html",
           "title": "BEST JOBS IN TECH 2020-2021 | PushToProd"
          },
          "publishedAt": "2020-08-27T17:35:16Z",
          "tags": [
           "Software",
           "Networking",
           "NOC",
           "network analyst",
           "Cisco",
           "development",
           "Software engineer",
           "Network engineer",
           "IT",
           "Information Technology",
           "Day in the live of a network analyst",
           "College student",
           "Salary",
           "Technology",
           "Day in life",
           "day in the life",
           "Palo Alto",
           "Network specialist",
           "IT support",
           "IT engineer",
           "engineer",
           "computer science",
           "computer engineer",
           "cyber security",
           "security",
           "network +",
           "Best Jobs",
           "tech",
           "paid",
           "make money",
           "machine learning",
           "Artificial intelligence",
           "python",
           "java",
           "code",
           "project management"
          ],
          "thumbnails": {
           "default": {
            "height": 90,
            "url": "https://i.ytimg.com/vi/4uVZHdiIP-8/default.jpg",
            "width": 120
           },
           "high": {
            "height": 360,
            "url": "https://i.ytimg.com/vi/4uVZHdiIP-8/hqdefault.jpg",
            "width": 480
           },
           "maxres": {
            "height": 720,
            "url": "https://i.ytimg.com/vi/4uVZHdiIP-8/maxresdefault.jpg",
            "width": 1280
           },
           "medium": {
            "height": 180,
            "url": "https://i.ytimg.com/vi/4uVZHdiIP-8/mqdefault.jpg",
            "width": 320
           },
           "standard": {
            "height": 480,
            "url": "https://i.ytimg.com/vi/4uVZHdiIP-8/sddefault.jpg",
            "width": 640
           }
          },
          "title": "BEST JOBS IN TECH 2020-2021 | PushToProd"
         },
         "statistics": {
          "commentCount": "67",
          "favoriteCount": "0",
          "likeCount": "317",
          "viewCount": "8030"
         }
        },
        {
         "contentDetails": {
          "caption": "false",
          "contentRating": {},
          "definition": "hd",
          "dimension": "2d",
          "duration": "PT7M56S",
          "licensedContent": true,
          "projection": "rectangular"
         },
         "etag": "Nu20gfsXYmc4LcMtiD3DjXu7aaE",
         "id": "JNm6fJw19kg",
         "kind": "youtube#video",
         "snippet": {
          "categoryId": "28",
          "channelId": "UCN0u98NPeC0AW3pD6MbVeNg",
          "channelTitle": "PushToProd",
          "description": "Hope this video was insightful and that somebody gets the information they have been seeking. \n\nLike always, if you have any questions feel free to leave them in the comment section. We will try our best to get to them. \n\nIf you enjoy the video, don't forget to like, subscribe and share.\n\n\nThanks!!",
          "liveBroadcastContent": "none",
          "localized": {
           "description": "Hope this video was insightful and that somebody gets the information they have been seeking. \n\nLike always, if you have any questions feel free to leave them in the comment section. We will try our best to get to them. \n\nIf you enjoy the video, don't forget to like, subscribe and share.\n\n\nThanks!!",
           "title": "How much I made as an entry level Network Analyst"
          },
          "publishedAt": "2020-08-07T02:31:11Z",
          "tags": [
           "Software",
           "Networking",
           "NOC",
           "network analyst",
           "Cisco",
           "Meraki",
           "development",
           "Software engineer",
           "Network engineer",
           "IT",
           "Information Technology",
           "Day in the live of a network analyst",
           "software engineer",
           "College student",
           "working in IT",
           "Salary",
           "Technology",
           "SOC",
           "Day in life",
           "day in the life",
           "Work from home",
           "Palo Alto",
           "Network specialist",
           "IT support",
           "IT engineer",
           "engineer",
           "computer science",
           "computer engineer",
           "cyber security",
           "security",
           "network +"
          ],
          "thumbnails": {
           "default": {
            "height": 90,
            "url": "https://i.ytimg.com/vi/JNm6fJw19kg/default.jpg",
            "width": 120
           },
           "high": {
            "height": 360,
            "url": "https://i.ytimg.com/vi/JNm6fJw19kg/hqdefault.jpg",
            "width": 480
           },
           "maxres": {
            "height": 720,
            "url": "https://i.ytimg.com/vi/JNm6fJw19kg/maxresdefault.jpg",
            "width": 1280
           },
           "medium": {
            "height": 180,
            "url": "https://i.ytimg.com/vi/JNm6fJw19kg/mqdefault.jpg",
            "width": 320
           },
           "standard": {
            "height": 480,
            "url": "https://i.ytimg.com/vi/JNm6fJw19kg/sddefault.jpg",
            "width": 640
           }
          },
          "title": "How much I made as an entry level Network Analyst"
         },
         "statistics": {
          "commentCount": "117",
          "favoriteCount": "0",
          "likeCount": "954",
          "viewCount": "33719"
         }
        },
        {
         "contentDetails": {
          "caption": "false",
          "contentRating": {},
          "definition": "hd",
          "dimension": "2d",
          "duration": "PT9M25S",
          "licensedContent": true,
          "projection": "rectangular"
         },
         "etag": "w4ymYYapZSPuD17x6X1ma8MnwJI",
         "id": "0X5iljDT9qk",
         "kind": "youtube#video",
         "snippet": {
          "categoryId": "28",
          "channelId": "UCN0u98NPeC0AW3pD6MbVeNg",
          "channelTitle": "PushToProd",
          "description": "Since I always go on about how important I think an entry level help desk position is I felt like it was time to make a video with more details on my experience and of course share information on the salary. How this video was insightful and that somebody gets the information they have been seeking. \n\nLike always, if you have any questions feel free to leave them in the comment section. We will try our best to get to them. \n\nIf you enjoy the video, don't forget to like, subscribe and share.\n\n\nThanks!!",
          "liveBroadcastContent": "none",
          "localized": {
           "description": "Since I always go on about how important I think an entry level help desk position is I felt like it was time to make a video with more details on my experience and of course share information on the salary. How this video was insightful and that somebody gets the information they have been seeking. \n\nLike always, if you have any questions feel free to leave them in the comment section. We will try our best to get to them. \n\nIf you enjoy the video, don't forget to like, subscribe and share.\n\n\nThanks!!",
           "title": "How much I got paid in my entry level IT Support role"
          },
          "publishedAt": "2020-07-23T22:28:17Z",
          "tags": [
           "Software",
           "Networking",
           "NOC",
           "network analyst",
           "Cisco",
           "Meraki",
           "development",
           "Software engineer",
           "Network engineer",
           "IT",
           "Information Technology",
           "Day in the live of a network analyst",
           "software engineer",
           "College student",
           "Salary",
           "Technology",
           "SOC",
           "Day in life",
           "day in the life",
           "Work from home",
           "Palo Alto",
           "Network specialist",
           "IT support",
           "engineer",
           "computer science",
           "computer engineer",
           "cyber security",
           "security",
           "network +",
           "No Degree",
           "no certificate",
           "code",
           "ccna",
           "how to",
           "no school",
           "entry level",
           "It support"
          ],
          "thumbnails": {
           "default": {
            "height": 90,
            "url": "https://i.ytimg.com/vi/0X5iljDT9qk/default.jpg",
            "width": 120
           },
           "high": {
            "height": 360,
            "url": "https://i.ytimg.com/vi/0X5iljDT9qk/hqdefault.jpg",
            "width": 480
           },
           "maxres": {
            "height": 720,
            "url": "https://i.ytimg.com/vi/0X5iljDT9qk/maxresdefault.jpg",
            "width": 1280
           },
           "medium": {
            "height": 180,
            "url": "https://i.ytimg.com/vi/0X5iljDT9qk/mqdefault.jpg",
            "width": 320
           },
           "standard": {
            "height": 480,
            "url": "https://i.ytimg.com/vi/0X5iljDT9qk/sddefault.jpg",
            "width": 640
           }
          },
          "title": "How much I got paid in my entry level IT Support role"
         },
         "statistics": {
          "commentCount": "57",
          "favoriteCount": "0",
          "likeCount": "420",
          "viewCount": "14925"
         }
        },
        {
         "contentDetails": {
          "caption": "false",
          "contentRating": {},
          "definition": "hd",
          "dimension": "2d",
          "duration": "PT11M53S",
          "licensedContent": true,
          "projection": "rectangular"
         },
         "etag": "o4YjommDTgAilln_scqqIiKqHJ8",
         "id": "JR4t9k9LFwk",
         "kind": "youtube#video",
         "snippet": {
          "categoryId": "28",
          "channelId": "UCN0u98NPeC0AW3pD6MbVeNg",
          "channelTitle": "PushToProd",
          "description": "Hey guys. A lot of people have been asking what degree I have. Thing is i'm still currently in school. I have no degree and was still able to get into Networking. I share how this was possible for me in this video.\n\nLike always, if you have any questions feel free to leave them in the comment section. We will try our best to get to them. \n\nIf you enjoy the video, don't forget to like, subscribe and share.\n\nSorry for being so far from the camera I am still just practicing social distancing. LOL\n\nThanks!!",
          "liveBroadcastContent": "none",
          "localized": {
           "description": "Hey guys. A lot of people have been asking what degree I have. Thing is i'm still currently in school. I have no degree and was still able to get into Networking. I share how this was possible for me in this video.\n\nLike always, if you have any questions feel free to leave them in the comment section. We will try our best to get to them. \n\nIf you enjoy the video, don't forget to like, subscribe and share.\n\nSorry for being so far from the camera I am still just practicing social distancing. LOL\n\nThanks!!",
           "title": "How I Became A Network Anaylst With NO DEGREE!"
          },
          "publishedAt": "2020-07-08T00:37:16Z",
          "tags": [
           "Software",
           "Networking",
           "NOC",
           "network analyst",
           "Cisco",
           "Meraki",
           "development",
           "Software engineer",
           "Network engineer",
           "IT",
           "Information Technology",
           "Day in the live of a network analyst",
           "software engineer",
           "College student",
           "working in IT",
           "Salary",
           "Technology",
           "SOC",
           "Day in life",
           "day in the life",
           "Work from home",
           "Palo Alto",
           "Network specialist",
           "IT support",
           "engineer",
           "computer science",
           "computer engineer",
           "cyber security",
           "security",
           "network +",
           "No Degree",
           "no certificate",
           "code",
           "ccna",
           "how to",
           "no school",
           "college"
          ],
          "thumbnails": {
           "default": {
            "height": 90,
            "url": "https://i.ytimg.com/vi/JR4t9k9LFwk/default.jpg",
            "width": 120
           },
           "high": {
            "height": 360,
            "url": "https://i.ytimg.com/vi/JR4t9k9LFwk/hqdefault.jpg",
            "width": 480
           },
           "maxres": {
            "height": 720,
            "url": "https://i.ytimg.com/vi/JR4t9k9LFwk/maxresdefault.jpg",
            "width": 1280
           },
           "medium": {
            "height": 180,
            "url": "https://i.ytimg.com/vi/JR4t9k9LFwk/mqdefault.jpg",
            "width": 320
           },
           "standard": {
            "height": 480,
            "url": "https://i.ytimg.com/vi/JR4t9k9LFwk/sddefault.jpg",
            "width": 640
           }
          },
          "title": "How I Became A Network Anaylst With NO DEGREE!"
         },
         "statistics": {
          "commentCount": "55",
          "favoriteCount": "0",
          "likeCount": "632",
          "viewCount": "15112"
         }
        },
        {
         "contentDetails": {
          "caption": "false",
          "contentRating": {},
          "definition": "hd",
          "dimension": "2d",
          "duration": "PT13M9S",
          "licensedContent": true,
          "projection": "rectangular"
         },
         "etag": "r97W2JCtQ6rhohxzxodwHYztA8M",
         "id": "toVFg4kIDG0",
         "kind": "youtube#video",
         "snippet": {
          "categoryId": "28",
          "channelId": "UCN0u98NPeC0AW3pD6MbVeNg",
          "channelTitle": "PushToProd",
          "description": "In this video into some of the main reasons why I quit my job. I do miss it, but I feel like it was the right move to make.\nIf you enjoy the video please like, subscribe, and share. \nHave a question? Be sure to ask in the comment section below. \n\n\nWant small tips for your resume, email it to 3degreees@gmail.com and leave a comment below advising that you have sent one in for review. This is FREE of course \n\nNote: We are not professional resume writers but we will share tips we think will give you an edge.",
          "liveBroadcastContent": "none",
          "localized": {
           "description": "In this video into some of the main reasons why I quit my job. I do miss it, but I feel like it was the right move to make.\nIf you enjoy the video please like, subscribe, and share. \nHave a question? Be sure to ask in the comment section below. \n\n\nWant small tips for your resume, email it to 3degreees@gmail.com and leave a comment below advising that you have sent one in for review. This is FREE of course \n\nNote: We are not professional resume writers but we will share tips we think will give you an edge.",
           "title": "Why I QUIT my job as an IT Sr. System Engineer  |  Was it a mistake?"
          },
          "publishedAt": "2020-07-01T23:34:57Z",
          "tags": [
           "Software",
           "Networking",
           "NOC",
           "network analyst",
           "Cisco",
           "Meraki",
           "development",
           "Software engineer",
           "Network engineer",
           "IT",
           "Information Technology",
           "Day in the live of a network analyst",
           "software engineer",
           "College student",
           "working in IT",
           "Salary",
           "Technology",
           "SOC",
           "Day in life",
           "day in the life",
           "Work from home",
           "Palo Alto",
           "Network specialist",
           "IT support",
           "IT engineer",
           "engineer",
           "computer science",
           "computer engineer",
           "cyber security",
           "security",
           "network +",
           "coding",
           "developer",
           "scripting",
           "quit my job",
           "salary",
           "program"
          ],
          "thumbnails": {
           "default": {
            "height": 90,
            "url": "https://i.ytimg.com/vi/toVFg4kIDG0/default.jpg",
            "width": 120
           },
           "high": {
            "height": 360,
            "url": "https://i.ytimg.com/vi/toVFg4kIDG0/hqdefault.jpg",
            "width": 480
           },
           "maxres": {
            "height": 720,
            "url": "https://i.ytimg.com/vi/toVFg4kIDG0/maxresdefault.jpg",
            "width": 1280
           },
           "medium": {
            "height": 180,
            "url": "https://i.ytimg.com/vi/toVFg4kIDG0/mqdefault.jpg",
            "width": 320
           },
           "standard": {
            "height": 480,
            "url": "https://i.ytimg.com/vi/toVFg4kIDG0/sddefault.jpg",
            "width": 640
           }
          },
          "title": "Why I QUIT my job as an IT Sr. System Engineer  |  Was it a mistake?"
         },
         "statistics": {
          "commentCount": "52",
          "favoriteCount": "0",
          "likeCount": "248",
          "viewCount": "7425"
         }
        },
        {
         "contentDetails": {
          "caption": "false",
          "contentRating": {},
          "definition": "hd",
          "dimension": "2d",
          "duration": "PT23M10S",
          "licensedContent": true,
          "projection": "rectangular"
         },
         "etag": "YkQ3s_YLknn3ytlXz1CPbztGWZ4",
         "id": "KfvFJSdOm9w",
         "kind": "youtube#video",
         "snippet": {
          "categoryId": "28",
          "channelId": "UCN0u98NPeC0AW3pD6MbVeNg",
          "channelTitle": "PushToProd",
          "description": "In this video we answer questions from college students and other people aspiring to have a career in IT. \n\nIf there are any questions that you would like answered that was not included feel free to leave them in the comments below. \n\nWe are planning on doing some mock interviews soon. If you are interested please leave a message in the comments. If there is enough interest we will make a video with more details on how to participate. \n\nSong:\nP2P Song 6, by Charles",
          "liveBroadcastContent": "none",
          "localized": {
           "description": "In this video we answer questions from college students and other people aspiring to have a career in IT. \n\nIf there are any questions that you would like answered that was not included feel free to leave them in the comments below. \n\nWe are planning on doing some mock interviews soon. If you are interested please leave a message in the comments. If there is enough interest we will make a video with more details on how to participate. \n\nSong:\nP2P Song 6, by Charles",
           "title": "Young IT Pros Q&A | Tips that will drastically increase your chances of getting hired."
          },
          "publishedAt": "2020-05-24T20:46:07Z",
          "tags": [
           "getting into cyber security",
           "how to get into cyber security",
           "cyber security jobs",
           "infosec",
           "cyber security",
           "cyber security training",
           "certifications",
           "starting cyber security",
           "comptia A+",
           "comptia security+",
           "linux +",
           "cisco ccna",
           "cisco training",
           "ccna study",
           "cybersecurity for beginners",
           "information technology",
           "cybersecurity",
           "how to protect my data online",
           "cybersecurity careers",
           "Software Developer",
           "Software Engineer",
           "How to get into IT",
           "IT",
           "Entry Level",
           "Zero experience",
           "no experiance"
          ],
          "thumbnails": {
           "default": {
            "height": 90,
            "url": "https://i.ytimg.com/vi/KfvFJSdOm9w/default.jpg",
            "width": 120
           },
           "high": {
            "height": 360,
            "url": "https://i.ytimg.com/vi/KfvFJSdOm9w/hqdefault.jpg",
            "width": 480
           },
           "maxres": {
            "height": 720,
            "url": "https://i.ytimg.com/vi/KfvFJSdOm9w/maxresdefault.jpg",
            "width": 1280
           },
           "medium": {
            "height": 180,
            "url": "https://i.ytimg.com/vi/KfvFJSdOm9w/mqdefault.jpg",
            "width": 320
           },
           "standard": {
            "height": 480,
            "url": "https://i.ytimg.com/vi/KfvFJSdOm9w/sddefault.jpg",
            "width": 640
           }
          },
          "title": "Young IT Pros Q&A | Tips that will drastically increase your chances of getting hired."
         },
         "statistics": {
          "commentCount": "49",
          "favoriteCount": "0",
          "likeCount": "534",
          "viewCount": "10043"
         }
        },
        {
         "contentDetails": {
          "caption": "false",
          "contentRating": {},
          "definition": "hd",
          "dimension": "2d",
          "duration": "PT7M43S",
          "licensedContent": true,
          "projection": "rectangular"
         },
         "etag": "3385s6he2nk-kD74pfePga3YjRQ",
         "id": "mQ5QQOp7Ydo",
         "kind": "youtube#video",
         "snippet": {
          "categoryId": "28",
          "channelId": "UCN0u98NPeC0AW3pD6MbVeNg",
          "channelTitle": "PushToProd",
          "description": "Strange times have caused for a never before seen impact on many organizations. Remote work is not just recommended but sometimes enforced. Luckily it happened in a time were technological infrastructure is capable of handling the load.\n\nIn this video I wanted to go into more detail about the day in the life of DevOps. I may have used some terms you don't understand but please reach out to me if you have any questions as understanding the verbiage and the work is key to securing a great position in the field. \n\nAlso, if I did not cover something that you want more details on, please leave a comment so that I may address it or even make another video to cover it. \n\nIf you are in DevOps currently leave a comment with some of the technologies you use. Its always great to rub minds with other professionals. \n\nLike | Comment | Subscribe | Share",
          "liveBroadcastContent": "none",
          "localized": {
           "description": "Strange times have caused for a never before seen impact on many organizations. Remote work is not just recommended but sometimes enforced. Luckily it happened in a time were technological infrastructure is capable of handling the load.\n\nIn this video I wanted to go into more detail about the day in the life of DevOps. I may have used some terms you don't understand but please reach out to me if you have any questions as understanding the verbiage and the work is key to securing a great position in the field. \n\nAlso, if I did not cover something that you want more details on, please leave a comment so that I may address it or even make another video to cover it. \n\nIf you are in DevOps currently leave a comment with some of the technologies you use. Its always great to rub minds with other professionals. \n\nLike | Comment | Subscribe | Share",
           "title": "Day in the Life of a DevOps Engineer | REMOTE"
          },
          "publishedAt": "2020-04-01T00:21:56Z",
          "tags": [
           "devops",
           "azure",
           "aws",
           "cloud",
           "ansible",
           "docker",
           "kubernetes",
           "engineer",
           "it",
           "information systems",
           "information technology",
           "security",
           "chef",
           "powershell",
           "scripting",
           "coding",
           "devops engineer",
           "azure devops",
           "ditl",
           "day in the life",
           "day in the life of a devops engineer",
           "day in the life of a cloud engineer",
           "cloud engineer",
           "github",
           "repo",
           "pipelines",
           "sdlc",
           "ci/cd",
           "Computer Science",
           "software engineer",
           "day in the life of a developer",
           "software developer",
           "code",
           "noc",
           "network engineer",
           "network analyst",
           "developer",
           "google cloud"
          ],
          "thumbnails": {
           "default": {
            "height": 90,
            "url": "https://i.ytimg.com/vi/mQ5QQOp7Ydo/default.jpg",
            "width": 120
           },
           "high": {
            "height": 360,
            "url": "https://i.ytimg.com/vi/mQ5QQOp7Ydo/hqdefault.jpg",
            "width": 480
           },
           "maxres": {
            "height": 720,
            "url": "https://i.ytimg.com/vi/mQ5QQOp7Ydo/maxresdefault.jpg",
            "width": 1280
           },
           "medium": {
            "height": 180,
            "url": "https://i.ytimg.com/vi/mQ5QQOp7Ydo/mqdefault.jpg",
            "width": 320
           },
           "standard": {
            "height": 480,
            "url": "https://i.ytimg.com/vi/mQ5QQOp7Ydo/sddefault.jpg",
            "width": 640
           }
          },
          "title": "Day in the Life of a DevOps Engineer | REMOTE"
         },
         "statistics": {
          "commentCount": "55",
          "favoriteCount": "0",
          "likeCount": "620",
          "viewCount": "22383"
         }
        },
        {
         "contentDetails": {
          "caption": "false",
          "contentRating": {},
          "definition": "hd",
          "dimension": "2d",
          "duration": "PT8M36S",
          "licensedContent": true,
          "projection": "rectangular"
         },
         "etag": "GUKCdAt4mY_iIi06Zsk0c_egjM8",
         "id": "qpZbRUEE_Dc",
         "kind": "youtube#video",
         "snippet": {
          "categoryId": "28",
          "channelId": "UCN0u98NPeC0AW3pD6MbVeNg",
          "channelTitle": "PushToProd",
          "description": "Hey guys I am currently a network analyst with hopes of soon moving into Cyber Security.\n\nIn this video I will be taking you guys through my day as a network analyst working out of a NOC (Network Operation Center). \n\nIts really hard to film in these types of environments so please ask me any questions you may have in the comments below.",
          "liveBroadcastContent": "none",
          "localized": {
           "description": "Hey guys I am currently a network analyst with hopes of soon moving into Cyber Security.\n\nIn this video I will be taking you guys through my day as a network analyst working out of a NOC (Network Operation Center). \n\nIts really hard to film in these types of environments so please ask me any questions you may have in the comments below.",
           "title": "Day In The Life of a Network Analyst | NOC"
          },
          "publishedAt": "2020-03-19T14:55:10Z",
          "tags": [
           "Software",
           "Networking",
           "NOC",
           "network analyst",
           "Cisco",
           "Meraki",
           "development",
           "Software engineer",
           "Network engineer",
           "IT",
           "Information Technology",
           "Day in the live of a network analyst",
           "software engineer",
           "College student",
           "working in IT",
           "Salary",
           "Technology",
           "SOC",
           "Day in life",
           "day in the life",
           "Work from home",
           "Palo Alto",
           "Network specialist",
           "IT support",
           "IT engineer",
           "engineer",
           "computer science",
           "computer engineer",
           "cyber security",
           "security",
           "network +"
          ],
          "thumbnails": {
           "default": {
            "height": 90,
            "url": "https://i.ytimg.com/vi/qpZbRUEE_Dc/default.jpg",
            "width": 120
           },
           "high": {
            "height": 360,
            "url": "https://i.ytimg.com/vi/qpZbRUEE_Dc/hqdefault.jpg",
            "width": 480
           },
           "maxres": {
            "height": 720,
            "url": "https://i.ytimg.com/vi/qpZbRUEE_Dc/maxresdefault.jpg",
            "width": 1280
           },
           "medium": {
            "height": 180,
            "url": "https://i.ytimg.com/vi/qpZbRUEE_Dc/mqdefault.jpg",
            "width": 320
           },
           "standard": {
            "height": 480,
            "url": "https://i.ytimg.com/vi/qpZbRUEE_Dc/sddefault.jpg",
            "width": 640
           }
          },
          "title": "Day In The Life of a Network Analyst | NOC"
         },
         "statistics": {
          "commentCount": "329",
          "favoriteCount": "0",
          "likeCount": "4037",
          "viewCount": "186082"
         }
        },
        {
         "contentDetails": {
          "caption": "false",
          "contentRating": {},
          "definition": "hd",
          "dimension": "2d",
          "duration": "PT21M4S",
          "licensedContent": true,
          "projection": "rectangular"
         },
         "etag": "4WhszMkeem7OlRlwR0b_ToJyUyo",
         "id": "USj5raqXCRg",
         "kind": "youtube#video",
         "snippet": {
          "categoryId": "2",
          "channelId": "UCN0u98NPeC0AW3pD6MbVeNg",
          "channelTitle": "PushToProd",
          "defaultAudioLanguage": "en-US",
          "description": "Just a video of me rambling on about my experience getting a Tesla. I hope this can help anyone thinking about getting a Model 3. Feel free to message me if you have any questions regarding the experience. \n\nMy Model 3 option set:\nLong range, White Paint (Free), Aero Wheels (Free), Premium White interior, and Full Self Driving",
          "liveBroadcastContent": "none",
          "localized": {
           "description": "Just a video of me rambling on about my experience getting a Tesla. I hope this can help anyone thinking about getting a Model 3. Feel free to message me if you have any questions regarding the experience. \n\nMy Model 3 option set:\nLong range, White Paint (Free), Aero Wheels (Free), Premium White interior, and Full Self Driving",
           "title": "Getting a Tesla Model 3 in my early 20s"
          },
          "publishedAt": "2019-12-05T02:54:07Z",
          "tags": [
           "Tesla",
           "Tesla Model 3",
           "Model 3",
           "New Car",
           "My Car",
           "Car tour",
           "self driving",
           "auto pilot",
           "car review",
           "Tesla review",
           "ppf",
           "paint protections film",
           "new tesla",
           "tesla update",
           "elon musk",
           "tech",
           "software developer",
           "engineer",
           "coding",
           "AI",
           "machine learning",
           "camera",
           "dash cam",
           "service center",
           "EV",
           "electric",
           "netflix",
           "day in life",
           "paper",
           "fast",
           "fuel efficient",
           "tesla modes s",
           "model x",
           "tesla game"
          ],
          "thumbnails": {
           "default": {
            "height": 90,
            "url": "https://i.ytimg.com/vi/USj5raqXCRg/default.jpg",
            "width": 120
           },
           "high": {
            "height": 360,
            "url": "https://i.ytimg.com/vi/USj5raqXCRg/hqdefault.jpg",
            "width": 480
           },
           "maxres": {
            "height": 720,
            "url": "https://i.ytimg.com/vi/USj5raqXCRg/maxresdefault.jpg",
            "width": 1280
           },
           "medium": {
            "height": 180,
            "url": "https://i.ytimg.com/vi/USj5raqXCRg/mqdefault.jpg",
            "width": 320
           },
           "standard": {
            "height": 480,
            "url": "https://i.ytimg.com/vi/USj5raqXCRg/sddefault.jpg",
            "width": 640
           }
          },
          "title": "Getting a Tesla Model 3 in my early 20s"
         },
         "statistics": {
          "commentCount": "30",
          "favoriteCount": "0",
          "likeCount": "109",
          "viewCount": "4023"
         }
        },
        {
         "contentDetails": {
          "caption": "false",
          "contentRating": {},
          "definition": "hd",
          "dimension": "2d",
          "duration": "PT10M55S",
          "licensedContent": true,
          "projection": "rectangular"
         },
         "etag": "paum4yItZgi72ORvA4Ddf3EZIm0",
         "id": "HNmzJQFtJjM",
         "kind": "youtube#video",
         "snippet": {
          "categoryId": "27",
          "channelId": "UCN0u98NPeC0AW3pD6MbVeNg",
          "channelTitle": "PushToProd",
          "description": "Professional from all spaces in IT voice some opinions and recommendations targeting anyone interested in starting a career in IT.\n\nI did have to drastically shorten the video to make it more consumable but please leave questions if you have any.\n\nAlso another huge thanks to all the professionals in the video. They were asked last minute but still came through for me. Its not easy jumping in front of a camera with little notice. \n\nI do also want to note, there are decently a lot of woman in IT but I was unable to get any to be in the video so last minute. I had a few who were willing but our schedules did not match. \n\nMusic: Better by Cartier K",
          "liveBroadcastContent": "none",
          "localized": {
           "description": "Professional from all spaces in IT voice some opinions and recommendations targeting anyone interested in starting a career in IT.\n\nI did have to drastically shorten the video to make it more consumable but please leave questions if you have any.\n\nAlso another huge thanks to all the professionals in the video. They were asked last minute but still came through for me. Its not easy jumping in front of a camera with little notice. \n\nI do also want to note, there are decently a lot of woman in IT but I was unable to get any to be in the video so last minute. I had a few who were willing but our schedules did not match. \n\nMusic: Better by Cartier K",
           "title": "Advise from actual IT Professionals (Developers, Security, Systems, Data, and more)"
          },
          "publishedAt": "2019-11-08T01:46:55Z",
          "tags": [
           "IT",
           "software engineer",
           "software developer",
           "Cyber security",
           "security",
           "Network analyst",
           "DBA",
           "Database",
           "System engineer",
           "Azure",
           "Cloud",
           "AWS",
           "Information Technology",
           "Devops",
           "advice",
           "how to",
           "tips",
           "jobs",
           "job",
           "NOC",
           "Infrastucture",
           "Day in life",
           "code"
          ],
          "thumbnails": {
           "default": {
            "height": 90,
            "url": "https://i.ytimg.com/vi/HNmzJQFtJjM/default.jpg",
            "width": 120
           },
           "high": {
            "height": 360,
            "url": "https://i.ytimg.com/vi/HNmzJQFtJjM/hqdefault.jpg",
            "width": 480
           },
           "maxres": {
            "height": 720,
            "url": "https://i.ytimg.com/vi/HNmzJQFtJjM/maxresdefault.jpg",
            "width": 1280
           },
           "medium": {
            "height": 180,
            "url": "https://i.ytimg.com/vi/HNmzJQFtJjM/mqdefault.jpg",
            "width": 320
           },
           "standard": {
            "height": 480,
            "url": "https://i.ytimg.com/vi/HNmzJQFtJjM/sddefault.jpg",
            "width": 640
           }
          },
          "title": "Advise from actual IT Professionals (Developers, Security, Systems, Data, and more)"
         },
         "statistics": {
          "commentCount": "41",
          "favoriteCount": "0",
          "likeCount": "542",
          "viewCount": "10380"
         }
        },
        {
         "contentDetails": {
          "caption": "false",
          "contentRating": {},
          "definition": "hd",
          "dimension": "2d",
          "duration": "PT13M4S",
          "licensedContent": true,
          "projection": "rectangular"
         },
         "etag": "S7eyKMgLNcyWX647VNfLQqGT3oY",
         "id": "OfAcLjgQUcQ",
         "kind": "youtube#video",
         "snippet": {
          "categoryId": "22",
          "channelId": "UCN0u98NPeC0AW3pD6MbVeNg",
          "channelTitle": "PushToProd",
          "defaultAudioLanguage": "en",
          "description": "Hey welcome to PushToProd. This is our first actual video. Just a quick peek at a sort of normal work day in my shoes. \n\nMost of the footage was shot on an Iphone 10 while the other bit was shot on a Cannon 6D (No auto focus sorry). \n\nIf there was something you wanted covered in the video leave a comment below and I will try to include it in a future video.\n\nIf you enjoy don’t forget to like, subscribe and share. \n\nThanks and I hope you all enjoy.",
          "liveBroadcastContent": "none",
          "localized": {
           "description": "Hey welcome to PushToProd. This is our first actual video. Just a quick peek at a sort of normal work day in my shoes. \n\nMost of the footage was shot on an Iphone 10 while the other bit was shot on a Cannon 6D (No auto focus sorry). \n\nIf there was something you wanted covered in the video leave a comment below and I will try to include it in a future video.\n\nIf you enjoy don’t forget to like, subscribe and share. \n\nThanks and I hope you all enjoy.",
           "title": "Day In the Life of an IT System Admin (Security)"
          },
          "publishedAt": "2019-08-03T05:07:07Z",
          "tags": [
           "Software",
           "Networking",
           "NOC",
           "network analyst",
           "Cisco",
           "development",
           "Software engineer",
           "Network engineer",
           "IT",
           "Information Technology",
           "Day in the live of a network analyst",
           "software engineer",
           "College student",
           "working in IT",
           "Salary",
           "Technology",
           "SOC",
           "Day in life",
           "day in the life",
           "Work from home",
           "Network specialist",
           "IT support",
           "IT engineer",
           "engineer",
           "computer science",
           "cyber security",
           "security",
           "network +",
           "Security",
           "Coding",
           "Devops",
           "Day in the life of a software developer",
           "Web developer",
           "C#",
           "Python",
           "Java"
          ],
          "thumbnails": {
           "default": {
            "height": 90,
            "url": "https://i.ytimg.com/vi/OfAcLjgQUcQ/default.jpg",
            "width": 120
           },
           "high": {
            "height": 360,
            "url": "https://i.ytimg.com/vi/OfAcLjgQUcQ/hqdefault.jpg",
            "width": 480
           },
           "maxres": {
            "height": 720,
            "url": "https://i.ytimg.com/vi/OfAcLjgQUcQ/maxresdefault.jpg",
            "width": 1280
           },
           "medium": {
            "height": 180,
            "url": "https://i.ytimg.com/vi/OfAcLjgQUcQ/mqdefault.jpg",
            "width": 320
           },
           "standard": {
            "height": 480,
            "url": "https://i.ytimg.com/vi/OfAcLjgQUcQ/sddefault.jpg",
            "width": 640
           }
          },
          "title": "Day In the Life of an IT System Admin (Security)"
         },
         "statistics": {
          "commentCount": "230",
          "favoriteCount": "0",
          "likeCount": "1939",
          "viewCount": "84850"
         }
        },
        {
         "contentDetails": {
          "caption": "false",
          "contentRating": {},
          "definition": "hd",
          "dimension": "2d",
          "duration": "PT9M57S",
          "licensedContent": false,
          "projection": "rectangular"
         },
         "etag": "1mjFDSleswTmmsQ8Y4Vzr9rT_DM",
         "id": "S7g1Cj4iIIo",
         "kind": "youtube#video",
         "snippet": {
          "categoryId": "24",
          "channelId": "UC3kFmMxz3IdLdz4TxA9a4DQ",
          "channelTitle": "CompTIA",
          "defaultAudioLanguage": "en",
          "description": "Are you thinking of changing careers to tech but can’t decide which career path to choose? IT Support Specialist provides you with the IT fundamentals to build your tech career. All you need to succeed are good communication skills and problem-solving skills to get started. Hear from our IT support specialist Daniel Avila, who made a successful transition from a career in the military to technical support. He shares ways you can transition to a technical support role based on your skills, experience, and education - just like he did. \r\n\r\nLearn more about changing careers to tech here: https://s.comptia.org/3BFHEwn  \r\n\r\nWant to explore IT? Enter to win $473 in free training: https://s.comptia.org/3BNAjuJ \r\n\r\nRead how IT Pro Daniel Avila hustled his way to get ahead: https://s.comptia.org/3MFUBf5\r\n\r\nHear Daniel's entire story: https://s.comptia.org/3MFwuOG\r\n\r\nReady to dive into IT? Get started with CompTIA: https://s.comptia.org/3pLBb0f",
          "liveBroadcastContent": "none",
          "localized": {
           "description": "Are you thinking of changing careers to tech but can’t decide which career path to choose? IT Support Specialist provides you with the IT fundamentals to build your tech career. All you need to succeed are good communication skills and problem-solving skills to get started. Hear from our IT support specialist Daniel Avila, who made a successful transition from a career in the military to technical support. He shares ways you can transition to a technical support role based on your skills, experience, and education - just like he did. \r\n\r\nLearn more about changing careers to tech here: https://s.comptia.org/3BFHEwn  \r\n\r\nWant to explore IT? Enter to win $473 in free training: https://s.comptia.org/3BNAjuJ \r\n\r\nRead how IT Pro Daniel Avila hustled his way to get ahead: https://s.comptia.org/3MFUBf5\r\n\r\nHear Daniel's entire story: https://s.comptia.org/3MFwuOG\r\n\r\nReady to dive into IT? Get started with CompTIA: https://s.comptia.org/3pLBb0f",
           "title": "How to change careers to tech? | IT Support"
          },
          "publishedAt": "2023-05-21T16:12:41Z",
          "tags": [
           "it support",
           "troubleshooting",
           "technical support",
           "certifications",
           "help desk",
           "support specialist",
           "bachelor’s degree",
           "operating systems",
           "communication skills",
           "computer science",
           "technical skills",
           "problem-solving skills",
           "work experience",
           "computer systems",
           "computer networks",
           "career path",
           "technical issues"
          ],
          "thumbnails": {
           "default": {
            "height": 90,
            "url": "https://i.ytimg.com/vi/S7g1Cj4iIIo/default.jpg",
            "width": 120
           },
           "high": {
            "height": 360,
            "url": "https://i.ytimg.com/vi/S7g1Cj4iIIo/hqdefault.jpg",
            "width": 480
           },
           "maxres": {
            "height": 720,
            "url": "https://i.ytimg.com/vi/S7g1Cj4iIIo/maxresdefault.jpg",
            "width": 1280
           },
           "medium": {
            "height": 180,
            "url": "https://i.ytimg.com/vi/S7g1Cj4iIIo/mqdefault.jpg",
            "width": 320
           },
           "standard": {
            "height": 480,
            "url": "https://i.ytimg.com/vi/S7g1Cj4iIIo/sddefault.jpg",
            "width": 640
           }
          },
          "title": "How to change careers to tech? | IT Support"
         },
         "statistics": {
          "commentCount": "10",
          "favoriteCount": "0",
          "likeCount": "99",
          "viewCount": "2447"
         }
        },
        {
         "contentDetails": {
          "caption": "false",
          "contentRating": {},
          "definition": "hd",
          "dimension": "2d",
          "duration": "PT8S",
          "licensedContent": false,
          "projection": "rectangular"
         },
         "etag": "0sDXOFQVlMgbUYtbrAPMeR3Vclg",
         "id": "5oh7Dl1PzRo",
         "kind": "youtube#video",
         "snippet": {
          "categoryId": "24",
          "channelId": "UC3kFmMxz3IdLdz4TxA9a4DQ",
          "channelTitle": "CompTIA",
          "defaultAudioLanguage": "en",
          "description": "",
          "liveBroadcastContent": "none",
          "localized": {
           "description": "",
           "title": "ITS SO TEMPTING!!"
          },
          "publishedAt": "2023-05-01T00:00:03Z",
          "thumbnails": {
           "default": {
            "height": 90,
            "url": "https://i.ytimg.com/vi/5oh7Dl1PzRo/default.jpg",
            "width": 120
           },
           "high": {
            "height": 360,
            "url": "https://i.ytimg.com/vi/5oh7Dl1PzRo/hqdefault.jpg",
            "width": 480
           },
           "maxres": {
            "height": 720,
            "url": "https://i.ytimg.com/vi/5oh7Dl1PzRo/maxresdefault.jpg",
            "width": 1280
           },
           "medium": {
            "height": 180,
            "url": "https://i.ytimg.com/vi/5oh7Dl1PzRo/mqdefault.jpg",
            "width": 320
           },
           "standard": {
            "height": 480,
            "url": "https://i.ytimg.com/vi/5oh7Dl1PzRo/sddefault.jpg",
            "width": 640
           }
          },
          "title": "ITS SO TEMPTING!!"
         },
         "statistics": {
          "commentCount": "1",
          "favoriteCount": "0",
          "likeCount": "34",
          "viewCount": "1878"
         }
        },
        {
         "contentDetails": {
          "caption": "false",
          "contentRating": {},
          "definition": "hd",
          "dimension": "2d",
          "duration": "PT5S",
          "licensedContent": false,
          "projection": "rectangular"
         },
         "etag": "2iMRUkNDISsPtHFQIDHmBxS3TnY",
         "id": "nn1Lr_HQh7g",
         "kind": "youtube#video",
         "snippet": {
          "categoryId": "24",
          "channelId": "UC3kFmMxz3IdLdz4TxA9a4DQ",
          "channelTitle": "CompTIA",
          "defaultAudioLanguage": "en",
          "description": "",
          "liveBroadcastContent": "none",
          "localized": {
           "description": "",
           "title": "You NEVER have to go back to college!!"
          },
          "publishedAt": "2023-04-28T22:28:01Z",
          "thumbnails": {
           "default": {
            "height": 90,
            "url": "https://i.ytimg.com/vi/nn1Lr_HQh7g/default.jpg",
            "width": 120
           },
           "high": {
            "height": 360,
            "url": "https://i.ytimg.com/vi/nn1Lr_HQh7g/hqdefault.jpg",
            "width": 480
           },
           "maxres": {
            "height": 720,
            "url": "https://i.ytimg.com/vi/nn1Lr_HQh7g/maxresdefault.jpg",
            "width": 1280
           },
           "medium": {
            "height": 180,
            "url": "https://i.ytimg.com/vi/nn1Lr_HQh7g/mqdefault.jpg",
            "width": 320
           },
           "standard": {
            "height": 480,
            "url": "https://i.ytimg.com/vi/nn1Lr_HQh7g/sddefault.jpg",
            "width": 640
           }
          },
          "title": "You NEVER have to go back to college!!"
         },
         "statistics": {
          "commentCount": "1",
          "favoriteCount": "0",
          "likeCount": "37",
          "viewCount": "2477"
         }
        },
        {
         "contentDetails": {
          "caption": "false",
          "contentRating": {},
          "definition": "hd",
          "dimension": "2d",
          "duration": "PT2S",
          "licensedContent": false,
          "projection": "rectangular"
         },
         "etag": "5GqY1mw8W7DoJiOV6XcJKx6V0wY",
         "id": "TXJADoUC-AQ",
         "kind": "youtube#video",
         "snippet": {
          "categoryId": "24",
          "channelId": "UC3kFmMxz3IdLdz4TxA9a4DQ",
          "channelTitle": "CompTIA",
          "defaultAudioLanguage": "en",
          "description": "",
          "liveBroadcastContent": "none",
          "localized": {
           "description": "",
           "title": "Don’t need a degree to get to where you wanna be!"
          },
          "publishedAt": "2023-04-26T21:05:08Z",
          "thumbnails": {
           "default": {
            "height": 90,
            "url": "https://i.ytimg.com/vi/TXJADoUC-AQ/default.jpg",
            "width": 120
           },
           "high": {
            "height": 360,
            "url": "https://i.ytimg.com/vi/TXJADoUC-AQ/hqdefault.jpg",
            "width": 480
           },
           "maxres": {
            "height": 720,
            "url": "https://i.ytimg.com/vi/TXJADoUC-AQ/maxresdefault.jpg",
            "width": 1280
           },
           "medium": {
            "height": 180,
            "url": "https://i.ytimg.com/vi/TXJADoUC-AQ/mqdefault.jpg",
            "width": 320
           },
           "standard": {
            "height": 480,
            "url": "https://i.ytimg.com/vi/TXJADoUC-AQ/sddefault.jpg",
            "width": 640
           }
          },
          "title": "Don’t need a degree to get to where you wanna be!"
         },
         "statistics": {
          "commentCount": "0",
          "favoriteCount": "0",
          "likeCount": "14",
          "viewCount": "340"
         }
        },
        {
         "contentDetails": {
          "caption": "false",
          "contentRating": {},
          "definition": "hd",
          "dimension": "2d",
          "duration": "PT8S",
          "licensedContent": false,
          "projection": "rectangular"
         },
         "etag": "VfebnIEFITobDJJy332U4gbpPhQ",
         "id": "J65eRadla9E",
         "kind": "youtube#video",
         "snippet": {
          "categoryId": "24",
          "channelId": "UC3kFmMxz3IdLdz4TxA9a4DQ",
          "channelTitle": "CompTIA",
          "defaultAudioLanguage": "en",
          "description": "",
          "liveBroadcastContent": "none",
          "localized": {
           "description": "",
           "title": "We could help you learn how to fix those errors 🤷‍♂️🤷‍♀️"
          },
          "publishedAt": "2023-04-24T20:33:58Z",
          "thumbnails": {
           "default": {
            "height": 90,
            "url": "https://i.ytimg.com/vi/J65eRadla9E/default.jpg",
            "width": 120
           },
           "high": {
            "height": 360,
            "url": "https://i.ytimg.com/vi/J65eRadla9E/hqdefault.jpg",
            "width": 480
           },
           "maxres": {
            "height": 720,
            "url": "https://i.ytimg.com/vi/J65eRadla9E/maxresdefault.jpg",
            "width": 1280
           },
           "medium": {
            "height": 180,
            "url": "https://i.ytimg.com/vi/J65eRadla9E/mqdefault.jpg",
            "width": 320
           },
           "standard": {
            "height": 480,
            "url": "https://i.ytimg.com/vi/J65eRadla9E/sddefault.jpg",
            "width": 640
           }
          },
          "title": "We could help you learn how to fix those errors 🤷‍♂️🤷‍♀️"
         },
         "statistics": {
          "commentCount": "4",
          "favoriteCount": "0",
          "likeCount": "43",
          "viewCount": "2002"
         }
        },
        {
         "contentDetails": {
          "caption": "false",
          "contentRating": {},
          "definition": "hd",
          "dimension": "2d",
          "duration": "PT9S",
          "licensedContent": false,
          "projection": "rectangular"
         },
         "etag": "2I072IpxqEdxTCA1ChubgStv6e0",
         "id": "YBv51232qGo",
         "kind": "youtube#video",
         "snippet": {
          "categoryId": "24",
          "channelId": "UC3kFmMxz3IdLdz4TxA9a4DQ",
          "channelTitle": "CompTIA",
          "defaultAudioLanguage": "en",
          "description": "",
          "liveBroadcastContent": "none",
          "localized": {
           "description": "",
           "title": "The BEST feeling!!"
          },
          "publishedAt": "2023-04-23T20:48:46Z",
          "thumbnails": {
           "default": {
            "height": 90,
            "url": "https://i.ytimg.com/vi/YBv51232qGo/default.jpg",
            "width": 120
           },
           "high": {
            "height": 360,
            "url": "https://i.ytimg.com/vi/YBv51232qGo/hqdefault.jpg",
            "width": 480
           },
           "maxres": {
            "height": 720,
            "url": "https://i.ytimg.com/vi/YBv51232qGo/maxresdefault.jpg",
            "width": 1280
           },
           "medium": {
            "height": 180,
            "url": "https://i.ytimg.com/vi/YBv51232qGo/mqdefault.jpg",
            "width": 320
           },
           "standard": {
            "height": 480,
            "url": "https://i.ytimg.com/vi/YBv51232qGo/sddefault.jpg",
            "width": 640
           }
          },
          "title": "The BEST feeling!!"
         },
         "statistics": {
          "commentCount": "1",
          "favoriteCount": "0",
          "likeCount": "94",
          "viewCount": "2071"
         }
        },
        {
         "contentDetails": {
          "caption": "false",
          "contentRating": {},
          "definition": "hd",
          "dimension": "2d",
          "duration": "PT6S",
          "licensedContent": false,
          "projection": "rectangular"
         },
         "etag": "Xde8XhUHReSH3vRnk0aU2JHKvNc",
         "id": "94dhqP69qKk",
         "kind": "youtube#video",
         "snippet": {
          "categoryId": "24",
          "channelId": "UC3kFmMxz3IdLdz4TxA9a4DQ",
          "channelTitle": "CompTIA",
          "defaultAudioLanguage": "en",
          "description": "",
          "liveBroadcastContent": "none",
          "localized": {
           "description": "",
           "title": "What does YOUR home setup look like? 👀"
          },
          "publishedAt": "2023-04-20T00:56:18Z",
          "thumbnails": {
           "default": {
            "height": 90,
            "url": "https://i.ytimg.com/vi/94dhqP69qKk/default.jpg",
            "width": 120
           },
           "high": {
            "height": 360,
            "url": "https://i.ytimg.com/vi/94dhqP69qKk/hqdefault.jpg",
            "width": 480
           },
           "maxres": {
            "height": 720,
            "url": "https://i.ytimg.com/vi/94dhqP69qKk/maxresdefault.jpg",
            "width": 1280
           },
           "medium": {
            "height": 180,
            "url": "https://i.ytimg.com/vi/94dhqP69qKk/mqdefault.jpg",
            "width": 320
           },
           "standard": {
            "height": 480,
            "url": "https://i.ytimg.com/vi/94dhqP69qKk/sddefault.jpg",
            "width": 640
           }
          },
          "title": "What does YOUR home setup look like? 👀"
         },
         "statistics": {
          "commentCount": "1",
          "favoriteCount": "0",
          "likeCount": "34",
          "viewCount": "1769"
         }
        }
       ],
       "kind": "youtube#videoListResponse",
       "pageInfo": {
        "resultsPerPage": 50,
        "totalResults": 50
       }
      },
      "text/plain": [
       "<IPython.core.display.JSON object>"
      ]
     },
     "execution_count": 237,
     "metadata": {
      "application/json": {
       "expanded": false,
       "root": "root"
      }
     },
     "output_type": "execute_result"
    }
   ],
   "source": [
    "#video statistics request\n",
    "\n",
    "# request = youtube.videos().list(\n",
    "#     part=\"snippet,contentDetails,statistics\",\n",
    "#     id=','.join(video_ids[0:len(video_ids)-619])\n",
    "# )\n",
    "\n",
    "\n",
    "for i in range(0, 15, 50):\n",
    "    \n",
    "    #to avoid list index out of bounds error (dataset not divisible by 50)\n",
    "    increment = i+50 if (i+50 < len(video_ids)-1) else len(video_ids)-1\n",
    "    \n",
    "    request = youtube.videos().list(\n",
    "    part=\"snippet,contentDetails,statistics\",\n",
    "    id=','.join(video_ids[i, increment]),\n",
    "    maxResults=50,\n",
    "    )\n",
    "    \n",
    "    response = request.execute()\n",
    "\n",
    "\n",
    "    final_df = concatenate_df(response[\"items\"], final_df)\n",
    "\n",
    "    "
   ]
  },
  {
   "cell_type": "code",
   "execution_count": 248,
   "id": "cfe0430e-533f-4b63-a05a-efc5672d55b2",
   "metadata": {
    "tags": []
   },
   "outputs": [],
   "source": [
    "def concatenate_df(response_json, output_df):\n",
    "    for video in response_json:\n",
    "\n",
    "\n",
    "        row_to_add = {\"Video ID\":video[\"id\"], \"Channel Title\": video[\"snippet\"][\"channelTitle\"], \"Tags\": video[\"snippet\"][\"tags\"],\\\n",
    "                      \"Tag Count\": len(video[\"snippet\"][\"tags\"]), \"Published At\": video[\"snippet\"][\"publishedAt\"], \"Channel ID\": video[\"snippet\"][\"channelId\"], \\\n",
    "                      \"Title\": video[\"snippet\"][\"title\"],\"Category ID\": video[\"snippet\"][\"categoryId\"], \"Description Length (words)\": len(video[\"snippet\"][\"description\"].split(\" \")), \\\n",
    "                      \"Description Length (characters)\": len(video[\"snippet\"][\"description\"]), \"Duration\": video[\"contentDetails\"][\"duration\"], \"Dimension\": video[\"contentDetails\"][\"dimension\"], \\\n",
    "                     \"Definition\": video[\"contentDetails\"][\"definition\"], \"Caption\": video[\"contentDetails\"][\"caption\"], \"Licensed Content (T/F)\": video[\"contentDetails\"][\"licensedContent\"], \\\n",
    "                     \"Projection\": video[\"contentDetails\"][\"projection\"], \"View Count\": video[\"statistics\"][\"viewCount\"], \"Like Count\": video[\"statistics\"][\"likeCount\"], \\\n",
    "                     \"Favorite Count\": video[\"statistics\"][\"favoriteCount\"], \"Comment Count\": video[\"statistics\"][\"commentCount\"]}\n",
    "\n",
    "        output_df = pd.concat( [ output_df, pd.DataFrame.from_records([row_to_add]) ], ignore_index=True )\n",
    "    return output_df"
   ]
  },
  {
   "cell_type": "code",
   "execution_count": 220,
   "id": "ef63d02e-6733-4e73-b5e9-0b37657fd22f",
   "metadata": {
    "tags": []
   },
   "outputs": [
    {
     "data": {
      "text/html": [
       "<div>\n",
       "<style scoped>\n",
       "    .dataframe tbody tr th:only-of-type {\n",
       "        vertical-align: middle;\n",
       "    }\n",
       "\n",
       "    .dataframe tbody tr th {\n",
       "        vertical-align: top;\n",
       "    }\n",
       "\n",
       "    .dataframe thead th {\n",
       "        text-align: right;\n",
       "    }\n",
       "</style>\n",
       "<table border=\"1\" class=\"dataframe\">\n",
       "  <thead>\n",
       "    <tr style=\"text-align: right;\">\n",
       "      <th></th>\n",
       "      <th>Video ID</th>\n",
       "      <th>Channel Title</th>\n",
       "      <th>Tags</th>\n",
       "      <th>Tag Count</th>\n",
       "      <th>Published At</th>\n",
       "      <th>Channel ID</th>\n",
       "      <th>Title</th>\n",
       "      <th>Category ID</th>\n",
       "      <th>Description Length (words)</th>\n",
       "      <th>Description Length (characters)</th>\n",
       "      <th>Duration</th>\n",
       "      <th>Dimension</th>\n",
       "      <th>Definition</th>\n",
       "      <th>Caption</th>\n",
       "      <th>Licensed Content (T/F)</th>\n",
       "      <th>Projection</th>\n",
       "      <th>View Count</th>\n",
       "      <th>Like Count</th>\n",
       "      <th>Favorite Count</th>\n",
       "      <th>Comment Count</th>\n",
       "    </tr>\n",
       "  </thead>\n",
       "  <tbody>\n",
       "    <tr>\n",
       "      <th>0</th>\n",
       "      <td>OfAcLjgQUcQ</td>\n",
       "      <td>PushToProd</td>\n",
       "      <td>[Software, Networking, NOC, network analyst, C...</td>\n",
       "      <td>36</td>\n",
       "      <td>2019-08-03T05:07:07Z</td>\n",
       "      <td>UCN0u98NPeC0AW3pD6MbVeNg</td>\n",
       "      <td>Day In the Life of an IT System Admin (Security)</td>\n",
       "      <td>22</td>\n",
       "      <td>89</td>\n",
       "      <td>451</td>\n",
       "      <td>PT13M4S</td>\n",
       "      <td>2d</td>\n",
       "      <td>hd</td>\n",
       "      <td>false</td>\n",
       "      <td>True</td>\n",
       "      <td>rectangular</td>\n",
       "      <td>84849</td>\n",
       "      <td>1939</td>\n",
       "      <td>0</td>\n",
       "      <td>230</td>\n",
       "    </tr>\n",
       "  </tbody>\n",
       "</table>\n",
       "</div>"
      ],
      "text/plain": [
       "      Video ID Channel Title  \\\n",
       "0  OfAcLjgQUcQ    PushToProd   \n",
       "\n",
       "                                                Tags  Tag Count  \\\n",
       "0  [Software, Networking, NOC, network analyst, C...         36   \n",
       "\n",
       "           Published At                Channel ID  \\\n",
       "0  2019-08-03T05:07:07Z  UCN0u98NPeC0AW3pD6MbVeNg   \n",
       "\n",
       "                                              Title Category ID  \\\n",
       "0  Day In the Life of an IT System Admin (Security)          22   \n",
       "\n",
       "   Description Length (words)  Description Length (characters) Duration  \\\n",
       "0                          89                              451  PT13M4S   \n",
       "\n",
       "  Dimension Definition Caption  Licensed Content (T/F)   Projection  \\\n",
       "0        2d         hd   false                    True  rectangular   \n",
       "\n",
       "  View Count Like Count Favorite Count Comment Count  \n",
       "0      84849       1939              0           230  "
      ]
     },
     "execution_count": 220,
     "metadata": {},
     "output_type": "execute_result"
    }
   ],
   "source": [
    "final_df"
   ]
  },
  {
   "cell_type": "code",
   "execution_count": null,
   "id": "b91e916f-5321-4dc4-b22f-c255a24cf131",
   "metadata": {},
   "outputs": [],
   "source": []
  },
  {
   "cell_type": "code",
   "execution_count": null,
   "id": "229023ec-6221-4a22-adc5-c50c5b173291",
   "metadata": {},
   "outputs": [],
   "source": []
  },
  {
   "cell_type": "code",
   "execution_count": null,
   "id": "87422fbf-314a-4c4d-8a60-f7039db73999",
   "metadata": {},
   "outputs": [],
   "source": []
  },
  {
   "cell_type": "code",
   "execution_count": null,
   "id": "728af63b-eaca-4eed-b192-720dc77041e5",
   "metadata": {},
   "outputs": [],
   "source": []
  },
  {
   "cell_type": "code",
   "execution_count": null,
   "id": "e1fb87cc-5fab-470c-9e04-1f794d39cde1",
   "metadata": {},
   "outputs": [],
   "source": []
  },
  {
   "cell_type": "code",
   "execution_count": null,
   "id": "5a62844d-7933-434d-90d5-8898f95f80d0",
   "metadata": {},
   "outputs": [],
   "source": []
  },
  {
   "cell_type": "code",
   "execution_count": null,
   "id": "4c80a6b9-af09-48de-90b5-35ae7045cb79",
   "metadata": {},
   "outputs": [],
   "source": []
  },
  {
   "cell_type": "code",
   "execution_count": null,
   "id": "4f46b693-885c-4355-a5f3-e296c874cf2a",
   "metadata": {},
   "outputs": [],
   "source": []
  },
  {
   "cell_type": "code",
   "execution_count": 41,
   "id": "aee4a371-ee43-4562-a99e-df3077eb5a72",
   "metadata": {
    "tags": []
   },
   "outputs": [],
   "source": [
    "# # videos by keyword request\n",
    "# temp = []\n",
    "# # Get credentials and create an API client\n",
    "\n",
    "# request = youtube.search().list(\n",
    "#     part=\"snippet\",\n",
    "#     maxResults=50,\n",
    "#     q=\"tech bootcamp\"\n",
    "# )\n",
    "# response = request.execute()\n",
    "\n",
    "# #get first 50 video id's and create list\n",
    "# try:\n",
    "#     video_ids = [video[\"id\"][\"videoId\"] for video in response[\"items\"]]\n",
    "# except Exception as e:\n",
    "#     print(e)\n",
    "\n",
    "# #increment page token\n",
    "# next_page_token = response.get('nextPageToken')\n",
    "\n",
    "# # while there are still pages in the response to parse\n",
    "# while next_page_token is not None and len(video_ids) < 100:\n",
    "#     request = youtube.search().list(\n",
    "#     part=\"snippet\",\n",
    "#     maxResults=51,\n",
    "#     q=\"tech bootcamp\",\n",
    "#     pageToken = next_page_token # get results from the page after previous request\n",
    "# )\n",
    "    \n",
    "#     #make a temporary list of video ids on this page\n",
    "#     try:\n",
    "#         temp = [video[\"id\"][\"videoId\"] for video in response[\"items\"]]\n",
    "#     except Exception as e:\n",
    "#         print(e)\n",
    "    \n",
    "#     # add to video id list\n",
    "#     video_ids = video_ids + temp\n",
    "    \n",
    "#     #increment page token\n",
    "#     next_page_token = response.get('nextPageToken')\n",
    "\n",
    "# JSON(response)\n",
    "\n",
    "# video_ids"
   ]
  },
  {
   "cell_type": "code",
   "execution_count": 81,
   "id": "eeb4c107-bfd9-4b48-a6f1-60c2cfa0dcf4",
   "metadata": {
    "tags": []
   },
   "outputs": [],
   "source": [
    "# try:\n",
    "#     video_ids = [video[\"id\"][\"videoId\"] for video in response[\"items\"]]\n",
    "# except Exception as e:\n",
    "#     print(e)"
   ]
  },
  {
   "cell_type": "code",
   "execution_count": 43,
   "id": "808d5c87",
   "metadata": {},
   "outputs": [],
   "source": [
    "# #video statistics request\n",
    "\n",
    "# request = youtube.videos().list(\n",
    "#     part=\"snippet,contentDetails,statistics\",\n",
    "#     id=','.join(video_ids)\n",
    "# )\n",
    "# response = request.execute()\n",
    "\n",
    "# JSON(response)"
   ]
  },
  {
   "cell_type": "code",
   "execution_count": 44,
   "id": "dd93e752-b7ac-42c6-b973-ac5ddd42bff0",
   "metadata": {
    "tags": []
   },
   "outputs": [],
   "source": [
    "# likes = [video[\"statistics\"][\"likeCount\"] for video in response[\"items\"]]\n",
    "# likes"
   ]
  },
  {
   "cell_type": "code",
   "execution_count": 45,
   "id": "cc32a761-6f53-4a71-8760-03c3a697cbe9",
   "metadata": {},
   "outputs": [],
   "source": [
    "# #channel id by name\n",
    "# request = youtube.channels().list(\n",
    "#     part=\"snippet,contentDetails,statistics\",\n",
    "#     forUsername=\"@JeffSu\"\n",
    "# )\n",
    "# response = request.execute()\n",
    "\n",
    "# JSON(response)"
   ]
  },
  {
   "cell_type": "code",
   "execution_count": null,
   "id": "0c8fb254-9302-4192-b07f-ce1289732985",
   "metadata": {},
   "outputs": [],
   "source": [
    "# request = youtube.channels().list(\n",
    "#     part=\"snippet,contentDetails,statistics\",\n",
    "#     id=\"UC_x5XG1OV2P6uZZ5FSM9Ttw\"\n",
    "# )\n",
    "# response = request.execute()\n",
    "\n",
    "# print(response)"
   ]
  }
 ],
 "metadata": {
  "kernelspec": {
   "display_name": "Python 3 (ipykernel)",
   "language": "python",
   "name": "python3"
  },
  "language_info": {
   "codemirror_mode": {
    "name": "ipython",
    "version": 3
   },
   "file_extension": ".py",
   "mimetype": "text/x-python",
   "name": "python",
   "nbconvert_exporter": "python",
   "pygments_lexer": "ipython3",
   "version": "3.11.5"
  }
 },
 "nbformat": 4,
 "nbformat_minor": 5
}
