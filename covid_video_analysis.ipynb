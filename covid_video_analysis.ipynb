{
 "cells": [
  {
   "cell_type": "code",
   "execution_count": 128,
   "id": "7efb9d1e",
   "metadata": {},
   "outputs": [
    {
     "data": {
      "text/html": [
       "<div>\n",
       "<style scoped>\n",
       "    .dataframe tbody tr th:only-of-type {\n",
       "        vertical-align: middle;\n",
       "    }\n",
       "\n",
       "    .dataframe tbody tr th {\n",
       "        vertical-align: top;\n",
       "    }\n",
       "\n",
       "    .dataframe thead th {\n",
       "        text-align: right;\n",
       "    }\n",
       "</style>\n",
       "<table border=\"1\" class=\"dataframe\">\n",
       "  <thead>\n",
       "    <tr style=\"text-align: right;\">\n",
       "      <th></th>\n",
       "      <th>Channel Title</th>\n",
       "      <th>Published At</th>\n",
       "      <th>Video Title</th>\n",
       "      <th>Category Id</th>\n",
       "      <th>Description</th>\n",
       "      <th>Tags</th>\n",
       "      <th>Definition</th>\n",
       "      <th>Caption</th>\n",
       "      <th>LicensedContent</th>\n",
       "      <th>Projection</th>\n",
       "      <th>...</th>\n",
       "      <th>Tag Count</th>\n",
       "      <th>Description_Length (characters)</th>\n",
       "      <th>Description Length (words)</th>\n",
       "      <th>Duration (seconds)</th>\n",
       "      <th>Publish Date</th>\n",
       "      <th>Month</th>\n",
       "      <th>Year</th>\n",
       "      <th>Fully Vaccinated Rate</th>\n",
       "      <th>One Dose Rate</th>\n",
       "      <th>Up To Date Rate</th>\n",
       "    </tr>\n",
       "  </thead>\n",
       "  <tbody>\n",
       "    <tr>\n",
       "      <th>0</th>\n",
       "      <td>PushToProd</td>\n",
       "      <td>2023-09-14T21:00:02Z</td>\n",
       "      <td>day in the life | Jr. Cybersecurity Engineer N...</td>\n",
       "      <td>28</td>\n",
       "      <td>Here’s the part 2 to my day in the life/ vlog!...</td>\n",
       "      <td>['devops', 'azure', 'aws', 'cloud', 'docker', ...</td>\n",
       "      <td>hd</td>\n",
       "      <td>False</td>\n",
       "      <td>True</td>\n",
       "      <td>rectangular</td>\n",
       "      <td>...</td>\n",
       "      <td>39</td>\n",
       "      <td>162</td>\n",
       "      <td>20</td>\n",
       "      <td>442</td>\n",
       "      <td>9/14/2023</td>\n",
       "      <td>9</td>\n",
       "      <td>2023</td>\n",
       "      <td>0.7144</td>\n",
       "      <td>0.7952</td>\n",
       "      <td>0.1918</td>\n",
       "    </tr>\n",
       "    <tr>\n",
       "      <th>1</th>\n",
       "      <td>PushToProd</td>\n",
       "      <td>2023-09-04T22:27:11Z</td>\n",
       "      <td>day in the life | Jr. Cybersecurity Engineer N...</td>\n",
       "      <td>28</td>\n",
       "      <td>Hey Guys! \\n\\nHope you enjoy Part 1 of this da...</td>\n",
       "      <td>['devops', 'azure', 'aws', 'cloud', 'docker', ...</td>\n",
       "      <td>hd</td>\n",
       "      <td>False</td>\n",
       "      <td>True</td>\n",
       "      <td>rectangular</td>\n",
       "      <td>...</td>\n",
       "      <td>39</td>\n",
       "      <td>453</td>\n",
       "      <td>72</td>\n",
       "      <td>848</td>\n",
       "      <td>9/4/2023</td>\n",
       "      <td>9</td>\n",
       "      <td>2023</td>\n",
       "      <td>0.7144</td>\n",
       "      <td>0.7952</td>\n",
       "      <td>0.1918</td>\n",
       "    </tr>\n",
       "    <tr>\n",
       "      <th>2</th>\n",
       "      <td>PushToProd</td>\n",
       "      <td>2023-08-15T21:30:03Z</td>\n",
       "      <td>Prodcast 6 | Is the end of tech near?</td>\n",
       "      <td>28</td>\n",
       "      <td>https://linktr.ee/pushtoprod\\n\\nHey push2prod ...</td>\n",
       "      <td>['podcast', 'devops', 'azure', 'aws', 'cloud',...</td>\n",
       "      <td>hd</td>\n",
       "      <td>False</td>\n",
       "      <td>True</td>\n",
       "      <td>rectangular</td>\n",
       "      <td>...</td>\n",
       "      <td>39</td>\n",
       "      <td>456</td>\n",
       "      <td>75</td>\n",
       "      <td>1169</td>\n",
       "      <td>8/15/2023</td>\n",
       "      <td>8</td>\n",
       "      <td>2023</td>\n",
       "      <td>0.7144</td>\n",
       "      <td>0.7946</td>\n",
       "      <td>0.1809</td>\n",
       "    </tr>\n",
       "    <tr>\n",
       "      <th>3</th>\n",
       "      <td>PushToProd</td>\n",
       "      <td>2023-06-13T20:45:01Z</td>\n",
       "      <td>Prodcast 5 | Biology Degree to Data Scientist</td>\n",
       "      <td>28</td>\n",
       "      <td>Hey push2prod squad. Welcome to back to the \"P...</td>\n",
       "      <td>['podcast', 'devops', 'azure', 'aws', 'cloud',...</td>\n",
       "      <td>hd</td>\n",
       "      <td>False</td>\n",
       "      <td>True</td>\n",
       "      <td>rectangular</td>\n",
       "      <td>...</td>\n",
       "      <td>38</td>\n",
       "      <td>393</td>\n",
       "      <td>70</td>\n",
       "      <td>1509</td>\n",
       "      <td>6/13/2023</td>\n",
       "      <td>6</td>\n",
       "      <td>2023</td>\n",
       "      <td>0.7143</td>\n",
       "      <td>0.7933</td>\n",
       "      <td>0.1734</td>\n",
       "    </tr>\n",
       "    <tr>\n",
       "      <th>4</th>\n",
       "      <td>PushToProd</td>\n",
       "      <td>2023-06-07T14:00:10Z</td>\n",
       "      <td>From Suit &amp; Tie to Bonnets and Durags: Embraci...</td>\n",
       "      <td>28</td>\n",
       "      <td>NaN</td>\n",
       "      <td>['podcast', 'devops', 'azure', 'aws', 'cloud',...</td>\n",
       "      <td>hd</td>\n",
       "      <td>False</td>\n",
       "      <td>True</td>\n",
       "      <td>rectangular</td>\n",
       "      <td>...</td>\n",
       "      <td>38</td>\n",
       "      <td>0</td>\n",
       "      <td>1</td>\n",
       "      <td>56</td>\n",
       "      <td>6/7/2023</td>\n",
       "      <td>6</td>\n",
       "      <td>2023</td>\n",
       "      <td>0.7143</td>\n",
       "      <td>0.7933</td>\n",
       "      <td>0.1734</td>\n",
       "    </tr>\n",
       "  </tbody>\n",
       "</table>\n",
       "<p>5 rows × 24 columns</p>\n",
       "</div>"
      ],
      "text/plain": [
       "  Channel Title          Published At  \\\n",
       "0    PushToProd  2023-09-14T21:00:02Z   \n",
       "1    PushToProd  2023-09-04T22:27:11Z   \n",
       "2    PushToProd  2023-08-15T21:30:03Z   \n",
       "3    PushToProd  2023-06-13T20:45:01Z   \n",
       "4    PushToProd  2023-06-07T14:00:10Z   \n",
       "\n",
       "                                         Video Title  Category Id  \\\n",
       "0  day in the life | Jr. Cybersecurity Engineer N...           28   \n",
       "1  day in the life | Jr. Cybersecurity Engineer N...           28   \n",
       "2              Prodcast 6 | Is the end of tech near?           28   \n",
       "3      Prodcast 5 | Biology Degree to Data Scientist           28   \n",
       "4  From Suit & Tie to Bonnets and Durags: Embraci...           28   \n",
       "\n",
       "                                         Description  \\\n",
       "0  Here’s the part 2 to my day in the life/ vlog!...   \n",
       "1  Hey Guys! \\n\\nHope you enjoy Part 1 of this da...   \n",
       "2  https://linktr.ee/pushtoprod\\n\\nHey push2prod ...   \n",
       "3  Hey push2prod squad. Welcome to back to the \"P...   \n",
       "4                                                NaN   \n",
       "\n",
       "                                                Tags Definition  Caption  \\\n",
       "0  ['devops', 'azure', 'aws', 'cloud', 'docker', ...         hd    False   \n",
       "1  ['devops', 'azure', 'aws', 'cloud', 'docker', ...         hd    False   \n",
       "2  ['podcast', 'devops', 'azure', 'aws', 'cloud',...         hd    False   \n",
       "3  ['podcast', 'devops', 'azure', 'aws', 'cloud',...         hd    False   \n",
       "4  ['podcast', 'devops', 'azure', 'aws', 'cloud',...         hd    False   \n",
       "\n",
       "   LicensedContent   Projection  ...  Tag Count  \\\n",
       "0             True  rectangular  ...         39   \n",
       "1             True  rectangular  ...         39   \n",
       "2             True  rectangular  ...         39   \n",
       "3             True  rectangular  ...         38   \n",
       "4             True  rectangular  ...         38   \n",
       "\n",
       "   Description_Length (characters)  Description Length (words)  \\\n",
       "0                              162                          20   \n",
       "1                              453                          72   \n",
       "2                              456                          75   \n",
       "3                              393                          70   \n",
       "4                                0                           1   \n",
       "\n",
       "   Duration (seconds)  Publish Date  Month  Year  Fully Vaccinated Rate  \\\n",
       "0                 442     9/14/2023      9  2023                 0.7144   \n",
       "1                 848      9/4/2023      9  2023                 0.7144   \n",
       "2                1169     8/15/2023      8  2023                 0.7144   \n",
       "3                1509     6/13/2023      6  2023                 0.7143   \n",
       "4                  56      6/7/2023      6  2023                 0.7143   \n",
       "\n",
       "  One Dose Rate  Up To Date Rate  \n",
       "0        0.7952           0.1918  \n",
       "1        0.7952           0.1918  \n",
       "2        0.7946           0.1809  \n",
       "3        0.7933           0.1734  \n",
       "4        0.7933           0.1734  \n",
       "\n",
       "[5 rows x 24 columns]"
      ]
     },
     "execution_count": 128,
     "metadata": {},
     "output_type": "execute_result"
    }
   ],
   "source": [
    "import pandas as pd\n",
    "from pathlib import Path\n",
    "import numpy as np\n",
    "import scipy.stats as sp\n",
    "\n",
    "\n",
    "# Load CSV and store Data Frame\n",
    "df = pd.read_csv('data/youtube_with_covid.csv', index_col = 0)\n",
    "df.head()"
   ]
  },
  {
   "cell_type": "code",
   "execution_count": 129,
   "id": "25d4d37a",
   "metadata": {},
   "outputs": [
    {
     "data": {
      "text/plain": [
       "['Channel Title',\n",
       " 'Published At',\n",
       " 'Video Title',\n",
       " 'Category Id',\n",
       " 'Description',\n",
       " 'Tags',\n",
       " 'Definition',\n",
       " 'Caption',\n",
       " 'LicensedContent',\n",
       " 'Projection',\n",
       " 'View Count',\n",
       " 'Like Count',\n",
       " 'Favorite Count',\n",
       " 'Comment Count',\n",
       " 'Tag Count',\n",
       " 'Description_Length (characters)',\n",
       " 'Description Length (words)',\n",
       " 'Duration (seconds)',\n",
       " 'Publish Date',\n",
       " 'Month',\n",
       " 'Year',\n",
       " 'Fully Vaccinated Rate',\n",
       " 'One Dose Rate',\n",
       " 'Up To Date Rate']"
      ]
     },
     "execution_count": 129,
     "metadata": {},
     "output_type": "execute_result"
    }
   ],
   "source": [
    "list(df.columns)"
   ]
  },
  {
   "cell_type": "code",
   "execution_count": 130,
   "id": "0b90cd10",
   "metadata": {},
   "outputs": [],
   "source": [
    "# define populations for t test\n",
    "population_views = df[\"View Count\"]\n",
    "population_likes = df[\"Like Count\"]\n",
    "population_comments = df[\"Comment Count\"]\n",
    "population_fully_vaxxed = df[\"Fully Vaccinated Rate\"]\n",
    "population_one_dose = df[\"One Dose Rate\"]\n",
    "population_utd = df[\"Up To Date Rate\"]"
   ]
  },
  {
   "cell_type": "code",
   "execution_count": 131,
   "id": "a6c3716b",
   "metadata": {},
   "outputs": [
    {
     "name": "stderr",
     "output_type": "stream",
     "text": [
      "C:\\Users\\cjche\\AppData\\Local\\Temp\\ipykernel_16660\\303936454.py:2: DeprecationWarning: Please use `ttest_ind` from the `scipy.stats` namespace, the `scipy.stats.stats` namespace is deprecated.\n",
      "  views_fully_vaccinated = sp.stats.ttest_ind(population_views.dropna(), population_fully_vaxxed.dropna(), equal_var = False)\n"
     ]
    },
    {
     "data": {
      "text/plain": [
       "TtestResult(statistic=28.85620166149066, pvalue=1.4809481126369513e-179, df=20742.000000021824)"
      ]
     },
     "execution_count": 131,
     "metadata": {},
     "output_type": "execute_result"
    }
   ],
   "source": [
    "# views and fully vaxxed test\n",
    "views_fully_vaccinated = sp.stats.ttest_ind(population_views.dropna(), population_fully_vaxxed.dropna(), equal_var = False)\n",
    "views_fully_vaccinated"
   ]
  },
  {
   "cell_type": "code",
   "execution_count": 132,
   "id": "ae695a4c",
   "metadata": {},
   "outputs": [
    {
     "name": "stderr",
     "output_type": "stream",
     "text": [
      "C:\\Users\\cjche\\AppData\\Local\\Temp\\ipykernel_16660\\436641981.py:2: DeprecationWarning: Please use `ttest_ind` from the `scipy.stats` namespace, the `scipy.stats.stats` namespace is deprecated.\n",
      "  likes_fully_vaccinated = sp.stats.ttest_ind(population_likes.dropna(), population_fully_vaxxed.dropna(), equal_var = False)\n"
     ]
    },
    {
     "data": {
      "text/plain": [
       "TtestResult(statistic=28.09123186070257, pvalue=2.031316572047043e-170, df=20594.00002213102)"
      ]
     },
     "execution_count": 132,
     "metadata": {},
     "output_type": "execute_result"
    }
   ],
   "source": [
    "# likes and fully vaxxed test\n",
    "likes_fully_vaccinated = sp.stats.ttest_ind(population_likes.dropna(), population_fully_vaxxed.dropna(), equal_var = False)\n",
    "likes_fully_vaccinated"
   ]
  },
  {
   "cell_type": "code",
   "execution_count": 133,
   "id": "f4b2a4ac",
   "metadata": {},
   "outputs": [
    {
     "name": "stderr",
     "output_type": "stream",
     "text": [
      "C:\\Users\\cjche\\AppData\\Local\\Temp\\ipykernel_16660\\856786748.py:2: DeprecationWarning: Please use `ttest_ind` from the `scipy.stats` namespace, the `scipy.stats.stats` namespace is deprecated.\n",
      "  comments_fully_vaccinated = sp.stats.ttest_ind(population_comments.dropna(), population_fully_vaxxed.dropna(), equal_var = False)\n"
     ]
    },
    {
     "data": {
      "text/plain": [
       "TtestResult(statistic=32.97445497844585, pvalue=1.908052363149919e-232, df=20695.014807009837)"
      ]
     },
     "execution_count": 133,
     "metadata": {},
     "output_type": "execute_result"
    }
   ],
   "source": [
    "# comments and fully vaxxed test\n",
    "comments_fully_vaccinated = sp.stats.ttest_ind(population_comments.dropna(), population_fully_vaxxed.dropna(), equal_var = False)\n",
    "comments_fully_vaccinated"
   ]
  },
  {
   "cell_type": "code",
   "execution_count": 134,
   "id": "ca1d0996",
   "metadata": {},
   "outputs": [
    {
     "name": "stderr",
     "output_type": "stream",
     "text": [
      "C:\\Users\\cjche\\AppData\\Local\\Temp\\ipykernel_16660\\3323118469.py:2: DeprecationWarning: Please use `ttest_ind` from the `scipy.stats` namespace, the `scipy.stats.stats` namespace is deprecated.\n",
      "  views_one_dose = sp.stats.ttest_ind(population_views.dropna(), population_one_dose.dropna(), equal_var = False)\n"
     ]
    },
    {
     "data": {
      "text/plain": [
       "TtestResult(statistic=28.85618019608032, pvalue=1.481831342491897e-179, df=20742.000000025702)"
      ]
     },
     "execution_count": 134,
     "metadata": {},
     "output_type": "execute_result"
    }
   ],
   "source": [
    "# vies and one dose test\n",
    "views_one_dose = sp.stats.ttest_ind(population_views.dropna(), population_one_dose.dropna(), equal_var = False)\n",
    "views_one_dose"
   ]
  },
  {
   "cell_type": "code",
   "execution_count": 135,
   "id": "0137b848",
   "metadata": {},
   "outputs": [
    {
     "name": "stderr",
     "output_type": "stream",
     "text": [
      "C:\\Users\\cjche\\AppData\\Local\\Temp\\ipykernel_16660\\2922314499.py:2: DeprecationWarning: Please use `ttest_ind` from the `scipy.stats` namespace, the `scipy.stats.stats` namespace is deprecated.\n",
      "  likes_one_dose = sp.stats.ttest_ind(population_likes.dropna(), population_one_dose.dropna(), equal_var = False)\n"
     ]
    },
    {
     "data": {
      "text/plain": [
       "TtestResult(statistic=28.09054588546865, pvalue=2.069415384642455e-170, df=20594.000026066205)"
      ]
     },
     "execution_count": 135,
     "metadata": {},
     "output_type": "execute_result"
    }
   ],
   "source": [
    "# likes and one dose test\n",
    "likes_one_dose = sp.stats.ttest_ind(population_likes.dropna(), population_one_dose.dropna(), equal_var = False)\n",
    "likes_one_dose"
   ]
  },
  {
   "cell_type": "code",
   "execution_count": 136,
   "id": "02855c93",
   "metadata": {},
   "outputs": [
    {
     "name": "stderr",
     "output_type": "stream",
     "text": [
      "C:\\Users\\cjche\\AppData\\Local\\Temp\\ipykernel_16660\\1271601066.py:2: DeprecationWarning: Please use `ttest_ind` from the `scipy.stats` namespace, the `scipy.stats.stats` namespace is deprecated.\n",
      "  comments_one_dose = sp.stats.ttest_ind(population_comments.dropna(), population_one_dose.dropna(), equal_var = False)\n"
     ]
    },
    {
     "data": {
      "text/plain": [
       "TtestResult(statistic=32.956753730542786, pvalue=3.3234697653832605e-232, df=20695.017439896175)"
      ]
     },
     "execution_count": 136,
     "metadata": {},
     "output_type": "execute_result"
    }
   ],
   "source": [
    "# comments and one dose test\n",
    "comments_one_dose = sp.stats.ttest_ind(population_comments.dropna(), population_one_dose.dropna(), equal_var = False)\n",
    "comments_one_dose"
   ]
  },
  {
   "cell_type": "code",
   "execution_count": 137,
   "id": "25d15d42",
   "metadata": {},
   "outputs": [
    {
     "name": "stderr",
     "output_type": "stream",
     "text": [
      "C:\\Users\\cjche\\AppData\\Local\\Temp\\ipykernel_16660\\2310868478.py:2: DeprecationWarning: Please use `ttest_ind` from the `scipy.stats` namespace, the `scipy.stats.stats` namespace is deprecated.\n",
      "  views_utd = sp.stats.ttest_ind(population_views.dropna(), population_utd.dropna(), equal_var = False)\n"
     ]
    },
    {
     "data": {
      "text/plain": [
       "TtestResult(statistic=28.856369378478696, pvalue=1.4740652000265236e-179, df=20742.000000001557)"
      ]
     },
     "execution_count": 137,
     "metadata": {},
     "output_type": "execute_result"
    }
   ],
   "source": [
    "# views and up to date test (utd)\n",
    "views_utd = sp.stats.ttest_ind(population_views.dropna(), population_utd.dropna(), equal_var = False)\n",
    "views_utd"
   ]
  },
  {
   "cell_type": "code",
   "execution_count": 138,
   "id": "119c48a8",
   "metadata": {},
   "outputs": [
    {
     "name": "stderr",
     "output_type": "stream",
     "text": [
      "C:\\Users\\cjche\\AppData\\Local\\Temp\\ipykernel_16660\\3869173097.py:2: DeprecationWarning: Please use `ttest_ind` from the `scipy.stats` namespace, the `scipy.stats.stats` namespace is deprecated.\n",
      "  likes_utd = sp.stats.ttest_ind(population_likes.dropna(), population_utd.dropna(), equal_var = False)\n"
     ]
    },
    {
     "data": {
      "text/plain": [
       "TtestResult(statistic=28.09659162909455, pvalue=1.7567787947857795e-170, df=20594.000001580254)"
      ]
     },
     "execution_count": 138,
     "metadata": {},
     "output_type": "execute_result"
    }
   ],
   "source": [
    "# likes and up to date (utd)\n",
    "likes_utd = sp.stats.ttest_ind(population_likes.dropna(), population_utd.dropna(), equal_var = False)\n",
    "likes_utd"
   ]
  },
  {
   "cell_type": "code",
   "execution_count": 139,
   "id": "d7346bd0",
   "metadata": {},
   "outputs": [
    {
     "name": "stderr",
     "output_type": "stream",
     "text": [
      "C:\\Users\\cjche\\AppData\\Local\\Temp\\ipykernel_16660\\2599225206.py:2: DeprecationWarning: Please use `ttest_ind` from the `scipy.stats` namespace, the `scipy.stats.stats` namespace is deprecated.\n",
      "  comments_utd = sp.stats.ttest_ind(population_comments.dropna(), population_utd.dropna(), equal_var = False)\n"
     ]
    },
    {
     "data": {
      "text/plain": [
       "TtestResult(statistic=33.11275852135825, pvalue=2.4751012736263558e-234, df=20695.001057287827)"
      ]
     },
     "execution_count": 139,
     "metadata": {},
     "output_type": "execute_result"
    }
   ],
   "source": [
    "# comments and up to date (utd)\n",
    "comments_utd = sp.stats.ttest_ind(population_comments.dropna(), population_utd.dropna(), equal_var = False)\n",
    "comments_utd"
   ]
  },
  {
   "cell_type": "code",
   "execution_count": 140,
   "id": "24b54e57",
   "metadata": {},
   "outputs": [
    {
     "data": {
      "text/html": [
       "<div>\n",
       "<style scoped>\n",
       "    .dataframe tbody tr th:only-of-type {\n",
       "        vertical-align: middle;\n",
       "    }\n",
       "\n",
       "    .dataframe tbody tr th {\n",
       "        vertical-align: top;\n",
       "    }\n",
       "\n",
       "    .dataframe thead th {\n",
       "        text-align: right;\n",
       "    }\n",
       "</style>\n",
       "<table border=\"1\" class=\"dataframe\">\n",
       "  <thead>\n",
       "    <tr style=\"text-align: right;\">\n",
       "      <th></th>\n",
       "      <th>Test</th>\n",
       "      <th>T-statistic</th>\n",
       "      <th>P-Value</th>\n",
       "    </tr>\n",
       "  </thead>\n",
       "  <tbody>\n",
       "    <tr>\n",
       "      <th>0</th>\n",
       "      <td>Views and Fully Vaccinated</td>\n",
       "      <td>33.112759</td>\n",
       "      <td>2.475101e-234</td>\n",
       "    </tr>\n",
       "    <tr>\n",
       "      <th>1</th>\n",
       "      <td>Likes and Fully Vaccinated</td>\n",
       "      <td>28.091232</td>\n",
       "      <td>2.031317e-170</td>\n",
       "    </tr>\n",
       "    <tr>\n",
       "      <th>2</th>\n",
       "      <td>Comments and Fully Vaccinated</td>\n",
       "      <td>32.974455</td>\n",
       "      <td>1.908052e-232</td>\n",
       "    </tr>\n",
       "  </tbody>\n",
       "</table>\n",
       "</div>"
      ],
      "text/plain": [
       "                            Test  T-statistic        P-Value\n",
       "0     Views and Fully Vaccinated    33.112759  2.475101e-234\n",
       "1     Likes and Fully Vaccinated    28.091232  2.031317e-170\n",
       "2  Comments and Fully Vaccinated    32.974455  1.908052e-232"
      ]
     },
     "execution_count": 140,
     "metadata": {},
     "output_type": "execute_result"
    }
   ],
   "source": [
    "# Fully Vaccinated Results Data Frame\n",
    "results_fv_df = pd.DataFrame([{\n",
    "    \"Test\" : \"Views and Fully Vaccinated\",\n",
    "    \"T-statistic\" : 33.11275852135825,\n",
    "    \"P-Value\" : 2.4751012736263558e-234,\n",
    "},\n",
    "{\n",
    "    \"Test\" : \"Likes and Fully Vaccinated\",\n",
    "    \"T-statistic\" : 28.09123186070257,\n",
    "    \"P-Value\" : 2.031316572047043e-170,\n",
    "},\n",
    "{\n",
    "    \"Test\" : \"Comments and Fully Vaccinated\",\n",
    "    \"T-statistic\" : 32.97445497844585,\n",
    "    \"P-Value\" : 1.908052363149919e-232,\n",
    "}])\n",
    "results_fv_df"
   ]
  },
  {
   "cell_type": "code",
   "execution_count": 141,
   "id": "7b04ef92",
   "metadata": {},
   "outputs": [
    {
     "data": {
      "text/html": [
       "<div>\n",
       "<style scoped>\n",
       "    .dataframe tbody tr th:only-of-type {\n",
       "        vertical-align: middle;\n",
       "    }\n",
       "\n",
       "    .dataframe tbody tr th {\n",
       "        vertical-align: top;\n",
       "    }\n",
       "\n",
       "    .dataframe thead th {\n",
       "        text-align: right;\n",
       "    }\n",
       "</style>\n",
       "<table border=\"1\" class=\"dataframe\">\n",
       "  <thead>\n",
       "    <tr style=\"text-align: right;\">\n",
       "      <th></th>\n",
       "      <th>Test</th>\n",
       "      <th>T-statistic</th>\n",
       "      <th>P-Value</th>\n",
       "    </tr>\n",
       "  </thead>\n",
       "  <tbody>\n",
       "    <tr>\n",
       "      <th>0</th>\n",
       "      <td>Views and One Dose</td>\n",
       "      <td>28.856180</td>\n",
       "      <td>1.481831e-179</td>\n",
       "    </tr>\n",
       "    <tr>\n",
       "      <th>1</th>\n",
       "      <td>Likes and One Dose</td>\n",
       "      <td>28.090546</td>\n",
       "      <td>2.069415e-170</td>\n",
       "    </tr>\n",
       "    <tr>\n",
       "      <th>2</th>\n",
       "      <td>Comments and One Dose</td>\n",
       "      <td>32.956754</td>\n",
       "      <td>3.323470e-232</td>\n",
       "    </tr>\n",
       "  </tbody>\n",
       "</table>\n",
       "</div>"
      ],
      "text/plain": [
       "                    Test  T-statistic        P-Value\n",
       "0     Views and One Dose    28.856180  1.481831e-179\n",
       "1     Likes and One Dose    28.090546  2.069415e-170\n",
       "2  Comments and One Dose    32.956754  3.323470e-232"
      ]
     },
     "execution_count": 141,
     "metadata": {},
     "output_type": "execute_result"
    }
   ],
   "source": [
    "# One Dose Results Data Frame\n",
    "results_od_df = pd.DataFrame([{\n",
    "    \"Test\" : \"Views and One Dose\",\n",
    "    \"T-statistic\" : 28.85618019608032,\n",
    "    \"P-Value\" : 1.481831342491897e-179,\n",
    "},\n",
    "{\n",
    "    \"Test\" : \"Likes and One Dose\",\n",
    "    \"T-statistic\" : 28.09054588546865,\n",
    "    \"P-Value\" : 2.069415384642455e-170,\n",
    "},\n",
    "{\n",
    "    \"Test\" : \"Comments and One Dose\",\n",
    "    \"T-statistic\" : 32.956753730542786,\n",
    "    \"P-Value\" : 3.3234697653832605e-232,\n",
    "}])\n",
    "results_od_df"
   ]
  },
  {
   "cell_type": "code",
   "execution_count": 142,
   "id": "53457290",
   "metadata": {},
   "outputs": [
    {
     "data": {
      "text/html": [
       "<div>\n",
       "<style scoped>\n",
       "    .dataframe tbody tr th:only-of-type {\n",
       "        vertical-align: middle;\n",
       "    }\n",
       "\n",
       "    .dataframe tbody tr th {\n",
       "        vertical-align: top;\n",
       "    }\n",
       "\n",
       "    .dataframe thead th {\n",
       "        text-align: right;\n",
       "    }\n",
       "</style>\n",
       "<table border=\"1\" class=\"dataframe\">\n",
       "  <thead>\n",
       "    <tr style=\"text-align: right;\">\n",
       "      <th></th>\n",
       "      <th>Test</th>\n",
       "      <th>T-statistic</th>\n",
       "      <th>P-Value</th>\n",
       "    </tr>\n",
       "  </thead>\n",
       "  <tbody>\n",
       "    <tr>\n",
       "      <th>0</th>\n",
       "      <td>Views and Up to Date</td>\n",
       "      <td>28.856369</td>\n",
       "      <td>1.474065e-179</td>\n",
       "    </tr>\n",
       "    <tr>\n",
       "      <th>1</th>\n",
       "      <td>Likes and Up to Date</td>\n",
       "      <td>28.096592</td>\n",
       "      <td>1.756779e-170</td>\n",
       "    </tr>\n",
       "    <tr>\n",
       "      <th>2</th>\n",
       "      <td>Comments and Up to Date</td>\n",
       "      <td>33.112759</td>\n",
       "      <td>2.475101e-234</td>\n",
       "    </tr>\n",
       "  </tbody>\n",
       "</table>\n",
       "</div>"
      ],
      "text/plain": [
       "                      Test  T-statistic        P-Value\n",
       "0     Views and Up to Date    28.856369  1.474065e-179\n",
       "1     Likes and Up to Date    28.096592  1.756779e-170\n",
       "2  Comments and Up to Date    33.112759  2.475101e-234"
      ]
     },
     "execution_count": 142,
     "metadata": {},
     "output_type": "execute_result"
    }
   ],
   "source": [
    "# Up to Date Results Data Frame\n",
    "results_utd_df = pd.DataFrame([{\n",
    "    \"Test\" : \"Views and Up to Date\",\n",
    "    \"T-statistic\" : 28.856369378478696,\n",
    "    \"P-Value\" : 1.4740652000265236e-179,\n",
    "},\n",
    "{\n",
    "    \"Test\" : \"Likes and Up to Date\",\n",
    "    \"T-statistic\" : 28.09659162909455,\n",
    "    \"P-Value\" : 1.7567787947857795e-170,\n",
    "},\n",
    "{\n",
    "    \"Test\" : \"Comments and Up to Date\",\n",
    "    \"T-statistic\" : 33.11275852135825,\n",
    "    \"P-Value\" : 2.4751012736263558e-234,\n",
    "}])\n",
    "results_utd_df"
   ]
  },
  {
   "cell_type": "code",
   "execution_count": 18,
   "id": "6b957be1",
   "metadata": {},
   "outputs": [
    {
     "data": {
      "text/html": [
       "<div>\n",
       "<style scoped>\n",
       "    .dataframe tbody tr th:only-of-type {\n",
       "        vertical-align: middle;\n",
       "    }\n",
       "\n",
       "    .dataframe tbody tr th {\n",
       "        vertical-align: top;\n",
       "    }\n",
       "\n",
       "    .dataframe thead th {\n",
       "        text-align: right;\n",
       "    }\n",
       "</style>\n",
       "<table border=\"1\" class=\"dataframe\">\n",
       "  <thead>\n",
       "    <tr style=\"text-align: right;\">\n",
       "      <th></th>\n",
       "      <th>Test</th>\n",
       "      <th>T-statistic</th>\n",
       "      <th>P-Value</th>\n",
       "    </tr>\n",
       "  </thead>\n",
       "  <tbody>\n",
       "    <tr>\n",
       "      <th>0</th>\n",
       "      <td>Views and Fully Vaccinated</td>\n",
       "      <td>33.112759</td>\n",
       "      <td>2.475101e-234</td>\n",
       "    </tr>\n",
       "    <tr>\n",
       "      <th>1</th>\n",
       "      <td>Likes and Fully Vaccinated</td>\n",
       "      <td>28.091232</td>\n",
       "      <td>2.031317e-170</td>\n",
       "    </tr>\n",
       "    <tr>\n",
       "      <th>2</th>\n",
       "      <td>Comments and Fully Vaccinated</td>\n",
       "      <td>32.974455</td>\n",
       "      <td>1.908052e-232</td>\n",
       "    </tr>\n",
       "    <tr>\n",
       "      <th>0</th>\n",
       "      <td>Views and One Dose</td>\n",
       "      <td>28.856180</td>\n",
       "      <td>1.481831e-179</td>\n",
       "    </tr>\n",
       "    <tr>\n",
       "      <th>1</th>\n",
       "      <td>Likes and One Dose</td>\n",
       "      <td>28.090546</td>\n",
       "      <td>2.069415e-170</td>\n",
       "    </tr>\n",
       "    <tr>\n",
       "      <th>2</th>\n",
       "      <td>Comments and One Dose</td>\n",
       "      <td>32.956754</td>\n",
       "      <td>3.323470e-232</td>\n",
       "    </tr>\n",
       "    <tr>\n",
       "      <th>0</th>\n",
       "      <td>Views and Up to Date</td>\n",
       "      <td>28.856369</td>\n",
       "      <td>1.474065e-179</td>\n",
       "    </tr>\n",
       "    <tr>\n",
       "      <th>1</th>\n",
       "      <td>Likes and Up to Date</td>\n",
       "      <td>28.096592</td>\n",
       "      <td>1.756779e-170</td>\n",
       "    </tr>\n",
       "    <tr>\n",
       "      <th>2</th>\n",
       "      <td>Comments and Up to Date</td>\n",
       "      <td>33.112759</td>\n",
       "      <td>2.475101e-234</td>\n",
       "    </tr>\n",
       "  </tbody>\n",
       "</table>\n",
       "</div>"
      ],
      "text/plain": [
       "                            Test  T-statistic        P-Value\n",
       "0     Views and Fully Vaccinated    33.112759  2.475101e-234\n",
       "1     Likes and Fully Vaccinated    28.091232  2.031317e-170\n",
       "2  Comments and Fully Vaccinated    32.974455  1.908052e-232\n",
       "0             Views and One Dose    28.856180  1.481831e-179\n",
       "1             Likes and One Dose    28.090546  2.069415e-170\n",
       "2          Comments and One Dose    32.956754  3.323470e-232\n",
       "0           Views and Up to Date    28.856369  1.474065e-179\n",
       "1           Likes and Up to Date    28.096592  1.756779e-170\n",
       "2        Comments and Up to Date    33.112759  2.475101e-234"
      ]
     },
     "execution_count": 18,
     "metadata": {},
     "output_type": "execute_result"
    }
   ],
   "source": [
    "# Combining Results Data Frames\n",
    "complete_results_df = pd.concat([results_fv_df, results_od_df, results_utd_df])\n",
    "complete_results_df"
   ]
  }
 ],
 "metadata": {
  "kernelspec": {
   "display_name": "Python 3 (ipykernel)",
   "language": "python",
   "name": "python3"
  },
  "language_info": {
   "codemirror_mode": {
    "name": "ipython",
    "version": 3
   },
   "file_extension": ".py",
   "mimetype": "text/x-python",
   "name": "python",
   "nbconvert_exporter": "python",
   "pygments_lexer": "ipython3",
   "version": "3.11.4"
  }
 },
 "nbformat": 4,
 "nbformat_minor": 5
}
